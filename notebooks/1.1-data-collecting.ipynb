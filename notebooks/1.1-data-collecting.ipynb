{
 "cells": [
  {
   "cell_type": "markdown",
   "metadata": {},
   "source": [
    "<div style=\"text-align: center; background-color: #5A96E3; font-family: 'Trebuchet MS', Arial, sans-serif; color: white; padding: 20px; font-size: 40px; font-weight: bold; border-radius: 0 0 0 0; box-shadow: 0px 6px 8px rgba(0, 0, 0, 0.2);\">\n",
    "  Stage 01 - Data collecting 📌\n",
    "</div>"
   ]
  },
  {
   "cell_type": "code",
   "execution_count": 1,
   "metadata": {},
   "outputs": [],
   "source": [
    "import os\n",
    "import sys\n",
    "import pandas as pd\n",
    "import numpy as np\n",
    "import json\n",
    "import warnings\n",
    "import threading\n",
    "warnings.simplefilter('ignore')\n",
    "module_path = os.path.abspath(os.path.join('..'))\n",
    "if module_path not in sys.path:\n",
    "    sys.path.append(module_path)\n",
    "    \n",
    "from src.data_module import make_dataset"
   ]
  },
  {
   "cell_type": "markdown",
   "metadata": {},
   "source": [
    "# Collecting data using Nam's Computer"
   ]
  },
  {
   "cell_type": "code",
   "execution_count": 2,
   "metadata": {},
   "outputs": [
    {
     "data": {
      "text/plain": [
       "{'codebasics': 'UCh9nVJoWXmFb7sLApWGcLPQ',\n",
       " 'TwoMinutePapers': 'UCbfYPyITQ-7l4upoX8nvctg',\n",
       " 'TheAiGrid': 'UCbY9xX3_jW5c2fjlZVBI4cg',\n",
       " 'AINewsOfficial': 'UCDZfn935vwaahDabsfylfIQ',\n",
       " 'abhishekkrthakur': 'UCBPRJjIWfyNG4X-CRbnv78A',\n",
       " 'IBMTechnology': 'UCKWaEZ-_VweaEx1j62do_vQ',\n",
       " 'PROROBOTS': 'UCu8luTDe_Xxd2ahAXsCWX5g',\n",
       " 'StrataScratch': 'UCnVzApLJE2ljPZSeQylSEyg'}"
      ]
     },
     "execution_count": 2,
     "metadata": {},
     "output_type": "execute_result"
    }
   ],
   "source": [
    "channel_list = json.load(open('../data/external/channel_id_nam.json'))\n",
    "channel_list"
   ]
  },
  {
   "cell_type": "markdown",
   "metadata": {},
   "source": [
    "## Collecting all the videos from each channel"
   ]
  },
  {
   "cell_type": "code",
   "execution_count": 3,
   "metadata": {},
   "outputs": [],
   "source": [
    "# Crawling data for each channel using multi-threading\n",
    "thread = []\n",
    "\n",
    "for channel, id in channel_list.items():\n",
    "    t = threading.Thread(target=make_dataset.make_dataset_playlist_video, args=(channel, id))\n",
    "    thread.append(t)\n",
    "    t.start()\n",
    "\n",
    "for t in thread:\n",
    "    t.join()"
   ]
  },
  {
   "cell_type": "markdown",
   "metadata": {},
   "source": [
    "## Collecting some comments from each channel"
   ]
  },
  {
   "cell_type": "code",
   "execution_count": 4,
   "metadata": {},
   "outputs": [],
   "source": [
    "\n",
    "thread = []\n",
    "\n",
    "for channel, id in channel_list.items():\n",
    "    t = threading.Thread(target=make_dataset.make_dataset_comment, args=(channel, ))\n",
    "    thread.append(t)\n",
    "    t.start()\n",
    "\n",
    "for t in thread:\n",
    "    t.join()"
   ]
  }
 ],
 "metadata": {
  "kernelspec": {
   "display_name": "min_ds-env_kernel",
   "language": "python",
   "name": "min_ds-env_kernel"
  },
  "language_info": {
   "codemirror_mode": {
    "name": "ipython",
    "version": 3
   },
   "file_extension": ".py",
   "mimetype": "text/x-python",
   "name": "python",
   "nbconvert_exporter": "python",
   "pygments_lexer": "ipython3",
   "version": "3.10.8"
  }
 },
 "nbformat": 4,
 "nbformat_minor": 2
}
