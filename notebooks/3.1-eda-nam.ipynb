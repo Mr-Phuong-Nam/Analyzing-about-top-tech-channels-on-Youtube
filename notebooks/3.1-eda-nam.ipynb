{
 "cells": [
  {
   "cell_type": "markdown",
   "metadata": {},
   "source": [
    "<div style=\"text-align: center; background-color: #559cff; font-family: 'Trebuchet MS', Arial, sans-serif; color: white; padding: 20px; font-size: 40px; font-weight: bold; border-radius: 0 0 0 0; box-shadow: 0px 6px 8px rgba(0, 0, 0, 0.2);\">\n",
    "  Lab 02 - Introduction To Data Science @ FIT-HCMUS, VNU-HCM 📌\n",
    "</div>"
   ]
  },
  {
   "cell_type": "markdown",
   "metadata": {},
   "source": [
    "<div style=\"text-align: center; background-color: #b1d1ff; font-family: 'Trebuchet MS', Arial, sans-serif; color: white; padding: 20px; font-size: 40px; font-weight: bold; border-radius: 0 0 0 0; box-shadow: 0px 6px 8px rgba(0, 0, 0, 0.2);\">\n",
    "  Stage 3.1 - Exploratory Data Analysis continued 📊\n",
    "</div>"
   ]
  },
  {
   "cell_type": "markdown",
   "metadata": {},
   "source": [
    "This is a notebook for pre-processing more on your dataset. You can use it with same functionality as notebook `2.0-preprocessing.ipynb` during your exploratory data analysis process."
   ]
  },
  {
   "cell_type": "markdown",
   "metadata": {},
   "source": [
    "## Import"
   ]
  },
  {
   "cell_type": "code",
   "execution_count": 2,
   "metadata": {},
   "outputs": [],
   "source": [
    "# YOUR CODE HERE (OPTION) \n",
    "# If you need other libraries, you can import them here\n",
    "import numpy as np\n",
    "import matplotlib.pyplot as plt\n",
    "import pandas as pd\n"
   ]
  },
  {
   "cell_type": "code",
   "execution_count": 9,
   "metadata": {},
   "outputs": [],
   "source": [
    "# Change the theme of the plots:\n",
    "plt.style.use('fivethirtyeight')"
   ]
  },
  {
   "cell_type": "code",
   "execution_count": 3,
   "metadata": {},
   "outputs": [
    {
     "data": {
      "text/html": [
       "<div>\n",
       "<style scoped>\n",
       "    .dataframe tbody tr th:only-of-type {\n",
       "        vertical-align: middle;\n",
       "    }\n",
       "\n",
       "    .dataframe tbody tr th {\n",
       "        vertical-align: top;\n",
       "    }\n",
       "\n",
       "    .dataframe thead th {\n",
       "        text-align: right;\n",
       "    }\n",
       "</style>\n",
       "<table border=\"1\" class=\"dataframe\">\n",
       "  <thead>\n",
       "    <tr style=\"text-align: right;\">\n",
       "      <th></th>\n",
       "      <th>video_id</th>\n",
       "      <th>title</th>\n",
       "      <th>published</th>\n",
       "      <th>view_count</th>\n",
       "      <th>like_count</th>\n",
       "      <th>comment_count</th>\n",
       "      <th>duration</th>\n",
       "      <th>definition</th>\n",
       "      <th>tags</th>\n",
       "      <th>default_audio_language</th>\n",
       "      <th>madeforkid</th>\n",
       "      <th>playlist_title</th>\n",
       "      <th>channelTitle</th>\n",
       "      <th>playlist_published</th>\n",
       "      <th>playlist_numvideo</th>\n",
       "    </tr>\n",
       "  </thead>\n",
       "  <tbody>\n",
       "    <tr>\n",
       "      <th>0</th>\n",
       "      <td>H_8ZVRRtiIA</td>\n",
       "      <td>#1 AI for Good Specialization [Course 1, Week ...</td>\n",
       "      <td>2023-11-17 21:49:15+00:00</td>\n",
       "      <td>1671</td>\n",
       "      <td>34.0</td>\n",
       "      <td>1.0</td>\n",
       "      <td>0 days 00:10:01</td>\n",
       "      <td>hd</td>\n",
       "      <td>NaN</td>\n",
       "      <td>en</td>\n",
       "      <td>False</td>\n",
       "      <td>AI for Good Specialization by DeepLearning.AI</td>\n",
       "      <td>DeepLearningAI</td>\n",
       "      <td>2023-07-20 17:01:28+00:00</td>\n",
       "      <td>37.0</td>\n",
       "    </tr>\n",
       "    <tr>\n",
       "      <th>1</th>\n",
       "      <td>bZwkaVnhEo4</td>\n",
       "      <td>#2 AI for Good Specialization [Course 1, Week ...</td>\n",
       "      <td>2023-07-27 16:54:21+00:00</td>\n",
       "      <td>1299</td>\n",
       "      <td>18.0</td>\n",
       "      <td>1.0</td>\n",
       "      <td>0 days 00:07:12</td>\n",
       "      <td>hd</td>\n",
       "      <td>NaN</td>\n",
       "      <td>en</td>\n",
       "      <td>False</td>\n",
       "      <td>AI for Good Specialization by DeepLearning.AI</td>\n",
       "      <td>DeepLearningAI</td>\n",
       "      <td>2023-07-20 17:01:28+00:00</td>\n",
       "      <td>37.0</td>\n",
       "    </tr>\n",
       "    <tr>\n",
       "      <th>2</th>\n",
       "      <td>hkOosfWxBK4</td>\n",
       "      <td>#3 AI for Good Specialization [Course 1, Week ...</td>\n",
       "      <td>2023-11-17 20:13:19+00:00</td>\n",
       "      <td>584</td>\n",
       "      <td>20.0</td>\n",
       "      <td>2.0</td>\n",
       "      <td>0 days 00:03:47</td>\n",
       "      <td>hd</td>\n",
       "      <td>NaN</td>\n",
       "      <td>en</td>\n",
       "      <td>False</td>\n",
       "      <td>AI for Good Specialization by DeepLearning.AI</td>\n",
       "      <td>DeepLearningAI</td>\n",
       "      <td>2023-07-20 17:01:28+00:00</td>\n",
       "      <td>37.0</td>\n",
       "    </tr>\n",
       "    <tr>\n",
       "      <th>3</th>\n",
       "      <td>OIavgUGg7mc</td>\n",
       "      <td>#4 AI for Good Specialization [Course 1, Week ...</td>\n",
       "      <td>2023-07-27 16:54:56+00:00</td>\n",
       "      <td>619</td>\n",
       "      <td>10.0</td>\n",
       "      <td>0.0</td>\n",
       "      <td>0 days 00:04:49</td>\n",
       "      <td>hd</td>\n",
       "      <td>NaN</td>\n",
       "      <td>en</td>\n",
       "      <td>False</td>\n",
       "      <td>AI for Good Specialization by DeepLearning.AI</td>\n",
       "      <td>DeepLearningAI</td>\n",
       "      <td>2023-07-20 17:01:28+00:00</td>\n",
       "      <td>37.0</td>\n",
       "    </tr>\n",
       "    <tr>\n",
       "      <th>4</th>\n",
       "      <td>eZZwySXsj-g</td>\n",
       "      <td>#5 AI for Good Specialization [Course 1, Week ...</td>\n",
       "      <td>2023-07-27 16:55:12+00:00</td>\n",
       "      <td>579</td>\n",
       "      <td>3.0</td>\n",
       "      <td>0.0</td>\n",
       "      <td>0 days 00:05:36</td>\n",
       "      <td>hd</td>\n",
       "      <td>NaN</td>\n",
       "      <td>en</td>\n",
       "      <td>False</td>\n",
       "      <td>AI for Good Specialization by DeepLearning.AI</td>\n",
       "      <td>DeepLearningAI</td>\n",
       "      <td>2023-07-20 17:01:28+00:00</td>\n",
       "      <td>37.0</td>\n",
       "    </tr>\n",
       "  </tbody>\n",
       "</table>\n",
       "</div>"
      ],
      "text/plain": [
       "      video_id                                              title  \\\n",
       "0  H_8ZVRRtiIA  #1 AI for Good Specialization [Course 1, Week ...   \n",
       "1  bZwkaVnhEo4  #2 AI for Good Specialization [Course 1, Week ...   \n",
       "2  hkOosfWxBK4  #3 AI for Good Specialization [Course 1, Week ...   \n",
       "3  OIavgUGg7mc  #4 AI for Good Specialization [Course 1, Week ...   \n",
       "4  eZZwySXsj-g  #5 AI for Good Specialization [Course 1, Week ...   \n",
       "\n",
       "                   published  view_count  like_count  comment_count  \\\n",
       "0  2023-11-17 21:49:15+00:00        1671        34.0            1.0   \n",
       "1  2023-07-27 16:54:21+00:00        1299        18.0            1.0   \n",
       "2  2023-11-17 20:13:19+00:00         584        20.0            2.0   \n",
       "3  2023-07-27 16:54:56+00:00         619        10.0            0.0   \n",
       "4  2023-07-27 16:55:12+00:00         579         3.0            0.0   \n",
       "\n",
       "          duration definition tags default_audio_language  madeforkid  \\\n",
       "0  0 days 00:10:01         hd  NaN                     en       False   \n",
       "1  0 days 00:07:12         hd  NaN                     en       False   \n",
       "2  0 days 00:03:47         hd  NaN                     en       False   \n",
       "3  0 days 00:04:49         hd  NaN                     en       False   \n",
       "4  0 days 00:05:36         hd  NaN                     en       False   \n",
       "\n",
       "                                  playlist_title    channelTitle  \\\n",
       "0  AI for Good Specialization by DeepLearning.AI  DeepLearningAI   \n",
       "1  AI for Good Specialization by DeepLearning.AI  DeepLearningAI   \n",
       "2  AI for Good Specialization by DeepLearning.AI  DeepLearningAI   \n",
       "3  AI for Good Specialization by DeepLearning.AI  DeepLearningAI   \n",
       "4  AI for Good Specialization by DeepLearning.AI  DeepLearningAI   \n",
       "\n",
       "          playlist_published  playlist_numvideo  \n",
       "0  2023-07-20 17:01:28+00:00               37.0  \n",
       "1  2023-07-20 17:01:28+00:00               37.0  \n",
       "2  2023-07-20 17:01:28+00:00               37.0  \n",
       "3  2023-07-20 17:01:28+00:00               37.0  \n",
       "4  2023-07-20 17:01:28+00:00               37.0  "
      ]
     },
     "execution_count": 3,
     "metadata": {},
     "output_type": "execute_result"
    }
   ],
   "source": [
    "video_df = pd.read_csv('../data/processed/df_videos_processed.csv', lineterminator='\\n')\n",
    "video_df.head()"
   ]
  },
  {
   "cell_type": "code",
   "execution_count": 4,
   "metadata": {},
   "outputs": [
    {
     "data": {
      "text/html": [
       "<div>\n",
       "<style scoped>\n",
       "    .dataframe tbody tr th:only-of-type {\n",
       "        vertical-align: middle;\n",
       "    }\n",
       "\n",
       "    .dataframe tbody tr th {\n",
       "        vertical-align: top;\n",
       "    }\n",
       "\n",
       "    .dataframe thead th {\n",
       "        text-align: right;\n",
       "    }\n",
       "</style>\n",
       "<table border=\"1\" class=\"dataframe\">\n",
       "  <thead>\n",
       "    <tr style=\"text-align: right;\">\n",
       "      <th></th>\n",
       "      <th>author</th>\n",
       "      <th>Type</th>\n",
       "      <th>video_id</th>\n",
       "      <th>total_reply</th>\n",
       "      <th>like_count</th>\n",
       "      <th>published_at</th>\n",
       "      <th>textdisplay</th>\n",
       "      <th>updatedat</th>\n",
       "    </tr>\n",
       "  </thead>\n",
       "  <tbody>\n",
       "    <tr>\n",
       "      <th>0</th>\n",
       "      <td>@AiexpertRajivVerma</td>\n",
       "      <td>1.0</td>\n",
       "      <td>H_8ZVRRtiIA</td>\n",
       "      <td>0.0</td>\n",
       "      <td>0.0</td>\n",
       "      <td>2023-12-11 01:11:19+00:00</td>\n",
       "      <td>Sir thank you love love 💕❤️❤❤️❤❤❤❤❤❤ you for f...</td>\n",
       "      <td>2023-12-11 01:11:19+00:00</td>\n",
       "    </tr>\n",
       "    <tr>\n",
       "      <th>1</th>\n",
       "      <td>@hamasali8764</td>\n",
       "      <td>1.0</td>\n",
       "      <td>bZwkaVnhEo4</td>\n",
       "      <td>0.0</td>\n",
       "      <td>0.0</td>\n",
       "      <td>2023-07-27 16:54:52+00:00</td>\n",
       "      <td>Best One🎉</td>\n",
       "      <td>2023-07-27 16:54:52+00:00</td>\n",
       "    </tr>\n",
       "    <tr>\n",
       "      <th>2</th>\n",
       "      <td>@R0H00</td>\n",
       "      <td>1.0</td>\n",
       "      <td>hkOosfWxBK4</td>\n",
       "      <td>0.0</td>\n",
       "      <td>1.0</td>\n",
       "      <td>2023-11-18 02:51:01+00:00</td>\n",
       "      <td>Hi, I&amp;#39;m a clinician who is working in the ...</td>\n",
       "      <td>2023-11-18 02:51:01+00:00</td>\n",
       "    </tr>\n",
       "    <tr>\n",
       "      <th>3</th>\n",
       "      <td>@nitinsnoisepollution6293</td>\n",
       "      <td>1.0</td>\n",
       "      <td>hkOosfWxBK4</td>\n",
       "      <td>0.0</td>\n",
       "      <td>0.0</td>\n",
       "      <td>2023-11-17 20:39:13+00:00</td>\n",
       "      <td>Superb 🎉❤</td>\n",
       "      <td>2023-11-17 20:39:13+00:00</td>\n",
       "    </tr>\n",
       "    <tr>\n",
       "      <th>4</th>\n",
       "      <td>@REDBONDYT</td>\n",
       "      <td>1.0</td>\n",
       "      <td>Fxq6vjJwX3o</td>\n",
       "      <td>0.0</td>\n",
       "      <td>1.0</td>\n",
       "      <td>2023-07-30 12:36:13+00:00</td>\n",
       "      <td>Very informative 😃😺</td>\n",
       "      <td>2023-07-30 12:36:13+00:00</td>\n",
       "    </tr>\n",
       "  </tbody>\n",
       "</table>\n",
       "</div>"
      ],
      "text/plain": [
       "                      author  Type     video_id  total_reply  like_count  \\\n",
       "0        @AiexpertRajivVerma   1.0  H_8ZVRRtiIA          0.0         0.0   \n",
       "1              @hamasali8764   1.0  bZwkaVnhEo4          0.0         0.0   \n",
       "2                     @R0H00   1.0  hkOosfWxBK4          0.0         1.0   \n",
       "3  @nitinsnoisepollution6293   1.0  hkOosfWxBK4          0.0         0.0   \n",
       "4                 @REDBONDYT   1.0  Fxq6vjJwX3o          0.0         1.0   \n",
       "\n",
       "                published_at  \\\n",
       "0  2023-12-11 01:11:19+00:00   \n",
       "1  2023-07-27 16:54:52+00:00   \n",
       "2  2023-11-18 02:51:01+00:00   \n",
       "3  2023-11-17 20:39:13+00:00   \n",
       "4  2023-07-30 12:36:13+00:00   \n",
       "\n",
       "                                         textdisplay  \\\n",
       "0  Sir thank you love love 💕❤️❤❤️❤❤❤❤❤❤ you for f...   \n",
       "1                                          Best One🎉   \n",
       "2  Hi, I&#39;m a clinician who is working in the ...   \n",
       "3                                          Superb 🎉❤   \n",
       "4                                Very informative 😃😺   \n",
       "\n",
       "                   updatedat  \n",
       "0  2023-12-11 01:11:19+00:00  \n",
       "1  2023-07-27 16:54:52+00:00  \n",
       "2  2023-11-18 02:51:01+00:00  \n",
       "3  2023-11-17 20:39:13+00:00  \n",
       "4  2023-07-30 12:36:13+00:00  "
      ]
     },
     "execution_count": 4,
     "metadata": {},
     "output_type": "execute_result"
    }
   ],
   "source": [
    "comment_df = pd.read_csv('../data/processed/df_comments_processed.csv', lineterminator='\\n')\n",
    "comment_df.head()"
   ]
  },
  {
   "cell_type": "markdown",
   "metadata": {},
   "source": [
    "## What is the most common topic for all the channels by time?"
   ]
  },
  {
   "cell_type": "code",
   "execution_count": 6,
   "metadata": {},
   "outputs": [
    {
     "name": "stderr",
     "output_type": "stream",
     "text": [
      "/tmp/ipykernel_4935/3036489752.py:3: FutureWarning: Treating datetime data as categorical rather than numeric in `.describe` is deprecated and will be removed in a future version of pandas. Specify `datetime_is_numeric=True` to silence this warning and adopt the future behavior now.\n",
      "  video_df['published'].describe()\n"
     ]
    },
    {
     "data": {
      "text/plain": [
       "count                          7608\n",
       "unique                         5773\n",
       "top       2019-05-08 04:51:05+00:00\n",
       "freq                             27\n",
       "first     2014-08-06 22:09:12+00:00\n",
       "last      2023-12-22 15:26:16+00:00\n",
       "Name: published, dtype: object"
      ]
     },
     "execution_count": 6,
     "metadata": {},
     "output_type": "execute_result"
    }
   ],
   "source": [
    "# Find the day range of the videos\n",
    "video_df['published'] = pd.to_datetime(video_df['published'])\n",
    "video_df['published'].describe()"
   ]
  },
  {
   "cell_type": "code",
   "execution_count": 25,
   "metadata": {},
   "outputs": [
    {
     "data": {
      "image/png": "[encoded data removed]",
      "text/plain": [
       "<Figure size 1000x600 with 1 Axes>"
      ]
     },
     "metadata": {},
     "output_type": "display_data"
    }
   ],
   "source": [
    "# Plot the number of videos published per year\n",
    "video_df['published'].dt.year.value_counts().sort_index().plot(kind='bar', figsize=(10, 6))\n",
    "plt.title('Number of videos published per year')\n",
    "plt.xlabel('Year')\n",
    "plt.ylabel('Number of videos')\n",
    "plt.show()\n"
   ]
  }
 ],
 "metadata": {
  "kernelspec": {
   "display_name": "min_ds-env",
   "language": "python",
   "name": "python3"
  },
  "language_info": {
   "codemirror_mode": {
    "name": "ipython",
    "version": 3
   },
   "file_extension": ".py",
   "mimetype": "text/x-python",
   "name": "python",
   "nbconvert_exporter": "python",
   "pygments_lexer": "ipython3",
   "version": "3.10.8"
  }
 },
 "nbformat": 4,
 "nbformat_minor": 2
}
