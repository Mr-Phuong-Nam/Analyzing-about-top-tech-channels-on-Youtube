{
 "cells": [
  {
   "cell_type": "code",
   "execution_count": 1,
   "metadata": {},
   "outputs": [],
   "source": [
    "import pandas as pd\n",
    "import numpy as np\n",
    "import json \n",
    "import requests"
   ]
  },
  {
   "cell_type": "markdown",
   "metadata": {},
   "source": [
    "# Repair channel_df"
   ]
  },
  {
   "cell_type": "code",
   "execution_count": 3,
   "metadata": {},
   "outputs": [
    {
     "data": {
      "text/html": [
       "<div>\n",
       "<style scoped>\n",
       "    .dataframe tbody tr th:only-of-type {\n",
       "        vertical-align: middle;\n",
       "    }\n",
       "\n",
       "    .dataframe tbody tr th {\n",
       "        vertical-align: top;\n",
       "    }\n",
       "\n",
       "    .dataframe thead th {\n",
       "        text-align: right;\n",
       "    }\n",
       "</style>\n",
       "<table border=\"1\" class=\"dataframe\">\n",
       "  <thead>\n",
       "    <tr style=\"text-align: right;\">\n",
       "      <th></th>\n",
       "      <th>video_id</th>\n",
       "      <th>title</th>\n",
       "      <th>published</th>\n",
       "      <th>view_count</th>\n",
       "      <th>like_count</th>\n",
       "      <th>comment_count</th>\n",
       "      <th>duration</th>\n",
       "      <th>definition</th>\n",
       "      <th>tags</th>\n",
       "      <th>default_audio_language</th>\n",
       "      <th>madeforkid</th>\n",
       "      <th>playlist_title</th>\n",
       "      <th>channelTitle</th>\n",
       "      <th>playlist_published</th>\n",
       "      <th>playlist_numvideo</th>\n",
       "    </tr>\n",
       "  </thead>\n",
       "  <tbody>\n",
       "    <tr>\n",
       "      <th>0</th>\n",
       "      <td>H_8ZVRRtiIA</td>\n",
       "      <td>#1 AI for Good Specialization [Course 1, Week ...</td>\n",
       "      <td>2023-11-17 21:49:15+00:00</td>\n",
       "      <td>1671</td>\n",
       "      <td>34.0</td>\n",
       "      <td>1.0</td>\n",
       "      <td>0 days 00:10:01</td>\n",
       "      <td>hd</td>\n",
       "      <td>NaN</td>\n",
       "      <td>en</td>\n",
       "      <td>False</td>\n",
       "      <td>AI for Good Specialization by DeepLearning.AI</td>\n",
       "      <td>DeepLearningAI</td>\n",
       "      <td>2023-07-20 17:01:28+00:00</td>\n",
       "      <td>37.0</td>\n",
       "    </tr>\n",
       "    <tr>\n",
       "      <th>1</th>\n",
       "      <td>bZwkaVnhEo4</td>\n",
       "      <td>#2 AI for Good Specialization [Course 1, Week ...</td>\n",
       "      <td>2023-07-27 16:54:21+00:00</td>\n",
       "      <td>1299</td>\n",
       "      <td>18.0</td>\n",
       "      <td>1.0</td>\n",
       "      <td>0 days 00:07:12</td>\n",
       "      <td>hd</td>\n",
       "      <td>NaN</td>\n",
       "      <td>en</td>\n",
       "      <td>False</td>\n",
       "      <td>AI for Good Specialization by DeepLearning.AI</td>\n",
       "      <td>DeepLearningAI</td>\n",
       "      <td>2023-07-20 17:01:28+00:00</td>\n",
       "      <td>37.0</td>\n",
       "    </tr>\n",
       "    <tr>\n",
       "      <th>2</th>\n",
       "      <td>hkOosfWxBK4</td>\n",
       "      <td>#3 AI for Good Specialization [Course 1, Week ...</td>\n",
       "      <td>2023-11-17 20:13:19+00:00</td>\n",
       "      <td>584</td>\n",
       "      <td>20.0</td>\n",
       "      <td>2.0</td>\n",
       "      <td>0 days 00:03:47</td>\n",
       "      <td>hd</td>\n",
       "      <td>NaN</td>\n",
       "      <td>en</td>\n",
       "      <td>False</td>\n",
       "      <td>AI for Good Specialization by DeepLearning.AI</td>\n",
       "      <td>DeepLearningAI</td>\n",
       "      <td>2023-07-20 17:01:28+00:00</td>\n",
       "      <td>37.0</td>\n",
       "    </tr>\n",
       "    <tr>\n",
       "      <th>3</th>\n",
       "      <td>OIavgUGg7mc</td>\n",
       "      <td>#4 AI for Good Specialization [Course 1, Week ...</td>\n",
       "      <td>2023-07-27 16:54:56+00:00</td>\n",
       "      <td>619</td>\n",
       "      <td>10.0</td>\n",
       "      <td>0.0</td>\n",
       "      <td>0 days 00:04:49</td>\n",
       "      <td>hd</td>\n",
       "      <td>NaN</td>\n",
       "      <td>en</td>\n",
       "      <td>False</td>\n",
       "      <td>AI for Good Specialization by DeepLearning.AI</td>\n",
       "      <td>DeepLearningAI</td>\n",
       "      <td>2023-07-20 17:01:28+00:00</td>\n",
       "      <td>37.0</td>\n",
       "    </tr>\n",
       "    <tr>\n",
       "      <th>4</th>\n",
       "      <td>eZZwySXsj-g</td>\n",
       "      <td>#5 AI for Good Specialization [Course 1, Week ...</td>\n",
       "      <td>2023-07-27 16:55:12+00:00</td>\n",
       "      <td>579</td>\n",
       "      <td>3.0</td>\n",
       "      <td>0.0</td>\n",
       "      <td>0 days 00:05:36</td>\n",
       "      <td>hd</td>\n",
       "      <td>NaN</td>\n",
       "      <td>en</td>\n",
       "      <td>False</td>\n",
       "      <td>AI for Good Specialization by DeepLearning.AI</td>\n",
       "      <td>DeepLearningAI</td>\n",
       "      <td>2023-07-20 17:01:28+00:00</td>\n",
       "      <td>37.0</td>\n",
       "    </tr>\n",
       "  </tbody>\n",
       "</table>\n",
       "</div>"
      ],
      "text/plain": [
       "      video_id                                              title  \\\n",
       "0  H_8ZVRRtiIA  #1 AI for Good Specialization [Course 1, Week ...   \n",
       "1  bZwkaVnhEo4  #2 AI for Good Specialization [Course 1, Week ...   \n",
       "2  hkOosfWxBK4  #3 AI for Good Specialization [Course 1, Week ...   \n",
       "3  OIavgUGg7mc  #4 AI for Good Specialization [Course 1, Week ...   \n",
       "4  eZZwySXsj-g  #5 AI for Good Specialization [Course 1, Week ...   \n",
       "\n",
       "                   published  view_count  like_count  comment_count  \\\n",
       "0  2023-11-17 21:49:15+00:00        1671        34.0            1.0   \n",
       "1  2023-07-27 16:54:21+00:00        1299        18.0            1.0   \n",
       "2  2023-11-17 20:13:19+00:00         584        20.0            2.0   \n",
       "3  2023-07-27 16:54:56+00:00         619        10.0            0.0   \n",
       "4  2023-07-27 16:55:12+00:00         579         3.0            0.0   \n",
       "\n",
       "          duration definition tags default_audio_language  madeforkid  \\\n",
       "0  0 days 00:10:01         hd  NaN                     en       False   \n",
       "1  0 days 00:07:12         hd  NaN                     en       False   \n",
       "2  0 days 00:03:47         hd  NaN                     en       False   \n",
       "3  0 days 00:04:49         hd  NaN                     en       False   \n",
       "4  0 days 00:05:36         hd  NaN                     en       False   \n",
       "\n",
       "                                  playlist_title    channelTitle  \\\n",
       "0  AI for Good Specialization by DeepLearning.AI  DeepLearningAI   \n",
       "1  AI for Good Specialization by DeepLearning.AI  DeepLearningAI   \n",
       "2  AI for Good Specialization by DeepLearning.AI  DeepLearningAI   \n",
       "3  AI for Good Specialization by DeepLearning.AI  DeepLearningAI   \n",
       "4  AI for Good Specialization by DeepLearning.AI  DeepLearningAI   \n",
       "\n",
       "          playlist_published  playlist_numvideo  \n",
       "0  2023-07-20 17:01:28+00:00               37.0  \n",
       "1  2023-07-20 17:01:28+00:00               37.0  \n",
       "2  2023-07-20 17:01:28+00:00               37.0  \n",
       "3  2023-07-20 17:01:28+00:00               37.0  \n",
       "4  2023-07-20 17:01:28+00:00               37.0  "
      ]
     },
     "execution_count": 3,
     "metadata": {},
     "output_type": "execute_result"
    }
   ],
   "source": [
    "videos_df = pd.read_csv('../data/processed/df_videos_processed.csv')\n",
    "videos_df.head()"
   ]
  },
  {
   "cell_type": "code",
   "execution_count": 24,
   "metadata": {},
   "outputs": [],
   "source": [
    "channel_df = pd.DataFrame(columns=['channel_name', 'playlist_count', 'video_count', 'subscriber_count', 'view_count', 'comment_count', 'join_date', 'country', 'link'])\n",
    "\n",
    "for channel in videos_df.channelTitle.unique():\n",
    "    name = channel\n",
    "    temp_df = videos_df[videos_df.channelTitle == channel]\n",
    "    playlist_count = temp_df.playlist_title.nunique()\n",
    "    video_count = temp_df.video_id.nunique()\n",
    "    view_count = temp_df.view_count.sum()\n",
    "    comment_count = temp_df.comment_count.sum()\n",
    "\n",
    "    channel_df = pd.concat([channel_df, pd.DataFrame([[name, playlist_count, video_count, view_count, comment_count]], columns=['channel_name', 'playlist_count', 'video_count', 'view_count', 'comment_count'])])\n",
    "\n"
   ]
  },
  {
   "cell_type": "markdown",
   "metadata": {},
   "source": [
    "Because there are some missing information in the video_df, we need to request them from the YouTube API."
   ]
  },
  {
   "cell_type": "code",
   "execution_count": 33,
   "metadata": {},
   "outputs": [],
   "source": [
    "api_key = json.load(open('../data/external/API.json', 'r'))['Nam']\n",
    "channel_id_nam = json.load(open('../data/external/channel_id_nam.json', 'r'))\n",
    "channel_id_Phuc = json.load(open('../data/external/channel_id_Phuc.json', 'r'))\n",
    "channel_ids = {**channel_id_nam, **channel_id_Phuc}\n",
    "\n",
    "def getChannelInfo(channel_id):\n",
    "    url = 'https://www.googleapis.com/youtube/v3/channels?part=snippet%2CcontentDetails%2Cstatistics%2CbrandingSettings&id={}&key={}'.format(channel_id, api_key)\n",
    "    response = requests.get(url)\n",
    "    data = response.json()\n",
    "    print(data)\n",
    "\n",
    "    # Extract the required information\n",
    "    subscriber_count = data['items'][0]['statistics']['subscriberCount']\n",
    "    join_date = data['items'][0]['snippet']['publishedAt']\n",
    "    country = data['items'][0]['snippet'].get('country', 'Not available')  # Some channels might not have a 'country' field\n",
    "    link = \"https://www.youtube.com/channel/\" + data['items'][0]['id']\n",
    "\n",
    "    return subscriber_count, join_date, country, link\n"
   ]
  },
  {
   "cell_type": "code",
   "execution_count": 34,
   "metadata": {},
   "outputs": [
    {
     "data": {
      "text/plain": [
       "{'codebasics': 'UCh9nVJoWXmFb7sLApWGcLPQ',\n",
       " 'TwoMinutePapers': 'UCbfYPyITQ-7l4upoX8nvctg',\n",
       " 'TheAiGrid': 'UCbY9xX3_jW5c2fjlZVBI4cg',\n",
       " 'AINewsOfficial': 'UCDZfn935vwaahDabsfylfIQ',\n",
       " 'abhishekkrthakur': 'UCBPRJjIWfyNG4X-CRbnv78A',\n",
       " 'IBMTechnology': 'UCKWaEZ-_VweaEx1j62do_vQ',\n",
       " 'PROROBOTS': 'UCu8luTDe_Xxd2ahAXsCWX5g',\n",
       " 'StrataScratch': 'UCnVzApLJE2ljPZSeQylSEyg',\n",
       " 'DeepLearningAI': 'UCcIXc5mJsHVYTZR1maL5l9w',\n",
       " '3Blue1Brown': 'UCYO_jab_esuFRV4b17AJtAw',\n",
       " 'Joma Tech': 'UCV0qA-eDDICsRR9rPcnG7tw',\n",
       " 'DataCamp': 'UC79Gv3mYp6zKiSwYemEik9A',\n",
       " 'CS Dojo': 'UCxX9wt5FWQUAAz4UrysqK9A',\n",
       " 'sentdex': 'UCfzlCWGWYyIQ0aLC5w48gBQ',\n",
       " 'StatQuest with Josh Starmer': 'UCtYLUTtgS3k1Fg4y5tAhLbw',\n",
       " 'Tech With Tim': 'UC4JX40jDee_tINbkjycV4Sg',\n",
       " '365 Data Science': 'UCEBpSZhI1X8WaP-kY_2LLcg',\n",
       " 'Data Professor': 'UCV8e2g4IWQqK71bbzGDEI4Q',\n",
       " 'Data Science Dojo': 'UCzL_0nIe8B4-7ShhVPfJkgw'}"
      ]
     },
     "execution_count": 34,
     "metadata": {},
     "output_type": "execute_result"
    }
   ],
   "source": [
    "channel_ids"
   ]
  },
  {
   "cell_type": "code",
   "execution_count": 35,
   "metadata": {},
   "outputs": [
    {
     "name": "stdout",
     "output_type": "stream",
     "text": [
      "{'kind': 'youtube#channelListResponse', 'etag': 'VKCZCmlBs_30z1xVNJ_SBnHwA4g', 'pageInfo': {'totalResults': 1, 'resultsPerPage': 5}, 'items': [{'kind': 'youtube#channel', 'etag': '7dm15v3MJLUNO8aRzpMVwgRCGQM', 'id': 'UCcIXc5mJsHVYTZR1maL5l9w', 'snippet': {'title': 'DeepLearningAI', 'description': 'Welcome to the official DeepLearning.AI YouTube channel! Here you can find the videos from our Coursera programs on machine learning as well as recorded events.\\n\\nDeepLearning.AI was founded in 2017 by machine learning and education pioneer Andrew Ng to fill a need for world-class AI education.\\n\\nDeepLearning.AI has created high-quality AI programs on Coursera that have gained an extensive global following. By providing a platform for education and fostering a tight-knit community, DeepLearning.AI has become the pathway for anyone looking to build an AI career.\\n', 'customUrl': '@deeplearningai', 'publishedAt': '2017-08-22T22:27:58Z', 'thumbnails': {'default': {'url': 'https://yt3.ggpht.com/ytc/AIf8zZRjBmsVHsQdbEYmqw6D-StcvA2JGU_0zUezdfK1CQ=s88-c-k-c0x00ffffff-no-rj', 'width': 88, 'height': 88}, 'medium': {'url': 'https://yt3.ggpht.com/ytc/AIf8zZRjBmsVHsQdbEYmqw6D-StcvA2JGU_0zUezdfK1CQ=s240-c-k-c0x00ffffff-no-rj', 'width': 240, 'height': 240}, 'high': {'url': 'https://yt3.ggpht.com/ytc/AIf8zZRjBmsVHsQdbEYmqw6D-StcvA2JGU_0zUezdfK1CQ=s800-c-k-c0x00ffffff-no-rj', 'width': 800, 'height': 800}}, 'localized': {'title': 'DeepLearningAI', 'description': 'Welcome to the official DeepLearning.AI YouTube channel! Here you can find the videos from our Coursera programs on machine learning as well as recorded events.\\n\\nDeepLearning.AI was founded in 2017 by machine learning and education pioneer Andrew Ng to fill a need for world-class AI education.\\n\\nDeepLearning.AI has created high-quality AI programs on Coursera that have gained an extensive global following. By providing a platform for education and fostering a tight-knit community, DeepLearning.AI has become the pathway for anyone looking to build an AI career.\\n'}}, 'contentDetails': {'relatedPlaylists': {'likes': '', 'uploads': 'UUcIXc5mJsHVYTZR1maL5l9w'}}, 'statistics': {'viewCount': '16456026', 'subscriberCount': '271000', 'hiddenSubscriberCount': False, 'videoCount': '398'}, 'brandingSettings': {'channel': {'title': 'DeepLearningAI', 'description': 'Welcome to the official DeepLearning.AI YouTube channel! Here you can find the videos from our Coursera programs on machine learning as well as recorded events.\\n\\nDeepLearning.AI was founded in 2017 by machine learning and education pioneer Andrew Ng to fill a need for world-class AI education.\\n\\nDeepLearning.AI has created high-quality AI programs on Coursera that have gained an extensive global following. By providing a platform for education and fostering a tight-knit community, DeepLearning.AI has become the pathway for anyone looking to build an AI career.\\n', 'keywords': '\"deep learning\" \"machine learning\" \"artificial intelligence\" \"neural networks\" \"andrew ng\" llms \"large language models\" fine-tuning GPU RLHF'}, 'image': {'bannerExternalUrl': 'https://yt3.googleusercontent.com/_BMM0JuZrjtS6lzscWD8w4KeZRJsDBMhRH6-pDYtda6A68ktES-sA4cfS_I6UNCR6yNjNFJGQw'}}}]}\n"
     ]
    },
    {
     "ename": "KeyError",
     "evalue": "nan",
     "output_type": "error",
     "traceback": [
      "\u001b[0;31m---------------------------------------------------------------------------\u001b[0m",
      "\u001b[0;31mKeyError\u001b[0m                                  Traceback (most recent call last)",
      "Cell \u001b[0;32mIn[35], line 2\u001b[0m\n\u001b[1;32m      1\u001b[0m \u001b[38;5;28;01mfor\u001b[39;00m channel \u001b[38;5;129;01min\u001b[39;00m channel_df\u001b[38;5;241m.\u001b[39mchannel_name:\n\u001b[0;32m----> 2\u001b[0m     channel_id \u001b[38;5;241m=\u001b[39m \u001b[43mchannel_ids\u001b[49m\u001b[43m[\u001b[49m\u001b[43mchannel\u001b[49m\u001b[43m]\u001b[49m\n\u001b[1;32m      3\u001b[0m     subscriber_count, join_date, country, link \u001b[38;5;241m=\u001b[39m getChannelInfo(channel_id)\n\u001b[1;32m      4\u001b[0m     channel_df\u001b[38;5;241m.\u001b[39mloc[channel_df\u001b[38;5;241m.\u001b[39mchannel_name \u001b[38;5;241m==\u001b[39m channel, [\u001b[38;5;124m'\u001b[39m\u001b[38;5;124msubscriber_count\u001b[39m\u001b[38;5;124m'\u001b[39m, \u001b[38;5;124m'\u001b[39m\u001b[38;5;124mjoin_date\u001b[39m\u001b[38;5;124m'\u001b[39m, \u001b[38;5;124m'\u001b[39m\u001b[38;5;124mcountry\u001b[39m\u001b[38;5;124m'\u001b[39m, \u001b[38;5;124m'\u001b[39m\u001b[38;5;124mlink\u001b[39m\u001b[38;5;124m'\u001b[39m]] \u001b[38;5;241m=\u001b[39m subscriber_count, join_date, country, link\n",
      "\u001b[0;31mKeyError\u001b[0m: nan"
     ]
    }
   ],
   "source": [
    "for channel in channel_df.channel_name:\n",
    "    channel_id = channel_ids[channel]\n",
    "    subscriber_count, join_date, country, link = getChannelInfo(channel_id)\n",
    "    channel_df.loc[channel_df.channel_name == channel, ['subscriber_count', 'join_date', 'country', 'link']] = subscriber_count, join_date, country, link\n",
    "channel_df"
   ]
  }
 ],
 "metadata": {
  "kernelspec": {
   "display_name": "min_ds-env",
   "language": "python",
   "name": "python3"
  },
  "language_info": {
   "codemirror_mode": {
    "name": "ipython",
    "version": 3
   },
   "file_extension": ".py",
   "mimetype": "text/x-python",
   "name": "python",
   "nbconvert_exporter": "python",
   "pygments_lexer": "ipython3",
   "version": "3.10.8"
  }
 },
 "nbformat": 4,
 "nbformat_minor": 2
}
