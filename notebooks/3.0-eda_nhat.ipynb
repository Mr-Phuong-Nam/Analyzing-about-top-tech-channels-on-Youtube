{
 "cells": [
  {
   "cell_type": "markdown",
   "metadata": {},
   "source": [
    "<div style=\"text-align: center; background-color: #559cff; font-family: 'Trebuchet MS', Arial, sans-serif; color: white; padding: 20px; font-size: 40px; font-weight: bold; border-radius: 0 0 0 0; box-shadow: 0px 6px 8px rgba(0, 0, 0, 0.2);\">\n",
    "  Lab 02 - Introduction To Data Science @ FIT-HCMUS, VNU-HCM 📌\n",
    "</div>"
   ]
  },
  {
   "cell_type": "markdown",
   "metadata": {},
   "source": [
    "<div style=\"text-align: center; background-color: #b1d1ff; font-family: 'Trebuchet MS', Arial, sans-serif; color: white; padding: 20px; font-size: 40px; font-weight: bold; border-radius: 0 0 0 0; box-shadow: 0px 6px 8px rgba(0, 0, 0, 0.2);\">\n",
    "  Stage 3.0 - Exploratory data analysis\n",
    "</div>"
   ]
  },
  {
   "cell_type": "markdown",
   "metadata": {},
   "source": [
    "## Import"
   ]
  },
  {
   "cell_type": "code",
   "execution_count": 19,
   "metadata": {},
   "outputs": [],
   "source": [
    "import os\n",
    "import sys\n",
    "\n",
    "module_path = os.path.abspath(os.path.join('..'))\n",
    "if module_path not in sys.path:\n",
    "    sys.path.append(module_path)\n",
    "    \n",
    "import warnings\n",
    "warnings.filterwarnings('ignore')\n",
    "\n",
    "import numpy as np\n",
    "import pandas as pd\n",
    "import matplotlib.pyplot as plt\n",
    "from src.data_module import read_processed_df\n",
    "import json\n",
    "%matplotlib inline"
   ]
  },
  {
   "cell_type": "markdown",
   "metadata": {},
   "source": [
    "## Exploring data"
   ]
  },
  {
   "cell_type": "markdown",
   "metadata": {},
   "source": [
    "### Read 2 cleaned data from file"
   ]
  },
  {
   "cell_type": "markdown",
   "metadata": {},
   "source": [
    "We can now use the cleaned dataset for analysis. Thus, we first read the CSV files we created in the previous pre-processing task."
   ]
  },
  {
   "cell_type": "code",
   "execution_count": 20,
   "metadata": {},
   "outputs": [],
   "source": [
    "# YOUR CODE HERE\n",
    "cleaned_videos_df = read_processed_df.read_video_df()\n",
    "cleaned_comments_df= read_processed_df.read_comment_df()"
   ]
  },
  {
   "cell_type": "markdown",
   "metadata": {},
   "source": [
    "### Exploring general data"
   ]
  },
  {
   "cell_type": "markdown",
   "metadata": {},
   "source": [
    "#### Videos section"
   ]
  },
  {
   "cell_type": "code",
   "execution_count": 21,
   "metadata": {},
   "outputs": [
    {
     "data": {
      "text/html": [
       "<div>\n",
       "<style scoped>\n",
       "    .dataframe tbody tr th:only-of-type {\n",
       "        vertical-align: middle;\n",
       "    }\n",
       "\n",
       "    .dataframe tbody tr th {\n",
       "        vertical-align: top;\n",
       "    }\n",
       "\n",
       "    .dataframe thead th {\n",
       "        text-align: right;\n",
       "    }\n",
       "</style>\n",
       "<table border=\"1\" class=\"dataframe\">\n",
       "  <thead>\n",
       "    <tr style=\"text-align: right;\">\n",
       "      <th></th>\n",
       "      <th>video_id</th>\n",
       "      <th>title</th>\n",
       "      <th>published</th>\n",
       "      <th>view_count</th>\n",
       "      <th>like_count</th>\n",
       "      <th>comment_count</th>\n",
       "      <th>duration</th>\n",
       "      <th>definition</th>\n",
       "      <th>tags</th>\n",
       "      <th>default_audio_language</th>\n",
       "      <th>madeforkid</th>\n",
       "      <th>channelTitle</th>\n",
       "    </tr>\n",
       "  </thead>\n",
       "  <tbody>\n",
       "    <tr>\n",
       "      <th>0</th>\n",
       "      <td>hh6gE0LxfO8</td>\n",
       "      <td>#5 Machine Learning Specialization [Course 1, ...</td>\n",
       "      <td>2022-12-01 13:21:30+00:00</td>\n",
       "      <td>30742</td>\n",
       "      <td>319.0</td>\n",
       "      <td>6.0</td>\n",
       "      <td>0 days 00:07:17</td>\n",
       "      <td>hd</td>\n",
       "      <td>NaN</td>\n",
       "      <td>en</td>\n",
       "      <td>False</td>\n",
       "      <td>DeepLearningAI</td>\n",
       "    </tr>\n",
       "    <tr>\n",
       "      <th>1</th>\n",
       "      <td>_i3aqgKVNQI</td>\n",
       "      <td>C5W3L01 Basic Models</td>\n",
       "      <td>2018-02-05 19:50:14+00:00</td>\n",
       "      <td>110835</td>\n",
       "      <td>436.0</td>\n",
       "      <td>12.0</td>\n",
       "      <td>0 days 00:06:19</td>\n",
       "      <td>hd</td>\n",
       "      <td>NaN</td>\n",
       "      <td>en</td>\n",
       "      <td>False</td>\n",
       "      <td>DeepLearningAI</td>\n",
       "    </tr>\n",
       "    <tr>\n",
       "      <th>2</th>\n",
       "      <td>uvTL1N02f04</td>\n",
       "      <td>#23 Machine Learning Specialization [Course 1,...</td>\n",
       "      <td>2022-12-01 13:22:38+00:00</td>\n",
       "      <td>11639</td>\n",
       "      <td>107.0</td>\n",
       "      <td>4.0</td>\n",
       "      <td>0 days 00:06:53</td>\n",
       "      <td>hd</td>\n",
       "      <td>NaN</td>\n",
       "      <td>en</td>\n",
       "      <td>False</td>\n",
       "      <td>DeepLearningAI</td>\n",
       "    </tr>\n",
       "    <tr>\n",
       "      <th>3</th>\n",
       "      <td>H4YK_7MAckk</td>\n",
       "      <td>ChatGPT Prompt Engineering for Developers: A s...</td>\n",
       "      <td>2023-04-27 14:49:09+00:00</td>\n",
       "      <td>143057</td>\n",
       "      <td>2847.0</td>\n",
       "      <td>121.0</td>\n",
       "      <td>0 days 00:01:58</td>\n",
       "      <td>hd</td>\n",
       "      <td>[ChatGPT, prompt engineering, openai, deeplear...</td>\n",
       "      <td>en</td>\n",
       "      <td>False</td>\n",
       "      <td>DeepLearningAI</td>\n",
       "    </tr>\n",
       "    <tr>\n",
       "      <th>4</th>\n",
       "      <td>YVtP5UGdgXg</td>\n",
       "      <td>#25 Machine Learning Specialization [Course 1,...</td>\n",
       "      <td>2022-12-01 13:22:45+00:00</td>\n",
       "      <td>11542</td>\n",
       "      <td>106.0</td>\n",
       "      <td>1.0</td>\n",
       "      <td>0 days 00:06:35</td>\n",
       "      <td>hd</td>\n",
       "      <td>NaN</td>\n",
       "      <td>en</td>\n",
       "      <td>False</td>\n",
       "      <td>DeepLearningAI</td>\n",
       "    </tr>\n",
       "  </tbody>\n",
       "</table>\n",
       "</div>"
      ],
      "text/plain": [
       "      video_id                                              title  \\\n",
       "0  hh6gE0LxfO8  #5 Machine Learning Specialization [Course 1, ...   \n",
       "1  _i3aqgKVNQI                               C5W3L01 Basic Models   \n",
       "2  uvTL1N02f04  #23 Machine Learning Specialization [Course 1,...   \n",
       "3  H4YK_7MAckk  ChatGPT Prompt Engineering for Developers: A s...   \n",
       "4  YVtP5UGdgXg  #25 Machine Learning Specialization [Course 1,...   \n",
       "\n",
       "                  published  view_count  like_count  comment_count  \\\n",
       "0 2022-12-01 13:21:30+00:00       30742       319.0            6.0   \n",
       "1 2018-02-05 19:50:14+00:00      110835       436.0           12.0   \n",
       "2 2022-12-01 13:22:38+00:00       11639       107.0            4.0   \n",
       "3 2023-04-27 14:49:09+00:00      143057      2847.0          121.0   \n",
       "4 2022-12-01 13:22:45+00:00       11542       106.0            1.0   \n",
       "\n",
       "         duration definition  \\\n",
       "0 0 days 00:07:17         hd   \n",
       "1 0 days 00:06:19         hd   \n",
       "2 0 days 00:06:53         hd   \n",
       "3 0 days 00:01:58         hd   \n",
       "4 0 days 00:06:35         hd   \n",
       "\n",
       "                                                tags default_audio_language  \\\n",
       "0                                                NaN                     en   \n",
       "1                                                NaN                     en   \n",
       "2                                                NaN                     en   \n",
       "3  [ChatGPT, prompt engineering, openai, deeplear...                     en   \n",
       "4                                                NaN                     en   \n",
       "\n",
       "   madeforkid    channelTitle  \n",
       "0       False  DeepLearningAI  \n",
       "1       False  DeepLearningAI  \n",
       "2       False  DeepLearningAI  \n",
       "3       False  DeepLearningAI  \n",
       "4       False  DeepLearningAI  "
      ]
     },
     "execution_count": 21,
     "metadata": {},
     "output_type": "execute_result"
    }
   ],
   "source": [
    "# TEST VIDEOS\n",
    "cleaned_videos_df.head()"
   ]
  },
  {
   "cell_type": "code",
   "execution_count": 22,
   "metadata": {},
   "outputs": [
    {
     "data": {
      "text/plain": [
       "(5472, 12)"
      ]
     },
     "execution_count": 22,
     "metadata": {},
     "output_type": "execute_result"
    }
   ],
   "source": [
    "# Shape of the dataframe\n",
    "cleaned_videos_df.shape"
   ]
  },
  {
   "cell_type": "code",
   "execution_count": 23,
   "metadata": {},
   "outputs": [
    {
     "data": {
      "text/plain": [
       "video_id                               object\n",
       "title                                  object\n",
       "published                 datetime64[ns, UTC]\n",
       "view_count                              int64\n",
       "like_count                            float64\n",
       "comment_count                         float64\n",
       "duration                      timedelta64[ns]\n",
       "definition                             object\n",
       "tags                                   object\n",
       "default_audio_language                 object\n",
       "madeforkid                               bool\n",
       "channelTitle                           object\n",
       "dtype: object"
      ]
     },
     "execution_count": 23,
     "metadata": {},
     "output_type": "execute_result"
    }
   ],
   "source": [
    "# Some information about the dataframe\n",
    "cleaned_videos_df.dtypes"
   ]
  },
  {
   "cell_type": "markdown",
   "metadata": {},
   "source": [
    "- Next, let's explore this data by individual data groups\n",
    "    - Numerical:`view_count`, `like_count`, `comment_count`"
   ]
  },
  {
   "cell_type": "markdown",
   "metadata": {},
   "source": [
    "#### Comment section"
   ]
  },
  {
   "cell_type": "code",
   "execution_count": 26,
   "metadata": {},
   "outputs": [
    {
     "data": {
      "text/html": [
       "<div>\n",
       "<style scoped>\n",
       "    .dataframe tbody tr th:only-of-type {\n",
       "        vertical-align: middle;\n",
       "    }\n",
       "\n",
       "    .dataframe tbody tr th {\n",
       "        vertical-align: top;\n",
       "    }\n",
       "\n",
       "    .dataframe thead th {\n",
       "        text-align: right;\n",
       "    }\n",
       "</style>\n",
       "<table border=\"1\" class=\"dataframe\">\n",
       "  <thead>\n",
       "    <tr style=\"text-align: right;\">\n",
       "      <th></th>\n",
       "      <th>author</th>\n",
       "      <th>Type</th>\n",
       "      <th>video_id</th>\n",
       "      <th>total_reply</th>\n",
       "      <th>like_count</th>\n",
       "      <th>published_at</th>\n",
       "      <th>textdisplay</th>\n",
       "      <th>updatedat</th>\n",
       "    </tr>\n",
       "  </thead>\n",
       "  <tbody>\n",
       "    <tr>\n",
       "      <th>0</th>\n",
       "      <td>@AiexpertRajivVerma</td>\n",
       "      <td>1.0</td>\n",
       "      <td>H_8ZVRRtiIA</td>\n",
       "      <td>0.0</td>\n",
       "      <td>0.0</td>\n",
       "      <td>2023-12-11 01:11:19+00:00</td>\n",
       "      <td>Sir thank you love love 💕❤️❤❤️❤❤❤❤❤❤ you for f...</td>\n",
       "      <td>2023-12-11 01:11:19+00:00</td>\n",
       "    </tr>\n",
       "    <tr>\n",
       "      <th>1</th>\n",
       "      <td>@hamasali8764</td>\n",
       "      <td>1.0</td>\n",
       "      <td>bZwkaVnhEo4</td>\n",
       "      <td>0.0</td>\n",
       "      <td>0.0</td>\n",
       "      <td>2023-07-27 16:54:52+00:00</td>\n",
       "      <td>Best One🎉</td>\n",
       "      <td>2023-07-27 16:54:52+00:00</td>\n",
       "    </tr>\n",
       "    <tr>\n",
       "      <th>2</th>\n",
       "      <td>@R0H00</td>\n",
       "      <td>1.0</td>\n",
       "      <td>hkOosfWxBK4</td>\n",
       "      <td>0.0</td>\n",
       "      <td>1.0</td>\n",
       "      <td>2023-11-18 02:51:01+00:00</td>\n",
       "      <td>Hi, I&amp;#39;m a clinician who is working in the ...</td>\n",
       "      <td>2023-11-18 02:51:01+00:00</td>\n",
       "    </tr>\n",
       "    <tr>\n",
       "      <th>3</th>\n",
       "      <td>@nitinsnoisepollution6293</td>\n",
       "      <td>1.0</td>\n",
       "      <td>hkOosfWxBK4</td>\n",
       "      <td>0.0</td>\n",
       "      <td>0.0</td>\n",
       "      <td>2023-11-17 20:39:13+00:00</td>\n",
       "      <td>Superb 🎉❤</td>\n",
       "      <td>2023-11-17 20:39:13+00:00</td>\n",
       "    </tr>\n",
       "    <tr>\n",
       "      <th>4</th>\n",
       "      <td>@REDBONDYT</td>\n",
       "      <td>1.0</td>\n",
       "      <td>Fxq6vjJwX3o</td>\n",
       "      <td>0.0</td>\n",
       "      <td>1.0</td>\n",
       "      <td>2023-07-30 12:36:13+00:00</td>\n",
       "      <td>Very informative 😃😺</td>\n",
       "      <td>2023-07-30 12:36:13+00:00</td>\n",
       "    </tr>\n",
       "  </tbody>\n",
       "</table>\n",
       "</div>"
      ],
      "text/plain": [
       "                      author  Type     video_id  total_reply  like_count  \\\n",
       "0        @AiexpertRajivVerma   1.0  H_8ZVRRtiIA          0.0         0.0   \n",
       "1              @hamasali8764   1.0  bZwkaVnhEo4          0.0         0.0   \n",
       "2                     @R0H00   1.0  hkOosfWxBK4          0.0         1.0   \n",
       "3  @nitinsnoisepollution6293   1.0  hkOosfWxBK4          0.0         0.0   \n",
       "4                 @REDBONDYT   1.0  Fxq6vjJwX3o          0.0         1.0   \n",
       "\n",
       "               published_at  \\\n",
       "0 2023-12-11 01:11:19+00:00   \n",
       "1 2023-07-27 16:54:52+00:00   \n",
       "2 2023-11-18 02:51:01+00:00   \n",
       "3 2023-11-17 20:39:13+00:00   \n",
       "4 2023-07-30 12:36:13+00:00   \n",
       "\n",
       "                                         textdisplay                 updatedat  \n",
       "0  Sir thank you love love 💕❤️❤❤️❤❤❤❤❤❤ you for f... 2023-12-11 01:11:19+00:00  \n",
       "1                                          Best One🎉 2023-07-27 16:54:52+00:00  \n",
       "2  Hi, I&#39;m a clinician who is working in the ... 2023-11-18 02:51:01+00:00  \n",
       "3                                          Superb 🎉❤ 2023-11-17 20:39:13+00:00  \n",
       "4                                Very informative 😃😺 2023-07-30 12:36:13+00:00  "
      ]
     },
     "execution_count": 26,
     "metadata": {},
     "output_type": "execute_result"
    }
   ],
   "source": [
    "cleaned_comments_df.head()"
   ]
  },
  {
   "cell_type": "code",
   "execution_count": 27,
   "metadata": {},
   "outputs": [
    {
     "data": {
      "text/html": [
       "<div>\n",
       "<style scoped>\n",
       "    .dataframe tbody tr th:only-of-type {\n",
       "        vertical-align: middle;\n",
       "    }\n",
       "\n",
       "    .dataframe tbody tr th {\n",
       "        vertical-align: top;\n",
       "    }\n",
       "\n",
       "    .dataframe thead th {\n",
       "        text-align: right;\n",
       "    }\n",
       "</style>\n",
       "<table border=\"1\" class=\"dataframe\">\n",
       "  <thead>\n",
       "    <tr style=\"text-align: right;\">\n",
       "      <th></th>\n",
       "      <th>author</th>\n",
       "      <th>Type</th>\n",
       "      <th>video_id</th>\n",
       "      <th>total_reply</th>\n",
       "      <th>like_count</th>\n",
       "      <th>published_at</th>\n",
       "      <th>textdisplay</th>\n",
       "      <th>updatedat</th>\n",
       "    </tr>\n",
       "  </thead>\n",
       "  <tbody>\n",
       "    <tr>\n",
       "      <th>9881</th>\n",
       "      <td>@jomakaze</td>\n",
       "      <td>1.0</td>\n",
       "      <td>rR4n-0KYeKQ</td>\n",
       "      <td>392.0</td>\n",
       "      <td>65952.0</td>\n",
       "      <td>2020-02-10 21:44:12+00:00</td>\n",
       "      <td>LGTM = Looks good to me</td>\n",
       "      <td>2020-02-10 21:44:12+00:00</td>\n",
       "    </tr>\n",
       "  </tbody>\n",
       "</table>\n",
       "</div>"
      ],
      "text/plain": [
       "         author  Type     video_id  total_reply  like_count  \\\n",
       "9881  @jomakaze   1.0  rR4n-0KYeKQ        392.0     65952.0   \n",
       "\n",
       "                  published_at              textdisplay  \\\n",
       "9881 2020-02-10 21:44:12+00:00  LGTM = Looks good to me   \n",
       "\n",
       "                     updatedat  \n",
       "9881 2020-02-10 21:44:12+00:00  "
      ]
     },
     "execution_count": 27,
     "metadata": {},
     "output_type": "execute_result"
    }
   ],
   "source": [
    "cleaned_comments_df[cleaned_comments_df['like_count'].max()==cleaned_comments_df['like_count']]"
   ]
  },
  {
   "cell_type": "code",
   "execution_count": 28,
   "metadata": {},
   "outputs": [
    {
     "data": {
      "text/plain": [
       "(110409, 8)"
      ]
     },
     "execution_count": 28,
     "metadata": {},
     "output_type": "execute_result"
    }
   ],
   "source": [
    "cleaned_comments_df.shape"
   ]
  },
  {
   "cell_type": "code",
   "execution_count": 29,
   "metadata": {},
   "outputs": [
    {
     "data": {
      "text/plain": [
       "author                       object\n",
       "Type                        float64\n",
       "video_id                     object\n",
       "total_reply                 float64\n",
       "like_count                  float64\n",
       "published_at    datetime64[ns, UTC]\n",
       "textdisplay                  object\n",
       "updatedat       datetime64[ns, UTC]\n",
       "dtype: object"
      ]
     },
     "execution_count": 29,
     "metadata": {},
     "output_type": "execute_result"
    }
   ],
   "source": [
    "cleaned_comments_df.dtypes"
   ]
  },
  {
   "cell_type": "markdown",
   "metadata": {},
   "source": [
    "**Question 01**: What are the hot trends over the years?\n",
    "- Meanings:\n",
    "    - Helps us know which keywords are most used by channels.\n",
    "    - Helps us know how the trends of those hot keywords fluctuate over time. This can also help channels look to focus on topics that can attract more viewers.\n",
    "- Small problems:\n",
    "    - Since the earliest video was published, what keywords have been used the most ?\n",
    "    - How has the usage level of each **hot** keyword changed over the years ?"
   ]
  },
  {
   "cell_type": "markdown",
   "metadata": {},
   "source": [
    "First we need to read the file containing keywords related to 'data science' and 'AI' (except some popular keywords such as :data ,data science,AI,data analyst,...) provided in `data/external/keywords.txt`"
   ]
  },
  {
   "cell_type": "code",
   "execution_count": 30,
   "metadata": {},
   "outputs": [],
   "source": [
    "file_keywords=open('../data/external/keywords.txt','r')\n",
    "keywords=file_keywords.read().split('\\n')"
   ]
  },
  {
   "cell_type": "code",
   "execution_count": 31,
   "metadata": {},
   "outputs": [],
   "source": [
    "def get_keywords_freq(text:str)->dict:\n",
    "    \"\"\"\n",
    "    Function to get the frequency of keywords in a text\n",
    "    \"\"\"\n",
    "    text = text.lower()  \n",
    "    keywords_freq={}\n",
    "    for keyword in keywords:\n",
    "        #Lowercase and remove whitespace\n",
    "        keyword_new = keyword.lower()\n",
    "        #lowercase to match\n",
    "        if keyword_new in text:\n",
    "            if keyword not in keywords_freq:\n",
    "                keywords_freq[keyword]=1\n",
    "            else:\n",
    "                keywords_freq[keyword]+=1\n",
    "    return keywords_freq\n",
    "\n",
    "\n",
    "#Get the first and last year of the dataframe\n",
    "first_year=cleaned_videos_df['published'].min().year\n",
    "last_year=cleaned_videos_df['published'].max().year\n",
    "#Create a dataframe to store the frequency of keywords in each year ,fill with 0\n",
    "keywords_freq_df = pd.DataFrame(0,index=keywords,columns=range(first_year,last_year+1))\n",
    "\n",
    "\n",
    "#Loop through each title and update the keywords_freq_df\n",
    "for title,year in zip(cleaned_videos_df['title'],cleaned_videos_df['published'].dt.year):\n",
    "\n",
    "    #Get the frequency of keywords in the title\n",
    "    keywords_freq = get_keywords_freq(title)\n",
    "    \n",
    "    #Update the keywords_freq_df\n",
    "    for keyword in keywords_freq:\n",
    "        keywords_freq_df.loc[keyword,year]+=keywords_freq[keyword]\n",
    "\n",
    "#Create list of keywords on top 10 all years\n",
    "top_10_keywords=keywords_freq_df.sum(axis=1).sort_values(ascending=False).index.tolist()[:10]\n",
    "top_5_keywords=keywords_freq_df.sum(axis=1).sort_values(ascending=False).index.tolist()[:5]"
   ]
  },
  {
   "cell_type": "code",
   "execution_count": 32,
   "metadata": {},
   "outputs": [
    {
     "data": {
      "application/vnd.plotly.v1+json": {
       "config": {
        "plotlyServerURL": "https://plot.ly"
       },
       "data": [
        {
         "alignmentgroup": "True",
         "hovertemplate": "Frequency=%{x}<br>Keywords=%{y}<extra></extra>",
         "legendgroup": "",
         "marker": {
          "color": "#636efa",
          "pattern": {
           "shape": ""
          }
         },
         "name": "",
         "offsetgroup": "",
         "orientation": "h",
         "showlegend": false,
         "textposition": "auto",
         "type": "bar",
         "x": [
          193,
          88,
          77,
          62,
          56,
          47,
          47,
          44,
          44,
          42
         ],
         "xaxis": "x",
         "y": [
          "GPT",
          "tensorflow",
          "neural networks",
          "classification",
          "pandas",
          "regression",
          "streamlit",
          "visualization",
          "keras",
          "matplotlib"
         ],
         "yaxis": "y"
        }
       ],
       "layout": {
        "barmode": "relative",
        "legend": {
         "tracegroupgap": 0
        },
        "template": {
         "data": {
          "bar": [
           {
            "error_x": {
             "color": "#2a3f5f"
            },
            "error_y": {
             "color": "#2a3f5f"
            },
            "marker": {
             "line": {
              "color": "#E5ECF6",
              "width": 0.5
             },
             "pattern": {
              "fillmode": "overlay",
              "size": 10,
              "solidity": 0.2
             }
            },
            "type": "bar"
           }
          ],
          "barpolar": [
           {
            "marker": {
             "line": {
              "color": "#E5ECF6",
              "width": 0.5
             },
             "pattern": {
              "fillmode": "overlay",
              "size": 10,
              "solidity": 0.2
             }
            },
            "type": "barpolar"
           }
          ],
          "carpet": [
           {
            "aaxis": {
             "endlinecolor": "#2a3f5f",
             "gridcolor": "white",
             "linecolor": "white",
             "minorgridcolor": "white",
             "startlinecolor": "#2a3f5f"
            },
            "baxis": {
             "endlinecolor": "#2a3f5f",
             "gridcolor": "white",
             "linecolor": "white",
             "minorgridcolor": "white",
             "startlinecolor": "#2a3f5f"
            },
            "type": "carpet"
           }
          ],
          "choropleth": [
           {
            "colorbar": {
             "outlinewidth": 0,
             "ticks": ""
            },
            "type": "choropleth"
           }
          ],
          "contour": [
           {
            "colorbar": {
             "outlinewidth": 0,
             "ticks": ""
            },
            "colorscale": [
             [
              0,
              "#0d0887"
             ],
             [
              0.1111111111111111,
              "#46039f"
             ],
             [
              0.2222222222222222,
              "#7201a8"
             ],
             [
              0.3333333333333333,
              "#9c179e"
             ],
             [
              0.4444444444444444,
              "#bd3786"
             ],
             [
              0.5555555555555556,
              "#d8576b"
             ],
             [
              0.6666666666666666,
              "#ed7953"
             ],
             [
              0.7777777777777778,
              "#fb9f3a"
             ],
             [
              0.8888888888888888,
              "#fdca26"
             ],
             [
              1,
              "#f0f921"
             ]
            ],
            "type": "contour"
           }
          ],
          "contourcarpet": [
           {
            "colorbar": {
             "outlinewidth": 0,
             "ticks": ""
            },
            "type": "contourcarpet"
           }
          ],
          "heatmap": [
           {
            "colorbar": {
             "outlinewidth": 0,
             "ticks": ""
            },
            "colorscale": [
             [
              0,
              "#0d0887"
             ],
             [
              0.1111111111111111,
              "#46039f"
             ],
             [
              0.2222222222222222,
              "#7201a8"
             ],
             [
              0.3333333333333333,
              "#9c179e"
             ],
             [
              0.4444444444444444,
              "#bd3786"
             ],
             [
              0.5555555555555556,
              "#d8576b"
             ],
             [
              0.6666666666666666,
              "#ed7953"
             ],
             [
              0.7777777777777778,
              "#fb9f3a"
             ],
             [
              0.8888888888888888,
              "#fdca26"
             ],
             [
              1,
              "#f0f921"
             ]
            ],
            "type": "heatmap"
           }
          ],
          "heatmapgl": [
           {
            "colorbar": {
             "outlinewidth": 0,
             "ticks": ""
            },
            "colorscale": [
             [
              0,
              "#0d0887"
             ],
             [
              0.1111111111111111,
              "#46039f"
             ],
             [
              0.2222222222222222,
              "#7201a8"
             ],
             [
              0.3333333333333333,
              "#9c179e"
             ],
             [
              0.4444444444444444,
              "#bd3786"
             ],
             [
              0.5555555555555556,
              "#d8576b"
             ],
             [
              0.6666666666666666,
              "#ed7953"
             ],
             [
              0.7777777777777778,
              "#fb9f3a"
             ],
             [
              0.8888888888888888,
              "#fdca26"
             ],
             [
              1,
              "#f0f921"
             ]
            ],
            "type": "heatmapgl"
           }
          ],
          "histogram": [
           {
            "marker": {
             "pattern": {
              "fillmode": "overlay",
              "size": 10,
              "solidity": 0.2
             }
            },
            "type": "histogram"
           }
          ],
          "histogram2d": [
           {
            "colorbar": {
             "outlinewidth": 0,
             "ticks": ""
            },
            "colorscale": [
             [
              0,
              "#0d0887"
             ],
             [
              0.1111111111111111,
              "#46039f"
             ],
             [
              0.2222222222222222,
              "#7201a8"
             ],
             [
              0.3333333333333333,
              "#9c179e"
             ],
             [
              0.4444444444444444,
              "#bd3786"
             ],
             [
              0.5555555555555556,
              "#d8576b"
             ],
             [
              0.6666666666666666,
              "#ed7953"
             ],
             [
              0.7777777777777778,
              "#fb9f3a"
             ],
             [
              0.8888888888888888,
              "#fdca26"
             ],
             [
              1,
              "#f0f921"
             ]
            ],
            "type": "histogram2d"
           }
          ],
          "histogram2dcontour": [
           {
            "colorbar": {
             "outlinewidth": 0,
             "ticks": ""
            },
            "colorscale": [
             [
              0,
              "#0d0887"
             ],
             [
              0.1111111111111111,
              "#46039f"
             ],
             [
              0.2222222222222222,
              "#7201a8"
             ],
             [
              0.3333333333333333,
              "#9c179e"
             ],
             [
              0.4444444444444444,
              "#bd3786"
             ],
             [
              0.5555555555555556,
              "#d8576b"
             ],
             [
              0.6666666666666666,
              "#ed7953"
             ],
             [
              0.7777777777777778,
              "#fb9f3a"
             ],
             [
              0.8888888888888888,
              "#fdca26"
             ],
             [
              1,
              "#f0f921"
             ]
            ],
            "type": "histogram2dcontour"
           }
          ],
          "mesh3d": [
           {
            "colorbar": {
             "outlinewidth": 0,
             "ticks": ""
            },
            "type": "mesh3d"
           }
          ],
          "parcoords": [
           {
            "line": {
             "colorbar": {
              "outlinewidth": 0,
              "ticks": ""
             }
            },
            "type": "parcoords"
           }
          ],
          "pie": [
           {
            "automargin": true,
            "type": "pie"
           }
          ],
          "scatter": [
           {
            "fillpattern": {
             "fillmode": "overlay",
             "size": 10,
             "solidity": 0.2
            },
            "type": "scatter"
           }
          ],
          "scatter3d": [
           {
            "line": {
             "colorbar": {
              "outlinewidth": 0,
              "ticks": ""
             }
            },
            "marker": {
             "colorbar": {
              "outlinewidth": 0,
              "ticks": ""
             }
            },
            "type": "scatter3d"
           }
          ],
          "scattercarpet": [
           {
            "marker": {
             "colorbar": {
              "outlinewidth": 0,
              "ticks": ""
             }
            },
            "type": "scattercarpet"
           }
          ],
          "scattergeo": [
           {
            "marker": {
             "colorbar": {
              "outlinewidth": 0,
              "ticks": ""
             }
            },
            "type": "scattergeo"
           }
          ],
          "scattergl": [
           {
            "marker": {
             "colorbar": {
              "outlinewidth": 0,
              "ticks": ""
             }
            },
            "type": "scattergl"
           }
          ],
          "scattermapbox": [
           {
            "marker": {
             "colorbar": {
              "outlinewidth": 0,
              "ticks": ""
             }
            },
            "type": "scattermapbox"
           }
          ],
          "scatterpolar": [
           {
            "marker": {
             "colorbar": {
              "outlinewidth": 0,
              "ticks": ""
             }
            },
            "type": "scatterpolar"
           }
          ],
          "scatterpolargl": [
           {
            "marker": {
             "colorbar": {
              "outlinewidth": 0,
              "ticks": ""
             }
            },
            "type": "scatterpolargl"
           }
          ],
          "scatterternary": [
           {
            "marker": {
             "colorbar": {
              "outlinewidth": 0,
              "ticks": ""
             }
            },
            "type": "scatterternary"
           }
          ],
          "surface": [
           {
            "colorbar": {
             "outlinewidth": 0,
             "ticks": ""
            },
            "colorscale": [
             [
              0,
              "#0d0887"
             ],
             [
              0.1111111111111111,
              "#46039f"
             ],
             [
              0.2222222222222222,
              "#7201a8"
             ],
             [
              0.3333333333333333,
              "#9c179e"
             ],
             [
              0.4444444444444444,
              "#bd3786"
             ],
             [
              0.5555555555555556,
              "#d8576b"
             ],
             [
              0.6666666666666666,
              "#ed7953"
             ],
             [
              0.7777777777777778,
              "#fb9f3a"
             ],
             [
              0.8888888888888888,
              "#fdca26"
             ],
             [
              1,
              "#f0f921"
             ]
            ],
            "type": "surface"
           }
          ],
          "table": [
           {
            "cells": {
             "fill": {
              "color": "#EBF0F8"
             },
             "line": {
              "color": "white"
             }
            },
            "header": {
             "fill": {
              "color": "#C8D4E3"
             },
             "line": {
              "color": "white"
             }
            },
            "type": "table"
           }
          ]
         },
         "layout": {
          "annotationdefaults": {
           "arrowcolor": "#2a3f5f",
           "arrowhead": 0,
           "arrowwidth": 1
          },
          "autotypenumbers": "strict",
          "coloraxis": {
           "colorbar": {
            "outlinewidth": 0,
            "ticks": ""
           }
          },
          "colorscale": {
           "diverging": [
            [
             0,
             "#8e0152"
            ],
            [
             0.1,
             "#c51b7d"
            ],
            [
             0.2,
             "#de77ae"
            ],
            [
             0.3,
             "#f1b6da"
            ],
            [
             0.4,
             "#fde0ef"
            ],
            [
             0.5,
             "#f7f7f7"
            ],
            [
             0.6,
             "#e6f5d0"
            ],
            [
             0.7,
             "#b8e186"
            ],
            [
             0.8,
             "#7fbc41"
            ],
            [
             0.9,
             "#4d9221"
            ],
            [
             1,
             "#276419"
            ]
           ],
           "sequential": [
            [
             0,
             "#0d0887"
            ],
            [
             0.1111111111111111,
             "#46039f"
            ],
            [
             0.2222222222222222,
             "#7201a8"
            ],
            [
             0.3333333333333333,
             "#9c179e"
            ],
            [
             0.4444444444444444,
             "#bd3786"
            ],
            [
             0.5555555555555556,
             "#d8576b"
            ],
            [
             0.6666666666666666,
             "#ed7953"
            ],
            [
             0.7777777777777778,
             "#fb9f3a"
            ],
            [
             0.8888888888888888,
             "#fdca26"
            ],
            [
             1,
             "#f0f921"
            ]
           ],
           "sequentialminus": [
            [
             0,
             "#0d0887"
            ],
            [
             0.1111111111111111,
             "#46039f"
            ],
            [
             0.2222222222222222,
             "#7201a8"
            ],
            [
             0.3333333333333333,
             "#9c179e"
            ],
            [
             0.4444444444444444,
             "#bd3786"
            ],
            [
             0.5555555555555556,
             "#d8576b"
            ],
            [
             0.6666666666666666,
             "#ed7953"
            ],
            [
             0.7777777777777778,
             "#fb9f3a"
            ],
            [
             0.8888888888888888,
             "#fdca26"
            ],
            [
             1,
             "#f0f921"
            ]
           ]
          },
          "colorway": [
           "#636efa",
           "#EF553B",
           "#00cc96",
           "#ab63fa",
           "#FFA15A",
           "#19d3f3",
           "#FF6692",
           "#B6E880",
           "#FF97FF",
           "#FECB52"
          ],
          "font": {
           "color": "#2a3f5f"
          },
          "geo": {
           "bgcolor": "white",
           "lakecolor": "white",
           "landcolor": "#E5ECF6",
           "showlakes": true,
           "showland": true,
           "subunitcolor": "white"
          },
          "hoverlabel": {
           "align": "left"
          },
          "hovermode": "closest",
          "mapbox": {
           "style": "light"
          },
          "paper_bgcolor": "white",
          "plot_bgcolor": "#E5ECF6",
          "polar": {
           "angularaxis": {
            "gridcolor": "white",
            "linecolor": "white",
            "ticks": ""
           },
           "bgcolor": "#E5ECF6",
           "radialaxis": {
            "gridcolor": "white",
            "linecolor": "white",
            "ticks": ""
           }
          },
          "scene": {
           "xaxis": {
            "backgroundcolor": "#E5ECF6",
            "gridcolor": "white",
            "gridwidth": 2,
            "linecolor": "white",
            "showbackground": true,
            "ticks": "",
            "zerolinecolor": "white"
           },
           "yaxis": {
            "backgroundcolor": "#E5ECF6",
            "gridcolor": "white",
            "gridwidth": 2,
            "linecolor": "white",
            "showbackground": true,
            "ticks": "",
            "zerolinecolor": "white"
           },
           "zaxis": {
            "backgroundcolor": "#E5ECF6",
            "gridcolor": "white",
            "gridwidth": 2,
            "linecolor": "white",
            "showbackground": true,
            "ticks": "",
            "zerolinecolor": "white"
           }
          },
          "shapedefaults": {
           "line": {
            "color": "#2a3f5f"
           }
          },
          "ternary": {
           "aaxis": {
            "gridcolor": "white",
            "linecolor": "white",
            "ticks": ""
           },
           "baxis": {
            "gridcolor": "white",
            "linecolor": "white",
            "ticks": ""
           },
           "bgcolor": "#E5ECF6",
           "caxis": {
            "gridcolor": "white",
            "linecolor": "white",
            "ticks": ""
           }
          },
          "title": {
           "x": 0.05
          },
          "xaxis": {
           "automargin": true,
           "gridcolor": "white",
           "linecolor": "white",
           "ticks": "",
           "title": {
            "standoff": 15
           },
           "zerolinecolor": "white",
           "zerolinewidth": 2
          },
          "yaxis": {
           "automargin": true,
           "gridcolor": "white",
           "linecolor": "white",
           "ticks": "",
           "title": {
            "standoff": 15
           },
           "zerolinecolor": "white",
           "zerolinewidth": 2
          }
         }
        },
        "title": {
         "text": "Top 10 keywords"
        },
        "xaxis": {
         "anchor": "y",
         "domain": [
          0,
          1
         ],
         "title": {
          "text": "Frequency"
         }
        },
        "yaxis": {
         "anchor": "x",
         "domain": [
          0,
          1
         ],
         "title": {
          "text": "Keywords"
         }
        }
       }
      }
     },
     "metadata": {},
     "output_type": "display_data"
    },
    {
     "data": {
      "application/vnd.plotly.v1+json": {
       "config": {
        "plotlyServerURL": "https://plot.ly"
       },
       "data": [
        {
         "hovertemplate": "variable=GPT<br>Year=%{x}<br>Frequency=%{y}<extra></extra>",
         "legendgroup": "GPT",
         "line": {
          "color": "#636efa",
          "dash": "solid"
         },
         "marker": {
          "symbol": "circle"
         },
         "mode": "markers+lines",
         "name": "GPT",
         "orientation": "v",
         "showlegend": true,
         "type": "scatter",
         "x": [
          2013,
          2014,
          2015,
          2016,
          2017,
          2018,
          2019,
          2020,
          2021,
          2022,
          2023
         ],
         "xaxis": "x",
         "y": [
          0,
          0,
          0,
          0,
          0,
          0,
          1,
          1,
          3,
          9,
          179
         ],
         "yaxis": "y"
        },
        {
         "hovertemplate": "variable=tensorflow<br>Year=%{x}<br>Frequency=%{y}<extra></extra>",
         "legendgroup": "tensorflow",
         "line": {
          "color": "#EF553B",
          "dash": "solid"
         },
         "marker": {
          "symbol": "circle"
         },
         "mode": "markers+lines",
         "name": "tensorflow",
         "orientation": "v",
         "showlegend": true,
         "type": "scatter",
         "x": [
          2013,
          2014,
          2015,
          2016,
          2017,
          2018,
          2019,
          2020,
          2021,
          2022,
          2023
         ],
         "xaxis": "x",
         "y": [
          0,
          0,
          0,
          13,
          7,
          16,
          4,
          29,
          18,
          1,
          0
         ],
         "yaxis": "y"
        },
        {
         "hovertemplate": "variable=neural networks<br>Year=%{x}<br>Frequency=%{y}<extra></extra>",
         "legendgroup": "neural networks",
         "line": {
          "color": "#00cc96",
          "dash": "solid"
         },
         "marker": {
          "symbol": "circle"
         },
         "mode": "markers+lines",
         "name": "neural networks",
         "orientation": "v",
         "showlegend": true,
         "type": "scatter",
         "x": [
          2013,
          2014,
          2015,
          2016,
          2017,
          2018,
          2019,
          2020,
          2021,
          2022,
          2023
         ],
         "xaxis": "x",
         "y": [
          0,
          0,
          0,
          12,
          4,
          9,
          13,
          15,
          12,
          7,
          5
         ],
         "yaxis": "y"
        },
        {
         "hovertemplate": "variable=classification<br>Year=%{x}<br>Frequency=%{y}<extra></extra>",
         "legendgroup": "classification",
         "line": {
          "color": "#ab63fa",
          "dash": "solid"
         },
         "marker": {
          "symbol": "circle"
         },
         "mode": "markers+lines",
         "name": "classification",
         "orientation": "v",
         "showlegend": true,
         "type": "scatter",
         "x": [
          2013,
          2014,
          2015,
          2016,
          2017,
          2018,
          2019,
          2020,
          2021,
          2022,
          2023
         ],
         "xaxis": "x",
         "y": [
          0,
          0,
          1,
          2,
          1,
          1,
          8,
          31,
          13,
          4,
          1
         ],
         "yaxis": "y"
        },
        {
         "hovertemplate": "variable=pandas<br>Year=%{x}<br>Frequency=%{y}<extra></extra>",
         "legendgroup": "pandas",
         "line": {
          "color": "#FFA15A",
          "dash": "solid"
         },
         "marker": {
          "symbol": "circle"
         },
         "mode": "markers+lines",
         "name": "pandas",
         "orientation": "v",
         "showlegend": true,
         "type": "scatter",
         "x": [
          2013,
          2014,
          2015,
          2016,
          2017,
          2018,
          2019,
          2020,
          2021,
          2022,
          2023
         ],
         "xaxis": "x",
         "y": [
          0,
          1,
          3,
          0,
          14,
          1,
          7,
          20,
          4,
          4,
          2
         ],
         "yaxis": "y"
        }
       ],
       "layout": {
        "legend": {
         "title": {
          "text": "variable"
         },
         "tracegroupgap": 0
        },
        "template": {
         "data": {
          "bar": [
           {
            "error_x": {
             "color": "#2a3f5f"
            },
            "error_y": {
             "color": "#2a3f5f"
            },
            "marker": {
             "line": {
              "color": "#E5ECF6",
              "width": 0.5
             },
             "pattern": {
              "fillmode": "overlay",
              "size": 10,
              "solidity": 0.2
             }
            },
            "type": "bar"
           }
          ],
          "barpolar": [
           {
            "marker": {
             "line": {
              "color": "#E5ECF6",
              "width": 0.5
             },
             "pattern": {
              "fillmode": "overlay",
              "size": 10,
              "solidity": 0.2
             }
            },
            "type": "barpolar"
           }
          ],
          "carpet": [
           {
            "aaxis": {
             "endlinecolor": "#2a3f5f",
             "gridcolor": "white",
             "linecolor": "white",
             "minorgridcolor": "white",
             "startlinecolor": "#2a3f5f"
            },
            "baxis": {
             "endlinecolor": "#2a3f5f",
             "gridcolor": "white",
             "linecolor": "white",
             "minorgridcolor": "white",
             "startlinecolor": "#2a3f5f"
            },
            "type": "carpet"
           }
          ],
          "choropleth": [
           {
            "colorbar": {
             "outlinewidth": 0,
             "ticks": ""
            },
            "type": "choropleth"
           }
          ],
          "contour": [
           {
            "colorbar": {
             "outlinewidth": 0,
             "ticks": ""
            },
            "colorscale": [
             [
              0,
              "#0d0887"
             ],
             [
              0.1111111111111111,
              "#46039f"
             ],
             [
              0.2222222222222222,
              "#7201a8"
             ],
             [
              0.3333333333333333,
              "#9c179e"
             ],
             [
              0.4444444444444444,
              "#bd3786"
             ],
             [
              0.5555555555555556,
              "#d8576b"
             ],
             [
              0.6666666666666666,
              "#ed7953"
             ],
             [
              0.7777777777777778,
              "#fb9f3a"
             ],
             [
              0.8888888888888888,
              "#fdca26"
             ],
             [
              1,
              "#f0f921"
             ]
            ],
            "type": "contour"
           }
          ],
          "contourcarpet": [
           {
            "colorbar": {
             "outlinewidth": 0,
             "ticks": ""
            },
            "type": "contourcarpet"
           }
          ],
          "heatmap": [
           {
            "colorbar": {
             "outlinewidth": 0,
             "ticks": ""
            },
            "colorscale": [
             [
              0,
              "#0d0887"
             ],
             [
              0.1111111111111111,
              "#46039f"
             ],
             [
              0.2222222222222222,
              "#7201a8"
             ],
             [
              0.3333333333333333,
              "#9c179e"
             ],
             [
              0.4444444444444444,
              "#bd3786"
             ],
             [
              0.5555555555555556,
              "#d8576b"
             ],
             [
              0.6666666666666666,
              "#ed7953"
             ],
             [
              0.7777777777777778,
              "#fb9f3a"
             ],
             [
              0.8888888888888888,
              "#fdca26"
             ],
             [
              1,
              "#f0f921"
             ]
            ],
            "type": "heatmap"
           }
          ],
          "heatmapgl": [
           {
            "colorbar": {
             "outlinewidth": 0,
             "ticks": ""
            },
            "colorscale": [
             [
              0,
              "#0d0887"
             ],
             [
              0.1111111111111111,
              "#46039f"
             ],
             [
              0.2222222222222222,
              "#7201a8"
             ],
             [
              0.3333333333333333,
              "#9c179e"
             ],
             [
              0.4444444444444444,
              "#bd3786"
             ],
             [
              0.5555555555555556,
              "#d8576b"
             ],
             [
              0.6666666666666666,
              "#ed7953"
             ],
             [
              0.7777777777777778,
              "#fb9f3a"
             ],
             [
              0.8888888888888888,
              "#fdca26"
             ],
             [
              1,
              "#f0f921"
             ]
            ],
            "type": "heatmapgl"
           }
          ],
          "histogram": [
           {
            "marker": {
             "pattern": {
              "fillmode": "overlay",
              "size": 10,
              "solidity": 0.2
             }
            },
            "type": "histogram"
           }
          ],
          "histogram2d": [
           {
            "colorbar": {
             "outlinewidth": 0,
             "ticks": ""
            },
            "colorscale": [
             [
              0,
              "#0d0887"
             ],
             [
              0.1111111111111111,
              "#46039f"
             ],
             [
              0.2222222222222222,
              "#7201a8"
             ],
             [
              0.3333333333333333,
              "#9c179e"
             ],
             [
              0.4444444444444444,
              "#bd3786"
             ],
             [
              0.5555555555555556,
              "#d8576b"
             ],
             [
              0.6666666666666666,
              "#ed7953"
             ],
             [
              0.7777777777777778,
              "#fb9f3a"
             ],
             [
              0.8888888888888888,
              "#fdca26"
             ],
             [
              1,
              "#f0f921"
             ]
            ],
            "type": "histogram2d"
           }
          ],
          "histogram2dcontour": [
           {
            "colorbar": {
             "outlinewidth": 0,
             "ticks": ""
            },
            "colorscale": [
             [
              0,
              "#0d0887"
             ],
             [
              0.1111111111111111,
              "#46039f"
             ],
             [
              0.2222222222222222,
              "#7201a8"
             ],
             [
              0.3333333333333333,
              "#9c179e"
             ],
             [
              0.4444444444444444,
              "#bd3786"
             ],
             [
              0.5555555555555556,
              "#d8576b"
             ],
             [
              0.6666666666666666,
              "#ed7953"
             ],
             [
              0.7777777777777778,
              "#fb9f3a"
             ],
             [
              0.8888888888888888,
              "#fdca26"
             ],
             [
              1,
              "#f0f921"
             ]
            ],
            "type": "histogram2dcontour"
           }
          ],
          "mesh3d": [
           {
            "colorbar": {
             "outlinewidth": 0,
             "ticks": ""
            },
            "type": "mesh3d"
           }
          ],
          "parcoords": [
           {
            "line": {
             "colorbar": {
              "outlinewidth": 0,
              "ticks": ""
             }
            },
            "type": "parcoords"
           }
          ],
          "pie": [
           {
            "automargin": true,
            "type": "pie"
           }
          ],
          "scatter": [
           {
            "fillpattern": {
             "fillmode": "overlay",
             "size": 10,
             "solidity": 0.2
            },
            "type": "scatter"
           }
          ],
          "scatter3d": [
           {
            "line": {
             "colorbar": {
              "outlinewidth": 0,
              "ticks": ""
             }
            },
            "marker": {
             "colorbar": {
              "outlinewidth": 0,
              "ticks": ""
             }
            },
            "type": "scatter3d"
           }
          ],
          "scattercarpet": [
           {
            "marker": {
             "colorbar": {
              "outlinewidth": 0,
              "ticks": ""
             }
            },
            "type": "scattercarpet"
           }
          ],
          "scattergeo": [
           {
            "marker": {
             "colorbar": {
              "outlinewidth": 0,
              "ticks": ""
             }
            },
            "type": "scattergeo"
           }
          ],
          "scattergl": [
           {
            "marker": {
             "colorbar": {
              "outlinewidth": 0,
              "ticks": ""
             }
            },
            "type": "scattergl"
           }
          ],
          "scattermapbox": [
           {
            "marker": {
             "colorbar": {
              "outlinewidth": 0,
              "ticks": ""
             }
            },
            "type": "scattermapbox"
           }
          ],
          "scatterpolar": [
           {
            "marker": {
             "colorbar": {
              "outlinewidth": 0,
              "ticks": ""
             }
            },
            "type": "scatterpolar"
           }
          ],
          "scatterpolargl": [
           {
            "marker": {
             "colorbar": {
              "outlinewidth": 0,
              "ticks": ""
             }
            },
            "type": "scatterpolargl"
           }
          ],
          "scatterternary": [
           {
            "marker": {
             "colorbar": {
              "outlinewidth": 0,
              "ticks": ""
             }
            },
            "type": "scatterternary"
           }
          ],
          "surface": [
           {
            "colorbar": {
             "outlinewidth": 0,
             "ticks": ""
            },
            "colorscale": [
             [
              0,
              "#0d0887"
             ],
             [
              0.1111111111111111,
              "#46039f"
             ],
             [
              0.2222222222222222,
              "#7201a8"
             ],
             [
              0.3333333333333333,
              "#9c179e"
             ],
             [
              0.4444444444444444,
              "#bd3786"
             ],
             [
              0.5555555555555556,
              "#d8576b"
             ],
             [
              0.6666666666666666,
              "#ed7953"
             ],
             [
              0.7777777777777778,
              "#fb9f3a"
             ],
             [
              0.8888888888888888,
              "#fdca26"
             ],
             [
              1,
              "#f0f921"
             ]
            ],
            "type": "surface"
           }
          ],
          "table": [
           {
            "cells": {
             "fill": {
              "color": "#EBF0F8"
             },
             "line": {
              "color": "white"
             }
            },
            "header": {
             "fill": {
              "color": "#C8D4E3"
             },
             "line": {
              "color": "white"
             }
            },
            "type": "table"
           }
          ]
         },
         "layout": {
          "annotationdefaults": {
           "arrowcolor": "#2a3f5f",
           "arrowhead": 0,
           "arrowwidth": 1
          },
          "autotypenumbers": "strict",
          "coloraxis": {
           "colorbar": {
            "outlinewidth": 0,
            "ticks": ""
           }
          },
          "colorscale": {
           "diverging": [
            [
             0,
             "#8e0152"
            ],
            [
             0.1,
             "#c51b7d"
            ],
            [
             0.2,
             "#de77ae"
            ],
            [
             0.3,
             "#f1b6da"
            ],
            [
             0.4,
             "#fde0ef"
            ],
            [
             0.5,
             "#f7f7f7"
            ],
            [
             0.6,
             "#e6f5d0"
            ],
            [
             0.7,
             "#b8e186"
            ],
            [
             0.8,
             "#7fbc41"
            ],
            [
             0.9,
             "#4d9221"
            ],
            [
             1,
             "#276419"
            ]
           ],
           "sequential": [
            [
             0,
             "#0d0887"
            ],
            [
             0.1111111111111111,
             "#46039f"
            ],
            [
             0.2222222222222222,
             "#7201a8"
            ],
            [
             0.3333333333333333,
             "#9c179e"
            ],
            [
             0.4444444444444444,
             "#bd3786"
            ],
            [
             0.5555555555555556,
             "#d8576b"
            ],
            [
             0.6666666666666666,
             "#ed7953"
            ],
            [
             0.7777777777777778,
             "#fb9f3a"
            ],
            [
             0.8888888888888888,
             "#fdca26"
            ],
            [
             1,
             "#f0f921"
            ]
           ],
           "sequentialminus": [
            [
             0,
             "#0d0887"
            ],
            [
             0.1111111111111111,
             "#46039f"
            ],
            [
             0.2222222222222222,
             "#7201a8"
            ],
            [
             0.3333333333333333,
             "#9c179e"
            ],
            [
             0.4444444444444444,
             "#bd3786"
            ],
            [
             0.5555555555555556,
             "#d8576b"
            ],
            [
             0.6666666666666666,
             "#ed7953"
            ],
            [
             0.7777777777777778,
             "#fb9f3a"
            ],
            [
             0.8888888888888888,
             "#fdca26"
            ],
            [
             1,
             "#f0f921"
            ]
           ]
          },
          "colorway": [
           "#636efa",
           "#EF553B",
           "#00cc96",
           "#ab63fa",
           "#FFA15A",
           "#19d3f3",
           "#FF6692",
           "#B6E880",
           "#FF97FF",
           "#FECB52"
          ],
          "font": {
           "color": "#2a3f5f"
          },
          "geo": {
           "bgcolor": "white",
           "lakecolor": "white",
           "landcolor": "#E5ECF6",
           "showlakes": true,
           "showland": true,
           "subunitcolor": "white"
          },
          "hoverlabel": {
           "align": "left"
          },
          "hovermode": "closest",
          "mapbox": {
           "style": "light"
          },
          "paper_bgcolor": "white",
          "plot_bgcolor": "#E5ECF6",
          "polar": {
           "angularaxis": {
            "gridcolor": "white",
            "linecolor": "white",
            "ticks": ""
           },
           "bgcolor": "#E5ECF6",
           "radialaxis": {
            "gridcolor": "white",
            "linecolor": "white",
            "ticks": ""
           }
          },
          "scene": {
           "xaxis": {
            "backgroundcolor": "#E5ECF6",
            "gridcolor": "white",
            "gridwidth": 2,
            "linecolor": "white",
            "showbackground": true,
            "ticks": "",
            "zerolinecolor": "white"
           },
           "yaxis": {
            "backgroundcolor": "#E5ECF6",
            "gridcolor": "white",
            "gridwidth": 2,
            "linecolor": "white",
            "showbackground": true,
            "ticks": "",
            "zerolinecolor": "white"
           },
           "zaxis": {
            "backgroundcolor": "#E5ECF6",
            "gridcolor": "white",
            "gridwidth": 2,
            "linecolor": "white",
            "showbackground": true,
            "ticks": "",
            "zerolinecolor": "white"
           }
          },
          "shapedefaults": {
           "line": {
            "color": "#2a3f5f"
           }
          },
          "ternary": {
           "aaxis": {
            "gridcolor": "white",
            "linecolor": "white",
            "ticks": ""
           },
           "baxis": {
            "gridcolor": "white",
            "linecolor": "white",
            "ticks": ""
           },
           "bgcolor": "#E5ECF6",
           "caxis": {
            "gridcolor": "white",
            "linecolor": "white",
            "ticks": ""
           }
          },
          "title": {
           "x": 0.05
          },
          "xaxis": {
           "automargin": true,
           "gridcolor": "white",
           "linecolor": "white",
           "ticks": "",
           "title": {
            "standoff": 15
           },
           "zerolinecolor": "white",
           "zerolinewidth": 2
          },
          "yaxis": {
           "automargin": true,
           "gridcolor": "white",
           "linecolor": "white",
           "ticks": "",
           "title": {
            "standoff": 15
           },
           "zerolinecolor": "white",
           "zerolinewidth": 2
          }
         }
        },
        "title": {
         "text": "Frequency of top 5 keywords in each year"
        },
        "xaxis": {
         "anchor": "y",
         "domain": [
          0,
          1
         ],
         "title": {
          "text": "Year"
         }
        },
        "yaxis": {
         "anchor": "x",
         "domain": [
          0,
          1
         ],
         "title": {
          "text": "Frequency"
         }
        }
       }
      }
     },
     "metadata": {},
     "output_type": "display_data"
    }
   ],
   "source": [
    "import plotly.express as px\n",
    "#Illustrate the frequency of keywords in each year of top 10 keywords and bar chart of top 10 keywords\n",
    "fig = px.bar(x=keywords_freq_df.sum(axis=1).sort_values(ascending=False).values[:10],\n",
    "             y=top_10_keywords,orientation='h',title='Top 10 keywords',\n",
    "             labels={'x':'Frequency','y':'Keywords'})\n",
    "\n",
    "fig.show()\n",
    "#Transpose the dataframe to plot\n",
    "keywords_freq_df_transpose = keywords_freq_df.T\n",
    "fig=px.line(keywords_freq_df_transpose,x=keywords_freq_df_transpose.index,y=top_5_keywords,markers=True\n",
    "            ,title='Frequency of top 5 keywords in each year',labels={'index':'Year','value':'Frequency'})\n",
    "fig.show()"
   ]
  },
  {
   "cell_type": "markdown",
   "metadata": {},
   "source": [
    "##### Answers questions 1:\n",
    "- Regarding frequently used keyword questions:\n",
    "    - In general, the most used keywords are related to machine learning or deep learning (tensorflow, neural networks) and python libraries supporting the field of AI and data.\n",
    "    - Details `GPT` is the most used keyword with nearly (200 appearances in video titles) even though it only appeared recently. From there we can see that `GPT` has influenced the technology world in general very much. big.\n",
    "- Regarding \"How has the usage level of each **hot** keyword changed over the years ?\"\n",
    "    - Among the 5 hot keywords, most of them are constantly fluctuating. However, in 2020, each keyword will increase in frequency appearing in headlines.We can simply explain that due to the impact of the covid-19 epidemic, many people stay at home so they have more time to watch Youtube.\n",
    "    - GPT has a rapid growth rate in 2023 (from about 9 times in 2022 to 180 times in 2023 ).With current strong investment, in the future GPT can still keep the top keywords appearing on Youtube.\n"
   ]
  },
  {
   "cell_type": "markdown",
   "metadata": {},
   "source": [
    "**Question 02**:How does the channel attract viewers? (Analyzes based on:)\n",
    "- How often do videos come out?\n",
    "- Is the topic often included in the top trend list?\n",
    "- Are the videos in the same group as some other videos (number of playlists)?\n",
    "- How the channel owner interacts with viewers (how often do you reply to comments?)"
   ]
  },
  {
   "cell_type": "code",
   "execution_count": 33,
   "metadata": {},
   "outputs": [
    {
     "data": {
      "text/plain": [
       "1.0    85243\n",
       "2.0    25166\n",
       "Name: Type, dtype: int64"
      ]
     },
     "execution_count": 33,
     "metadata": {},
     "output_type": "execute_result"
    }
   ],
   "source": [
    "cleaned_comments_df['Type'].value_counts()"
   ]
  },
  {
   "cell_type": "code",
   "execution_count": 34,
   "metadata": {},
   "outputs": [],
   "source": [
    "def create_dataframe_title_contains_top_keywords(df_videos: pd.DataFrame, top_keywords: list) ->pd.DataFrame:\n",
    "\n",
    "    #Lowercase the keywords\n",
    "    top_keywords_lower = [keyword.lower() for keyword in top_keywords]\n",
    "\n",
    "    #Count the number of keywords in the title\n",
    "    def count_keywords_in_title(title):\n",
    "        return sum(keyword in title.lower() for keyword in top_keywords_lower)\n",
    "\n",
    "    df_videos['keywords_count'] = df_videos['title'].apply(count_keywords_in_title)\n",
    "\n",
    "    #Caclulate the total number of keywords in each channel\n",
    "    filtered_df = df_videos.groupby('channelTitle')['keywords_count'].sum()\n",
    "\n",
    "    filtered_df = pd.DataFrame(filtered_df).reset_index()\n",
    "    filtered_df.columns = ['channelTitle', 'keywords_count']\n",
    "    return filtered_df\n",
    "\n",
    "#Calculate the frequency up video (number of videos per day)\n",
    "def Create_DataFrame_Up_Frequency(cleaned_videos_df:pd.DataFrame)->pd.DataFrame:\n",
    "    #\n",
    "    list_channel=cleaned_videos_df['channelTitle'].unique()\n",
    "    dict_frequency={}\n",
    "    for channel in list_channel:\n",
    "        earliest_up=cleaned_videos_df[cleaned_videos_df['channelTitle']==channel]['published'].min()\n",
    "        latest_up=cleaned_videos_df[cleaned_videos_df['channelTitle']==channel]['published'].max()\n",
    "        delta_time=latest_up-earliest_up\n",
    "\n",
    "        #Number of videos\n",
    "        num_videos=cleaned_videos_df[cleaned_videos_df['channelTitle']==channel].shape[0]\n",
    "        #Frequency\n",
    "        frequency=round(num_videos/delta_time.days,2)\n",
    "        dict_frequency[channel]=frequency\n",
    "    \n",
    "    df_frequency_up_video=pd.DataFrame(dict_frequency.items(),columns=['channelTitle','Frequency'])\n",
    "    return df_frequency_up_video\n",
    "\n",
    "#Calculate the interaction between creators with viewer (number of comments that creator reply)\n",
    "def Create_DataFrame_Interaction(cleaned_comments_df:pd.DataFrame,cleaned_videos_df)->pd.Series:\n",
    "    #Merge cleaned_comments_df with cleaned_videos_df to get channelTitle\n",
    "    cmt_with_channel=pd.merge(cleaned_comments_df,cleaned_videos_df[['video_id','channelTitle']],on='video_id')\n",
    "    list_channel=cleaned_videos_df['channelTitle'].unique()\n",
    "    dict_interaction={}\n",
    "\n",
    "    #Load json file to get the channel name\n",
    "    channel_name=None\n",
    "    with open('../data/external/Channel_IndentifialName.json','r') as f:\n",
    "        channel_name=json.load(f)\n",
    "\n",
    "    #Get the interaction\n",
    "    for channel in list_channel:\n",
    "        #Interaction\n",
    "        channel_df=cmt_with_channel[cmt_with_channel['channelTitle']==channel]\n",
    "        dict_interaction[channel]=0\n",
    "        for row_index,row in channel_df.iterrows():\n",
    "\n",
    "            #Check if the comment is reply and the author is the channel\n",
    "            if row['author'] is not np.nan and row['Type']==2.0:\n",
    "                if row['author']==channel_name[channel]:\n",
    "                    dict_interaction[channel]+=1\n",
    "    df_interaction=pd.DataFrame(dict_interaction.items(),columns=['channelTitle','Interaction'])\n",
    "    return df_interaction\n",
    "\n",
    "#Calculate the ratio of view and like in each channel since the first video up\n",
    "def Create_DataFrame_Ratio_View_Like(cleaned_videos_df:pd.DataFrame)->pd.DataFrame:\n",
    "\n",
    "    list_channel=cleaned_videos_df['channelTitle'].unique()\n",
    "    df_ratio=pd.DataFrame(columns=['channelTitle','view_ratio','like_ratio'])\n",
    "    for channel in list_channel:\n",
    "\n",
    "        channel_df=cleaned_videos_df[cleaned_videos_df['channelTitle']==channel]\n",
    "\n",
    "        #Time since the first video up\n",
    "        erliest_up=channel_df['published'].min()\n",
    "        #Time since the latest video up\n",
    "        latest_up=channel_df['published'].max()\n",
    "        #Time delta\n",
    "        delta_time=latest_up-erliest_up\n",
    "    \n",
    "        view_ratio=round(channel_df['view_count'].sum()/delta_time.days,2)\n",
    "\n",
    "        like_ratio=round(channel_df['like_count'].sum()/delta_time.days,2)\n",
    "        df_ratio=df_ratio.append({'channelTitle':channel,\n",
    "                                  'view_ratio':view_ratio,\n",
    "                                  'like_ratio':like_ratio},ignore_index=True)\n",
    "    return df_ratio\n",
    "        \n",
    "    \n",
    "def CreateDataFrameForQuestion2(cleaned_comments_df,cleaned_videos_df,list_top_keywords):\n",
    "\n",
    "    #Caculate title contains top keywords\n",
    "    df_contain_top_keywords=create_dataframe_title_contains_top_keywords(cleaned_videos_df,list_top_keywords)\n",
    "\n",
    "    #Calculate the frequency up video.\n",
    "    df_frequency_up_video=Create_DataFrame_Up_Frequency(cleaned_videos_df)\n",
    "\n",
    "    #Calculate the interaction between creators with viewer\n",
    "    df_interaction=Create_DataFrame_Interaction(cleaned_comments_df,cleaned_videos_df)\n",
    "\n",
    "    #Merge two dataframe\n",
    "    df_frequency_interaction=pd.merge(df_frequency_up_video,df_interaction,on='channelTitle')\n",
    "\n",
    "    #Merge with df_contain_top_keywords\n",
    "    df_frequency_interaction=pd.merge(df_frequency_interaction,df_contain_top_keywords,on='channelTitle')\n",
    "\n",
    "    #Add total view and total like\n",
    "    df_total_view_like=Create_DataFrame_Ratio_View_Like(cleaned_videos_df)\n",
    "    df_frequency_interaction=pd.merge(df_frequency_interaction,df_total_view_like,on='channelTitle')\n",
    "\n",
    "    return df_frequency_interaction"
   ]
  },
  {
   "cell_type": "code",
   "execution_count": 35,
   "metadata": {},
   "outputs": [
    {
     "data": {
      "text/html": [
       "<div>\n",
       "<style scoped>\n",
       "    .dataframe tbody tr th:only-of-type {\n",
       "        vertical-align: middle;\n",
       "    }\n",
       "\n",
       "    .dataframe tbody tr th {\n",
       "        vertical-align: top;\n",
       "    }\n",
       "\n",
       "    .dataframe thead th {\n",
       "        text-align: right;\n",
       "    }\n",
       "</style>\n",
       "<table border=\"1\" class=\"dataframe\">\n",
       "  <thead>\n",
       "    <tr style=\"text-align: right;\">\n",
       "      <th></th>\n",
       "      <th>channelTitle</th>\n",
       "      <th>Frequency</th>\n",
       "      <th>Interaction</th>\n",
       "      <th>keywords_count</th>\n",
       "      <th>view_ratio</th>\n",
       "      <th>like_ratio</th>\n",
       "    </tr>\n",
       "  </thead>\n",
       "  <tbody>\n",
       "    <tr>\n",
       "      <th>0</th>\n",
       "      <td>DeepLearningAI</td>\n",
       "      <td>0.14</td>\n",
       "      <td>5</td>\n",
       "      <td>16</td>\n",
       "      <td>4900.88</td>\n",
       "      <td>56.77</td>\n",
       "    </tr>\n",
       "    <tr>\n",
       "      <th>1</th>\n",
       "      <td>3Blue1Brown</td>\n",
       "      <td>0.05</td>\n",
       "      <td>17</td>\n",
       "      <td>1</td>\n",
       "      <td>130766.87</td>\n",
       "      <td>3665.27</td>\n",
       "    </tr>\n",
       "    <tr>\n",
       "      <th>2</th>\n",
       "      <td>Joma Tech</td>\n",
       "      <td>0.05</td>\n",
       "      <td>10</td>\n",
       "      <td>1</td>\n",
       "      <td>90926.24</td>\n",
       "      <td>3296.62</td>\n",
       "    </tr>\n",
       "    <tr>\n",
       "      <th>3</th>\n",
       "      <td>DataCamp</td>\n",
       "      <td>0.15</td>\n",
       "      <td>3</td>\n",
       "      <td>39</td>\n",
       "      <td>4368.91</td>\n",
       "      <td>5.90</td>\n",
       "    </tr>\n",
       "    <tr>\n",
       "      <th>4</th>\n",
       "      <td>CS Dojo</td>\n",
       "      <td>0.04</td>\n",
       "      <td>15</td>\n",
       "      <td>3</td>\n",
       "      <td>31634.20</td>\n",
       "      <td>782.30</td>\n",
       "    </tr>\n",
       "    <tr>\n",
       "      <th>5</th>\n",
       "      <td>sentdex</td>\n",
       "      <td>0.13</td>\n",
       "      <td>283</td>\n",
       "      <td>159</td>\n",
       "      <td>15661.78</td>\n",
       "      <td>220.51</td>\n",
       "    </tr>\n",
       "    <tr>\n",
       "      <th>6</th>\n",
       "      <td>StatQuest with Josh Starmer</td>\n",
       "      <td>0.08</td>\n",
       "      <td>1208</td>\n",
       "      <td>49</td>\n",
       "      <td>16618.40</td>\n",
       "      <td>366.67</td>\n",
       "    </tr>\n",
       "    <tr>\n",
       "      <th>7</th>\n",
       "      <td>Tech With Tim</td>\n",
       "      <td>0.19</td>\n",
       "      <td>70</td>\n",
       "      <td>11</td>\n",
       "      <td>32317.13</td>\n",
       "      <td>918.28</td>\n",
       "    </tr>\n",
       "    <tr>\n",
       "      <th>8</th>\n",
       "      <td>365 Data Science</td>\n",
       "      <td>0.10</td>\n",
       "      <td>255</td>\n",
       "      <td>9</td>\n",
       "      <td>5972.18</td>\n",
       "      <td>118.37</td>\n",
       "    </tr>\n",
       "    <tr>\n",
       "      <th>9</th>\n",
       "      <td>Data Professor</td>\n",
       "      <td>0.18</td>\n",
       "      <td>584</td>\n",
       "      <td>80</td>\n",
       "      <td>3231.88</td>\n",
       "      <td>81.35</td>\n",
       "    </tr>\n",
       "    <tr>\n",
       "      <th>10</th>\n",
       "      <td>Data Science Dojo</td>\n",
       "      <td>0.11</td>\n",
       "      <td>126</td>\n",
       "      <td>25</td>\n",
       "      <td>1451.23</td>\n",
       "      <td>21.63</td>\n",
       "    </tr>\n",
       "    <tr>\n",
       "      <th>11</th>\n",
       "      <td>codebasics</td>\n",
       "      <td>0.17</td>\n",
       "      <td>2715</td>\n",
       "      <td>128</td>\n",
       "      <td>16538.61</td>\n",
       "      <td>387.01</td>\n",
       "    </tr>\n",
       "    <tr>\n",
       "      <th>12</th>\n",
       "      <td>Two Minute Papers</td>\n",
       "      <td>0.14</td>\n",
       "      <td>110</td>\n",
       "      <td>28</td>\n",
       "      <td>31342.99</td>\n",
       "      <td>1302.64</td>\n",
       "    </tr>\n",
       "    <tr>\n",
       "      <th>13</th>\n",
       "      <td>TheAiGrid</td>\n",
       "      <td>0.45</td>\n",
       "      <td>74</td>\n",
       "      <td>56</td>\n",
       "      <td>52135.92</td>\n",
       "      <td>721.66</td>\n",
       "    </tr>\n",
       "    <tr>\n",
       "      <th>14</th>\n",
       "      <td>AI News</td>\n",
       "      <td>0.58</td>\n",
       "      <td>189</td>\n",
       "      <td>64</td>\n",
       "      <td>6827.09</td>\n",
       "      <td>124.35</td>\n",
       "    </tr>\n",
       "    <tr>\n",
       "      <th>15</th>\n",
       "      <td>Abhishek Thakur</td>\n",
       "      <td>0.11</td>\n",
       "      <td>739</td>\n",
       "      <td>14</td>\n",
       "      <td>2052.44</td>\n",
       "      <td>58.33</td>\n",
       "    </tr>\n",
       "    <tr>\n",
       "      <th>16</th>\n",
       "      <td>IBM Technology</td>\n",
       "      <td>0.16</td>\n",
       "      <td>604</td>\n",
       "      <td>3</td>\n",
       "      <td>6983.16</td>\n",
       "      <td>171.86</td>\n",
       "    </tr>\n",
       "    <tr>\n",
       "      <th>17</th>\n",
       "      <td>PRO ROBOTS</td>\n",
       "      <td>0.13</td>\n",
       "      <td>124</td>\n",
       "      <td>14</td>\n",
       "      <td>13094.28</td>\n",
       "      <td>225.41</td>\n",
       "    </tr>\n",
       "  </tbody>\n",
       "</table>\n",
       "</div>"
      ],
      "text/plain": [
       "                   channelTitle  Frequency  Interaction  keywords_count  \\\n",
       "0                DeepLearningAI       0.14            5              16   \n",
       "1                   3Blue1Brown       0.05           17               1   \n",
       "2                     Joma Tech       0.05           10               1   \n",
       "3                      DataCamp       0.15            3              39   \n",
       "4                       CS Dojo       0.04           15               3   \n",
       "5                       sentdex       0.13          283             159   \n",
       "6   StatQuest with Josh Starmer       0.08         1208              49   \n",
       "7                 Tech With Tim       0.19           70              11   \n",
       "8              365 Data Science       0.10          255               9   \n",
       "9                Data Professor       0.18          584              80   \n",
       "10            Data Science Dojo       0.11          126              25   \n",
       "11                   codebasics       0.17         2715             128   \n",
       "12            Two Minute Papers       0.14          110              28   \n",
       "13                    TheAiGrid       0.45           74              56   \n",
       "14                      AI News       0.58          189              64   \n",
       "15              Abhishek Thakur       0.11          739              14   \n",
       "16               IBM Technology       0.16          604               3   \n",
       "17                   PRO ROBOTS       0.13          124              14   \n",
       "\n",
       "    view_ratio  like_ratio  \n",
       "0      4900.88       56.77  \n",
       "1    130766.87     3665.27  \n",
       "2     90926.24     3296.62  \n",
       "3      4368.91        5.90  \n",
       "4     31634.20      782.30  \n",
       "5     15661.78      220.51  \n",
       "6     16618.40      366.67  \n",
       "7     32317.13      918.28  \n",
       "8      5972.18      118.37  \n",
       "9      3231.88       81.35  \n",
       "10     1451.23       21.63  \n",
       "11    16538.61      387.01  \n",
       "12    31342.99     1302.64  \n",
       "13    52135.92      721.66  \n",
       "14     6827.09      124.35  \n",
       "15     2052.44       58.33  \n",
       "16     6983.16      171.86  \n",
       "17    13094.28      225.41  "
      ]
     },
     "execution_count": 35,
     "metadata": {},
     "output_type": "execute_result"
    }
   ],
   "source": [
    "#Choose top 30 keywords for question 2\n",
    "list_top_keywords=keywords_freq_df.sum(axis=1).sort_values(ascending=False).index.tolist()[:10]\n",
    "df_analysis_factor_affect=CreateDataFrameForQuestion2(cleaned_comments_df,cleaned_videos_df,list_top_keywords)\n",
    "df_analysis_factor_affect"
   ]
  },
  {
   "cell_type": "code",
   "execution_count": 36,
   "metadata": {},
   "outputs": [
    {
     "data": {
      "image/png": "[encoded data removed]",
      "text/plain": [
       "<Figure size 2000x1000 with 6 Axes>"
      ]
     },
     "metadata": {},
     "output_type": "display_data"
    }
   ],
   "source": [
    "\n",
    "fig,ax=plt.subplots(2,2,figsize=(20,10))\n",
    "\n",
    "list_factor=['Frequency','Interaction','keywords_count']\n",
    "title_factor=['Frequency Up Video','Interact With Viewer','Hot Keywords In Title']\n",
    "suitable_size=[5000,2,10]\n",
    "for i in range(2):\n",
    "    for j in range(2):\n",
    "        if i*2+j==3:\n",
    "            break\n",
    "        ax[i,j].set_xlabel('View Ratio')\n",
    "        ax[i,j].set_ylabel('Like Ratio')\n",
    "        ax[i,j].set_title(title_factor[i*2+j]+' Affect View Ratio and Like Ratio')\n",
    "        ax[i,j].scatter(df_analysis_factor_affect['view_ratio'], df_analysis_factor_affect['like_ratio'],\n",
    "                        s=[val*suitable_size[i*2+j] for val in df_analysis_factor_affect[list_factor[i*2+j]]], \n",
    "                        c=df_analysis_factor_affect[list_factor[i*2+j]], cmap='viridis', alpha=1)\n",
    "        plt.colorbar(ax[i,j].scatter(df_analysis_factor_affect['view_ratio'], df_analysis_factor_affect['like_ratio'],\n",
    "                                      s=[val*suitable_size[i*2+j] for val in df_analysis_factor_affect[list_factor[i*2+j]]], \n",
    "                                      c=df_analysis_factor_affect[list_factor[i*2+j]], cmap='viridis', alpha=1), ax=ax[i,j])\n",
    "        \n",
    "fig.delaxes(ax[1, 1])\n",
    "plt.show()"
   ]
  },
  {
   "cell_type": "markdown",
   "metadata": {},
   "source": [
    "- With video posting frequency:\n",
    "    - We can see that if we post videos with too much or too little frequency, we will not attract too many views and likes.\n",
    "    - However, some channels post very few videos but are leading in the ability to attract viewers. This proves that quality is still an important factor when creating creative content rather than quantity.\n",
    "- With the ability to interact with viewer.\n",
    "    - Similar to the comments above, if there is too little interaction, it will not attract many followers, but some channels are at the top in terms of views even though the interactions are very low.\n",
    "    - **Note**:However, this factor is only for reference, because the comment dataset only takes 50 comments for each video (youtube API quota limit), so the results may not be really accurate.\n",
    "- With the frequency of using hot keywords in the video title:\n",
    "    - Can be divided into 3 separate groups:\n",
    "        - Group 1: (group that uses less and doesn't get many views/likes)\n",
    "        - Group 2: (Group uses keywords at an average level): This group attracts a certain number of viewers but is not too prominent.\n",
    "        - Group 3:(Use few keywords but attract many viewers): This may still be the video quality that brought results for them."
   ]
  }
 ],
 "metadata": {
  "kernelspec": {
   "display_name": "min_ds-env",
   "language": "python",
   "name": "python3"
  },
  "language_info": {
   "codemirror_mode": {
    "name": "ipython",
    "version": 3
   },
   "file_extension": ".py",
   "mimetype": "text/x-python",
   "name": "python",
   "nbconvert_exporter": "python",
   "pygments_lexer": "ipython3",
   "version": "3.10.8"
  }
 },
 "nbformat": 4,
 "nbformat_minor": 2
}
