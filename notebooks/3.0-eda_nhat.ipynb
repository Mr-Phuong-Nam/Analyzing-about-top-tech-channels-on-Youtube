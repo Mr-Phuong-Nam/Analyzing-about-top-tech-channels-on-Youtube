{
 "cells": [
  {
   "cell_type": "markdown",
   "metadata": {},
   "source": [
    "<div style=\"text-align: center; background-color: #559cff; font-family: 'Trebuchet MS', Arial, sans-serif; color: white; padding: 20px; font-size: 40px; font-weight: bold; border-radius: 0 0 0 0; box-shadow: 0px 6px 8px rgba(0, 0, 0, 0.2);\">\n",
    "  Lab 02 - Introduction To Data Science @ FIT-HCMUS, VNU-HCM 📌\n",
    "</div>"
   ]
  },
  {
   "cell_type": "markdown",
   "metadata": {},
   "source": [
    "<div style=\"text-align: center; background-color: #b1d1ff; font-family: 'Trebuchet MS', Arial, sans-serif; color: white; padding: 20px; font-size: 40px; font-weight: bold; border-radius: 0 0 0 0; box-shadow: 0px 6px 8px rgba(0, 0, 0, 0.2);\">\n",
    "  Stage 3.0 - Exploratory data analysis\n",
    "</div>"
   ]
  },
  {
   "cell_type": "markdown",
   "metadata": {},
   "source": [
    "## Import"
   ]
  },
  {
   "cell_type": "code",
   "execution_count": 58,
   "metadata": {},
   "outputs": [],
   "source": [
    "import os\n",
    "import sys\n",
    "\n",
    "module_path = os.path.abspath(os.path.join('..'))\n",
    "if module_path not in sys.path:\n",
    "    sys.path.append(module_path)\n",
    "    \n",
    "import warnings\n",
    "warnings.filterwarnings('ignore')\n",
    "\n",
    "import numpy as np\n",
    "import pandas as pd\n",
    "import matplotlib.pyplot as plt\n",
    "%matplotlib inline\n",
    "\n",
    "\n",
    "# If you need other libraries, you can import them here\n",
    "import seaborn as sns\n",
    "# NLP libraries\n",
    "import nltk\n",
    "from nltk.corpus import stopwords\n",
    "from nltk.tokenize import word_tokenize\n",
    "# nltk.download('stopwords')\n",
    "# nltk.download('punkt')\n",
    "from wordcloud import WordCloud\n",
    "from nltk import pos_tag\n",
    "import spacy\n",
    "from collections import Counter\n",
    "import re"
   ]
  },
  {
   "cell_type": "code",
   "execution_count": 59,
   "metadata": {},
   "outputs": [
    {
     "name": "stderr",
     "output_type": "stream",
     "text": [
      "[nltk_data] Downloading package punkt to\n",
      "[nltk_data]     /Users/vobahoangnhat/nltk_data...\n",
      "[nltk_data]   Package punkt is already up-to-date!\n",
      "[nltk_data] Downloading package averaged_perceptron_tagger to\n",
      "[nltk_data]     /Users/vobahoangnhat/nltk_data...\n",
      "[nltk_data]   Package averaged_perceptron_tagger is already up-to-\n",
      "[nltk_data]       date!\n"
     ]
    }
   ],
   "source": [
    "nltk.download('punkt')\n",
    "nltk.download('averaged_perceptron_tagger')\n",
    "# Tải model ngôn ngữ tiếng Anh của spaCy\n",
    "nlp = spacy.load(\"en_core_web_sm\")"
   ]
  },
  {
   "cell_type": "markdown",
   "metadata": {},
   "source": [
    "## Exploring data"
   ]
  },
  {
   "cell_type": "markdown",
   "metadata": {},
   "source": [
    "### Read 2 cleaned data from file"
   ]
  },
  {
   "cell_type": "markdown",
   "metadata": {},
   "source": [
    "We can now use the cleaned dataset for analysis. Thus, we first read the CSV files we created in the previous pre-processing task."
   ]
  },
  {
   "cell_type": "code",
   "execution_count": 60,
   "metadata": {},
   "outputs": [],
   "source": [
    "# YOUR CODE HERE\n",
    "cleaned_videos_df=pd.read_csv('../data/processed/df_videos_processed.csv',lineterminator='\\n')\n",
    "cleaned_comments_df=pd.read_csv('../data/processed/df_comments_processed.csv',lineterminator='\\n')"
   ]
  },
  {
   "cell_type": "markdown",
   "metadata": {},
   "source": [
    "### Exploring general data"
   ]
  },
  {
   "cell_type": "markdown",
   "metadata": {},
   "source": [
    "#### Videos section"
   ]
  },
  {
   "cell_type": "code",
   "execution_count": 61,
   "metadata": {},
   "outputs": [
    {
     "data": {
      "text/html": [
       "<div>\n",
       "<style scoped>\n",
       "    .dataframe tbody tr th:only-of-type {\n",
       "        vertical-align: middle;\n",
       "    }\n",
       "\n",
       "    .dataframe tbody tr th {\n",
       "        vertical-align: top;\n",
       "    }\n",
       "\n",
       "    .dataframe thead th {\n",
       "        text-align: right;\n",
       "    }\n",
       "</style>\n",
       "<table border=\"1\" class=\"dataframe\">\n",
       "  <thead>\n",
       "    <tr style=\"text-align: right;\">\n",
       "      <th></th>\n",
       "      <th>video_id</th>\n",
       "      <th>title</th>\n",
       "      <th>published</th>\n",
       "      <th>view_count</th>\n",
       "      <th>like_count</th>\n",
       "      <th>comment_count</th>\n",
       "      <th>duration</th>\n",
       "      <th>definition</th>\n",
       "      <th>tags</th>\n",
       "      <th>default_audio_language</th>\n",
       "      <th>madeforkid</th>\n",
       "      <th>playlist_title</th>\n",
       "      <th>channelTitle</th>\n",
       "      <th>playlist_published</th>\n",
       "      <th>playlist_numvideo</th>\n",
       "    </tr>\n",
       "  </thead>\n",
       "  <tbody>\n",
       "    <tr>\n",
       "      <th>0</th>\n",
       "      <td>H_8ZVRRtiIA</td>\n",
       "      <td>#1 AI for Good Specialization [Course 1, Week ...</td>\n",
       "      <td>2023-11-17 21:49:15+00:00</td>\n",
       "      <td>1671</td>\n",
       "      <td>34.0</td>\n",
       "      <td>1.0</td>\n",
       "      <td>0 days 00:10:01</td>\n",
       "      <td>hd</td>\n",
       "      <td>NaN</td>\n",
       "      <td>en</td>\n",
       "      <td>False</td>\n",
       "      <td>AI for Good Specialization by DeepLearning.AI</td>\n",
       "      <td>DeepLearningAI</td>\n",
       "      <td>2023-07-20 17:01:28+00:00</td>\n",
       "      <td>37.0</td>\n",
       "    </tr>\n",
       "    <tr>\n",
       "      <th>1</th>\n",
       "      <td>bZwkaVnhEo4</td>\n",
       "      <td>#2 AI for Good Specialization [Course 1, Week ...</td>\n",
       "      <td>2023-07-27 16:54:21+00:00</td>\n",
       "      <td>1299</td>\n",
       "      <td>18.0</td>\n",
       "      <td>1.0</td>\n",
       "      <td>0 days 00:07:12</td>\n",
       "      <td>hd</td>\n",
       "      <td>NaN</td>\n",
       "      <td>en</td>\n",
       "      <td>False</td>\n",
       "      <td>AI for Good Specialization by DeepLearning.AI</td>\n",
       "      <td>DeepLearningAI</td>\n",
       "      <td>2023-07-20 17:01:28+00:00</td>\n",
       "      <td>37.0</td>\n",
       "    </tr>\n",
       "    <tr>\n",
       "      <th>2</th>\n",
       "      <td>hkOosfWxBK4</td>\n",
       "      <td>#3 AI for Good Specialization [Course 1, Week ...</td>\n",
       "      <td>2023-11-17 20:13:19+00:00</td>\n",
       "      <td>584</td>\n",
       "      <td>20.0</td>\n",
       "      <td>2.0</td>\n",
       "      <td>0 days 00:03:47</td>\n",
       "      <td>hd</td>\n",
       "      <td>NaN</td>\n",
       "      <td>en</td>\n",
       "      <td>False</td>\n",
       "      <td>AI for Good Specialization by DeepLearning.AI</td>\n",
       "      <td>DeepLearningAI</td>\n",
       "      <td>2023-07-20 17:01:28+00:00</td>\n",
       "      <td>37.0</td>\n",
       "    </tr>\n",
       "    <tr>\n",
       "      <th>3</th>\n",
       "      <td>OIavgUGg7mc</td>\n",
       "      <td>#4 AI for Good Specialization [Course 1, Week ...</td>\n",
       "      <td>2023-07-27 16:54:56+00:00</td>\n",
       "      <td>619</td>\n",
       "      <td>10.0</td>\n",
       "      <td>0.0</td>\n",
       "      <td>0 days 00:04:49</td>\n",
       "      <td>hd</td>\n",
       "      <td>NaN</td>\n",
       "      <td>en</td>\n",
       "      <td>False</td>\n",
       "      <td>AI for Good Specialization by DeepLearning.AI</td>\n",
       "      <td>DeepLearningAI</td>\n",
       "      <td>2023-07-20 17:01:28+00:00</td>\n",
       "      <td>37.0</td>\n",
       "    </tr>\n",
       "    <tr>\n",
       "      <th>4</th>\n",
       "      <td>eZZwySXsj-g</td>\n",
       "      <td>#5 AI for Good Specialization [Course 1, Week ...</td>\n",
       "      <td>2023-07-27 16:55:12+00:00</td>\n",
       "      <td>579</td>\n",
       "      <td>3.0</td>\n",
       "      <td>0.0</td>\n",
       "      <td>0 days 00:05:36</td>\n",
       "      <td>hd</td>\n",
       "      <td>NaN</td>\n",
       "      <td>en</td>\n",
       "      <td>False</td>\n",
       "      <td>AI for Good Specialization by DeepLearning.AI</td>\n",
       "      <td>DeepLearningAI</td>\n",
       "      <td>2023-07-20 17:01:28+00:00</td>\n",
       "      <td>37.0</td>\n",
       "    </tr>\n",
       "  </tbody>\n",
       "</table>\n",
       "</div>"
      ],
      "text/plain": [
       "      video_id                                              title  \\\n",
       "0  H_8ZVRRtiIA  #1 AI for Good Specialization [Course 1, Week ...   \n",
       "1  bZwkaVnhEo4  #2 AI for Good Specialization [Course 1, Week ...   \n",
       "2  hkOosfWxBK4  #3 AI for Good Specialization [Course 1, Week ...   \n",
       "3  OIavgUGg7mc  #4 AI for Good Specialization [Course 1, Week ...   \n",
       "4  eZZwySXsj-g  #5 AI for Good Specialization [Course 1, Week ...   \n",
       "\n",
       "                   published  view_count  like_count  comment_count  \\\n",
       "0  2023-11-17 21:49:15+00:00        1671        34.0            1.0   \n",
       "1  2023-07-27 16:54:21+00:00        1299        18.0            1.0   \n",
       "2  2023-11-17 20:13:19+00:00         584        20.0            2.0   \n",
       "3  2023-07-27 16:54:56+00:00         619        10.0            0.0   \n",
       "4  2023-07-27 16:55:12+00:00         579         3.0            0.0   \n",
       "\n",
       "          duration definition tags default_audio_language  madeforkid  \\\n",
       "0  0 days 00:10:01         hd  NaN                     en       False   \n",
       "1  0 days 00:07:12         hd  NaN                     en       False   \n",
       "2  0 days 00:03:47         hd  NaN                     en       False   \n",
       "3  0 days 00:04:49         hd  NaN                     en       False   \n",
       "4  0 days 00:05:36         hd  NaN                     en       False   \n",
       "\n",
       "                                  playlist_title    channelTitle  \\\n",
       "0  AI for Good Specialization by DeepLearning.AI  DeepLearningAI   \n",
       "1  AI for Good Specialization by DeepLearning.AI  DeepLearningAI   \n",
       "2  AI for Good Specialization by DeepLearning.AI  DeepLearningAI   \n",
       "3  AI for Good Specialization by DeepLearning.AI  DeepLearningAI   \n",
       "4  AI for Good Specialization by DeepLearning.AI  DeepLearningAI   \n",
       "\n",
       "          playlist_published  playlist_numvideo  \n",
       "0  2023-07-20 17:01:28+00:00               37.0  \n",
       "1  2023-07-20 17:01:28+00:00               37.0  \n",
       "2  2023-07-20 17:01:28+00:00               37.0  \n",
       "3  2023-07-20 17:01:28+00:00               37.0  \n",
       "4  2023-07-20 17:01:28+00:00               37.0  "
      ]
     },
     "execution_count": 61,
     "metadata": {},
     "output_type": "execute_result"
    }
   ],
   "source": [
    "# TEST VIDEOS\n",
    "cleaned_videos_df.head()"
   ]
  },
  {
   "cell_type": "code",
   "execution_count": 62,
   "metadata": {},
   "outputs": [
    {
     "data": {
      "text/plain": [
       "(7610, 15)"
      ]
     },
     "execution_count": 62,
     "metadata": {},
     "output_type": "execute_result"
    }
   ],
   "source": [
    "# Shape of the dataframe\n",
    "cleaned_videos_df.shape"
   ]
  },
  {
   "cell_type": "code",
   "execution_count": 63,
   "metadata": {},
   "outputs": [
    {
     "data": {
      "text/plain": [
       "video_id                   object\n",
       "title                      object\n",
       "published                  object\n",
       "view_count                  int64\n",
       "like_count                float64\n",
       "comment_count             float64\n",
       "duration                   object\n",
       "definition                 object\n",
       "tags                       object\n",
       "default_audio_language     object\n",
       "madeforkid                   bool\n",
       "playlist_title             object\n",
       "channelTitle               object\n",
       "playlist_published         object\n",
       "playlist_numvideo         float64\n",
       "dtype: object"
      ]
     },
     "execution_count": 63,
     "metadata": {},
     "output_type": "execute_result"
    }
   ],
   "source": [
    "# Some information about the dataframe\n",
    "cleaned_videos_df.dtypes"
   ]
  },
  {
   "cell_type": "markdown",
   "metadata": {},
   "source": [
    "- We can see `published` and `playlist_published` need to change dtype to **datetime** and duration to **deltatime** like previous pre-processsing task."
   ]
  },
  {
   "cell_type": "code",
   "execution_count": 64,
   "metadata": {},
   "outputs": [],
   "source": [
    "cleaned_videos_df['published'] =  cleaned_videos_df['published'].apply(pd.to_datetime)\n",
    "cleaned_videos_df['duration'] = cleaned_videos_df['duration'].apply(pd.to_timedelta)\n",
    "cleaned_videos_df['playlist_published'] = cleaned_videos_df['playlist_published'].apply(pd.to_datetime)"
   ]
  },
  {
   "cell_type": "code",
   "execution_count": 65,
   "metadata": {},
   "outputs": [
    {
     "data": {
      "text/plain": [
       "published             datetime64[ns, UTC]\n",
       "duration                  timedelta64[ns]\n",
       "playlist_published    datetime64[ns, UTC]\n",
       "dtype: object"
      ]
     },
     "execution_count": 65,
     "metadata": {},
     "output_type": "execute_result"
    }
   ],
   "source": [
    "#Test again\n",
    "cleaned_videos_df[['published','duration','playlist_published']].dtypes"
   ]
  },
  {
   "cell_type": "markdown",
   "metadata": {},
   "source": [
    "- Next, let's explore this data by individual data groups\n",
    "    - Numerical:`view_count`, `like_count`, `comment_count`, `playlist_numvideo`\n",
    "    - Non-numerical: the other columns"
   ]
  },
  {
   "cell_type": "code",
   "execution_count": 66,
   "metadata": {},
   "outputs": [
    {
     "name": "stdout",
     "output_type": "stream",
     "text": [
      "<class 'pandas.core.frame.DataFrame'>\n",
      "RangeIndex: 7610 entries, 0 to 7609\n",
      "Data columns (total 4 columns):\n",
      " #   Column             Non-Null Count  Dtype  \n",
      "---  ------             --------------  -----  \n",
      " 0   view_count         7610 non-null   int64  \n",
      " 1   like_count         7565 non-null   float64\n",
      " 2   comment_count      7585 non-null   float64\n",
      " 3   playlist_numvideo  6526 non-null   float64\n",
      "dtypes: float64(3), int64(1)\n",
      "memory usage: 237.9 KB\n"
     ]
    }
   ],
   "source": [
    "numerical_features = ['view_count', 'like_count','comment_count','playlist_numvideo']\n",
    "#Change type to int\n",
    "cleaned_videos_df[numerical_features].info()"
   ]
  },
  {
   "cell_type": "markdown",
   "metadata": {},
   "source": [
    "- `view_count` is not missing data.\n",
    "- `playlist_numvideo` :Because some videos are not in any playlist, we do not need to handle missing data in this column.\n",
    "- `like_count` and `comment_count`:These columns can be filled based on the ratio of the number of likes/comments to the total number of views of that channel."
   ]
  },
  {
   "cell_type": "code",
   "execution_count": 67,
   "metadata": {},
   "outputs": [],
   "source": [
    "#Calculate the ratio of likes and comments to views of each channel\n",
    "ratio_like_cmt={}\n",
    "for channel in cleaned_videos_df['channelTitle'].unique():\n",
    "    ratio_like_cmt[channel]=cleaned_videos_df[cleaned_videos_df['channelTitle']==channel][['like_count','comment_count','view_count']].sum(axis=0)\n",
    "    ratio_like_cmt[channel]['like_ratio']=ratio_like_cmt[channel]['like_count']/ratio_like_cmt[channel]['view_count']\n",
    "    ratio_like_cmt[channel]['cmt_ratio']=ratio_like_cmt[channel]['comment_count']/ratio_like_cmt[channel]['view_count']\n",
    "    ratio_like_cmt[channel]=ratio_like_cmt[channel][['like_ratio','cmt_ratio']]\n",
    "\n",
    "#Fill missing values\n",
    "for row_index,row in cleaned_videos_df.iterrows():\n",
    "    if np.isnan(row['like_count']):\n",
    "        cleaned_videos_df.loc[row_index,'like_count']=int(ratio_like_cmt[row['channelTitle']]['like_ratio']*row['view_count'])\n",
    "    if np.isnan(row['comment_count']):\n",
    "        cleaned_videos_df.loc[row_index,'comment_count']=int(ratio_like_cmt[row['channelTitle']]['cmt_ratio']*row['view_count'])\n",
    "cleaned_videos_df[['like_count','comment_count']]=cleaned_videos_df[['like_count','comment_count']].astype(int)"
   ]
  },
  {
   "cell_type": "markdown",
   "metadata": {},
   "source": [
    "- Let's see the distribution of the number of views, likes, comments of the videos"
   ]
  },
  {
   "cell_type": "code",
   "execution_count": null,
   "metadata": {},
   "outputs": [],
   "source": [
    "categories="
   ]
  },
  {
   "cell_type": "markdown",
   "metadata": {},
   "source": [
    "#### Comment section"
   ]
  },
  {
   "cell_type": "code",
   "execution_count": 71,
   "metadata": {},
   "outputs": [
    {
     "data": {
      "text/html": [
       "<div>\n",
       "<style scoped>\n",
       "    .dataframe tbody tr th:only-of-type {\n",
       "        vertical-align: middle;\n",
       "    }\n",
       "\n",
       "    .dataframe tbody tr th {\n",
       "        vertical-align: top;\n",
       "    }\n",
       "\n",
       "    .dataframe thead th {\n",
       "        text-align: right;\n",
       "    }\n",
       "</style>\n",
       "<table border=\"1\" class=\"dataframe\">\n",
       "  <thead>\n",
       "    <tr style=\"text-align: right;\">\n",
       "      <th></th>\n",
       "      <th>author</th>\n",
       "      <th>Type</th>\n",
       "      <th>video_id</th>\n",
       "      <th>total_reply</th>\n",
       "      <th>like_count</th>\n",
       "      <th>published_at</th>\n",
       "      <th>textdisplay</th>\n",
       "      <th>updatedat</th>\n",
       "    </tr>\n",
       "  </thead>\n",
       "  <tbody>\n",
       "    <tr>\n",
       "      <th>0</th>\n",
       "      <td>@AiexpertRajivVerma</td>\n",
       "      <td>1.0</td>\n",
       "      <td>H_8ZVRRtiIA</td>\n",
       "      <td>0.0</td>\n",
       "      <td>0.0</td>\n",
       "      <td>2023-12-11 01:11:19+00:00</td>\n",
       "      <td>Sir thank you love love 💕❤️❤❤️❤❤❤❤❤❤ you for f...</td>\n",
       "      <td>2023-12-11 01:11:19+00:00</td>\n",
       "    </tr>\n",
       "    <tr>\n",
       "      <th>1</th>\n",
       "      <td>@hamasali8764</td>\n",
       "      <td>1.0</td>\n",
       "      <td>bZwkaVnhEo4</td>\n",
       "      <td>0.0</td>\n",
       "      <td>0.0</td>\n",
       "      <td>2023-07-27 16:54:52+00:00</td>\n",
       "      <td>Best One🎉</td>\n",
       "      <td>2023-07-27 16:54:52+00:00</td>\n",
       "    </tr>\n",
       "    <tr>\n",
       "      <th>2</th>\n",
       "      <td>@R0H00</td>\n",
       "      <td>1.0</td>\n",
       "      <td>hkOosfWxBK4</td>\n",
       "      <td>0.0</td>\n",
       "      <td>1.0</td>\n",
       "      <td>2023-11-18 02:51:01+00:00</td>\n",
       "      <td>Hi, I&amp;#39;m a clinician who is working in the ...</td>\n",
       "      <td>2023-11-18 02:51:01+00:00</td>\n",
       "    </tr>\n",
       "    <tr>\n",
       "      <th>3</th>\n",
       "      <td>@nitinsnoisepollution6293</td>\n",
       "      <td>1.0</td>\n",
       "      <td>hkOosfWxBK4</td>\n",
       "      <td>0.0</td>\n",
       "      <td>0.0</td>\n",
       "      <td>2023-11-17 20:39:13+00:00</td>\n",
       "      <td>Superb 🎉❤</td>\n",
       "      <td>2023-11-17 20:39:13+00:00</td>\n",
       "    </tr>\n",
       "    <tr>\n",
       "      <th>4</th>\n",
       "      <td>@REDBONDYT</td>\n",
       "      <td>1.0</td>\n",
       "      <td>Fxq6vjJwX3o</td>\n",
       "      <td>0.0</td>\n",
       "      <td>1.0</td>\n",
       "      <td>2023-07-30 12:36:13+00:00</td>\n",
       "      <td>Very informative 😃😺</td>\n",
       "      <td>2023-07-30 12:36:13+00:00</td>\n",
       "    </tr>\n",
       "  </tbody>\n",
       "</table>\n",
       "</div>"
      ],
      "text/plain": [
       "                      author  Type     video_id  total_reply  like_count  \\\n",
       "0        @AiexpertRajivVerma   1.0  H_8ZVRRtiIA          0.0         0.0   \n",
       "1              @hamasali8764   1.0  bZwkaVnhEo4          0.0         0.0   \n",
       "2                     @R0H00   1.0  hkOosfWxBK4          0.0         1.0   \n",
       "3  @nitinsnoisepollution6293   1.0  hkOosfWxBK4          0.0         0.0   \n",
       "4                 @REDBONDYT   1.0  Fxq6vjJwX3o          0.0         1.0   \n",
       "\n",
       "                published_at  \\\n",
       "0  2023-12-11 01:11:19+00:00   \n",
       "1  2023-07-27 16:54:52+00:00   \n",
       "2  2023-11-18 02:51:01+00:00   \n",
       "3  2023-11-17 20:39:13+00:00   \n",
       "4  2023-07-30 12:36:13+00:00   \n",
       "\n",
       "                                         textdisplay  \\\n",
       "0  Sir thank you love love 💕❤️❤❤️❤❤❤❤❤❤ you for f...   \n",
       "1                                          Best One🎉   \n",
       "2  Hi, I&#39;m a clinician who is working in the ...   \n",
       "3                                          Superb 🎉❤   \n",
       "4                                Very informative 😃😺   \n",
       "\n",
       "                   updatedat  \n",
       "0  2023-12-11 01:11:19+00:00  \n",
       "1  2023-07-27 16:54:52+00:00  \n",
       "2  2023-11-18 02:51:01+00:00  \n",
       "3  2023-11-17 20:39:13+00:00  \n",
       "4  2023-07-30 12:36:13+00:00  "
      ]
     },
     "execution_count": 71,
     "metadata": {},
     "output_type": "execute_result"
    }
   ],
   "source": [
    "cleaned_comments_df.head()"
   ]
  },
  {
   "cell_type": "code",
   "execution_count": 72,
   "metadata": {},
   "outputs": [
    {
     "data": {
      "text/plain": [
       "(147558, 8)"
      ]
     },
     "execution_count": 72,
     "metadata": {},
     "output_type": "execute_result"
    }
   ],
   "source": [
    "cleaned_comments_df.shape"
   ]
  },
  {
   "cell_type": "code",
   "execution_count": 73,
   "metadata": {},
   "outputs": [
    {
     "data": {
      "text/plain": [
       "author           object\n",
       "Type            float64\n",
       "video_id         object\n",
       "total_reply     float64\n",
       "like_count      float64\n",
       "published_at     object\n",
       "textdisplay      object\n",
       "updatedat        object\n",
       "dtype: object"
      ]
     },
     "execution_count": 73,
     "metadata": {},
     "output_type": "execute_result"
    }
   ],
   "source": [
    "cleaned_comments_df.dtypes"
   ]
  },
  {
   "cell_type": "markdown",
   "metadata": {},
   "source": [
    "- `published_at` and `updatedat` need to change type to **datetime** like the previous pre-processing task to easy to handle."
   ]
  },
  {
   "cell_type": "code",
   "execution_count": 77,
   "metadata": {},
   "outputs": [],
   "source": [
    "cleaned_comments_df['published_at'] =  cleaned_comments_df['published_at'].apply(pd.to_datetime)\n",
    "cleaned_comments_df['updatedat'] = cleaned_comments_df['updatedat'].apply(pd.to_datetime)"
   ]
  },
  {
   "cell_type": "code",
   "execution_count": 78,
   "metadata": {},
   "outputs": [
    {
     "data": {
      "text/plain": [
       "published_at    datetime64[ns, UTC]\n",
       "updatedat       datetime64[ns, UTC]\n",
       "dtype: object"
      ]
     },
     "execution_count": 78,
     "metadata": {},
     "output_type": "execute_result"
    }
   ],
   "source": [
    "cleaned_comments_df[['published_at','updatedat']].dtypes"
   ]
  },
  {
   "cell_type": "code",
   "execution_count": 80,
   "metadata": {},
   "outputs": [
    {
     "name": "stdout",
     "output_type": "stream",
     "text": [
      "<class 'pandas.core.frame.DataFrame'>\n",
      "RangeIndex: 147558 entries, 0 to 147557\n",
      "Data columns (total 8 columns):\n",
      " #   Column        Non-Null Count   Dtype              \n",
      "---  ------        --------------   -----              \n",
      " 0   author        147193 non-null  object             \n",
      " 1   Type          146992 non-null  float64            \n",
      " 2   video_id      146992 non-null  object             \n",
      " 3   total_reply   146992 non-null  float64            \n",
      " 4   like_count    146992 non-null  float64            \n",
      " 5   published_at  146992 non-null  datetime64[ns, UTC]\n",
      " 6   textdisplay   146992 non-null  object             \n",
      " 7   updatedat     146788 non-null  datetime64[ns, UTC]\n",
      "dtypes: datetime64[ns, UTC](2), float64(3), object(3)\n",
      "memory usage: 9.0+ MB\n"
     ]
    }
   ],
   "source": [
    "cleaned_comments_df.info()"
   ]
  },
  {
   "cell_type": "code",
   "execution_count": 101,
   "metadata": {},
   "outputs": [
    {
     "data": {
      "text/html": [
       "<div>\n",
       "<style scoped>\n",
       "    .dataframe tbody tr th:only-of-type {\n",
       "        vertical-align: middle;\n",
       "    }\n",
       "\n",
       "    .dataframe tbody tr th {\n",
       "        vertical-align: top;\n",
       "    }\n",
       "\n",
       "    .dataframe thead th {\n",
       "        text-align: right;\n",
       "    }\n",
       "</style>\n",
       "<table border=\"1\" class=\"dataframe\">\n",
       "  <thead>\n",
       "    <tr style=\"text-align: right;\">\n",
       "      <th></th>\n",
       "      <th>author</th>\n",
       "      <th>Type</th>\n",
       "      <th>video_id</th>\n",
       "      <th>total_reply</th>\n",
       "      <th>like_count</th>\n",
       "      <th>published_at</th>\n",
       "      <th>textdisplay</th>\n",
       "      <th>updatedat</th>\n",
       "    </tr>\n",
       "  </thead>\n",
       "  <tbody>\n",
       "    <tr>\n",
       "      <th>31931</th>\n",
       "      <td>NaN</td>\n",
       "      <td>NaN</td>\n",
       "      <td>NaN</td>\n",
       "      <td>NaN</td>\n",
       "      <td>NaN</td>\n",
       "      <td>NaT</td>\n",
       "      <td>NaN</td>\n",
       "      <td>NaT</td>\n",
       "    </tr>\n",
       "    <tr>\n",
       "      <th>31932</th>\n",
       "      <td>NaN</td>\n",
       "      <td>NaN</td>\n",
       "      <td>NaN</td>\n",
       "      <td>NaN</td>\n",
       "      <td>NaN</td>\n",
       "      <td>NaT</td>\n",
       "      <td>NaN</td>\n",
       "      <td>NaT</td>\n",
       "    </tr>\n",
       "    <tr>\n",
       "      <th>31933</th>\n",
       "      <td>NaN</td>\n",
       "      <td>NaN</td>\n",
       "      <td>NaN</td>\n",
       "      <td>NaN</td>\n",
       "      <td>NaN</td>\n",
       "      <td>NaT</td>\n",
       "      <td>NaN</td>\n",
       "      <td>NaT</td>\n",
       "    </tr>\n",
       "    <tr>\n",
       "      <th>31934</th>\n",
       "      <td>NaN</td>\n",
       "      <td>NaN</td>\n",
       "      <td>NaN</td>\n",
       "      <td>NaN</td>\n",
       "      <td>NaN</td>\n",
       "      <td>NaT</td>\n",
       "      <td>NaN</td>\n",
       "      <td>NaT</td>\n",
       "    </tr>\n",
       "    <tr>\n",
       "      <th>31935</th>\n",
       "      <td>NaN</td>\n",
       "      <td>NaN</td>\n",
       "      <td>NaN</td>\n",
       "      <td>NaN</td>\n",
       "      <td>NaN</td>\n",
       "      <td>NaT</td>\n",
       "      <td>NaN</td>\n",
       "      <td>NaT</td>\n",
       "    </tr>\n",
       "    <tr>\n",
       "      <th>...</th>\n",
       "      <td>...</td>\n",
       "      <td>...</td>\n",
       "      <td>...</td>\n",
       "      <td>...</td>\n",
       "      <td>...</td>\n",
       "      <td>...</td>\n",
       "      <td>...</td>\n",
       "      <td>...</td>\n",
       "    </tr>\n",
       "    <tr>\n",
       "      <th>145164</th>\n",
       "      <td>NaN</td>\n",
       "      <td>NaN</td>\n",
       "      <td>NaN</td>\n",
       "      <td>NaN</td>\n",
       "      <td>NaN</td>\n",
       "      <td>NaT</td>\n",
       "      <td>NaN</td>\n",
       "      <td>NaT</td>\n",
       "    </tr>\n",
       "    <tr>\n",
       "      <th>145165</th>\n",
       "      <td>2022-08-21T18:32:53Z</td>\n",
       "      <td>NaN</td>\n",
       "      <td>NaN</td>\n",
       "      <td>NaN</td>\n",
       "      <td>NaN</td>\n",
       "      <td>NaT</td>\n",
       "      <td>NaN</td>\n",
       "      <td>NaT</td>\n",
       "    </tr>\n",
       "    <tr>\n",
       "      <th>145181</th>\n",
       "      <td>2022-08-22T05:53:10Z</td>\n",
       "      <td>NaN</td>\n",
       "      <td>NaN</td>\n",
       "      <td>NaN</td>\n",
       "      <td>NaN</td>\n",
       "      <td>NaT</td>\n",
       "      <td>NaN</td>\n",
       "      <td>NaT</td>\n",
       "    </tr>\n",
       "    <tr>\n",
       "      <th>145186</th>\n",
       "      <td>2022-08-22T05:53:40Z</td>\n",
       "      <td>NaN</td>\n",
       "      <td>NaN</td>\n",
       "      <td>NaN</td>\n",
       "      <td>NaN</td>\n",
       "      <td>NaT</td>\n",
       "      <td>NaN</td>\n",
       "      <td>NaT</td>\n",
       "    </tr>\n",
       "    <tr>\n",
       "      <th>145846</th>\n",
       "      <td>2021-10-18T13:10:14Z</td>\n",
       "      <td>NaN</td>\n",
       "      <td>NaN</td>\n",
       "      <td>NaN</td>\n",
       "      <td>NaN</td>\n",
       "      <td>NaT</td>\n",
       "      <td>NaN</td>\n",
       "      <td>NaT</td>\n",
       "    </tr>\n",
       "  </tbody>\n",
       "</table>\n",
       "<p>566 rows × 8 columns</p>\n",
       "</div>"
      ],
      "text/plain": [
       "                      author  Type video_id  total_reply  like_count  \\\n",
       "31931                    NaN   NaN      NaN          NaN         NaN   \n",
       "31932                    NaN   NaN      NaN          NaN         NaN   \n",
       "31933                    NaN   NaN      NaN          NaN         NaN   \n",
       "31934                    NaN   NaN      NaN          NaN         NaN   \n",
       "31935                    NaN   NaN      NaN          NaN         NaN   \n",
       "...                      ...   ...      ...          ...         ...   \n",
       "145164                   NaN   NaN      NaN          NaN         NaN   \n",
       "145165  2022-08-21T18:32:53Z   NaN      NaN          NaN         NaN   \n",
       "145181  2022-08-22T05:53:10Z   NaN      NaN          NaN         NaN   \n",
       "145186  2022-08-22T05:53:40Z   NaN      NaN          NaN         NaN   \n",
       "145846  2021-10-18T13:10:14Z   NaN      NaN          NaN         NaN   \n",
       "\n",
       "       published_at textdisplay updatedat  \n",
       "31931           NaT         NaN       NaT  \n",
       "31932           NaT         NaN       NaT  \n",
       "31933           NaT         NaN       NaT  \n",
       "31934           NaT         NaN       NaT  \n",
       "31935           NaT         NaN       NaT  \n",
       "...             ...         ...       ...  \n",
       "145164          NaT         NaN       NaT  \n",
       "145165          NaT         NaN       NaT  \n",
       "145181          NaT         NaN       NaT  \n",
       "145186          NaT         NaN       NaT  \n",
       "145846          NaT         NaN       NaT  \n",
       "\n",
       "[566 rows x 8 columns]"
      ]
     },
     "execution_count": 101,
     "metadata": {},
     "output_type": "execute_result"
    }
   ],
   "source": [
    "cleaned_comments_df[cleaned_comments_df['video_id'].isna()]"
   ]
  },
  {
   "cell_type": "code",
   "execution_count": null,
   "metadata": {},
   "outputs": [],
   "source": [
    "# PRE-PROCESSING IF NEEDED\n",
    "# YOUR CODE HERE (OPTION) "
   ]
  },
  {
   "cell_type": "markdown",
   "metadata": {},
   "source": [
    "**Question 01**: What are the hot trends over the years?"
   ]
  },
  {
   "cell_type": "code",
   "execution_count": 134,
   "metadata": {},
   "outputs": [],
   "source": [
    "def remove_special_characters(input_string:str)->str:\n",
    "    # Sử dụng biểu thức chính quy để xoá các ký tự đặc biệt\n",
    "    output_string = re.sub(r'[^a-zA-Z0-9\\s]', '', input_string)\n",
    "    return output_string\n",
    "def filter_compound_nouns(text:str)->list:\n",
    "    text = text.lower()\n",
    "    # Xử lý văn bản với spaCy\n",
    "    doc = nlp(text)\n",
    "\n",
    "    # Lọc danh từ ghép\n",
    "    compound_nouns = [chunk.text for chunk in doc.noun_chunks]\n",
    "\n",
    "    result_nouns = []\n",
    "    for noun in compound_nouns:\n",
    "        if len(noun.split())>1:\n",
    "            result_nouns.append(noun)    \n",
    "    return result_nouns\n",
    "def filter_keywords_and_handle(data_df)->set:\n",
    "    keywords=[]\n",
    "    keywords.extend(data_df['title'].apply(filter_compound_nouns))\n",
    "    return set(keywords)"
   ]
  },
  {
   "cell_type": "markdown",
   "metadata": {},
   "source": [
    "**YOUR ANSWER**"
   ]
  },
  {
   "cell_type": "markdown",
   "metadata": {},
   "source": [
    "**Question 02**:How does the channel attract viewers? (Analyzes based on:)\n",
    "- How often do videos come out?\n",
    "- Is the topic often included in the top trend list?\n",
    "- Are the videos in the same group as some other videos (number of playlists)?\n",
    "- How the channel owner interacts with viewers (how often do you reply to comments?)"
   ]
  },
  {
   "cell_type": "code",
   "execution_count": 194,
   "metadata": {},
   "outputs": [],
   "source": [
    "#Calculate the frequency up video.\n",
    "def Create_DataFrame_For2(data_df)->dict:\n",
    "    list_channel=cleaned_videos_df['channelTitle'].unique()\n",
    "    dict_frequency={}\n",
    "    for channel in list_channel:\n",
    "        earliest_up=cleaned_videos_df[cleaned_videos_df['channelTitle']==channel]['published'].min()\n",
    "        latest_up=cleaned_videos_df[cleaned_videos_df['channelTitle']==channel]['published'].max()\n",
    "        delta_time=latest_up-earliest_up\n",
    "\n",
    "        #Number of videos\n",
    "        num_videos=cleaned_videos_df[cleaned_videos_df['channelTitle']==channel].shape[0]\n",
    "        #Frequency\n",
    "        frequency=round(num_videos/delta_time.days,2)\n",
    "        dict_frequency[channel]=frequency\n",
    "    \n",
    "    df_plot=pd.DataFrame(dict_frequency.items(),columns=['channelTitle','Frequency'])\n",
    "    return df_plot\n"
   ]
  },
  {
   "cell_type": "code",
   "execution_count": 196,
   "metadata": {},
   "outputs": [],
   "source": [
    "df_plot=Create_DataFrame_For2(cleaned_videos_df)\n",
    "df_plot['Total views']=cleaned_videos_df.groupby('channelTitle')['view_count'].sum().values\n",
    "df_plot['Total likes']=cleaned_videos_df.groupby('channelTitle')['like_count'].sum().values\n",
    "df_plot['Total comments']=cleaned_videos_df.groupby('channelTitle')['comment_count'].sum().values"
   ]
  },
  {
   "cell_type": "code",
   "execution_count": 219,
   "metadata": {},
   "outputs": [
    {
     "data": {
      "text/html": [
       "<div>\n",
       "<style scoped>\n",
       "    .dataframe tbody tr th:only-of-type {\n",
       "        vertical-align: middle;\n",
       "    }\n",
       "\n",
       "    .dataframe tbody tr th {\n",
       "        vertical-align: top;\n",
       "    }\n",
       "\n",
       "    .dataframe thead th {\n",
       "        text-align: right;\n",
       "    }\n",
       "</style>\n",
       "<table border=\"1\" class=\"dataframe\">\n",
       "  <thead>\n",
       "    <tr style=\"text-align: right;\">\n",
       "      <th></th>\n",
       "      <th>channelTitle</th>\n",
       "      <th>Frequency</th>\n",
       "      <th>Total views</th>\n",
       "      <th>Total likes</th>\n",
       "      <th>Total comments</th>\n",
       "    </tr>\n",
       "  </thead>\n",
       "  <tbody>\n",
       "    <tr>\n",
       "      <th>0</th>\n",
       "      <td>DeepLearningAI</td>\n",
       "      <td>0.16</td>\n",
       "      <td>18136679</td>\n",
       "      <td>367506</td>\n",
       "      <td>10050</td>\n",
       "    </tr>\n",
       "    <tr>\n",
       "      <th>1</th>\n",
       "      <td>3Blue1Brown</td>\n",
       "      <td>0.07</td>\n",
       "      <td>707696505</td>\n",
       "      <td>18468529</td>\n",
       "      <td>649119</td>\n",
       "    </tr>\n",
       "    <tr>\n",
       "      <th>2</th>\n",
       "      <td>Joma Tech</td>\n",
       "      <td>0.06</td>\n",
       "      <td>7073769</td>\n",
       "      <td>109549</td>\n",
       "      <td>10391</td>\n",
       "    </tr>\n",
       "    <tr>\n",
       "      <th>3</th>\n",
       "      <td>DataCamp</td>\n",
       "      <td>0.14</td>\n",
       "      <td>2929897</td>\n",
       "      <td>83023</td>\n",
       "      <td>7041</td>\n",
       "    </tr>\n",
       "    <tr>\n",
       "      <th>4</th>\n",
       "      <td>CS Dojo</td>\n",
       "      <td>0.05</td>\n",
       "      <td>90127019</td>\n",
       "      <td>2215970</td>\n",
       "      <td>97527</td>\n",
       "    </tr>\n",
       "    <tr>\n",
       "      <th>5</th>\n",
       "      <td>sentdex</td>\n",
       "      <td>0.16</td>\n",
       "      <td>16169398</td>\n",
       "      <td>516372</td>\n",
       "      <td>25562</td>\n",
       "    </tr>\n",
       "    <tr>\n",
       "      <th>6</th>\n",
       "      <td>StatQuest with Josh Starmer</td>\n",
       "      <td>0.11</td>\n",
       "      <td>72184080</td>\n",
       "      <td>1643376</td>\n",
       "      <td>44898</td>\n",
       "    </tr>\n",
       "    <tr>\n",
       "      <th>7</th>\n",
       "      <td>Tech With Tim</td>\n",
       "      <td>0.21</td>\n",
       "      <td>1040476</td>\n",
       "      <td>9181</td>\n",
       "      <td>397</td>\n",
       "    </tr>\n",
       "    <tr>\n",
       "      <th>8</th>\n",
       "      <td>365 Data Science</td>\n",
       "      <td>0.11</td>\n",
       "      <td>16853716</td>\n",
       "      <td>193994</td>\n",
       "      <td>6398</td>\n",
       "    </tr>\n",
       "    <tr>\n",
       "      <th>9</th>\n",
       "      <td>Data Professor</td>\n",
       "      <td>0.15</td>\n",
       "      <td>44557948</td>\n",
       "      <td>1048320</td>\n",
       "      <td>26622</td>\n",
       "    </tr>\n",
       "    <tr>\n",
       "      <th>10</th>\n",
       "      <td>Data Science Dojo</td>\n",
       "      <td>0.10</td>\n",
       "      <td>225335207</td>\n",
       "      <td>7783918</td>\n",
       "      <td>252768</td>\n",
       "    </tr>\n",
       "    <tr>\n",
       "      <th>11</th>\n",
       "      <td>codebasics</td>\n",
       "      <td>0.31</td>\n",
       "      <td>17671763</td>\n",
       "      <td>290396</td>\n",
       "      <td>16387</td>\n",
       "    </tr>\n",
       "    <tr>\n",
       "      <th>12</th>\n",
       "      <td>Two Minute Papers</td>\n",
       "      <td>0.53</td>\n",
       "      <td>129733259</td>\n",
       "      <td>2770594</td>\n",
       "      <td>185108</td>\n",
       "    </tr>\n",
       "    <tr>\n",
       "      <th>13</th>\n",
       "      <td>TheAiGrid</td>\n",
       "      <td>0.50</td>\n",
       "      <td>1548757</td>\n",
       "      <td>55426</td>\n",
       "      <td>3510</td>\n",
       "    </tr>\n",
       "    <tr>\n",
       "      <th>14</th>\n",
       "      <td>AI News</td>\n",
       "      <td>0.15</td>\n",
       "      <td>42199563</td>\n",
       "      <td>995786</td>\n",
       "      <td>44863</td>\n",
       "    </tr>\n",
       "    <tr>\n",
       "      <th>15</th>\n",
       "      <td>Abhishek Thakur</td>\n",
       "      <td>0.13</td>\n",
       "      <td>18552909</td>\n",
       "      <td>258042</td>\n",
       "      <td>34825</td>\n",
       "    </tr>\n",
       "    <tr>\n",
       "      <th>16</th>\n",
       "      <td>IBM Technology</td>\n",
       "      <td>0.24</td>\n",
       "      <td>309025281</td>\n",
       "      <td>12620043</td>\n",
       "      <td>629496</td>\n",
       "    </tr>\n",
       "    <tr>\n",
       "      <th>17</th>\n",
       "      <td>PRO ROBOTS</td>\n",
       "      <td>0.16</td>\n",
       "      <td>110954474</td>\n",
       "      <td>2269942</td>\n",
       "      <td>124606</td>\n",
       "    </tr>\n",
       "    <tr>\n",
       "      <th>18</th>\n",
       "      <td>StrataScratch</td>\n",
       "      <td>0.12</td>\n",
       "      <td>44789158</td>\n",
       "      <td>607013</td>\n",
       "      <td>55994</td>\n",
       "    </tr>\n",
       "  </tbody>\n",
       "</table>\n",
       "</div>"
      ],
      "text/plain": [
       "                   channelTitle  Frequency  Total views  Total likes  \\\n",
       "0                DeepLearningAI       0.16     18136679       367506   \n",
       "1                   3Blue1Brown       0.07    707696505     18468529   \n",
       "2                     Joma Tech       0.06      7073769       109549   \n",
       "3                      DataCamp       0.14      2929897        83023   \n",
       "4                       CS Dojo       0.05     90127019      2215970   \n",
       "5                       sentdex       0.16     16169398       516372   \n",
       "6   StatQuest with Josh Starmer       0.11     72184080      1643376   \n",
       "7                 Tech With Tim       0.21      1040476         9181   \n",
       "8              365 Data Science       0.11     16853716       193994   \n",
       "9                Data Professor       0.15     44557948      1048320   \n",
       "10            Data Science Dojo       0.10    225335207      7783918   \n",
       "11                   codebasics       0.31     17671763       290396   \n",
       "12            Two Minute Papers       0.53    129733259      2770594   \n",
       "13                    TheAiGrid       0.50      1548757        55426   \n",
       "14                      AI News       0.15     42199563       995786   \n",
       "15              Abhishek Thakur       0.13     18552909       258042   \n",
       "16               IBM Technology       0.24    309025281     12620043   \n",
       "17                   PRO ROBOTS       0.16    110954474      2269942   \n",
       "18                StrataScratch       0.12     44789158       607013   \n",
       "\n",
       "    Total comments  \n",
       "0            10050  \n",
       "1           649119  \n",
       "2            10391  \n",
       "3             7041  \n",
       "4            97527  \n",
       "5            25562  \n",
       "6            44898  \n",
       "7              397  \n",
       "8             6398  \n",
       "9            26622  \n",
       "10          252768  \n",
       "11           16387  \n",
       "12          185108  \n",
       "13            3510  \n",
       "14           44863  \n",
       "15           34825  \n",
       "16          629496  \n",
       "17          124606  \n",
       "18           55994  "
      ]
     },
     "execution_count": 219,
     "metadata": {},
     "output_type": "execute_result"
    }
   ],
   "source": [
    "df_plot"
   ]
  },
  {
   "cell_type": "code",
   "execution_count": 228,
   "metadata": {},
   "outputs": [
    {
     "data": {
      "image/png": "[encoded data removed]",
      "text/plain": [
       "<Figure size 1500x1000 with 4 Axes>"
      ]
     },
     "metadata": {},
     "output_type": "display_data"
    }
   ],
   "source": [
    "#Scatter plot and fit line\n",
    "fig,ax=plt.subplots(figsize=(15,10),nrows=2,ncols=2)\n",
    "for i,feature in enumerate(['Total views','Total likes','Total comments']):\n",
    "    ax[i//2][i%2].scatter(df_plot['Frequency'],df_plot[feature],label=feature)\n",
    "    ax[i//2][i%2].set_xlabel('Frequency')\n",
    "    ax[i//2][i%2].set_ylabel(feature)\n",
    "    ax[i//2][i%2].set_title('Frequency vs '+feature)\n",
    "    ax[i//2][i%2].plot(np.unique(df_plot['Frequency']), np.poly1d(np.polyfit(df_plot['Frequency'], df_plot[feature], 1))(np.unique(df_plot['Frequency'])),color='red',label='fit line')\n",
    "    ax[i//2][i%2].legend()"
   ]
  },
  {
   "cell_type": "code",
   "execution_count": 298,
   "metadata": {},
   "outputs": [],
   "source": [
    "#Calculate the interaction between viewers and creators\n",
    "def Create_DataFrame_For3(df_cmt_with_channel)->dict:\n",
    "    list_channel=cleaned_videos_df['channelTitle'].unique()\n",
    "    dict_interaction={}\n",
    "    for channel in list_channel:\n",
    "        #Number of videos\n",
    "        delta_time=cleaned_videos_df[cleaned_videos_df['channelTitle']==channel]['published'].max()-\\\n",
    "                cleaned_videos_df[cleaned_videos_df['channelTitle']==channel]['published'].min()\n",
    "        #Interaction\n",
    "        channel_df=df_cmt_with_channel[df_cmt_with_channel['channelTitle']==channel]\n",
    "        dict_interaction[channel]=0\n",
    "        for row_index,row in channel_df.iterrows():\n",
    "            if row['author'] is not np.nan:\n",
    "                if row['author'].lower()[1::] in channel.lower().replace(' ',''):\n",
    "                    dict_interaction[channel]+=1\n",
    "        dict_interaction[channel]=round(dict_interaction[channel]/delta_time.days,2)\n",
    "    df_plot=pd.DataFrame(dict_interaction.items(),columns=['channelTitle','Interaction'])\n",
    "    return df_plot\n",
    "df_cmt_with_channel=cleaned_comments_df.merge(cleaned_videos_df[['channelTitle','video_id']],on='video_id',how='left')\n",
    "df_plot_3=Create_DataFrame_For3(df_cmt_with_channel)"
   ]
  },
  {
   "cell_type": "code",
   "execution_count": 299,
   "metadata": {},
   "outputs": [],
   "source": [
    "delta_time=cleaned_videos_df[cleaned_videos_df['channelTitle']==channel]['published'].max()-\\\n",
    "                cleaned_videos_df[cleaned_videos_df['channelTitle']==channel]['published'].min()\n",
    "df_plot_3['View ratio']=cleaned_videos_df.groupby('channelTitle')['view_count'].sum().values/delta_time.days\n",
    "df_plot_3['Like ratio']=cleaned_videos_df.groupby('channelTitle')['like_count'].sum().values/delta_time.days\n",
    "df_plot_3['Comment ratio']=cleaned_videos_df.groupby('channelTitle')['comment_count'].sum().values/delta_time.days\n",
    "\n"
   ]
  },
  {
   "cell_type": "code",
   "execution_count": 300,
   "metadata": {},
   "outputs": [
    {
     "data": {
      "text/html": [
       "<div>\n",
       "<style scoped>\n",
       "    .dataframe tbody tr th:only-of-type {\n",
       "        vertical-align: middle;\n",
       "    }\n",
       "\n",
       "    .dataframe tbody tr th {\n",
       "        vertical-align: top;\n",
       "    }\n",
       "\n",
       "    .dataframe thead th {\n",
       "        text-align: right;\n",
       "    }\n",
       "</style>\n",
       "<table border=\"1\" class=\"dataframe\">\n",
       "  <thead>\n",
       "    <tr style=\"text-align: right;\">\n",
       "      <th></th>\n",
       "      <th>channelTitle</th>\n",
       "      <th>Interaction</th>\n",
       "      <th>View ratio</th>\n",
       "      <th>Like ratio</th>\n",
       "      <th>Comment ratio</th>\n",
       "    </tr>\n",
       "  </thead>\n",
       "  <tbody>\n",
       "    <tr>\n",
       "      <th>0</th>\n",
       "      <td>DeepLearningAI</td>\n",
       "      <td>0.00</td>\n",
       "      <td>11167.905788</td>\n",
       "      <td>226.296798</td>\n",
       "      <td>6.188424</td>\n",
       "    </tr>\n",
       "    <tr>\n",
       "      <th>1</th>\n",
       "      <td>3Blue1Brown</td>\n",
       "      <td>0.02</td>\n",
       "      <td>435773.709975</td>\n",
       "      <td>11372.246921</td>\n",
       "      <td>399.703818</td>\n",
       "    </tr>\n",
       "    <tr>\n",
       "      <th>2</th>\n",
       "      <td>Joma Tech</td>\n",
       "      <td>0.00</td>\n",
       "      <td>4355.769089</td>\n",
       "      <td>67.456281</td>\n",
       "      <td>6.398399</td>\n",
       "    </tr>\n",
       "    <tr>\n",
       "      <th>3</th>\n",
       "      <td>DataCamp</td>\n",
       "      <td>0.00</td>\n",
       "      <td>1804.123768</td>\n",
       "      <td>51.122537</td>\n",
       "      <td>4.335591</td>\n",
       "    </tr>\n",
       "    <tr>\n",
       "      <th>4</th>\n",
       "      <td>CS Dojo</td>\n",
       "      <td>0.03</td>\n",
       "      <td>55496.932882</td>\n",
       "      <td>1364.513547</td>\n",
       "      <td>60.053571</td>\n",
       "    </tr>\n",
       "    <tr>\n",
       "      <th>5</th>\n",
       "      <td>sentdex</td>\n",
       "      <td>0.17</td>\n",
       "      <td>9956.525862</td>\n",
       "      <td>317.963054</td>\n",
       "      <td>15.740148</td>\n",
       "    </tr>\n",
       "    <tr>\n",
       "      <th>6</th>\n",
       "      <td>StatQuest with Josh Starmer</td>\n",
       "      <td>0.91</td>\n",
       "      <td>44448.325123</td>\n",
       "      <td>1011.931034</td>\n",
       "      <td>27.646552</td>\n",
       "    </tr>\n",
       "    <tr>\n",
       "      <th>7</th>\n",
       "      <td>Tech With Tim</td>\n",
       "      <td>0.08</td>\n",
       "      <td>640.687192</td>\n",
       "      <td>5.653325</td>\n",
       "      <td>0.244458</td>\n",
       "    </tr>\n",
       "    <tr>\n",
       "      <th>8</th>\n",
       "      <td>365 Data Science</td>\n",
       "      <td>0.24</td>\n",
       "      <td>10377.903941</td>\n",
       "      <td>119.454433</td>\n",
       "      <td>3.939655</td>\n",
       "    </tr>\n",
       "    <tr>\n",
       "      <th>9</th>\n",
       "      <td>Data Professor</td>\n",
       "      <td>0.55</td>\n",
       "      <td>27437.160099</td>\n",
       "      <td>645.517241</td>\n",
       "      <td>16.392857</td>\n",
       "    </tr>\n",
       "    <tr>\n",
       "      <th>10</th>\n",
       "      <td>Data Science Dojo</td>\n",
       "      <td>0.10</td>\n",
       "      <td>138753.206281</td>\n",
       "      <td>4793.052956</td>\n",
       "      <td>155.645320</td>\n",
       "    </tr>\n",
       "    <tr>\n",
       "      <th>11</th>\n",
       "      <td>codebasics</td>\n",
       "      <td>2.19</td>\n",
       "      <td>10881.627463</td>\n",
       "      <td>178.815271</td>\n",
       "      <td>10.090517</td>\n",
       "    </tr>\n",
       "    <tr>\n",
       "      <th>12</th>\n",
       "      <td>Two Minute Papers</td>\n",
       "      <td>0.25</td>\n",
       "      <td>79885.011700</td>\n",
       "      <td>1706.030788</td>\n",
       "      <td>113.982759</td>\n",
       "    </tr>\n",
       "    <tr>\n",
       "      <th>13</th>\n",
       "      <td>TheAiGrid</td>\n",
       "      <td>0.25</td>\n",
       "      <td>953.668103</td>\n",
       "      <td>34.129310</td>\n",
       "      <td>2.161330</td>\n",
       "    </tr>\n",
       "    <tr>\n",
       "      <th>14</th>\n",
       "      <td>AI News</td>\n",
       "      <td>0.00</td>\n",
       "      <td>25984.952586</td>\n",
       "      <td>613.168719</td>\n",
       "      <td>27.625000</td>\n",
       "    </tr>\n",
       "    <tr>\n",
       "      <th>15</th>\n",
       "      <td>Abhishek Thakur</td>\n",
       "      <td>0.00</td>\n",
       "      <td>11424.205049</td>\n",
       "      <td>158.892857</td>\n",
       "      <td>21.443966</td>\n",
       "    </tr>\n",
       "    <tr>\n",
       "      <th>16</th>\n",
       "      <td>IBM Technology</td>\n",
       "      <td>0.43</td>\n",
       "      <td>190286.503079</td>\n",
       "      <td>7770.962438</td>\n",
       "      <td>387.620690</td>\n",
       "    </tr>\n",
       "    <tr>\n",
       "      <th>17</th>\n",
       "      <td>PRO ROBOTS</td>\n",
       "      <td>0.23</td>\n",
       "      <td>68321.720443</td>\n",
       "      <td>1397.747537</td>\n",
       "      <td>76.727833</td>\n",
       "    </tr>\n",
       "    <tr>\n",
       "      <th>18</th>\n",
       "      <td>StrataScratch</td>\n",
       "      <td>0.59</td>\n",
       "      <td>27579.530788</td>\n",
       "      <td>373.776478</td>\n",
       "      <td>34.479064</td>\n",
       "    </tr>\n",
       "  </tbody>\n",
       "</table>\n",
       "</div>"
      ],
      "text/plain": [
       "                   channelTitle  Interaction     View ratio    Like ratio  \\\n",
       "0                DeepLearningAI         0.00   11167.905788    226.296798   \n",
       "1                   3Blue1Brown         0.02  435773.709975  11372.246921   \n",
       "2                     Joma Tech         0.00    4355.769089     67.456281   \n",
       "3                      DataCamp         0.00    1804.123768     51.122537   \n",
       "4                       CS Dojo         0.03   55496.932882   1364.513547   \n",
       "5                       sentdex         0.17    9956.525862    317.963054   \n",
       "6   StatQuest with Josh Starmer         0.91   44448.325123   1011.931034   \n",
       "7                 Tech With Tim         0.08     640.687192      5.653325   \n",
       "8              365 Data Science         0.24   10377.903941    119.454433   \n",
       "9                Data Professor         0.55   27437.160099    645.517241   \n",
       "10            Data Science Dojo         0.10  138753.206281   4793.052956   \n",
       "11                   codebasics         2.19   10881.627463    178.815271   \n",
       "12            Two Minute Papers         0.25   79885.011700   1706.030788   \n",
       "13                    TheAiGrid         0.25     953.668103     34.129310   \n",
       "14                      AI News         0.00   25984.952586    613.168719   \n",
       "15              Abhishek Thakur         0.00   11424.205049    158.892857   \n",
       "16               IBM Technology         0.43  190286.503079   7770.962438   \n",
       "17                   PRO ROBOTS         0.23   68321.720443   1397.747537   \n",
       "18                StrataScratch         0.59   27579.530788    373.776478   \n",
       "\n",
       "    Comment ratio  \n",
       "0        6.188424  \n",
       "1      399.703818  \n",
       "2        6.398399  \n",
       "3        4.335591  \n",
       "4       60.053571  \n",
       "5       15.740148  \n",
       "6       27.646552  \n",
       "7        0.244458  \n",
       "8        3.939655  \n",
       "9       16.392857  \n",
       "10     155.645320  \n",
       "11      10.090517  \n",
       "12     113.982759  \n",
       "13       2.161330  \n",
       "14      27.625000  \n",
       "15      21.443966  \n",
       "16     387.620690  \n",
       "17      76.727833  \n",
       "18      34.479064  "
      ]
     },
     "execution_count": 300,
     "metadata": {},
     "output_type": "execute_result"
    }
   ],
   "source": [
    "df_plot_3"
   ]
  },
  {
   "cell_type": "code",
   "execution_count": 301,
   "metadata": {},
   "outputs": [
    {
     "data": {
      "image/png": "[encoded data removed]",
      "text/plain": [
       "<Figure size 1500x1000 with 4 Axes>"
      ]
     },
     "metadata": {},
     "output_type": "display_data"
    }
   ],
   "source": [
    "#Scatter plot and fit line\n",
    "fig,ax=plt.subplots(figsize=(15,10),nrows=2,ncols=2)\n",
    "for i,feature in enumerate(['View ratio','Like ratio','Comment ratio']):\n",
    "    ax[i//2][i%2].scatter(df_plot_3['Interaction'],df_plot_3[feature],label=feature)\n",
    "    ax[i//2][i%2].set_xlabel('Interaction')\n",
    "    ax[i//2][i%2].set_ylabel(feature)\n",
    "    ax[i//2][i%2].set_title('Interaction vs '+feature)\n",
    "   "
   ]
  },
  {
   "cell_type": "markdown",
   "metadata": {},
   "source": [
    "**YOUR ANSWER**\n",
    "\n",
    "Example: Is that possible to drop any features that have less effect?"
   ]
  },
  {
   "cell_type": "markdown",
   "metadata": {},
   "source": [
    "## Making a question? (1.25 points)"
   ]
  },
  {
   "cell_type": "markdown",
   "metadata": {},
   "source": [
    "After exploring the data, we have a better understanding of the data. Now let's see what questions can be answered with this data.\n",
    "\n",
    "**A possible question is:** What is the population situation of the countries on the continent today?\n",
    "\n",
    "**Answering this question will** help us to see the current population status and predictions about the future development of the labor force of the countries on the continent are under consideration.\n",
    "\n",
    "**How we answer this question**: we will consider the Average Birth Rate and Death Rate for countries across all the year."
   ]
  },
  {
   "cell_type": "markdown",
   "metadata": {},
   "source": [
    "### Pre-processing"
   ]
  },
  {
   "cell_type": "code",
   "execution_count": 310,
   "metadata": {},
   "outputs": [
    {
     "name": "stdout",
     "output_type": "stream",
     "text": [
      "1.1111111111111112\n",
      "done\n"
     ]
    }
   ],
   "source": [
    "# YOUR CODE HERE (OPTION) \n",
    "try :\n",
    "    print(1/0.9)\n",
    "except Exception as e:\n",
    "    print(e)\n",
    "finally:\n",
    "    print('done')"
   ]
  },
  {
   "cell_type": "code",
   "execution_count": 339,
   "metadata": {},
   "outputs": [
    {
     "data": {
      "text/plain": [
       "'0'"
      ]
     },
     "execution_count": 339,
     "metadata": {},
     "output_type": "execute_result"
    }
   ],
   "source": [
    "a=\"djdjd\"\n",
    "pri"
   ]
  },
  {
   "cell_type": "markdown",
   "metadata": {},
   "source": [
    "### Analyzing to get the answer"
   ]
  },
  {
   "cell_type": "markdown",
   "metadata": {},
   "source": [
    "Step 01: construct Average Birth Rate dataframe for each country."
   ]
  },
  {
   "cell_type": "code",
   "execution_count": null,
   "metadata": {},
   "outputs": [],
   "source": [
    "# Create a new dataframe\n",
    "avg_birthrate_df = pd.DataFrame()\n",
    "\n",
    "# YOUR CODE HERE\n",
    "\n",
    "raise NotImplementedError()"
   ]
  },
  {
   "cell_type": "code",
   "execution_count": null,
   "metadata": {},
   "outputs": [],
   "source": [
    "# You can just construct plotting for top countries\n",
    "# YOUR CODE HERE\n",
    "raise NotImplementedError()"
   ]
  },
  {
   "cell_type": "markdown",
   "metadata": {},
   "source": [
    "Step 02: construct Average Death Rate dataframe for each country."
   ]
  },
  {
   "cell_type": "code",
   "execution_count": null,
   "metadata": {},
   "outputs": [],
   "source": [
    "# Create a new dataframe\n",
    "avg_deathrate_df = pd.DataFrame()\n",
    "\n",
    "# YOUR CODE HERE\n",
    "raise NotImplementedError()"
   ]
  },
  {
   "cell_type": "code",
   "execution_count": null,
   "metadata": {},
   "outputs": [],
   "source": [
    "# You can just construct plotting for top countries\n",
    "# YOUR CODE HERE\n",
    "raise NotImplementedError()"
   ]
  },
  {
   "cell_type": "markdown",
   "metadata": {},
   "source": [
    "**TODO**: Give your obervation here\n",
    "\n",
    "...\n",
    "\n",
    "..."
   ]
  },
  {
   "cell_type": "markdown",
   "metadata": {},
   "source": [
    "## Making your own question 01? (1.5 points)"
   ]
  },
  {
   "cell_type": "markdown",
   "metadata": {},
   "source": [
    "**YOUR ANSWER HERE**"
   ]
  },
  {
   "cell_type": "markdown",
   "metadata": {},
   "source": [
    "### Pre-processing"
   ]
  },
  {
   "cell_type": "code",
   "execution_count": null,
   "metadata": {},
   "outputs": [],
   "source": [
    "# YOUR CODE HERE (OPTION) "
   ]
  },
  {
   "cell_type": "markdown",
   "metadata": {},
   "source": [
    "### Analyzing to get the answer"
   ]
  },
  {
   "cell_type": "code",
   "execution_count": null,
   "metadata": {},
   "outputs": [],
   "source": [
    "# YOUR CODE HERE"
   ]
  },
  {
   "cell_type": "markdown",
   "metadata": {},
   "source": [
    "## Making your own question 02? (1.5 points)"
   ]
  },
  {
   "cell_type": "markdown",
   "metadata": {},
   "source": [
    "**YOUR ANSWER HERE**"
   ]
  },
  {
   "cell_type": "markdown",
   "metadata": {},
   "source": [
    "### Pre-processing"
   ]
  },
  {
   "cell_type": "code",
   "execution_count": null,
   "metadata": {},
   "outputs": [],
   "source": [
    "# YOUR CODE HERE (OPTION)\n",
    "cleaned_comments_df['']"
   ]
  },
  {
   "cell_type": "markdown",
   "metadata": {},
   "source": [
    "### Analyzing to get the answer"
   ]
  },
  {
   "cell_type": "code",
   "execution_count": null,
   "metadata": {},
   "outputs": [],
   "source": [
    "# YOUR CODE HERE\n"
   ]
  }
 ],
 "metadata": {
  "kernelspec": {
   "display_name": "min_ds-env_kernel",
   "language": "python",
   "name": "min_ds-env_kernel"
  },
  "language_info": {
   "codemirror_mode": {
    "name": "ipython",
    "version": 3
   },
   "file_extension": ".py",
   "mimetype": "text/x-python",
   "name": "python",
   "nbconvert_exporter": "python",
   "pygments_lexer": "ipython3",
   "version": "3.10.8"
  }
 },
 "nbformat": 4,
 "nbformat_minor": 2
}
