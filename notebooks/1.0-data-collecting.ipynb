{
 "cells": [
  {
   "cell_type": "markdown",
   "metadata": {},
   "source": [
    "<div style=\"text-align: center; background-color: #0A6EBD; font-family: 'Trebuchet MS', Arial, sans-serif; color: white; padding: 20px; font-size: 40px; font-weight: bold; border-radius: 0 0 0 0; box-shadow: 0px 6px 8px rgba(0, 0, 0, 0.2);\">\n",
    "  Lab 02 - Introduction To Data Science @ FIT-HCMUS, VNU-HCM 📌\n",
    "</div>"
   ]
  },
  {
   "cell_type": "markdown",
   "metadata": {},
   "source": [
    "<div style=\"text-align: center; background-color: #5A96E3; font-family: 'Trebuchet MS', Arial, sans-serif; color: white; padding: 20px; font-size: 40px; font-weight: bold; border-radius: 0 0 0 0; box-shadow: 0px 6px 8px rgba(0, 0, 0, 0.2);\">\n",
    "  Stage 01 - Data collecting 📌\n",
    "</div>"
   ]
  },
  {
   "cell_type": "code",
   "execution_count": 1,
   "metadata": {},
   "outputs": [],
   "source": [
    "import os\n",
    "import sys\n",
    "import pandas as pd\n",
    "import numpy as np\n",
    "import json\n",
    "import threading\n",
    "import warnings\n",
    "import threading\n",
    "warnings.simplefilter('ignore')\n",
    "module_path = os.path.abspath(os.path.join('..'))\n",
    "if module_path not in sys.path:\n",
    "    sys.path.append(module_path)\n",
    "    \n",
    "from src.data_module import make_dataset"
   ]
  },
  {
   "cell_type": "markdown",
   "metadata": {},
   "source": [
    "# Collecting data using Phuc's Computer"
   ]
  },
  {
   "cell_type": "code",
   "execution_count": 3,
   "metadata": {},
   "outputs": [
    {
     "data": {
      "text/plain": [
       "{'DeepLearningAI': 'UCcIXc5mJsHVYTZR1maL5l9w',\n",
       " '3Blue1Brown': 'UCYO_jab_esuFRV4b17AJtAw',\n",
       " 'Joma Tech': 'UCV0qA-eDDICsRR9rPcnG7tw',\n",
       " 'DataCamp': 'UC79Gv3mYp6zKiSwYemEik9A',\n",
       " 'CS Dojo': 'UCxX9wt5FWQUAAz4UrysqK9A',\n",
       " 'sentdex': 'UCfzlCWGWYyIQ0aLC5w48gBQ',\n",
       " 'StatQuest with Josh Starmer': 'UCtYLUTtgS3k1Fg4y5tAhLbw',\n",
       " 'Tech With Tim': 'UC4JX40jDee_tINbkjycV4Sg',\n",
       " '365 Data Science': 'UCEBpSZhI1X8WaP-kY_2LLcg',\n",
       " 'Data Professor': 'UCV8e2g4IWQqK71bbzGDEI4Q',\n",
       " 'Data Science Dojo': 'UCzL_0nIe8B4-7ShhVPfJkgw'}"
      ]
     },
     "execution_count": 3,
     "metadata": {},
     "output_type": "execute_result"
    }
   ],
   "source": [
    "channel_id = json.load(open('../data/external/channel_id_Phuc.json'))\n",
    "channel_id"
   ]
  },
  {
   "cell_type": "markdown",
   "metadata": {},
   "source": [
    "## Collecting all the videos from each channel"
   ]
  },
  {
   "cell_type": "code",
   "execution_count": null,
   "metadata": {},
   "outputs": [],
   "source": [
    "\n",
    "# Create threads to download n channels\n",
    "threads = []\n",
    "\n",
    "for channel, id in channel_id.items():\n",
    "    t = threading.Thread(target=make_dataset.make_dataset_playlist_video, args=(channel, id))\n",
    "    threads.append(t)\n",
    "    t.start()\n",
    "\n",
    "# Wait for all threads to finish\n",
    "for t in threads:\n",
    "    t.join()\n"
   ]
  },
  {
   "cell_type": "markdown",
   "metadata": {},
   "source": [
    "## Collecting some comments from each channel"
   ]
  },
  {
   "cell_type": "code",
   "execution_count": null,
   "metadata": {},
   "outputs": [],
   "source": [
    "thread = []\n",
    "\n",
    "for channel, id in channel_id.items():\n",
    "    t = threading.Thread(target=make_dataset.make_dataset_comment, args=(channel, ))\n",
    "    thread.append(t)\n",
    "    t.start()\n",
    "\n",
    "for t in thread:\n",
    "    t.join()"
   ]
  }
 ],
 "metadata": {
  "kernelspec": {
   "display_name": "min_ds-env",
   "language": "python",
   "name": "python3"
  },
  "language_info": {
   "codemirror_mode": {
    "name": "ipython",
    "version": 3
   },
   "file_extension": ".py",
   "mimetype": "text/x-python",
   "name": "python",
   "nbconvert_exporter": "python",
   "pygments_lexer": "ipython3",
   "version": "3.10.8"
  }
 },
 "nbformat": 4,
 "nbformat_minor": 2
}
