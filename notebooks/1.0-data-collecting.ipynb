{
 "cells": [
  {
   "cell_type": "markdown",
   "metadata": {},
   "source": [
    "<div style=\"text-align: center; background-color: #0A6EBD; font-family: 'Trebuchet MS', Arial, sans-serif; color: white; padding: 20px; font-size: 40px; font-weight: bold; border-radius: 0 0 0 0; box-shadow: 0px 6px 8px rgba(0, 0, 0, 0.2);\">\n",
    "  Lab 02 - Introduction To Data Science @ FIT-HCMUS, VNU-HCM 📌\n",
    "</div>"
   ]
  },
  {
   "cell_type": "markdown",
   "metadata": {},
   "source": [
    "<div style=\"text-align: center; background-color: #5A96E3; font-family: 'Trebuchet MS', Arial, sans-serif; color: white; padding: 20px; font-size: 40px; font-weight: bold; border-radius: 0 0 0 0; box-shadow: 0px 6px 8px rgba(0, 0, 0, 0.2);\">\n",
    "  Stage 01 - Data collecting 📌\n",
    "</div>"
   ]
  },
  {
   "cell_type": "code",
   "execution_count": 3,
   "metadata": {},
   "outputs": [],
   "source": [
    "import os\n",
    "import sys\n",
    "import pandas as pd\n",
    "import numpy as np\n",
    "import json\n",
    "import warnings\n",
    "warnings.simplefilter('ignore')\n",
    "module_path = os.path.abspath(os.path.join('..'))\n",
    "if module_path not in sys.path:\n",
    "    sys.path.append(module_path)\n",
    "    \n",
    "from src.data_module import make_dataset"
   ]
  },
  {
   "cell_type": "code",
   "execution_count": 3,
   "metadata": {},
   "outputs": [],
   "source": [
    "# with open('../data/external/channel_id.json', 'r') as f:\n",
    "#     channel_id = json.load(f)\n",
    "# # remove the last element\n",
    "# channel_id.pop( 'StrataScratch')\n",
    "\n",
    "# # Create 6 threads to download 6 channels\n",
    "# import threading\n",
    "# threads = []\n",
    "\n",
    "# for channel, id in channel_id.items():\n",
    "#     t = threading.Thread(target=make_dataset.make_dataset_playlist_video, args=(channel, id))\n",
    "#     threads.append(t)\n",
    "#     t.start()\n",
    "\n",
    "# # Wait for all threads to finish\n",
    "# for t in threads:\n",
    "#     t.join()"
   ]
  },
  {
   "cell_type": "code",
   "execution_count": 5,
   "metadata": {},
   "outputs": [
    {
     "name": "stderr",
     "output_type": "stream",
     "text": [
      "Exception in thread Thread-15 (make_dataset_comment):\n",
      "Traceback (most recent call last):\n",
      "  File \"/home/phuongnam/apps/mamba/envs/DS-env/lib/python3.10/threading.py\", line 1016, in _bootstrap_inner\n",
      "    self.run()\n",
      "  File \"/home/phuongnam/apps/mamba/envs/DS-env/lib/python3.10/threading.py\", line 953, in run\n",
      "    self._target(*self._args, **self._kwargs)\n",
      "  File \"/home/phuongnam/Documents/DS/Analyzing-about-top-tech-channels-on-Youtube/src/data_module/make_dataset.py\", line 438, in make_dataset_comment\n",
      "    comments_df_temp,errorCodeComment,messageComment=GetComment(video_id)\n",
      "  File \"/home/phuongnam/Documents/DS/Analyzing-about-top-tech-channels-on-Youtube/src/data_module/make_dataset.py\", line 340, in GetComment\n",
      "    comments_df = comments_df.append({'Comment_id':top_cmt_id,'Reply_for':reply_for,'Type':type,'video_id':video_id,\n",
      "  File \"/home/phuongnam/apps/mamba/envs/DS-env/lib/python3.10/site-packages/pandas/core/generic.py\", line 6204, in __getattr__\n",
      "    return object.__getattribute__(self, name)\n",
      "AttributeError: 'DataFrame' object has no attribute 'append'. Did you mean: '_append'?\n",
      "Exception in thread Thread-13 (make_dataset_comment):\n",
      "Traceback (most recent call last):\n",
      "  File \"/home/phuongnam/apps/mamba/envs/DS-env/lib/python3.10/threading.py\", line 1016, in _bootstrap_inner\n",
      "    self.run()\n",
      "  File \"/home/phuongnam/apps/mamba/envs/DS-env/lib/python3.10/threading.py\", line 953, in run\n",
      "    self._target(*self._args, **self._kwargs)\n",
      "  File \"/home/phuongnam/Documents/DS/Analyzing-about-top-tech-channels-on-Youtube/src/data_module/make_dataset.py\", line 438, in make_dataset_comment\n",
      "    comments_df_temp,errorCodeComment,messageComment=GetComment(video_id)\n",
      "  File \"/home/phuongnam/Documents/DS/Analyzing-about-top-tech-channels-on-Youtube/src/data_module/make_dataset.py\", line 340, in GetComment\n",
      "    comments_df = comments_df.append({'Comment_id':top_cmt_id,'Reply_for':reply_for,'Type':type,'video_id':video_id,\n",
      "  File \"/home/phuongnam/apps/mamba/envs/DS-env/lib/python3.10/site-packages/pandas/core/generic.py\", line 6204, in __getattr__\n",
      "    return object.__getattribute__(self, name)\n",
      "AttributeError: 'DataFrame' object has no attribute 'append'. Did you mean: '_append'?\n",
      "Exception in thread Thread-14 (make_dataset_comment):\n",
      "Traceback (most recent call last):\n",
      "  File \"/home/phuongnam/apps/mamba/envs/DS-env/lib/python3.10/threading.py\", line 1016, in _bootstrap_inner\n",
      "    self.run()\n",
      "  File \"/home/phuongnam/apps/mamba/envs/DS-env/lib/python3.10/threading.py\", line 953, in run\n",
      "    self._target(*self._args, **self._kwargs)\n",
      "  File \"/home/phuongnam/Documents/DS/Analyzing-about-top-tech-channels-on-Youtube/src/data_module/make_dataset.py\", line 438, in make_dataset_comment\n",
      "    comments_df_temp,errorCodeComment,messageComment=GetComment(video_id)\n",
      "  File \"/home/phuongnam/Documents/DS/Analyzing-about-top-tech-channels-on-Youtube/src/data_module/make_dataset.py\", line 340, in GetComment\n",
      "    comments_df = comments_df.append({'Comment_id':top_cmt_id,'Reply_for':reply_for,'Type':type,'video_id':video_id,\n",
      "  File \"/home/phuongnam/apps/mamba/envs/DS-env/lib/python3.10/site-packages/pandas/core/generic.py\", line 6204, in __getattr__\n",
      "    return object.__getattribute__(self, name)\n",
      "AttributeError: 'DataFrame' object has no attribute 'append'. Did you mean: '_append'?\n",
      "Exception in thread Thread-12 (make_dataset_comment):\n",
      "Traceback (most recent call last):\n",
      "  File \"/home/phuongnam/apps/mamba/envs/DS-env/lib/python3.10/threading.py\", line 1016, in _bootstrap_inner\n",
      "    self.run()\n",
      "  File \"/home/phuongnam/apps/mamba/envs/DS-env/lib/python3.10/threading.py\", line 953, in run\n",
      "    self._target(*self._args, **self._kwargs)\n",
      "  File \"/home/phuongnam/Documents/DS/Analyzing-about-top-tech-channels-on-Youtube/src/data_module/make_dataset.py\", line 438, in make_dataset_comment\n",
      "    comments_df_temp,errorCodeComment,messageComment=GetComment(video_id)\n",
      "  File \"/home/phuongnam/Documents/DS/Analyzing-about-top-tech-channels-on-Youtube/src/data_module/make_dataset.py\", line 340, in GetComment\n",
      "    comments_df = comments_df.append({'Comment_id':top_cmt_id,'Reply_for':reply_for,'Type':type,'video_id':video_id,\n",
      "  File \"/home/phuongnam/apps/mamba/envs/DS-env/lib/python3.10/site-packages/pandas/core/generic.py\", line 6204, in __getattr__\n",
      "    return object.__getattribute__(self, name)\n",
      "AttributeError: 'DataFrame' object has no attribute 'append'. Did you mean: '_append'?\n",
      "Exception in thread Thread-16 (make_dataset_comment):\n",
      "Traceback (most recent call last):\n",
      "  File \"/home/phuongnam/apps/mamba/envs/DS-env/lib/python3.10/threading.py\", line 1016, in _bootstrap_inner\n",
      "    self.run()\n",
      "  File \"/home/phuongnam/apps/mamba/envs/DS-env/lib/python3.10/threading.py\", line 953, in run\n",
      "    self._target(*self._args, **self._kwargs)\n",
      "  File \"/home/phuongnam/Documents/DS/Analyzing-about-top-tech-channels-on-Youtube/src/data_module/make_dataset.py\", line 438, in make_dataset_comment\n",
      "    comments_df_temp,errorCodeComment,messageComment=GetComment(video_id)\n",
      "  File \"/home/phuongnam/Documents/DS/Analyzing-about-top-tech-channels-on-Youtube/src/data_module/make_dataset.py\", line 340, in GetComment\n",
      "    comments_df = comments_df.append({'Comment_id':top_cmt_id,'Reply_for':reply_for,'Type':type,'video_id':video_id,\n",
      "  File \"/home/phuongnam/apps/mamba/envs/DS-env/lib/python3.10/site-packages/pandas/core/generic.py\", line 6204, in __getattr__\n",
      "    return object.__getattribute__(self, name)\n",
      "AttributeError: 'DataFrame' object has no attribute 'append'. Did you mean: '_append'?\n",
      "Exception in thread Thread-11 (make_dataset_comment):\n",
      "Traceback (most recent call last):\n",
      "  File \"/home/phuongnam/apps/mamba/envs/DS-env/lib/python3.10/threading.py\", line 1016, in _bootstrap_inner\n",
      "    self.run()\n",
      "  File \"/home/phuongnam/apps/mamba/envs/DS-env/lib/python3.10/threading.py\", line 953, in run\n",
      "    self._target(*self._args, **self._kwargs)\n",
      "  File \"/home/phuongnam/Documents/DS/Analyzing-about-top-tech-channels-on-Youtube/src/data_module/make_dataset.py\", line 438, in make_dataset_comment\n",
      "    comments_df_temp,errorCodeComment,messageComment=GetComment(video_id)\n",
      "  File \"/home/phuongnam/Documents/DS/Analyzing-about-top-tech-channels-on-Youtube/src/data_module/make_dataset.py\", line 340, in GetComment\n",
      "    comments_df = comments_df.append({'Comment_id':top_cmt_id,'Reply_for':reply_for,'Type':type,'video_id':video_id,\n",
      "  File \"/home/phuongnam/apps/mamba/envs/DS-env/lib/python3.10/site-packages/pandas/core/generic.py\", line 6204, in __getattr__\n",
      "    return object.__getattribute__(self, name)\n",
      "AttributeError: 'DataFrame' object has no attribute 'append'. Did you mean: '_append'?\n"
     ]
    }
   ],
   "source": [
    "with open('../data/external/channel_id.json', 'r') as f:\n",
    "    channel_id = json.load(f)\n",
    "channel_id.pop( 'StrataScratch')\n",
    "channel_id.pop('TheAiGrid')\n",
    "# Create threads to download commments from channels\n",
    "import threading\n",
    "threads = []\n",
    "\n",
    "\n",
    "#Get 3 first channels\n",
    "# channel_id = dict(list(channel_id.items())[:1])\n",
    "for channel, id in channel_id.items():\n",
    "    t = threading.Thread(target=make_dataset.make_dataset_comment, args=(channel,))\n",
    "    threads.append(t)\n",
    "    t.start()\n",
    "\n",
    "# Wait for all threads to finish\n",
    "for t in threads:\n",
    "    t.join()"
   ]
  },
  {
   "cell_type": "code",
   "execution_count": 9,
   "metadata": {},
   "outputs": [
    {
     "data": {
      "text/plain": [
       "(Empty DataFrame\n",
       " Columns: []\n",
       " Index: [],\n",
       " 2,\n",
       " 'No replies found from comment id: UgxFerT1dZpZU7jNrqN4AaABAg')"
      ]
     },
     "execution_count": 9,
     "metadata": {},
     "output_type": "execute_result"
    }
   ],
   "source": [
    "reply_cmt=make_dataset.GetCommentReply('UgxFerT1dZpZU7jNrqN4AaABAg','in3IB45YEgY')\n",
    "reply_cmt"
   ]
  }
 ],
 "metadata": {
  "kernelspec": {
   "display_name": "DS-env",
   "language": "python",
   "name": "python3"
  },
  "language_info": {
   "codemirror_mode": {
    "name": "ipython",
    "version": 3
   },
   "file_extension": ".py",
   "mimetype": "text/x-python",
   "name": "python",
   "nbconvert_exporter": "python",
   "pygments_lexer": "ipython3",
   "version": "3.10.13"
  }
 },
 "nbformat": 4,
 "nbformat_minor": 2
}
