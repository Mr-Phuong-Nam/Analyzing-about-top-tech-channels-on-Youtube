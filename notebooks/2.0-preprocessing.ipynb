{
 "cells": [
  {
   "cell_type": "markdown",
   "metadata": {},
   "source": [
    "<div style=\"text-align: center; background-color: #559cff; font-family: 'Trebuchet MS', Arial, sans-serif; color: white; padding: 20px; font-size: 40px; font-weight: bold; border-radius: 0 0 0 0; box-shadow: 0px 6px 8px rgba(0, 0, 0, 0.2);\">\n",
    "  Lab 02 - Introduction To Data Science @ FIT-HCMUS, VNU-HCM 📌\n",
    "</div>"
   ]
  },
  {
   "cell_type": "markdown",
   "metadata": {},
   "source": [
    "<div style=\"text-align: center; background-color: #b1d1ff; font-family: 'Trebuchet MS', Arial, sans-serif; color: white; padding: 20px; font-size: 40px; font-weight: bold; border-radius: 0 0 0 0; box-shadow: 0px 6px 8px rgba(0, 0, 0, 0.2);\">\n",
    "  Stage 02 - Preprocessing\n",
    "</div>"
   ]
  },
  {
   "cell_type": "markdown",
   "metadata": {},
   "source": [
    "## Import"
   ]
  },
  {
   "cell_type": "code",
   "execution_count": null,
   "metadata": {},
   "outputs": [],
   "source": [
    "import os\n",
    "import sys\n",
    "import json\n",
    "import ast\n",
    "\n",
    "import numpy as np\n",
    "import pandas as pd\n",
    "import matplotlib.pyplot as plt"
   ]
  },
  {
   "cell_type": "markdown",
   "metadata": {},
   "source": [
    "## Exploring data"
   ]
  },
  {
   "cell_type": "markdown",
   "metadata": {},
   "source": [
    "### Combine raw data into dataframes for both video and comment sections"
   ]
  },
  {
   "cell_type": "code",
   "execution_count": null,
   "metadata": {},
   "outputs": [],
   "source": [
    "raw_data_path = '../data/raw/'\n",
    "\n",
    "with open('../data/external/channel_id_Phuc.json', 'r') as file:\n",
    "    channel_id = json.load(file)\n",
    "\n",
    "list_df_videos = []\n",
    "list_df_comments = []\n",
    "\n",
    "for channel, id in channel_id.items():\n",
    "    list_df_videos.append(pd.read_csv(raw_data_path + channel + '_videos.csv', engine = 'python'))\n",
    "    list_df_comments.append(pd.read_csv(raw_data_path + channel + '_comments.csv', engine = 'python'))\n",
    "    \n",
    "df_videos = pd.concat(list_df_videos, ignore_index = True)\n",
    "df_comments = pd.concat(list_df_comments, ignore_index = True)"
   ]
  },
  {
   "cell_type": "code",
   "execution_count": null,
   "metadata": {},
   "outputs": [],
   "source": [
    "df_videos.head()"
   ]
  },
  {
   "cell_type": "code",
   "execution_count": null,
   "metadata": {},
   "outputs": [],
   "source": [
    "df_comments.head()"
   ]
  },
  {
   "cell_type": "markdown",
   "metadata": {},
   "source": [
    "### The size of the datasets"
   ]
  },
  {
   "cell_type": "markdown",
   "metadata": {},
   "source": [
    "#### Videos section"
   ]
  },
  {
   "cell_type": "code",
   "execution_count": null,
   "metadata": {},
   "outputs": [],
   "source": [
    "print('Rows:', df_videos.shape[0])\n",
    "print('Columns:', df_videos.shape[1])"
   ]
  },
  {
   "cell_type": "markdown",
   "metadata": {},
   "source": [
    "#### Comments section"
   ]
  },
  {
   "cell_type": "code",
   "execution_count": null,
   "metadata": {},
   "outputs": [],
   "source": [
    "print('Rows:', df_comments.shape[0])\n",
    "print('Columns:', df_comments.shape[1])"
   ]
  },
  {
   "cell_type": "markdown",
   "metadata": {},
   "source": [
    "### The meaning of each column"
   ]
  },
  {
   "cell_type": "markdown",
   "metadata": {},
   "source": [
    "**Videos dataset**\n",
    "- `playlist_id`: Playlist ID.\n",
    "- `video_id`: Video ID.\n",
    "- `title`: Video title.\n",
    "- `published`: Publication date of the video.\n",
    "- `view_count`: The video's view count.\n",
    "- `like_count`: The video's like count.\n",
    "- `comment_count`: The video's comment count.\n",
    "- `duration`: How long the video is.\n",
    "- `definition`: How much information is captured and reproduced (eg. hd, sd).\n",
    "- `tags`: Tags of the video.\n",
    "- `default_audio_language`: Default audio language of the video.\n",
    "- `madeforkid`: Mark if this video is made for kids or not.\n",
    "- `playlist_title`: Playlist title.\n",
    "- `channel_id`: The channel ID.\n",
    "- `channelTitle`: The channel title.\n",
    "- `playlist_published`: Publication date of the channel.\n",
    "- `playlist_numvideo`: The number of videos in playlist."
   ]
  },
  {
   "cell_type": "markdown",
   "metadata": {},
   "source": [
    "**Comments dataset**\n",
    "- `Comment_id`: Comment ID.\n",
    "- `author`: Author of the comment.\n",
    "- `Reply_for`: The parent comment ID that this comment replied to.\n",
    "- `Type`: Type of comment (top-level comment (1) or reply(2)).\n",
    "- `video_id`: The video ID.\n",
    "- `total_reply`: Total responses to this comment.\n",
    "- `like_count`: The comment's like count.\n",
    "- `published_at`: Publication date of the comment.\n",
    "- `textdisplay`: The content of the comment.\n",
    "- `updatedat`: The comment's updated date."
   ]
  },
  {
   "cell_type": "markdown",
   "metadata": {},
   "source": [
    "### Duplicated rows"
   ]
  },
  {
   "cell_type": "markdown",
   "metadata": {},
   "source": [
    "#### Videos section"
   ]
  },
  {
   "cell_type": "markdown",
   "metadata": {},
   "source": [
    "How many duplicated rows do the `df_videos` have?"
   ]
  },
  {
   "cell_type": "code",
   "execution_count": null,
   "metadata": {},
   "outputs": [],
   "source": [
    "df_videos.duplicated().sum()"
   ]
  },
  {
   "cell_type": "code",
   "execution_count": null,
   "metadata": {},
   "outputs": [],
   "source": [
    "df_videos[df_videos.duplicated(keep = False)]"
   ]
  },
  {
   "cell_type": "markdown",
   "metadata": {},
   "source": [
    "#### Comments section"
   ]
  },
  {
   "cell_type": "markdown",
   "metadata": {},
   "source": [
    "How many duplicated rows do the `df_comments` have?"
   ]
  },
  {
   "cell_type": "code",
   "execution_count": null,
   "metadata": {},
   "outputs": [],
   "source": [
    "df_comments.duplicated().sum()"
   ]
  },
  {
   "cell_type": "code",
   "execution_count": null,
   "metadata": {},
   "outputs": [],
   "source": [
    "df_comments[df_comments.duplicated(keep = False)]"
   ]
  },
  {
   "cell_type": "markdown",
   "metadata": {},
   "source": [
    "#### Drop duplicate rows"
   ]
  },
  {
   "cell_type": "code",
   "execution_count": null,
   "metadata": {},
   "outputs": [],
   "source": [
    "df_videos = df_videos.drop_duplicates()\n",
    "df_comments = df_comments.drop_duplicates()"
   ]
  },
  {
   "cell_type": "markdown",
   "metadata": {},
   "source": [
    "### Current column types in datasets"
   ]
  },
  {
   "cell_type": "markdown",
   "metadata": {},
   "source": [
    "#### Videos section"
   ]
  },
  {
   "cell_type": "code",
   "execution_count": null,
   "metadata": {},
   "outputs": [],
   "source": [
    "df_videos.dtypes"
   ]
  },
  {
   "cell_type": "markdown",
   "metadata": {},
   "source": [
    "The following fields need to be converted to the specified data types:\n",
    "- `published` and `playlist_published` to datetime.\n",
    "- `duration` to timedelta.\n",
    "- `tags` to a list of strings."
   ]
  },
  {
   "cell_type": "code",
   "execution_count": null,
   "metadata": {},
   "outputs": [],
   "source": [
    "df_videos['published'] =  df_videos['published'].apply(pd.to_datetime)\n",
    "df_videos['duration'] = df_videos['duration'].apply(pd.to_timedelta)\n",
    "df_videos['tags'] = df_videos['tags'].apply(lambda x: ast.literal_eval(x) if pd.notnull(x) else np.nan)\n",
    "df_videos['playlist_published'] = df_videos['playlist_published'].apply(pd.to_datetime)"
   ]
  },
  {
   "cell_type": "markdown",
   "metadata": {},
   "source": [
    "#### Comments section"
   ]
  },
  {
   "cell_type": "code",
   "execution_count": null,
   "metadata": {},
   "outputs": [],
   "source": [
    "df_comments.dtypes"
   ]
  },
  {
   "cell_type": "markdown",
   "metadata": {},
   "source": [
    "The `published_at` and `updatedat` fields need to be converted to datetime."
   ]
  },
  {
   "cell_type": "code",
   "execution_count": null,
   "metadata": {},
   "outputs": [],
   "source": [
    "df_comments['published_at'] =  df_comments['published_at'].apply(pd.to_datetime)\n",
    "df_comments['updatedat'] =  df_comments['updatedat'].apply(pd.to_datetime)"
   ]
  },
  {
   "cell_type": "markdown",
   "metadata": {},
   "source": [
    "Next, we will drop columns that are unnecessary for subsequent steps."
   ]
  },
  {
   "cell_type": "code",
   "execution_count": null,
   "metadata": {},
   "outputs": [],
   "source": [
    "df_videos = df_videos.drop(columns = ['playlist_id', 'channel_id'])\n",
    "df_comments = df_comments.drop(columns = ['Comment_id'])"
   ]
  },
  {
   "cell_type": "markdown",
   "metadata": {},
   "source": [
    "### Distribution of Values for Numeric Columns"
   ]
  },
  {
   "cell_type": "code",
   "execution_count": null,
   "metadata": {},
   "outputs": [],
   "source": [
    "def num_missing_ratio(column):\n",
    "    return (column.isnull().sum() / len(column) * 100).round(1)\n",
    "\n",
    "def num_lower_quartile(column):\n",
    "    return column.quantile(0.25)\n",
    "\n",
    "def num_median(column):\n",
    "    return column.quantile(0.5)\n",
    "\n",
    "def num_upper_quartile(column):\n",
    "    return column.quantile(0.75)"
   ]
  },
  {
   "cell_type": "code",
   "execution_count": null,
   "metadata": {},
   "outputs": [],
   "source": [
    "num_col_info_df_videos = df_videos.select_dtypes(include = ['int64', 'float64'])\n",
    "\n",
    "num_col_info_df_videos = num_col_info_df_videos.agg([num_missing_ratio, \"min\", num_lower_quartile, num_median, num_upper_quartile, \"max\"])\n",
    "num_col_info_df_videos"
   ]
  },
  {
   "cell_type": "code",
   "execution_count": null,
   "metadata": {},
   "outputs": [],
   "source": [
    "num_col_info_df_comments = df_comments.select_dtypes(include = ['int64', 'float64'])\n",
    "\n",
    "num_col_info_df_comments = num_col_info_df_comments.agg([num_missing_ratio, \"min\", num_lower_quartile, num_median, num_upper_quartile, \"max\"])\n",
    "num_col_info_df_comments"
   ]
  },
  {
   "cell_type": "markdown",
   "metadata": {},
   "source": [
    "### Distribution of Values for Non-numeric Columns"
   ]
  },
  {
   "cell_type": "code",
   "execution_count": null,
   "metadata": {},
   "outputs": [],
   "source": [
    "def cat_missing_ratio(column):\n",
    "    return (column.isnull().sum() / len(column) * 100).round(1)\n",
    "\n",
    "def cat_num_values(column):\n",
    "    if type(column[0] == 'list'):\n",
    "        column = column.explode()\n",
    "    return column.nunique()\n",
    "\n",
    "def cat_value_ratios(column):\n",
    "    if type(column[0] == 'list'):\n",
    "        column = column.explode()\n",
    "    return column.value_counts(normalize=True).sort_values(axis = 0).to_dict()"
   ]
  },
  {
   "cell_type": "code",
   "execution_count": null,
   "metadata": {},
   "outputs": [],
   "source": [
    "cat_col_info_df_videos = df_videos[['definition', 'tags', 'default_audio_language']]\n",
    "\n",
    "cat_col_info_df_videos = cat_col_info_df_videos.agg([cat_missing_ratio, cat_num_values, cat_value_ratios])\n",
    "cat_col_info_df_videos"
   ]
  },
  {
   "cell_type": "code",
   "execution_count": null,
   "metadata": {},
   "outputs": [],
   "source": [
    "cat_col_info_df_comments = df_comments[['author']]\n",
    "\n",
    "cat_col_info_df_comments = cat_col_info_df_comments.agg([cat_missing_ratio, cat_num_values, cat_value_ratios])\n",
    "cat_col_info_df_comments"
   ]
  },
  {
   "cell_type": "markdown",
   "metadata": {},
   "source": [
    "### Save the processed data"
   ]
  },
  {
   "cell_type": "code",
   "execution_count": null,
   "metadata": {},
   "outputs": [],
   "source": [
    "processed_data_path = '../data/processed/'\n",
    "\n",
    "df_videos.to_csv(processed_data_path + 'df_videos_processed.csv', i,,,,ndex = False)\n",
    "df_comments.to_csv(processed_data_path + 'df_comments_processed.csv', index = False)"
   ]
  }
 ],
 "metadata": {
  "kernelspec": {
   "display_name": "min_ds-env",
   "language": "python",
   "name": "python3"
  },
  "language_info": {
   "codemirror_mode": {
    "name": "ipython",
    "version": 3
   },
   "file_extension": ".py",
   "mimetype": "text/x-python",
   "name": "python",
   "nbconvert_exporter": "python",
   "pygments_lexer": "ipython3",
   "version": "3.10.8"
  }
 },
 "nbformat": 4,
 "nbformat_minor": 2
}
