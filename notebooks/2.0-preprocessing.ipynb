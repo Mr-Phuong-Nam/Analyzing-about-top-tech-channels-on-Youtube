{
 "cells": [
  {
   "cell_type": "markdown",
   "metadata": {},
   "source": [
    "<div style=\"text-align: center; background-color: #559cff; font-family: 'Trebuchet MS', Arial, sans-serif; color: white; padding: 20px; font-size: 40px; font-weight: bold; border-radius: 0 0 0 0; box-shadow: 0px 6px 8px rgba(0, 0, 0, 0.2);\">\n",
    "  Lab 02 - Introduction To Data Science @ FIT-HCMUS, VNU-HCM 📌\n",
    "</div>"
   ]
  },
  {
   "cell_type": "markdown",
   "metadata": {},
   "source": [
    "<div style=\"text-align: center; background-color: #b1d1ff; font-family: 'Trebuchet MS', Arial, sans-serif; color: white; padding: 20px; font-size: 40px; font-weight: bold; border-radius: 0 0 0 0; box-shadow: 0px 6px 8px rgba(0, 0, 0, 0.2);\">\n",
    "  Stage 02 - Preprocessing\n",
    "</div>"
   ]
  },
  {
   "cell_type": "markdown",
   "metadata": {},
   "source": [
    "## Import"
   ]
  },
  {
   "cell_type": "code",
   "execution_count": 1,
   "metadata": {},
   "outputs": [],
   "source": [
    "import os\n",
    "import sys\n",
    "import json\n",
    "import ast\n",
    "\n",
    "import numpy as np\n",
    "import pandas as pd\n",
    "import matplotlib.pyplot as plt\n",
    "import csv"
   ]
  },
  {
   "cell_type": "markdown",
   "metadata": {},
   "source": [
    "## Exploring data"
   ]
  },
  {
   "cell_type": "markdown",
   "metadata": {},
   "source": [
    "### Combine raw data into dataframes for both video and comment sections"
   ]
  },
  {
   "cell_type": "code",
   "execution_count": 2,
   "metadata": {},
   "outputs": [],
   "source": [
    "raw_data_path = '../data/raw/'\n",
    "\n",
    "with open('../data/external/channel_id_Phuc.json', 'r') as file:\n",
    "    channel_id_phuc = json.load(file)\n",
    "\n",
    "with open('../data/external/channel_id_nam.json', 'r') as file:\n",
    "    channel_id_nam = json.load(file)\n",
    "\n",
    "list_df_videos = []\n",
    "list_df_comments = []\n",
    "\n",
    "for channel, id in channel_id_phuc.items():\n",
    "    list_df_videos.append(pd.read_csv(raw_data_path + channel + '_videos.csv'))\n",
    "    list_df_comments.append(pd.read_csv(raw_data_path + channel + '_comments.csv', lineterminator = '\\n'))\n",
    "\n",
    "for channel, id in channel_id_nam.items():\n",
    "    list_df_videos.append(pd.read_csv(raw_data_path + channel + '_videos.csv'))\n",
    "    list_df_comments.append(pd.read_csv(raw_data_path + channel + '_comments.csv', lineterminator = '\\n'))\n",
    "\n",
    "    \n",
    "df_videos = pd.concat(list_df_videos, ignore_index = True)\n",
    "df_comments = pd.concat(list_df_comments, ignore_index = True)"
   ]
  },
  {
   "cell_type": "code",
   "execution_count": 3,
   "metadata": {},
   "outputs": [
    {
     "data": {
      "text/html": [
       "<div>\n",
       "<style scoped>\n",
       "    .dataframe tbody tr th:only-of-type {\n",
       "        vertical-align: middle;\n",
       "    }\n",
       "\n",
       "    .dataframe tbody tr th {\n",
       "        vertical-align: top;\n",
       "    }\n",
       "\n",
       "    .dataframe thead th {\n",
       "        text-align: right;\n",
       "    }\n",
       "</style>\n",
       "<table border=\"1\" class=\"dataframe\">\n",
       "  <thead>\n",
       "    <tr style=\"text-align: right;\">\n",
       "      <th></th>\n",
       "      <th>video_id</th>\n",
       "      <th>title</th>\n",
       "      <th>published</th>\n",
       "      <th>view_count</th>\n",
       "      <th>like_count</th>\n",
       "      <th>comment_count</th>\n",
       "      <th>duration</th>\n",
       "      <th>definition</th>\n",
       "      <th>tags</th>\n",
       "      <th>default_audio_language</th>\n",
       "      <th>madeforkid</th>\n",
       "      <th>channel_id</th>\n",
       "      <th>channelTitle</th>\n",
       "    </tr>\n",
       "  </thead>\n",
       "  <tbody>\n",
       "    <tr>\n",
       "      <th>0</th>\n",
       "      <td>hh6gE0LxfO8</td>\n",
       "      <td>#5 Machine Learning Specialization [Course 1, ...</td>\n",
       "      <td>2022-12-01T13:21:30Z</td>\n",
       "      <td>30742</td>\n",
       "      <td>319.0</td>\n",
       "      <td>6.0</td>\n",
       "      <td>PT7M17S</td>\n",
       "      <td>hd</td>\n",
       "      <td>NaN</td>\n",
       "      <td>en</td>\n",
       "      <td>False</td>\n",
       "      <td>UCcIXc5mJsHVYTZR1maL5l9w</td>\n",
       "      <td>DeepLearningAI</td>\n",
       "    </tr>\n",
       "    <tr>\n",
       "      <th>1</th>\n",
       "      <td>_i3aqgKVNQI</td>\n",
       "      <td>C5W3L01 Basic Models</td>\n",
       "      <td>2018-02-05T19:50:14Z</td>\n",
       "      <td>110835</td>\n",
       "      <td>436.0</td>\n",
       "      <td>12.0</td>\n",
       "      <td>PT6M19S</td>\n",
       "      <td>hd</td>\n",
       "      <td>NaN</td>\n",
       "      <td>en</td>\n",
       "      <td>False</td>\n",
       "      <td>UCcIXc5mJsHVYTZR1maL5l9w</td>\n",
       "      <td>DeepLearningAI</td>\n",
       "    </tr>\n",
       "    <tr>\n",
       "      <th>2</th>\n",
       "      <td>uvTL1N02f04</td>\n",
       "      <td>#23 Machine Learning Specialization [Course 1,...</td>\n",
       "      <td>2022-12-01T13:22:38Z</td>\n",
       "      <td>11639</td>\n",
       "      <td>107.0</td>\n",
       "      <td>4.0</td>\n",
       "      <td>PT6M53S</td>\n",
       "      <td>hd</td>\n",
       "      <td>NaN</td>\n",
       "      <td>en</td>\n",
       "      <td>False</td>\n",
       "      <td>UCcIXc5mJsHVYTZR1maL5l9w</td>\n",
       "      <td>DeepLearningAI</td>\n",
       "    </tr>\n",
       "    <tr>\n",
       "      <th>3</th>\n",
       "      <td>H4YK_7MAckk</td>\n",
       "      <td>ChatGPT Prompt Engineering for Developers: A s...</td>\n",
       "      <td>2023-04-27T14:49:09Z</td>\n",
       "      <td>143057</td>\n",
       "      <td>2847.0</td>\n",
       "      <td>121.0</td>\n",
       "      <td>PT1M58S</td>\n",
       "      <td>hd</td>\n",
       "      <td>['ChatGPT', 'prompt engineering', 'openai', 'd...</td>\n",
       "      <td>en</td>\n",
       "      <td>False</td>\n",
       "      <td>UCcIXc5mJsHVYTZR1maL5l9w</td>\n",
       "      <td>DeepLearningAI</td>\n",
       "    </tr>\n",
       "    <tr>\n",
       "      <th>4</th>\n",
       "      <td>YVtP5UGdgXg</td>\n",
       "      <td>#25 Machine Learning Specialization [Course 1,...</td>\n",
       "      <td>2022-12-01T13:22:45Z</td>\n",
       "      <td>11542</td>\n",
       "      <td>106.0</td>\n",
       "      <td>1.0</td>\n",
       "      <td>PT6M35S</td>\n",
       "      <td>hd</td>\n",
       "      <td>NaN</td>\n",
       "      <td>en</td>\n",
       "      <td>False</td>\n",
       "      <td>UCcIXc5mJsHVYTZR1maL5l9w</td>\n",
       "      <td>DeepLearningAI</td>\n",
       "    </tr>\n",
       "  </tbody>\n",
       "</table>\n",
       "</div>"
      ],
      "text/plain": [
       "      video_id                                              title  \\\n",
       "0  hh6gE0LxfO8  #5 Machine Learning Specialization [Course 1, ...   \n",
       "1  _i3aqgKVNQI                               C5W3L01 Basic Models   \n",
       "2  uvTL1N02f04  #23 Machine Learning Specialization [Course 1,...   \n",
       "3  H4YK_7MAckk  ChatGPT Prompt Engineering for Developers: A s...   \n",
       "4  YVtP5UGdgXg  #25 Machine Learning Specialization [Course 1,...   \n",
       "\n",
       "              published  view_count  like_count  comment_count duration  \\\n",
       "0  2022-12-01T13:21:30Z       30742       319.0            6.0  PT7M17S   \n",
       "1  2018-02-05T19:50:14Z      110835       436.0           12.0  PT6M19S   \n",
       "2  2022-12-01T13:22:38Z       11639       107.0            4.0  PT6M53S   \n",
       "3  2023-04-27T14:49:09Z      143057      2847.0          121.0  PT1M58S   \n",
       "4  2022-12-01T13:22:45Z       11542       106.0            1.0  PT6M35S   \n",
       "\n",
       "  definition                                               tags  \\\n",
       "0         hd                                                NaN   \n",
       "1         hd                                                NaN   \n",
       "2         hd                                                NaN   \n",
       "3         hd  ['ChatGPT', 'prompt engineering', 'openai', 'd...   \n",
       "4         hd                                                NaN   \n",
       "\n",
       "  default_audio_language  madeforkid                channel_id    channelTitle  \n",
       "0                     en       False  UCcIXc5mJsHVYTZR1maL5l9w  DeepLearningAI  \n",
       "1                     en       False  UCcIXc5mJsHVYTZR1maL5l9w  DeepLearningAI  \n",
       "2                     en       False  UCcIXc5mJsHVYTZR1maL5l9w  DeepLearningAI  \n",
       "3                     en       False  UCcIXc5mJsHVYTZR1maL5l9w  DeepLearningAI  \n",
       "4                     en       False  UCcIXc5mJsHVYTZR1maL5l9w  DeepLearningAI  "
      ]
     },
     "execution_count": 3,
     "metadata": {},
     "output_type": "execute_result"
    }
   ],
   "source": [
    "df_videos.head()"
   ]
  },
  {
   "cell_type": "code",
   "execution_count": 4,
   "metadata": {},
   "outputs": [
    {
     "data": {
      "text/html": [
       "<div>\n",
       "<style scoped>\n",
       "    .dataframe tbody tr th:only-of-type {\n",
       "        vertical-align: middle;\n",
       "    }\n",
       "\n",
       "    .dataframe tbody tr th {\n",
       "        vertical-align: top;\n",
       "    }\n",
       "\n",
       "    .dataframe thead th {\n",
       "        text-align: right;\n",
       "    }\n",
       "</style>\n",
       "<table border=\"1\" class=\"dataframe\">\n",
       "  <thead>\n",
       "    <tr style=\"text-align: right;\">\n",
       "      <th></th>\n",
       "      <th>Comment_id</th>\n",
       "      <th>author</th>\n",
       "      <th>Reply_for</th>\n",
       "      <th>Type</th>\n",
       "      <th>video_id</th>\n",
       "      <th>total_reply</th>\n",
       "      <th>like_count</th>\n",
       "      <th>published_at</th>\n",
       "      <th>textdisplay</th>\n",
       "      <th>updatedat</th>\n",
       "    </tr>\n",
       "  </thead>\n",
       "  <tbody>\n",
       "    <tr>\n",
       "      <th>0</th>\n",
       "      <td>Ugw5fySq5NxfwgCuFhB4AaABAg</td>\n",
       "      <td>@AiexpertRajivVerma</td>\n",
       "      <td>NaN</td>\n",
       "      <td>1.0</td>\n",
       "      <td>H_8ZVRRtiIA</td>\n",
       "      <td>0.0</td>\n",
       "      <td>0.0</td>\n",
       "      <td>2023-12-11T01:11:19Z</td>\n",
       "      <td>Sir thank you love love 💕❤️❤❤️❤❤❤❤❤❤ you for f...</td>\n",
       "      <td>2023-12-11T01:11:19Z</td>\n",
       "    </tr>\n",
       "    <tr>\n",
       "      <th>1</th>\n",
       "      <td>Ugw_73FC0tI1B6PW9nh4AaABAg</td>\n",
       "      <td>@hamasali8764</td>\n",
       "      <td>NaN</td>\n",
       "      <td>1.0</td>\n",
       "      <td>bZwkaVnhEo4</td>\n",
       "      <td>0.0</td>\n",
       "      <td>0.0</td>\n",
       "      <td>2023-07-27T16:54:52Z</td>\n",
       "      <td>Best One🎉</td>\n",
       "      <td>2023-07-27T16:54:52Z</td>\n",
       "    </tr>\n",
       "    <tr>\n",
       "      <th>2</th>\n",
       "      <td>Ugx1qnyHmXF9-BjhIWR4AaABAg</td>\n",
       "      <td>@R0H00</td>\n",
       "      <td>NaN</td>\n",
       "      <td>1.0</td>\n",
       "      <td>hkOosfWxBK4</td>\n",
       "      <td>0.0</td>\n",
       "      <td>1.0</td>\n",
       "      <td>2023-11-18T02:51:01Z</td>\n",
       "      <td>Hi, I&amp;#39;m a clinician who is working in the ...</td>\n",
       "      <td>2023-11-18T02:51:01Z</td>\n",
       "    </tr>\n",
       "    <tr>\n",
       "      <th>3</th>\n",
       "      <td>UgyNZvEu-Ht9ZlLwOXp4AaABAg</td>\n",
       "      <td>@nitinsnoisepollution6293</td>\n",
       "      <td>NaN</td>\n",
       "      <td>1.0</td>\n",
       "      <td>hkOosfWxBK4</td>\n",
       "      <td>0.0</td>\n",
       "      <td>0.0</td>\n",
       "      <td>2023-11-17T20:39:13Z</td>\n",
       "      <td>Superb 🎉❤</td>\n",
       "      <td>2023-11-17T20:39:13Z</td>\n",
       "    </tr>\n",
       "    <tr>\n",
       "      <th>4</th>\n",
       "      <td>UgzAxiiLaxyBHEcRw0R4AaABAg</td>\n",
       "      <td>@REDBONDYT</td>\n",
       "      <td>NaN</td>\n",
       "      <td>1.0</td>\n",
       "      <td>Fxq6vjJwX3o</td>\n",
       "      <td>0.0</td>\n",
       "      <td>1.0</td>\n",
       "      <td>2023-07-30T12:36:13Z</td>\n",
       "      <td>Very informative 😃😺</td>\n",
       "      <td>2023-07-30T12:36:13Z</td>\n",
       "    </tr>\n",
       "  </tbody>\n",
       "</table>\n",
       "</div>"
      ],
      "text/plain": [
       "                   Comment_id                     author Reply_for  Type  \\\n",
       "0  Ugw5fySq5NxfwgCuFhB4AaABAg        @AiexpertRajivVerma       NaN   1.0   \n",
       "1  Ugw_73FC0tI1B6PW9nh4AaABAg              @hamasali8764       NaN   1.0   \n",
       "2  Ugx1qnyHmXF9-BjhIWR4AaABAg                     @R0H00       NaN   1.0   \n",
       "3  UgyNZvEu-Ht9ZlLwOXp4AaABAg  @nitinsnoisepollution6293       NaN   1.0   \n",
       "4  UgzAxiiLaxyBHEcRw0R4AaABAg                 @REDBONDYT       NaN   1.0   \n",
       "\n",
       "      video_id  total_reply  like_count          published_at  \\\n",
       "0  H_8ZVRRtiIA          0.0         0.0  2023-12-11T01:11:19Z   \n",
       "1  bZwkaVnhEo4          0.0         0.0  2023-07-27T16:54:52Z   \n",
       "2  hkOosfWxBK4          0.0         1.0  2023-11-18T02:51:01Z   \n",
       "3  hkOosfWxBK4          0.0         0.0  2023-11-17T20:39:13Z   \n",
       "4  Fxq6vjJwX3o          0.0         1.0  2023-07-30T12:36:13Z   \n",
       "\n",
       "                                         textdisplay             updatedat  \n",
       "0  Sir thank you love love 💕❤️❤❤️❤❤❤❤❤❤ you for f...  2023-12-11T01:11:19Z  \n",
       "1                                          Best One🎉  2023-07-27T16:54:52Z  \n",
       "2  Hi, I&#39;m a clinician who is working in the ...  2023-11-18T02:51:01Z  \n",
       "3                                          Superb 🎉❤  2023-11-17T20:39:13Z  \n",
       "4                                Very informative 😃😺  2023-07-30T12:36:13Z  "
      ]
     },
     "execution_count": 4,
     "metadata": {},
     "output_type": "execute_result"
    }
   ],
   "source": [
    "df_comments.head()"
   ]
  },
  {
   "cell_type": "markdown",
   "metadata": {},
   "source": [
    "#### Overview"
   ]
  },
  {
   "cell_type": "code",
   "execution_count": 5,
   "metadata": {},
   "outputs": [
    {
     "name": "stdout",
     "output_type": "stream",
     "text": [
      "<class 'pandas.core.frame.DataFrame'>\n",
      "RangeIndex: 5879 entries, 0 to 5878\n",
      "Data columns (total 13 columns):\n",
      " #   Column                  Non-Null Count  Dtype  \n",
      "---  ------                  --------------  -----  \n",
      " 0   video_id                5879 non-null   object \n",
      " 1   title                   5879 non-null   object \n",
      " 2   published               5879 non-null   object \n",
      " 3   view_count              5879 non-null   int64  \n",
      " 4   like_count              5829 non-null   float64\n",
      " 5   comment_count           5873 non-null   float64\n",
      " 6   duration                5879 non-null   object \n",
      " 7   definition              5879 non-null   object \n",
      " 8   tags                    5064 non-null   object \n",
      " 9   default_audio_language  5498 non-null   object \n",
      " 10  madeforkid              5879 non-null   bool   \n",
      " 11  channel_id              5879 non-null   object \n",
      " 12  channelTitle            5879 non-null   object \n",
      "dtypes: bool(1), float64(2), int64(1), object(9)\n",
      "memory usage: 557.0+ KB\n"
     ]
    }
   ],
   "source": [
    "df_videos.info()"
   ]
  },
  {
   "cell_type": "code",
   "execution_count": 6,
   "metadata": {},
   "outputs": [
    {
     "name": "stdout",
     "output_type": "stream",
     "text": [
      "<class 'pandas.core.frame.DataFrame'>\n",
      "RangeIndex: 177643 entries, 0 to 177642\n",
      "Data columns (total 10 columns):\n",
      " #   Column        Non-Null Count   Dtype  \n",
      "---  ------        --------------   -----  \n",
      " 0   Comment_id    177643 non-null  object \n",
      " 1   author        177640 non-null  object \n",
      " 2   Reply_for     41750 non-null   object \n",
      " 3   Type          177643 non-null  float64\n",
      " 4   video_id      177643 non-null  object \n",
      " 5   total_reply   177643 non-null  float64\n",
      " 6   like_count    177643 non-null  float64\n",
      " 7   published_at  177643 non-null  object \n",
      " 8   textdisplay   177643 non-null  object \n",
      " 9   updatedat     177643 non-null  object \n",
      "dtypes: float64(3), object(7)\n",
      "memory usage: 13.6+ MB\n"
     ]
    }
   ],
   "source": [
    "df_comments.info()"
   ]
  },
  {
   "cell_type": "markdown",
   "metadata": {},
   "source": [
    "### The size of the datasets"
   ]
  },
  {
   "cell_type": "markdown",
   "metadata": {},
   "source": [
    "#### Videos section"
   ]
  },
  {
   "cell_type": "code",
   "execution_count": 7,
   "metadata": {},
   "outputs": [
    {
     "name": "stdout",
     "output_type": "stream",
     "text": [
      "Rows: 5879\n",
      "Columns: 13\n"
     ]
    }
   ],
   "source": [
    "print('Rows:', df_videos.shape[0])\n",
    "print('Columns:', df_videos.shape[1])"
   ]
  },
  {
   "cell_type": "markdown",
   "metadata": {},
   "source": [
    "#### Comments section"
   ]
  },
  {
   "cell_type": "code",
   "execution_count": 8,
   "metadata": {},
   "outputs": [
    {
     "name": "stdout",
     "output_type": "stream",
     "text": [
      "Rows: 177643\n",
      "Columns: 10\n"
     ]
    }
   ],
   "source": [
    "print('Rows:', df_comments.shape[0])\n",
    "print('Columns:', df_comments.shape[1])"
   ]
  },
  {
   "cell_type": "markdown",
   "metadata": {},
   "source": [
    "### The meaning of each column"
   ]
  },
  {
   "cell_type": "markdown",
   "metadata": {},
   "source": [
    "**Videos dataset**\n",
    "- `video_id`: Video ID.\n",
    "- `title`: Video title.\n",
    "- `published`: Publication date of the video.\n",
    "- `view_count`: The video's view count.\n",
    "- `like_count`: The video's like count.\n",
    "- `comment_count`: The video's comment count.\n",
    "- `duration`: How long the video is.\n",
    "- `definition`: How much information is captured and reproduced (eg. hd, sd).\n",
    "- `tags`: Tags of the video.\n",
    "- `default_audio_language`: Default audio language of the video.\n",
    "- `madeforkid`: Mark if this video is made for kids or not.\n",
    "- `playlist_title`: Playlist title.\n",
    "- `channel_id`: The channel ID.\n",
    "- `channelTitle`: The channel title."
   ]
  },
  {
   "cell_type": "markdown",
   "metadata": {},
   "source": [
    "**Comments dataset**\n",
    "- `Comment_id`: Comment ID.\n",
    "- `author`: Author of the comment.\n",
    "- `Reply_for`: The parent comment ID that this comment replied to.\n",
    "- `Type`: Type of comment (top-level comment (1) or reply(2)).\n",
    "- `video_id`: The video ID.\n",
    "- `total_reply`: Total responses to this comment.\n",
    "- `like_count`: The comment's like count.\n",
    "- `published_at`: Publication date of the comment.\n",
    "- `textdisplay`: The content of the comment.\n",
    "- `updatedat`: The comment's updated date."
   ]
  },
  {
   "cell_type": "markdown",
   "metadata": {},
   "source": [
    "### Duplicated rows"
   ]
  },
  {
   "cell_type": "markdown",
   "metadata": {},
   "source": [
    "#### Videos section"
   ]
  },
  {
   "cell_type": "markdown",
   "metadata": {},
   "source": [
    "How many duplicated rows do the `df_videos` have?"
   ]
  },
  {
   "cell_type": "code",
   "execution_count": 9,
   "metadata": {},
   "outputs": [
    {
     "data": {
      "text/plain": [
       "378"
      ]
     },
     "execution_count": 9,
     "metadata": {},
     "output_type": "execute_result"
    }
   ],
   "source": [
    "df_videos.duplicated().sum()"
   ]
  },
  {
   "cell_type": "code",
   "execution_count": 10,
   "metadata": {},
   "outputs": [
    {
     "data": {
      "text/html": [
       "<div>\n",
       "<style scoped>\n",
       "    .dataframe tbody tr th:only-of-type {\n",
       "        vertical-align: middle;\n",
       "    }\n",
       "\n",
       "    .dataframe tbody tr th {\n",
       "        vertical-align: top;\n",
       "    }\n",
       "\n",
       "    .dataframe thead th {\n",
       "        text-align: right;\n",
       "    }\n",
       "</style>\n",
       "<table border=\"1\" class=\"dataframe\">\n",
       "  <thead>\n",
       "    <tr style=\"text-align: right;\">\n",
       "      <th></th>\n",
       "      <th>video_id</th>\n",
       "      <th>title</th>\n",
       "      <th>published</th>\n",
       "      <th>view_count</th>\n",
       "      <th>like_count</th>\n",
       "      <th>comment_count</th>\n",
       "      <th>duration</th>\n",
       "      <th>definition</th>\n",
       "      <th>tags</th>\n",
       "      <th>default_audio_language</th>\n",
       "      <th>madeforkid</th>\n",
       "      <th>channel_id</th>\n",
       "      <th>channelTitle</th>\n",
       "    </tr>\n",
       "  </thead>\n",
       "  <tbody>\n",
       "    <tr>\n",
       "      <th>15</th>\n",
       "      <td>p-ltr1C7u2o</td>\n",
       "      <td>#31 Machine Learning Specialization [Course 1,...</td>\n",
       "      <td>2022-12-01T13:23:03Z</td>\n",
       "      <td>12647</td>\n",
       "      <td>110.0</td>\n",
       "      <td>0.0</td>\n",
       "      <td>PT9M48S</td>\n",
       "      <td>hd</td>\n",
       "      <td>NaN</td>\n",
       "      <td>en</td>\n",
       "      <td>False</td>\n",
       "      <td>UCcIXc5mJsHVYTZR1maL5l9w</td>\n",
       "      <td>DeepLearningAI</td>\n",
       "    </tr>\n",
       "    <tr>\n",
       "      <th>22</th>\n",
       "      <td>YjpCQof9tI8</td>\n",
       "      <td>#24 Machine Learning Specialization [Course 1,...</td>\n",
       "      <td>2022-12-01T13:22:41Z</td>\n",
       "      <td>12923</td>\n",
       "      <td>105.0</td>\n",
       "      <td>4.0</td>\n",
       "      <td>PT7M46S</td>\n",
       "      <td>hd</td>\n",
       "      <td>NaN</td>\n",
       "      <td>en</td>\n",
       "      <td>False</td>\n",
       "      <td>UCcIXc5mJsHVYTZR1maL5l9w</td>\n",
       "      <td>DeepLearningAI</td>\n",
       "    </tr>\n",
       "    <tr>\n",
       "      <th>23</th>\n",
       "      <td>gG_wI_uGfIE</td>\n",
       "      <td>#6 Machine Learning Specialization [Course 1, ...</td>\n",
       "      <td>2022-12-01T13:21:34Z</td>\n",
       "      <td>26485</td>\n",
       "      <td>341.0</td>\n",
       "      <td>11.0</td>\n",
       "      <td>PT8M54S</td>\n",
       "      <td>hd</td>\n",
       "      <td>NaN</td>\n",
       "      <td>en</td>\n",
       "      <td>False</td>\n",
       "      <td>UCcIXc5mJsHVYTZR1maL5l9w</td>\n",
       "      <td>DeepLearningAI</td>\n",
       "    </tr>\n",
       "    <tr>\n",
       "      <th>24</th>\n",
       "      <td>RGL_XUjPkGo</td>\n",
       "      <td>#19 Machine Learning Specialization [Course 1,...</td>\n",
       "      <td>2022-12-01T13:22:25Z</td>\n",
       "      <td>13778</td>\n",
       "      <td>127.0</td>\n",
       "      <td>1.0</td>\n",
       "      <td>PT6M37S</td>\n",
       "      <td>hd</td>\n",
       "      <td>NaN</td>\n",
       "      <td>en</td>\n",
       "      <td>False</td>\n",
       "      <td>UCcIXc5mJsHVYTZR1maL5l9w</td>\n",
       "      <td>DeepLearningAI</td>\n",
       "    </tr>\n",
       "    <tr>\n",
       "      <th>25</th>\n",
       "      <td>PKm61nrqpCA</td>\n",
       "      <td>#17 Machine Learning Specialization [Course 1,...</td>\n",
       "      <td>2022-12-01T13:22:17Z</td>\n",
       "      <td>14147</td>\n",
       "      <td>130.0</td>\n",
       "      <td>4.0</td>\n",
       "      <td>PT7M2S</td>\n",
       "      <td>hd</td>\n",
       "      <td>NaN</td>\n",
       "      <td>en</td>\n",
       "      <td>False</td>\n",
       "      <td>UCcIXc5mJsHVYTZR1maL5l9w</td>\n",
       "      <td>DeepLearningAI</td>\n",
       "    </tr>\n",
       "    <tr>\n",
       "      <th>...</th>\n",
       "      <td>...</td>\n",
       "      <td>...</td>\n",
       "      <td>...</td>\n",
       "      <td>...</td>\n",
       "      <td>...</td>\n",
       "      <td>...</td>\n",
       "      <td>...</td>\n",
       "      <td>...</td>\n",
       "      <td>...</td>\n",
       "      <td>...</td>\n",
       "      <td>...</td>\n",
       "      <td>...</td>\n",
       "      <td>...</td>\n",
       "    </tr>\n",
       "    <tr>\n",
       "      <th>5282</th>\n",
       "      <td>LfdK-v0SbGI</td>\n",
       "      <td>GPUs: Explained</td>\n",
       "      <td>2019-03-20T19:15:25Z</td>\n",
       "      <td>248980</td>\n",
       "      <td>6047.0</td>\n",
       "      <td>203.0</td>\n",
       "      <td>PT7M29S</td>\n",
       "      <td>hd</td>\n",
       "      <td>['gpu', 'cpu', 'graphic processing unit', 'cor...</td>\n",
       "      <td>en-US</td>\n",
       "      <td>False</td>\n",
       "      <td>UCKWaEZ-_VweaEx1j62do_vQ</td>\n",
       "      <td>IBM Technology</td>\n",
       "    </tr>\n",
       "    <tr>\n",
       "      <th>5310</th>\n",
       "      <td>lt4OsgmUTGI</td>\n",
       "      <td>What is Quantum Computing?</td>\n",
       "      <td>2022-05-27T14:41:08Z</td>\n",
       "      <td>122131</td>\n",
       "      <td>3012.0</td>\n",
       "      <td>108.0</td>\n",
       "      <td>PT7M1S</td>\n",
       "      <td>hd</td>\n",
       "      <td>NaN</td>\n",
       "      <td>en-US</td>\n",
       "      <td>False</td>\n",
       "      <td>UCKWaEZ-_VweaEx1j62do_vQ</td>\n",
       "      <td>IBM Technology</td>\n",
       "    </tr>\n",
       "    <tr>\n",
       "      <th>5321</th>\n",
       "      <td>6S1etS5cLYI</td>\n",
       "      <td>What is Robotic Process Automation (RPA)?</td>\n",
       "      <td>2022-08-17T13:01:09Z</td>\n",
       "      <td>36523</td>\n",
       "      <td>959.0</td>\n",
       "      <td>22.0</td>\n",
       "      <td>PT7M19S</td>\n",
       "      <td>hd</td>\n",
       "      <td>['IBM', 'IBM Cloud', 'RPA', 'Robotic Process A...</td>\n",
       "      <td>en-US</td>\n",
       "      <td>False</td>\n",
       "      <td>UCKWaEZ-_VweaEx1j62do_vQ</td>\n",
       "      <td>IBM Technology</td>\n",
       "    </tr>\n",
       "    <tr>\n",
       "      <th>5334</th>\n",
       "      <td>lt4OsgmUTGI</td>\n",
       "      <td>What is Quantum Computing?</td>\n",
       "      <td>2022-05-27T14:41:08Z</td>\n",
       "      <td>122131</td>\n",
       "      <td>3012.0</td>\n",
       "      <td>108.0</td>\n",
       "      <td>PT7M1S</td>\n",
       "      <td>hd</td>\n",
       "      <td>NaN</td>\n",
       "      <td>en-US</td>\n",
       "      <td>False</td>\n",
       "      <td>UCKWaEZ-_VweaEx1j62do_vQ</td>\n",
       "      <td>IBM Technology</td>\n",
       "    </tr>\n",
       "    <tr>\n",
       "      <th>5344</th>\n",
       "      <td>6S1etS5cLYI</td>\n",
       "      <td>What is Robotic Process Automation (RPA)?</td>\n",
       "      <td>2022-08-17T13:01:09Z</td>\n",
       "      <td>36523</td>\n",
       "      <td>959.0</td>\n",
       "      <td>22.0</td>\n",
       "      <td>PT7M19S</td>\n",
       "      <td>hd</td>\n",
       "      <td>['IBM', 'IBM Cloud', 'RPA', 'Robotic Process A...</td>\n",
       "      <td>en-US</td>\n",
       "      <td>False</td>\n",
       "      <td>UCKWaEZ-_VweaEx1j62do_vQ</td>\n",
       "      <td>IBM Technology</td>\n",
       "    </tr>\n",
       "  </tbody>\n",
       "</table>\n",
       "<p>746 rows × 13 columns</p>\n",
       "</div>"
      ],
      "text/plain": [
       "         video_id                                              title  \\\n",
       "15    p-ltr1C7u2o  #31 Machine Learning Specialization [Course 1,...   \n",
       "22    YjpCQof9tI8  #24 Machine Learning Specialization [Course 1,...   \n",
       "23    gG_wI_uGfIE  #6 Machine Learning Specialization [Course 1, ...   \n",
       "24    RGL_XUjPkGo  #19 Machine Learning Specialization [Course 1,...   \n",
       "25    PKm61nrqpCA  #17 Machine Learning Specialization [Course 1,...   \n",
       "...           ...                                                ...   \n",
       "5282  LfdK-v0SbGI                                    GPUs: Explained   \n",
       "5310  lt4OsgmUTGI                         What is Quantum Computing?   \n",
       "5321  6S1etS5cLYI          What is Robotic Process Automation (RPA)?   \n",
       "5334  lt4OsgmUTGI                         What is Quantum Computing?   \n",
       "5344  6S1etS5cLYI          What is Robotic Process Automation (RPA)?   \n",
       "\n",
       "                 published  view_count  like_count  comment_count duration  \\\n",
       "15    2022-12-01T13:23:03Z       12647       110.0            0.0  PT9M48S   \n",
       "22    2022-12-01T13:22:41Z       12923       105.0            4.0  PT7M46S   \n",
       "23    2022-12-01T13:21:34Z       26485       341.0           11.0  PT8M54S   \n",
       "24    2022-12-01T13:22:25Z       13778       127.0            1.0  PT6M37S   \n",
       "25    2022-12-01T13:22:17Z       14147       130.0            4.0   PT7M2S   \n",
       "...                    ...         ...         ...            ...      ...   \n",
       "5282  2019-03-20T19:15:25Z      248980      6047.0          203.0  PT7M29S   \n",
       "5310  2022-05-27T14:41:08Z      122131      3012.0          108.0   PT7M1S   \n",
       "5321  2022-08-17T13:01:09Z       36523       959.0           22.0  PT7M19S   \n",
       "5334  2022-05-27T14:41:08Z      122131      3012.0          108.0   PT7M1S   \n",
       "5344  2022-08-17T13:01:09Z       36523       959.0           22.0  PT7M19S   \n",
       "\n",
       "     definition                                               tags  \\\n",
       "15           hd                                                NaN   \n",
       "22           hd                                                NaN   \n",
       "23           hd                                                NaN   \n",
       "24           hd                                                NaN   \n",
       "25           hd                                                NaN   \n",
       "...         ...                                                ...   \n",
       "5282         hd  ['gpu', 'cpu', 'graphic processing unit', 'cor...   \n",
       "5310         hd                                                NaN   \n",
       "5321         hd  ['IBM', 'IBM Cloud', 'RPA', 'Robotic Process A...   \n",
       "5334         hd                                                NaN   \n",
       "5344         hd  ['IBM', 'IBM Cloud', 'RPA', 'Robotic Process A...   \n",
       "\n",
       "     default_audio_language  madeforkid                channel_id  \\\n",
       "15                       en       False  UCcIXc5mJsHVYTZR1maL5l9w   \n",
       "22                       en       False  UCcIXc5mJsHVYTZR1maL5l9w   \n",
       "23                       en       False  UCcIXc5mJsHVYTZR1maL5l9w   \n",
       "24                       en       False  UCcIXc5mJsHVYTZR1maL5l9w   \n",
       "25                       en       False  UCcIXc5mJsHVYTZR1maL5l9w   \n",
       "...                     ...         ...                       ...   \n",
       "5282                  en-US       False  UCKWaEZ-_VweaEx1j62do_vQ   \n",
       "5310                  en-US       False  UCKWaEZ-_VweaEx1j62do_vQ   \n",
       "5321                  en-US       False  UCKWaEZ-_VweaEx1j62do_vQ   \n",
       "5334                  en-US       False  UCKWaEZ-_VweaEx1j62do_vQ   \n",
       "5344                  en-US       False  UCKWaEZ-_VweaEx1j62do_vQ   \n",
       "\n",
       "        channelTitle  \n",
       "15    DeepLearningAI  \n",
       "22    DeepLearningAI  \n",
       "23    DeepLearningAI  \n",
       "24    DeepLearningAI  \n",
       "25    DeepLearningAI  \n",
       "...              ...  \n",
       "5282  IBM Technology  \n",
       "5310  IBM Technology  \n",
       "5321  IBM Technology  \n",
       "5334  IBM Technology  \n",
       "5344  IBM Technology  \n",
       "\n",
       "[746 rows x 13 columns]"
      ]
     },
     "execution_count": 10,
     "metadata": {},
     "output_type": "execute_result"
    }
   ],
   "source": [
    "df_videos[df_videos.duplicated(keep = False)]"
   ]
  },
  {
   "cell_type": "markdown",
   "metadata": {},
   "source": [
    "#### Comments section"
   ]
  },
  {
   "cell_type": "markdown",
   "metadata": {},
   "source": [
    "How many duplicated rows do the `df_comments` have?"
   ]
  },
  {
   "cell_type": "code",
   "execution_count": 11,
   "metadata": {},
   "outputs": [
    {
     "data": {
      "text/plain": [
       "33731"
      ]
     },
     "execution_count": 11,
     "metadata": {},
     "output_type": "execute_result"
    }
   ],
   "source": [
    "df_comments.duplicated().sum()"
   ]
  },
  {
   "cell_type": "code",
   "execution_count": 12,
   "metadata": {},
   "outputs": [
    {
     "data": {
      "text/html": [
       "<div>\n",
       "<style scoped>\n",
       "    .dataframe tbody tr th:only-of-type {\n",
       "        vertical-align: middle;\n",
       "    }\n",
       "\n",
       "    .dataframe tbody tr th {\n",
       "        vertical-align: top;\n",
       "    }\n",
       "\n",
       "    .dataframe thead th {\n",
       "        text-align: right;\n",
       "    }\n",
       "</style>\n",
       "<table border=\"1\" class=\"dataframe\">\n",
       "  <thead>\n",
       "    <tr style=\"text-align: right;\">\n",
       "      <th></th>\n",
       "      <th>Comment_id</th>\n",
       "      <th>author</th>\n",
       "      <th>Reply_for</th>\n",
       "      <th>Type</th>\n",
       "      <th>video_id</th>\n",
       "      <th>total_reply</th>\n",
       "      <th>like_count</th>\n",
       "      <th>published_at</th>\n",
       "      <th>textdisplay</th>\n",
       "      <th>updatedat</th>\n",
       "    </tr>\n",
       "  </thead>\n",
       "  <tbody>\n",
       "    <tr>\n",
       "      <th>4233</th>\n",
       "      <td>UgxFhnV-GMjQooTuN_x4AaABAg</td>\n",
       "      <td>@tristandevignemont1291</td>\n",
       "      <td>NaN</td>\n",
       "      <td>1.0</td>\n",
       "      <td>QCX62YJCmGk</td>\n",
       "      <td>0.0</td>\n",
       "      <td>0.0</td>\n",
       "      <td>2023-12-21T22:48:29Z</td>\n",
       "      <td>Math became magic</td>\n",
       "      <td>2023-12-21T22:48:29Z</td>\n",
       "    </tr>\n",
       "    <tr>\n",
       "      <th>4234</th>\n",
       "      <td>UgyypszzOn4EYj4f32Z4AaABAg</td>\n",
       "      <td>@unveil7762</td>\n",
       "      <td>NaN</td>\n",
       "      <td>1.0</td>\n",
       "      <td>QCX62YJCmGk</td>\n",
       "      <td>0.0</td>\n",
       "      <td>0.0</td>\n",
       "      <td>2023-12-21T17:26:39Z</td>\n",
       "      <td>GLSL Time…. I will watch the end of the video ...</td>\n",
       "      <td>2023-12-21T17:27:48Z</td>\n",
       "    </tr>\n",
       "    <tr>\n",
       "      <th>4235</th>\n",
       "      <td>UgxcQbUsvUC9EJ4kJx94AaABAg</td>\n",
       "      <td>@aabnamak</td>\n",
       "      <td>NaN</td>\n",
       "      <td>1.0</td>\n",
       "      <td>QCX62YJCmGk</td>\n",
       "      <td>0.0</td>\n",
       "      <td>0.0</td>\n",
       "      <td>2023-12-21T06:22:41Z</td>\n",
       "      <td>I wonder what would happen if we had a longer ...</td>\n",
       "      <td>2023-12-21T06:22:41Z</td>\n",
       "    </tr>\n",
       "    <tr>\n",
       "      <th>4236</th>\n",
       "      <td>Ugw1Cn0ITqQB6MSXKMd4AaABAg</td>\n",
       "      <td>@geo17139</td>\n",
       "      <td>NaN</td>\n",
       "      <td>1.0</td>\n",
       "      <td>QCX62YJCmGk</td>\n",
       "      <td>0.0</td>\n",
       "      <td>0.0</td>\n",
       "      <td>2023-12-20T19:28:45Z</td>\n",
       "      <td>This is the same thing with a video with some ...</td>\n",
       "      <td>2023-12-20T19:28:45Z</td>\n",
       "    </tr>\n",
       "    <tr>\n",
       "      <th>4237</th>\n",
       "      <td>UgxSc42BmaQ54IJ1uF54AaABAg</td>\n",
       "      <td>@sidereon9793</td>\n",
       "      <td>NaN</td>\n",
       "      <td>1.0</td>\n",
       "      <td>QCX62YJCmGk</td>\n",
       "      <td>0.0</td>\n",
       "      <td>0.0</td>\n",
       "      <td>2023-12-19T05:25:27Z</td>\n",
       "      <td>(me, having taken exactly one Astronomy class ...</td>\n",
       "      <td>2023-12-19T05:25:27Z</td>\n",
       "    </tr>\n",
       "    <tr>\n",
       "      <th>...</th>\n",
       "      <td>...</td>\n",
       "      <td>...</td>\n",
       "      <td>...</td>\n",
       "      <td>...</td>\n",
       "      <td>...</td>\n",
       "      <td>...</td>\n",
       "      <td>...</td>\n",
       "      <td>...</td>\n",
       "      <td>...</td>\n",
       "      <td>...</td>\n",
       "    </tr>\n",
       "    <tr>\n",
       "      <th>177338</th>\n",
       "      <td>Ugw-_fBO6HYoM29IeGh4AaABAg.9nixxnEsZpE9nofFBsqhGb</td>\n",
       "      <td>@DavidEggertsen</td>\n",
       "      <td>Ugw-_fBO6HYoM29IeGh4AaABAg</td>\n",
       "      <td>2.0</td>\n",
       "      <td>FvXLxO-fhhc</td>\n",
       "      <td>0.0</td>\n",
       "      <td>0.0</td>\n",
       "      <td>2023-03-28T20:38:00Z</td>\n",
       "      <td>Yeah, definitely prefer the old format. It was...</td>\n",
       "      <td>2023-03-28T20:38:00Z</td>\n",
       "    </tr>\n",
       "    <tr>\n",
       "      <th>177339</th>\n",
       "      <td>UgxdKmTw2ENglRz-fWd4AaABAg</td>\n",
       "      <td>@lancethrustworthy</td>\n",
       "      <td>NaN</td>\n",
       "      <td>1.0</td>\n",
       "      <td>FvXLxO-fhhc</td>\n",
       "      <td>0.0</td>\n",
       "      <td>0.0</td>\n",
       "      <td>2023-03-26T15:06:38Z</td>\n",
       "      <td>Why are you doing the synthetic narrator stuff...</td>\n",
       "      <td>2023-03-26T15:10:47Z</td>\n",
       "    </tr>\n",
       "    <tr>\n",
       "      <th>177340</th>\n",
       "      <td>UgzMOMuxAGXh4UVXvOt4AaABAg</td>\n",
       "      <td>@dipanjanmandal1771</td>\n",
       "      <td>NaN</td>\n",
       "      <td>1.0</td>\n",
       "      <td>FvXLxO-fhhc</td>\n",
       "      <td>1.0</td>\n",
       "      <td>5.0</td>\n",
       "      <td>2023-03-26T14:09:00Z</td>\n",
       "      <td>I know this channel must help me&lt;br&gt;because I ...</td>\n",
       "      <td>2023-03-26T14:09:00Z</td>\n",
       "    </tr>\n",
       "    <tr>\n",
       "      <th>177341</th>\n",
       "      <td>UgzMOMuxAGXh4UVXvOt4AaABAg.9nip8GHbN6c9nsdf8XFnhJ</td>\n",
       "      <td>@PROROBOTS</td>\n",
       "      <td>UgzMOMuxAGXh4UVXvOt4AaABAg</td>\n",
       "      <td>2.0</td>\n",
       "      <td>FvXLxO-fhhc</td>\n",
       "      <td>0.0</td>\n",
       "      <td>0.0</td>\n",
       "      <td>2023-03-30T09:41:10Z</td>\n",
       "      <td>Thank you, share the video</td>\n",
       "      <td>2023-03-30T09:41:10Z</td>\n",
       "    </tr>\n",
       "    <tr>\n",
       "      <th>177342</th>\n",
       "      <td>Ugx0scjUfLKGOfMKXzF4AaABAg</td>\n",
       "      <td>@PROROBOTS</td>\n",
       "      <td>NaN</td>\n",
       "      <td>1.0</td>\n",
       "      <td>FvXLxO-fhhc</td>\n",
       "      <td>2.0</td>\n",
       "      <td>7.0</td>\n",
       "      <td>2023-03-23T19:58:59Z</td>\n",
       "      <td>Do you like our content? Please support PRO Ro...</td>\n",
       "      <td>2023-03-24T08:13:54Z</td>\n",
       "    </tr>\n",
       "  </tbody>\n",
       "</table>\n",
       "<p>60864 rows × 10 columns</p>\n",
       "</div>"
      ],
      "text/plain": [
       "                                               Comment_id  \\\n",
       "4233                           UgxFhnV-GMjQooTuN_x4AaABAg   \n",
       "4234                           UgyypszzOn4EYj4f32Z4AaABAg   \n",
       "4235                           UgxcQbUsvUC9EJ4kJx94AaABAg   \n",
       "4236                           Ugw1Cn0ITqQB6MSXKMd4AaABAg   \n",
       "4237                           UgxSc42BmaQ54IJ1uF54AaABAg   \n",
       "...                                                   ...   \n",
       "177338  Ugw-_fBO6HYoM29IeGh4AaABAg.9nixxnEsZpE9nofFBsqhGb   \n",
       "177339                         UgxdKmTw2ENglRz-fWd4AaABAg   \n",
       "177340                         UgzMOMuxAGXh4UVXvOt4AaABAg   \n",
       "177341  UgzMOMuxAGXh4UVXvOt4AaABAg.9nip8GHbN6c9nsdf8XFnhJ   \n",
       "177342                         Ugx0scjUfLKGOfMKXzF4AaABAg   \n",
       "\n",
       "                         author                   Reply_for  Type  \\\n",
       "4233    @tristandevignemont1291                         NaN   1.0   \n",
       "4234                @unveil7762                         NaN   1.0   \n",
       "4235                  @aabnamak                         NaN   1.0   \n",
       "4236                  @geo17139                         NaN   1.0   \n",
       "4237              @sidereon9793                         NaN   1.0   \n",
       "...                         ...                         ...   ...   \n",
       "177338          @DavidEggertsen  Ugw-_fBO6HYoM29IeGh4AaABAg   2.0   \n",
       "177339       @lancethrustworthy                         NaN   1.0   \n",
       "177340      @dipanjanmandal1771                         NaN   1.0   \n",
       "177341               @PROROBOTS  UgzMOMuxAGXh4UVXvOt4AaABAg   2.0   \n",
       "177342               @PROROBOTS                         NaN   1.0   \n",
       "\n",
       "           video_id  total_reply  like_count          published_at  \\\n",
       "4233    QCX62YJCmGk          0.0         0.0  2023-12-21T22:48:29Z   \n",
       "4234    QCX62YJCmGk          0.0         0.0  2023-12-21T17:26:39Z   \n",
       "4235    QCX62YJCmGk          0.0         0.0  2023-12-21T06:22:41Z   \n",
       "4236    QCX62YJCmGk          0.0         0.0  2023-12-20T19:28:45Z   \n",
       "4237    QCX62YJCmGk          0.0         0.0  2023-12-19T05:25:27Z   \n",
       "...             ...          ...         ...                   ...   \n",
       "177338  FvXLxO-fhhc          0.0         0.0  2023-03-28T20:38:00Z   \n",
       "177339  FvXLxO-fhhc          0.0         0.0  2023-03-26T15:06:38Z   \n",
       "177340  FvXLxO-fhhc          1.0         5.0  2023-03-26T14:09:00Z   \n",
       "177341  FvXLxO-fhhc          0.0         0.0  2023-03-30T09:41:10Z   \n",
       "177342  FvXLxO-fhhc          2.0         7.0  2023-03-23T19:58:59Z   \n",
       "\n",
       "                                              textdisplay  \\\n",
       "4233                                    Math became magic   \n",
       "4234    GLSL Time…. I will watch the end of the video ...   \n",
       "4235    I wonder what would happen if we had a longer ...   \n",
       "4236    This is the same thing with a video with some ...   \n",
       "4237    (me, having taken exactly one Astronomy class ...   \n",
       "...                                                   ...   \n",
       "177338  Yeah, definitely prefer the old format. It was...   \n",
       "177339  Why are you doing the synthetic narrator stuff...   \n",
       "177340  I know this channel must help me<br>because I ...   \n",
       "177341                         Thank you, share the video   \n",
       "177342  Do you like our content? Please support PRO Ro...   \n",
       "\n",
       "                   updatedat  \n",
       "4233    2023-12-21T22:48:29Z  \n",
       "4234    2023-12-21T17:27:48Z  \n",
       "4235    2023-12-21T06:22:41Z  \n",
       "4236    2023-12-20T19:28:45Z  \n",
       "4237    2023-12-19T05:25:27Z  \n",
       "...                      ...  \n",
       "177338  2023-03-28T20:38:00Z  \n",
       "177339  2023-03-26T15:10:47Z  \n",
       "177340  2023-03-26T14:09:00Z  \n",
       "177341  2023-03-30T09:41:10Z  \n",
       "177342  2023-03-24T08:13:54Z  \n",
       "\n",
       "[60864 rows x 10 columns]"
      ]
     },
     "execution_count": 12,
     "metadata": {},
     "output_type": "execute_result"
    }
   ],
   "source": [
    "df_comments[df_comments.duplicated(keep = False)]"
   ]
  },
  {
   "cell_type": "markdown",
   "metadata": {},
   "source": [
    "#### Drop duplicate rows"
   ]
  },
  {
   "cell_type": "code",
   "execution_count": 13,
   "metadata": {},
   "outputs": [],
   "source": [
    "df_videos = df_videos.drop_duplicates()\n",
    "df_comments = df_comments.drop_duplicates()"
   ]
  },
  {
   "cell_type": "markdown",
   "metadata": {},
   "source": [
    "### Current column types in datasets"
   ]
  },
  {
   "cell_type": "markdown",
   "metadata": {},
   "source": [
    "#### Videos section"
   ]
  },
  {
   "cell_type": "code",
   "execution_count": 14,
   "metadata": {},
   "outputs": [
    {
     "data": {
      "text/plain": [
       "video_id                   object\n",
       "title                      object\n",
       "published                  object\n",
       "view_count                  int64\n",
       "like_count                float64\n",
       "comment_count             float64\n",
       "duration                   object\n",
       "definition                 object\n",
       "tags                       object\n",
       "default_audio_language     object\n",
       "madeforkid                   bool\n",
       "channel_id                 object\n",
       "channelTitle               object\n",
       "dtype: object"
      ]
     },
     "execution_count": 14,
     "metadata": {},
     "output_type": "execute_result"
    }
   ],
   "source": [
    "df_videos.dtypes"
   ]
  },
  {
   "cell_type": "markdown",
   "metadata": {},
   "source": [
    "The following fields need to be converted to the specified data types:\n",
    "- `published` to datetime.\n",
    "- `duration` to timedelta.\n",
    "- `tags` to a list of strings."
   ]
  },
  {
   "cell_type": "code",
   "execution_count": 15,
   "metadata": {},
   "outputs": [],
   "source": [
    "df_videos['published'] =  df_videos['published'].apply(pd.to_datetime)\n",
    "df_videos['duration'] = df_videos['duration'].apply(pd.to_timedelta)\n",
    "df_videos['tags'] = df_videos['tags'].apply(lambda x: ast.literal_eval(x) if pd.notnull(x) else np.nan)"
   ]
  },
  {
   "cell_type": "markdown",
   "metadata": {},
   "source": [
    "#### Comments section"
   ]
  },
  {
   "cell_type": "code",
   "execution_count": 16,
   "metadata": {},
   "outputs": [
    {
     "data": {
      "text/plain": [
       "Comment_id       object\n",
       "author           object\n",
       "Reply_for        object\n",
       "Type            float64\n",
       "video_id         object\n",
       "total_reply     float64\n",
       "like_count      float64\n",
       "published_at     object\n",
       "textdisplay      object\n",
       "updatedat        object\n",
       "dtype: object"
      ]
     },
     "execution_count": 16,
     "metadata": {},
     "output_type": "execute_result"
    }
   ],
   "source": [
    "df_comments.dtypes"
   ]
  },
  {
   "cell_type": "markdown",
   "metadata": {},
   "source": [
    "The `published_at` and `updatedat` fields need to be converted to datetime."
   ]
  },
  {
   "cell_type": "code",
   "execution_count": 17,
   "metadata": {},
   "outputs": [],
   "source": [
    "df_comments['published_at'] =  df_comments['published_at'].apply(pd.to_datetime)\n",
    "df_comments['updatedat'] =  df_comments['updatedat'].apply(pd.to_datetime)"
   ]
  },
  {
   "cell_type": "markdown",
   "metadata": {},
   "source": [
    "Next, we will drop columns that are unnecessary for subsequent steps."
   ]
  },
  {
   "cell_type": "code",
   "execution_count": 18,
   "metadata": {},
   "outputs": [],
   "source": [
    "df_videos = df_videos.drop(columns = ['channel_id'])\n",
    "df_comments = df_comments.drop(columns = ['Comment_id'])\n",
    "df_comments = df_comments.drop(columns = ['Reply_for'])"
   ]
  },
  {
   "cell_type": "markdown",
   "metadata": {},
   "source": [
    "### Distribution of Values for Numeric Columns"
   ]
  },
  {
   "cell_type": "code",
   "execution_count": 19,
   "metadata": {},
   "outputs": [],
   "source": [
    "def num_missing_ratio(column):\n",
    "    return (column.isnull().sum() / len(column) * 100).round(1)\n",
    "\n",
    "def num_lower_quartile(column):\n",
    "    return column.quantile(0.25)\n",
    "\n",
    "def num_median(column):\n",
    "    return column.quantile(0.5)\n",
    "\n",
    "def num_upper_quartile(column):\n",
    "    return column.quantile(0.75)\n",
    "\n",
    "num_types = ['int64', 'float64']"
   ]
  },
  {
   "cell_type": "code",
   "execution_count": 20,
   "metadata": {},
   "outputs": [
    {
     "data": {
      "text/html": [
       "<div>\n",
       "<style scoped>\n",
       "    .dataframe tbody tr th:only-of-type {\n",
       "        vertical-align: middle;\n",
       "    }\n",
       "\n",
       "    .dataframe tbody tr th {\n",
       "        vertical-align: top;\n",
       "    }\n",
       "\n",
       "    .dataframe thead th {\n",
       "        text-align: right;\n",
       "    }\n",
       "</style>\n",
       "<table border=\"1\" class=\"dataframe\">\n",
       "  <thead>\n",
       "    <tr style=\"text-align: right;\">\n",
       "      <th></th>\n",
       "      <th>view_count</th>\n",
       "      <th>like_count</th>\n",
       "      <th>comment_count</th>\n",
       "    </tr>\n",
       "  </thead>\n",
       "  <tbody>\n",
       "    <tr>\n",
       "      <th>num_missing_ratio</th>\n",
       "      <td>0.0</td>\n",
       "      <td>0.7</td>\n",
       "      <td>0.1</td>\n",
       "    </tr>\n",
       "    <tr>\n",
       "      <th>min</th>\n",
       "      <td>0.0</td>\n",
       "      <td>0.0</td>\n",
       "      <td>0.0</td>\n",
       "    </tr>\n",
       "    <tr>\n",
       "      <th>num_lower_quartile</th>\n",
       "      <td>4078.0</td>\n",
       "      <td>78.0</td>\n",
       "      <td>4.0</td>\n",
       "    </tr>\n",
       "    <tr>\n",
       "      <th>num_median</th>\n",
       "      <td>22773.0</td>\n",
       "      <td>495.0</td>\n",
       "      <td>32.0</td>\n",
       "    </tr>\n",
       "    <tr>\n",
       "      <th>num_upper_quartile</th>\n",
       "      <td>99636.0</td>\n",
       "      <td>2345.0</td>\n",
       "      <td>139.0</td>\n",
       "    </tr>\n",
       "    <tr>\n",
       "      <th>max</th>\n",
       "      <td>19622082.0</td>\n",
       "      <td>1043942.0</td>\n",
       "      <td>26833.0</td>\n",
       "    </tr>\n",
       "  </tbody>\n",
       "</table>\n",
       "</div>"
      ],
      "text/plain": [
       "                    view_count  like_count  comment_count\n",
       "num_missing_ratio          0.0         0.7            0.1\n",
       "min                        0.0         0.0            0.0\n",
       "num_lower_quartile      4078.0        78.0            4.0\n",
       "num_median             22773.0       495.0           32.0\n",
       "num_upper_quartile     99636.0      2345.0          139.0\n",
       "max                 19622082.0   1043942.0        26833.0"
      ]
     },
     "execution_count": 20,
     "metadata": {},
     "output_type": "execute_result"
    }
   ],
   "source": [
    "num_col_info_df_videos = df_videos.select_dtypes(include = num_types)\n",
    "\n",
    "num_col_info_df_videos = num_col_info_df_videos.agg([num_missing_ratio, 'min', num_lower_quartile, num_median, num_upper_quartile, 'max'])\n",
    "num_col_info_df_videos"
   ]
  },
  {
   "cell_type": "code",
   "execution_count": 21,
   "metadata": {},
   "outputs": [
    {
     "data": {
      "image/png": "[encoded data removed]",
      "text/plain": [
       "<Figure size 2000x1000 with 3 Axes>"
      ]
     },
     "metadata": {},
     "output_type": "display_data"
    }
   ],
   "source": [
    "fig = plt.figure(figsize = (20, 10))\n",
    "for i, col in enumerate(num_col_info_df_videos.columns):\n",
    "    ax = fig.add_subplot(2, 2, i + 1)\n",
    "    ax.hist(df_videos[col], bins = 'scott')\n",
    "    ax.set_title(col)"
   ]
  },
  {
   "cell_type": "code",
   "execution_count": 22,
   "metadata": {},
   "outputs": [
    {
     "data": {
      "text/html": [
       "<div>\n",
       "<style scoped>\n",
       "    .dataframe tbody tr th:only-of-type {\n",
       "        vertical-align: middle;\n",
       "    }\n",
       "\n",
       "    .dataframe tbody tr th {\n",
       "        vertical-align: top;\n",
       "    }\n",
       "\n",
       "    .dataframe thead th {\n",
       "        text-align: right;\n",
       "    }\n",
       "</style>\n",
       "<table border=\"1\" class=\"dataframe\">\n",
       "  <thead>\n",
       "    <tr style=\"text-align: right;\">\n",
       "      <th></th>\n",
       "      <th>Type</th>\n",
       "      <th>total_reply</th>\n",
       "      <th>like_count</th>\n",
       "    </tr>\n",
       "  </thead>\n",
       "  <tbody>\n",
       "    <tr>\n",
       "      <th>num_missing_ratio</th>\n",
       "      <td>0.0</td>\n",
       "      <td>0.0</td>\n",
       "      <td>0.0</td>\n",
       "    </tr>\n",
       "    <tr>\n",
       "      <th>min</th>\n",
       "      <td>1.0</td>\n",
       "      <td>0.0</td>\n",
       "      <td>0.0</td>\n",
       "    </tr>\n",
       "    <tr>\n",
       "      <th>num_lower_quartile</th>\n",
       "      <td>1.0</td>\n",
       "      <td>0.0</td>\n",
       "      <td>0.0</td>\n",
       "    </tr>\n",
       "    <tr>\n",
       "      <th>num_median</th>\n",
       "      <td>1.0</td>\n",
       "      <td>0.0</td>\n",
       "      <td>0.0</td>\n",
       "    </tr>\n",
       "    <tr>\n",
       "      <th>num_upper_quartile</th>\n",
       "      <td>1.0</td>\n",
       "      <td>0.0</td>\n",
       "      <td>1.0</td>\n",
       "    </tr>\n",
       "    <tr>\n",
       "      <th>max</th>\n",
       "      <td>2.0</td>\n",
       "      <td>457.0</td>\n",
       "      <td>65952.0</td>\n",
       "    </tr>\n",
       "  </tbody>\n",
       "</table>\n",
       "</div>"
      ],
      "text/plain": [
       "                    Type  total_reply  like_count\n",
       "num_missing_ratio    0.0          0.0         0.0\n",
       "min                  1.0          0.0         0.0\n",
       "num_lower_quartile   1.0          0.0         0.0\n",
       "num_median           1.0          0.0         0.0\n",
       "num_upper_quartile   1.0          0.0         1.0\n",
       "max                  2.0        457.0     65952.0"
      ]
     },
     "execution_count": 22,
     "metadata": {},
     "output_type": "execute_result"
    }
   ],
   "source": [
    "num_col_info_df_comments = df_comments.select_dtypes(include = num_types)\n",
    "\n",
    "num_col_info_df_comments = num_col_info_df_comments.agg([num_missing_ratio, 'min', num_lower_quartile, num_median, num_upper_quartile, 'max'])\n",
    "num_col_info_df_comments"
   ]
  },
  {
   "cell_type": "markdown",
   "metadata": {},
   "source": [
    "### Distribution of Values for Non-numeric Columns"
   ]
  },
  {
   "cell_type": "code",
   "execution_count": 23,
   "metadata": {},
   "outputs": [],
   "source": [
    "def missing_ratio(column):\n",
    "    return (column.isnull().sum() / len(column) * 100).round(1)\n",
    "\n",
    "def cat_num_values(column):\n",
    "    if type(column[0] == 'list'):\n",
    "        column = column.explode()\n",
    "    return column.nunique()\n",
    "\n",
    "def cat_value_ratios(column):\n",
    "    if type(column[0] == 'list'):\n",
    "        column = column.explode()\n",
    "    return column.value_counts(normalize = True).sort_values(axis = 0).to_dict()"
   ]
  },
  {
   "cell_type": "code",
   "execution_count": 24,
   "metadata": {},
   "outputs": [
    {
     "data": {
      "text/html": [
       "<div>\n",
       "<style scoped>\n",
       "    .dataframe tbody tr th:only-of-type {\n",
       "        vertical-align: middle;\n",
       "    }\n",
       "\n",
       "    .dataframe tbody tr th {\n",
       "        vertical-align: top;\n",
       "    }\n",
       "\n",
       "    .dataframe thead th {\n",
       "        text-align: right;\n",
       "    }\n",
       "</style>\n",
       "<table border=\"1\" class=\"dataframe\">\n",
       "  <thead>\n",
       "    <tr style=\"text-align: right;\">\n",
       "      <th></th>\n",
       "      <th>definition</th>\n",
       "      <th>tags</th>\n",
       "      <th>default_audio_language</th>\n",
       "      <th>madeforkid</th>\n",
       "    </tr>\n",
       "  </thead>\n",
       "  <tbody>\n",
       "    <tr>\n",
       "      <th>missing_ratio</th>\n",
       "      <td>0.0</td>\n",
       "      <td>13.2</td>\n",
       "      <td>6.5</td>\n",
       "      <td>0.0</td>\n",
       "    </tr>\n",
       "    <tr>\n",
       "      <th>cat_num_values</th>\n",
       "      <td>2</td>\n",
       "      <td>24347</td>\n",
       "      <td>5</td>\n",
       "      <td>2</td>\n",
       "    </tr>\n",
       "    <tr>\n",
       "      <th>cat_value_ratios</th>\n",
       "      <td>{'sd': 0.023086711506998727, 'hd': 0.976913288...</td>\n",
       "      <td>{'Scientists invent youth cocktail': 1.4208178...</td>\n",
       "      <td>{'en-GB': 0.00038887808671981335, 'hi': 0.0017...</td>\n",
       "      <td>{True: 0.0021814215597164154, False: 0.9978185...</td>\n",
       "    </tr>\n",
       "  </tbody>\n",
       "</table>\n",
       "</div>"
      ],
      "text/plain": [
       "                                                         definition  \\\n",
       "missing_ratio                                                   0.0   \n",
       "cat_num_values                                                    2   \n",
       "cat_value_ratios  {'sd': 0.023086711506998727, 'hd': 0.976913288...   \n",
       "\n",
       "                                                               tags  \\\n",
       "missing_ratio                                                  13.2   \n",
       "cat_num_values                                                24347   \n",
       "cat_value_ratios  {'Scientists invent youth cocktail': 1.4208178...   \n",
       "\n",
       "                                             default_audio_language  \\\n",
       "missing_ratio                                                   6.5   \n",
       "cat_num_values                                                    5   \n",
       "cat_value_ratios  {'en-GB': 0.00038887808671981335, 'hi': 0.0017...   \n",
       "\n",
       "                                                         madeforkid  \n",
       "missing_ratio                                                   0.0  \n",
       "cat_num_values                                                    2  \n",
       "cat_value_ratios  {True: 0.0021814215597164154, False: 0.9978185...  "
      ]
     },
     "execution_count": 24,
     "metadata": {},
     "output_type": "execute_result"
    }
   ],
   "source": [
    "cat_cols = ['definition', 'tags', 'default_audio_language', 'madeforkid']\n",
    "cat_col_info_df_videos = df_videos[cat_cols]\n",
    "\n",
    "cat_col_info_df_videos = cat_col_info_df_videos.agg([missing_ratio, cat_num_values, cat_value_ratios])\n",
    "cat_col_info_df_videos"
   ]
  },
  {
   "cell_type": "code",
   "execution_count": 25,
   "metadata": {},
   "outputs": [
    {
     "data": {
      "image/png": "[encoded data removed]",
      "text/plain": [
       "<Figure size 2000x1000 with 4 Axes>"
      ]
     },
     "metadata": {},
     "output_type": "display_data"
    }
   ],
   "source": [
    "fig = plt.figure(figsize = (20, 10))\n",
    "for i, col in enumerate(cat_col_info_df_videos.columns):\n",
    "    ax = fig.add_subplot(2, 2, i + 1)\n",
    "    n_top = 0\n",
    "    if col == 'madeforkid':\n",
    "        ax.set_xticks([0, 1])\n",
    "        ax.set_xticklabels(['False', 'True'])\n",
    "    if col == 'tags':\n",
    "        n_top = 5\n",
    "    ax.bar(*zip(*list(cat_col_info_df_videos[col]['cat_value_ratios'].items())[-n_top:]))\n",
    "    ax.set_title(col)"
   ]
  },
  {
   "cell_type": "code",
   "execution_count": 26,
   "metadata": {},
   "outputs": [
    {
     "data": {
      "text/html": [
       "<div>\n",
       "<style scoped>\n",
       "    .dataframe tbody tr th:only-of-type {\n",
       "        vertical-align: middle;\n",
       "    }\n",
       "\n",
       "    .dataframe tbody tr th {\n",
       "        vertical-align: top;\n",
       "    }\n",
       "\n",
       "    .dataframe thead th {\n",
       "        text-align: right;\n",
       "    }\n",
       "</style>\n",
       "<table border=\"1\" class=\"dataframe\">\n",
       "  <thead>\n",
       "    <tr style=\"text-align: right;\">\n",
       "      <th></th>\n",
       "      <th>author</th>\n",
       "      <th>Type</th>\n",
       "    </tr>\n",
       "  </thead>\n",
       "  <tbody>\n",
       "    <tr>\n",
       "      <th>missing_ratio</th>\n",
       "      <td>0.0</td>\n",
       "      <td>0.0</td>\n",
       "    </tr>\n",
       "    <tr>\n",
       "      <th>cat_num_values</th>\n",
       "      <td>94756</td>\n",
       "      <td>2</td>\n",
       "    </tr>\n",
       "    <tr>\n",
       "      <th>cat_value_ratios</th>\n",
       "      <td>{'@mastershill4997': 6.948835722574682e-06, '@...</td>\n",
       "      <td>{2.0: 0.23335788537439547, 1.0: 0.766642114625...</td>\n",
       "    </tr>\n",
       "  </tbody>\n",
       "</table>\n",
       "</div>"
      ],
      "text/plain": [
       "                                                             author  \\\n",
       "missing_ratio                                                   0.0   \n",
       "cat_num_values                                                94756   \n",
       "cat_value_ratios  {'@mastershill4997': 6.948835722574682e-06, '@...   \n",
       "\n",
       "                                                               Type  \n",
       "missing_ratio                                                   0.0  \n",
       "cat_num_values                                                    2  \n",
       "cat_value_ratios  {2.0: 0.23335788537439547, 1.0: 0.766642114625...  "
      ]
     },
     "execution_count": 26,
     "metadata": {},
     "output_type": "execute_result"
    }
   ],
   "source": [
    "cat_cols = ['author', 'Type']\n",
    "cat_col_info_df_comments = df_comments[cat_cols]\n",
    "\n",
    "cat_col_info_df_comments = cat_col_info_df_comments.agg([missing_ratio, cat_num_values, cat_value_ratios])\n",
    "cat_col_info_df_comments"
   ]
  },
  {
   "cell_type": "code",
   "execution_count": 27,
   "metadata": {},
   "outputs": [
    {
     "data": {
      "image/png": "[encoded data removed]",
      "text/plain": [
       "<Figure size 2000x500 with 2 Axes>"
      ]
     },
     "metadata": {},
     "output_type": "display_data"
    }
   ],
   "source": [
    "fig = plt.figure(figsize = (20, 5))\n",
    "for i, col in enumerate(cat_col_info_df_comments.columns):\n",
    "    ax = fig.add_subplot(1, 2, i + 1)\n",
    "    n_top = 0\n",
    "    if col == 'author':\n",
    "        n_top = 5\n",
    "    if col == 'Type':\n",
    "        ax.set_xticks([1, 2])\n",
    "        ax.set_xticklabels(['Comment', 'Reply'])\n",
    "    ax.bar(*zip(*list(cat_col_info_df_comments[col]['cat_value_ratios'].items())[-n_top:]))\n",
    "    ax.set_title(col)"
   ]
  },
  {
   "cell_type": "markdown",
   "metadata": {},
   "source": [
    "### Save the processed data"
   ]
  },
  {
   "cell_type": "code",
   "execution_count": 28,
   "metadata": {},
   "outputs": [],
   "source": [
    "processed_data_path = '../data/processed/'\n",
    "\n",
    "df_videos.to_csv(processed_data_path + 'df_videos_processed.csv', index = False)\n",
    "df_comments.to_csv(processed_data_path + 'df_comments_processed.csv', index = False)"
   ]
  }
 ],
 "metadata": {
  "kernelspec": {
   "display_name": "Python 3 (ipykernel)",
   "language": "python",
   "name": "python3"
  },
  "language_info": {
   "codemirror_mode": {
    "name": "ipython",
    "version": 3
   },
   "file_extension": ".py",
   "mimetype": "text/x-python",
   "name": "python",
   "nbconvert_exporter": "python",
   "pygments_lexer": "ipython3",
   "version": "3.10.8"
  }
 },
 "nbformat": 4,
 "nbformat_minor": 4
}
