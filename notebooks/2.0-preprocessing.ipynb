{
 "cells": [
  {
   "cell_type": "markdown",
   "metadata": {},
   "source": [
    "<div style=\"text-align: center; background-color: #559cff; font-family: 'Trebuchet MS', Arial, sans-serif; color: white; padding: 20px; font-size: 40px; font-weight: bold; border-radius: 0 0 0 0; box-shadow: 0px 6px 8px rgba(0, 0, 0, 0.2);\">\n",
    "  Lab 02 - Introduction To Data Science @ FIT-HCMUS, VNU-HCM 📌\n",
    "</div>"
   ]
  },
  {
   "cell_type": "markdown",
   "metadata": {},
   "source": [
    "<div style=\"text-align: center; background-color: #b1d1ff; font-family: 'Trebuchet MS', Arial, sans-serif; color: white; padding: 20px; font-size: 40px; font-weight: bold; border-radius: 0 0 0 0; box-shadow: 0px 6px 8px rgba(0, 0, 0, 0.2);\">\n",
    "  Stage 02 - Preprocessing\n",
    "</div>"
   ]
  },
  {
   "cell_type": "markdown",
   "metadata": {},
   "source": [
    "## Import"
   ]
  },
  {
   "cell_type": "code",
   "execution_count": 260,
   "metadata": {},
   "outputs": [],
   "source": [
    "import os\n",
    "import sys\n",
    "import json\n",
    "import ast\n",
    "\n",
    "import numpy as np\n",
    "import pandas as pd\n",
    "import matplotlib.pyplot as plt\n",
    "import csv"
   ]
  },
  {
   "cell_type": "markdown",
   "metadata": {},
   "source": [
    "## Exploring data"
   ]
  },
  {
   "cell_type": "markdown",
   "metadata": {},
   "source": [
    "### Combine raw data into dataframes for both video and comment sections"
   ]
  },
  {
   "cell_type": "code",
   "execution_count": 261,
   "metadata": {},
   "outputs": [],
   "source": [
    "raw_data_path = '../data/raw/'\n",
    "\n",
    "with open('../data/external/channel_id_Phuc.json', 'r') as file:\n",
    "    channel_id_phuc = json.load(file)\n",
    "\n",
    "with open('../data/external/channel_id_nam.json', 'r') as file:\n",
    "    channel_id_nam = json.load(file)\n",
    "\n",
    "list_df_videos = []\n",
    "list_df_comments = []\n",
    "\n",
    "for channel, id in channel_id_phuc.items():\n",
    "    list_df_videos.append(pd.read_csv(raw_data_path + channel + '_videos.csv'))\n",
    "    list_df_comments.append(pd.read_csv(raw_data_path + channel + '_comments.csv', lineterminator = '\\n'))\n",
    "\n",
    "for channel, id in channel_id_nam.items():\n",
    "    list_df_videos.append(pd.read_csv(raw_data_path + channel + '_videos.csv'))\n",
    "    list_df_comments.append(pd.read_csv(raw_data_path + channel + '_comments.csv', lineterminator = '\\n'))\n",
    "\n",
    "    \n",
    "df_videos = pd.concat(list_df_videos, ignore_index = True)\n",
    "df_comments = pd.concat(list_df_comments, ignore_index = True)"
   ]
  },
  {
   "cell_type": "code",
   "execution_count": 262,
   "metadata": {},
   "outputs": [
    {
     "data": {
      "text/html": [
       "<div>\n",
       "<style scoped>\n",
       "    .dataframe tbody tr th:only-of-type {\n",
       "        vertical-align: middle;\n",
       "    }\n",
       "\n",
       "    .dataframe tbody tr th {\n",
       "        vertical-align: top;\n",
       "    }\n",
       "\n",
       "    .dataframe thead th {\n",
       "        text-align: right;\n",
       "    }\n",
       "</style>\n",
       "<table border=\"1\" class=\"dataframe\">\n",
       "  <thead>\n",
       "    <tr style=\"text-align: right;\">\n",
       "      <th></th>\n",
       "      <th>video_id</th>\n",
       "      <th>title</th>\n",
       "      <th>published</th>\n",
       "      <th>view_count</th>\n",
       "      <th>like_count</th>\n",
       "      <th>comment_count</th>\n",
       "      <th>duration</th>\n",
       "      <th>definition</th>\n",
       "      <th>tags</th>\n",
       "      <th>default_audio_language</th>\n",
       "      <th>madeforkid</th>\n",
       "      <th>channel_id</th>\n",
       "      <th>channelTitle</th>\n",
       "    </tr>\n",
       "  </thead>\n",
       "  <tbody>\n",
       "    <tr>\n",
       "      <th>0</th>\n",
       "      <td>hh6gE0LxfO8</td>\n",
       "      <td>#5 Machine Learning Specialization [Course 1, ...</td>\n",
       "      <td>2022-12-01T13:21:30Z</td>\n",
       "      <td>30742</td>\n",
       "      <td>319.0</td>\n",
       "      <td>6.0</td>\n",
       "      <td>PT7M17S</td>\n",
       "      <td>hd</td>\n",
       "      <td>NaN</td>\n",
       "      <td>en</td>\n",
       "      <td>False</td>\n",
       "      <td>UCcIXc5mJsHVYTZR1maL5l9w</td>\n",
       "      <td>DeepLearningAI</td>\n",
       "    </tr>\n",
       "    <tr>\n",
       "      <th>1</th>\n",
       "      <td>_i3aqgKVNQI</td>\n",
       "      <td>C5W3L01 Basic Models</td>\n",
       "      <td>2018-02-05T19:50:14Z</td>\n",
       "      <td>110835</td>\n",
       "      <td>436.0</td>\n",
       "      <td>12.0</td>\n",
       "      <td>PT6M19S</td>\n",
       "      <td>hd</td>\n",
       "      <td>NaN</td>\n",
       "      <td>en</td>\n",
       "      <td>False</td>\n",
       "      <td>UCcIXc5mJsHVYTZR1maL5l9w</td>\n",
       "      <td>DeepLearningAI</td>\n",
       "    </tr>\n",
       "    <tr>\n",
       "      <th>2</th>\n",
       "      <td>uvTL1N02f04</td>\n",
       "      <td>#23 Machine Learning Specialization [Course 1,...</td>\n",
       "      <td>2022-12-01T13:22:38Z</td>\n",
       "      <td>11639</td>\n",
       "      <td>107.0</td>\n",
       "      <td>4.0</td>\n",
       "      <td>PT6M53S</td>\n",
       "      <td>hd</td>\n",
       "      <td>NaN</td>\n",
       "      <td>en</td>\n",
       "      <td>False</td>\n",
       "      <td>UCcIXc5mJsHVYTZR1maL5l9w</td>\n",
       "      <td>DeepLearningAI</td>\n",
       "    </tr>\n",
       "    <tr>\n",
       "      <th>3</th>\n",
       "      <td>H4YK_7MAckk</td>\n",
       "      <td>ChatGPT Prompt Engineering for Developers: A s...</td>\n",
       "      <td>2023-04-27T14:49:09Z</td>\n",
       "      <td>143057</td>\n",
       "      <td>2847.0</td>\n",
       "      <td>121.0</td>\n",
       "      <td>PT1M58S</td>\n",
       "      <td>hd</td>\n",
       "      <td>['ChatGPT', 'prompt engineering', 'openai', 'd...</td>\n",
       "      <td>en</td>\n",
       "      <td>False</td>\n",
       "      <td>UCcIXc5mJsHVYTZR1maL5l9w</td>\n",
       "      <td>DeepLearningAI</td>\n",
       "    </tr>\n",
       "    <tr>\n",
       "      <th>4</th>\n",
       "      <td>YVtP5UGdgXg</td>\n",
       "      <td>#25 Machine Learning Specialization [Course 1,...</td>\n",
       "      <td>2022-12-01T13:22:45Z</td>\n",
       "      <td>11542</td>\n",
       "      <td>106.0</td>\n",
       "      <td>1.0</td>\n",
       "      <td>PT6M35S</td>\n",
       "      <td>hd</td>\n",
       "      <td>NaN</td>\n",
       "      <td>en</td>\n",
       "      <td>False</td>\n",
       "      <td>UCcIXc5mJsHVYTZR1maL5l9w</td>\n",
       "      <td>DeepLearningAI</td>\n",
       "    </tr>\n",
       "  </tbody>\n",
       "</table>\n",
       "</div>"
      ],
      "text/plain": [
       "      video_id                                              title  \\\n",
       "0  hh6gE0LxfO8  #5 Machine Learning Specialization [Course 1, ...   \n",
       "1  _i3aqgKVNQI                               C5W3L01 Basic Models   \n",
       "2  uvTL1N02f04  #23 Machine Learning Specialization [Course 1,...   \n",
       "3  H4YK_7MAckk  ChatGPT Prompt Engineering for Developers: A s...   \n",
       "4  YVtP5UGdgXg  #25 Machine Learning Specialization [Course 1,...   \n",
       "\n",
       "              published  view_count  like_count  comment_count duration  \\\n",
       "0  2022-12-01T13:21:30Z       30742       319.0            6.0  PT7M17S   \n",
       "1  2018-02-05T19:50:14Z      110835       436.0           12.0  PT6M19S   \n",
       "2  2022-12-01T13:22:38Z       11639       107.0            4.0  PT6M53S   \n",
       "3  2023-04-27T14:49:09Z      143057      2847.0          121.0  PT1M58S   \n",
       "4  2022-12-01T13:22:45Z       11542       106.0            1.0  PT6M35S   \n",
       "\n",
       "  definition                                               tags  \\\n",
       "0         hd                                                NaN   \n",
       "1         hd                                                NaN   \n",
       "2         hd                                                NaN   \n",
       "3         hd  ['ChatGPT', 'prompt engineering', 'openai', 'd...   \n",
       "4         hd                                                NaN   \n",
       "\n",
       "  default_audio_language  madeforkid                channel_id    channelTitle  \n",
       "0                     en       False  UCcIXc5mJsHVYTZR1maL5l9w  DeepLearningAI  \n",
       "1                     en       False  UCcIXc5mJsHVYTZR1maL5l9w  DeepLearningAI  \n",
       "2                     en       False  UCcIXc5mJsHVYTZR1maL5l9w  DeepLearningAI  \n",
       "3                     en       False  UCcIXc5mJsHVYTZR1maL5l9w  DeepLearningAI  \n",
       "4                     en       False  UCcIXc5mJsHVYTZR1maL5l9w  DeepLearningAI  "
      ]
     },
     "execution_count": 262,
     "metadata": {},
     "output_type": "execute_result"
    }
   ],
   "source": [
    "df_videos.head()"
   ]
  },
  {
   "cell_type": "code",
   "execution_count": 263,
   "metadata": {},
   "outputs": [
    {
     "data": {
      "text/html": [
       "<div>\n",
       "<style scoped>\n",
       "    .dataframe tbody tr th:only-of-type {\n",
       "        vertical-align: middle;\n",
       "    }\n",
       "\n",
       "    .dataframe tbody tr th {\n",
       "        vertical-align: top;\n",
       "    }\n",
       "\n",
       "    .dataframe thead th {\n",
       "        text-align: right;\n",
       "    }\n",
       "</style>\n",
       "<table border=\"1\" class=\"dataframe\">\n",
       "  <thead>\n",
       "    <tr style=\"text-align: right;\">\n",
       "      <th></th>\n",
       "      <th>Comment_id</th>\n",
       "      <th>author</th>\n",
       "      <th>Reply_for</th>\n",
       "      <th>Type</th>\n",
       "      <th>video_id</th>\n",
       "      <th>total_reply</th>\n",
       "      <th>like_count</th>\n",
       "      <th>published_at</th>\n",
       "      <th>textdisplay</th>\n",
       "      <th>updatedat</th>\n",
       "    </tr>\n",
       "  </thead>\n",
       "  <tbody>\n",
       "    <tr>\n",
       "      <th>0</th>\n",
       "      <td>Ugw5fySq5NxfwgCuFhB4AaABAg</td>\n",
       "      <td>@AiexpertRajivVerma</td>\n",
       "      <td>NaN</td>\n",
       "      <td>1.0</td>\n",
       "      <td>H_8ZVRRtiIA</td>\n",
       "      <td>0.0</td>\n",
       "      <td>0.0</td>\n",
       "      <td>2023-12-11T01:11:19Z</td>\n",
       "      <td>Sir thank you love love 💕❤️❤❤️❤❤❤❤❤❤ you for f...</td>\n",
       "      <td>2023-12-11T01:11:19Z</td>\n",
       "    </tr>\n",
       "    <tr>\n",
       "      <th>1</th>\n",
       "      <td>Ugw_73FC0tI1B6PW9nh4AaABAg</td>\n",
       "      <td>@hamasali8764</td>\n",
       "      <td>NaN</td>\n",
       "      <td>1.0</td>\n",
       "      <td>bZwkaVnhEo4</td>\n",
       "      <td>0.0</td>\n",
       "      <td>0.0</td>\n",
       "      <td>2023-07-27T16:54:52Z</td>\n",
       "      <td>Best One🎉</td>\n",
       "      <td>2023-07-27T16:54:52Z</td>\n",
       "    </tr>\n",
       "    <tr>\n",
       "      <th>2</th>\n",
       "      <td>Ugx1qnyHmXF9-BjhIWR4AaABAg</td>\n",
       "      <td>@R0H00</td>\n",
       "      <td>NaN</td>\n",
       "      <td>1.0</td>\n",
       "      <td>hkOosfWxBK4</td>\n",
       "      <td>0.0</td>\n",
       "      <td>1.0</td>\n",
       "      <td>2023-11-18T02:51:01Z</td>\n",
       "      <td>Hi, I&amp;#39;m a clinician who is working in the ...</td>\n",
       "      <td>2023-11-18T02:51:01Z</td>\n",
       "    </tr>\n",
       "    <tr>\n",
       "      <th>3</th>\n",
       "      <td>UgyNZvEu-Ht9ZlLwOXp4AaABAg</td>\n",
       "      <td>@nitinsnoisepollution6293</td>\n",
       "      <td>NaN</td>\n",
       "      <td>1.0</td>\n",
       "      <td>hkOosfWxBK4</td>\n",
       "      <td>0.0</td>\n",
       "      <td>0.0</td>\n",
       "      <td>2023-11-17T20:39:13Z</td>\n",
       "      <td>Superb 🎉❤</td>\n",
       "      <td>2023-11-17T20:39:13Z</td>\n",
       "    </tr>\n",
       "    <tr>\n",
       "      <th>4</th>\n",
       "      <td>UgzAxiiLaxyBHEcRw0R4AaABAg</td>\n",
       "      <td>@REDBONDYT</td>\n",
       "      <td>NaN</td>\n",
       "      <td>1.0</td>\n",
       "      <td>Fxq6vjJwX3o</td>\n",
       "      <td>0.0</td>\n",
       "      <td>1.0</td>\n",
       "      <td>2023-07-30T12:36:13Z</td>\n",
       "      <td>Very informative 😃😺</td>\n",
       "      <td>2023-07-30T12:36:13Z</td>\n",
       "    </tr>\n",
       "  </tbody>\n",
       "</table>\n",
       "</div>"
      ],
      "text/plain": [
       "                   Comment_id                     author Reply_for  Type  \\\n",
       "0  Ugw5fySq5NxfwgCuFhB4AaABAg        @AiexpertRajivVerma       NaN   1.0   \n",
       "1  Ugw_73FC0tI1B6PW9nh4AaABAg              @hamasali8764       NaN   1.0   \n",
       "2  Ugx1qnyHmXF9-BjhIWR4AaABAg                     @R0H00       NaN   1.0   \n",
       "3  UgyNZvEu-Ht9ZlLwOXp4AaABAg  @nitinsnoisepollution6293       NaN   1.0   \n",
       "4  UgzAxiiLaxyBHEcRw0R4AaABAg                 @REDBONDYT       NaN   1.0   \n",
       "\n",
       "      video_id  total_reply  like_count          published_at  \\\n",
       "0  H_8ZVRRtiIA          0.0         0.0  2023-12-11T01:11:19Z   \n",
       "1  bZwkaVnhEo4          0.0         0.0  2023-07-27T16:54:52Z   \n",
       "2  hkOosfWxBK4          0.0         1.0  2023-11-18T02:51:01Z   \n",
       "3  hkOosfWxBK4          0.0         0.0  2023-11-17T20:39:13Z   \n",
       "4  Fxq6vjJwX3o          0.0         1.0  2023-07-30T12:36:13Z   \n",
       "\n",
       "                                         textdisplay             updatedat  \n",
       "0  Sir thank you love love 💕❤️❤❤️❤❤❤❤❤❤ you for f...  2023-12-11T01:11:19Z  \n",
       "1                                          Best One🎉  2023-07-27T16:54:52Z  \n",
       "2  Hi, I&#39;m a clinician who is working in the ...  2023-11-18T02:51:01Z  \n",
       "3                                          Superb 🎉❤  2023-11-17T20:39:13Z  \n",
       "4                                Very informative 😃😺  2023-07-30T12:36:13Z  "
      ]
     },
     "execution_count": 263,
     "metadata": {},
     "output_type": "execute_result"
    }
   ],
   "source": [
    "df_comments.head()"
   ]
  },
  {
   "cell_type": "markdown",
   "metadata": {},
   "source": [
    "#### Overview"
   ]
  },
  {
   "cell_type": "code",
   "execution_count": 264,
   "metadata": {},
   "outputs": [
    {
     "name": "stdout",
     "output_type": "stream",
     "text": [
      "<class 'pandas.core.frame.DataFrame'>\n",
      "RangeIndex: 5879 entries, 0 to 5878\n",
      "Data columns (total 13 columns):\n",
      " #   Column                  Non-Null Count  Dtype  \n",
      "---  ------                  --------------  -----  \n",
      " 0   video_id                5879 non-null   object \n",
      " 1   title                   5879 non-null   object \n",
      " 2   published               5879 non-null   object \n",
      " 3   view_count              5879 non-null   int64  \n",
      " 4   like_count              5829 non-null   float64\n",
      " 5   comment_count           5873 non-null   float64\n",
      " 6   duration                5879 non-null   object \n",
      " 7   definition              5879 non-null   object \n",
      " 8   tags                    5064 non-null   object \n",
      " 9   default_audio_language  5498 non-null   object \n",
      " 10  madeforkid              5879 non-null   bool   \n",
      " 11  channel_id              5879 non-null   object \n",
      " 12  channelTitle            5879 non-null   object \n",
      "dtypes: bool(1), float64(2), int64(1), object(9)\n",
      "memory usage: 557.0+ KB\n"
     ]
    }
   ],
   "source": [
    "df_videos.info()"
   ]
  },
  {
   "cell_type": "code",
   "execution_count": 265,
   "metadata": {},
   "outputs": [
    {
     "name": "stdout",
     "output_type": "stream",
     "text": [
      "<class 'pandas.core.frame.DataFrame'>\n",
      "RangeIndex: 135996 entries, 0 to 135995\n",
      "Data columns (total 10 columns):\n",
      " #   Column        Non-Null Count   Dtype  \n",
      "---  ------        --------------   -----  \n",
      " 0   Comment_id    135996 non-null  object \n",
      " 1   author        135994 non-null  object \n",
      " 2   Reply_for     31094 non-null   object \n",
      " 3   Type          135996 non-null  float64\n",
      " 4   video_id      135996 non-null  object \n",
      " 5   total_reply   135996 non-null  float64\n",
      " 6   like_count    135996 non-null  float64\n",
      " 7   published_at  135996 non-null  object \n",
      " 8   textdisplay   135996 non-null  object \n",
      " 9   updatedat     135996 non-null  object \n",
      "dtypes: float64(3), object(7)\n",
      "memory usage: 10.4+ MB\n"
     ]
    }
   ],
   "source": [
    "df_comments.info()"
   ]
  },
  {
   "cell_type": "markdown",
   "metadata": {},
   "source": [
    "### The size of the datasets"
   ]
  },
  {
   "cell_type": "markdown",
   "metadata": {},
   "source": [
    "#### Videos section"
   ]
  },
  {
   "cell_type": "code",
   "execution_count": 266,
   "metadata": {},
   "outputs": [
    {
     "name": "stdout",
     "output_type": "stream",
     "text": [
      "Rows: 5879\n",
      "Columns: 13\n"
     ]
    }
   ],
   "source": [
    "print('Rows:', df_videos.shape[0])\n",
    "print('Columns:', df_videos.shape[1])"
   ]
  },
  {
   "cell_type": "markdown",
   "metadata": {},
   "source": [
    "#### Comments section"
   ]
  },
  {
   "cell_type": "code",
   "execution_count": 267,
   "metadata": {},
   "outputs": [
    {
     "name": "stdout",
     "output_type": "stream",
     "text": [
      "Rows: 135996\n",
      "Columns: 10\n"
     ]
    }
   ],
   "source": [
    "print('Rows:', df_comments.shape[0])\n",
    "print('Columns:', df_comments.shape[1])"
   ]
  },
  {
   "cell_type": "markdown",
   "metadata": {},
   "source": [
    "### The meaning of each column"
   ]
  },
  {
   "cell_type": "markdown",
   "metadata": {},
   "source": [
    "**Videos dataset**\n",
    "- `video_id`: Video ID.\n",
    "- `title`: Video title.\n",
    "- `published`: Publication date of the video.\n",
    "- `view_count`: The video's view count.\n",
    "- `like_count`: The video's like count.\n",
    "- `comment_count`: The video's comment count.\n",
    "- `duration`: How long the video is.\n",
    "- `definition`: How much information is captured and reproduced (eg. hd, sd).\n",
    "- `tags`: Tags of the video.\n",
    "- `default_audio_language`: Default audio language of the video.\n",
    "- `madeforkid`: Mark if this video is made for kids or not.\n",
    "- `playlist_title`: Playlist title.\n",
    "- `channel_id`: The channel ID.\n",
    "- `channelTitle`: The channel title."
   ]
  },
  {
   "cell_type": "markdown",
   "metadata": {},
   "source": [
    "**Comments dataset**\n",
    "- `Comment_id`: Comment ID.\n",
    "- `author`: Author of the comment.\n",
    "- `Reply_for`: The parent comment ID that this comment replied to.\n",
    "- `Type`: Type of comment (top-level comment (1) or reply(2)).\n",
    "- `video_id`: The video ID.\n",
    "- `total_reply`: Total responses to this comment.\n",
    "- `like_count`: The comment's like count.\n",
    "- `published_at`: Publication date of the comment.\n",
    "- `textdisplay`: The content of the comment.\n",
    "- `updatedat`: The comment's updated date."
   ]
  },
  {
   "cell_type": "markdown",
   "metadata": {},
   "source": [
    "### Duplicated rows"
   ]
  },
  {
   "cell_type": "markdown",
   "metadata": {},
   "source": [
    "#### Videos section"
   ]
  },
  {
   "cell_type": "markdown",
   "metadata": {},
   "source": [
    "How many duplicated rows do the `df_videos` have?"
   ]
  },
  {
   "cell_type": "code",
   "execution_count": 268,
   "metadata": {},
   "outputs": [
    {
     "data": {
      "text/plain": [
       "407"
      ]
     },
     "execution_count": 268,
     "metadata": {},
     "output_type": "execute_result"
    }
   ],
   "source": [
    "df_videos.duplicated(subset='video_id').sum()"
   ]
  },
  {
   "cell_type": "code",
   "execution_count": 269,
   "metadata": {},
   "outputs": [
    {
     "data": {
      "text/html": [
       "<div>\n",
       "<style scoped>\n",
       "    .dataframe tbody tr th:only-of-type {\n",
       "        vertical-align: middle;\n",
       "    }\n",
       "\n",
       "    .dataframe tbody tr th {\n",
       "        vertical-align: top;\n",
       "    }\n",
       "\n",
       "    .dataframe thead th {\n",
       "        text-align: right;\n",
       "    }\n",
       "</style>\n",
       "<table border=\"1\" class=\"dataframe\">\n",
       "  <thead>\n",
       "    <tr style=\"text-align: right;\">\n",
       "      <th></th>\n",
       "      <th>video_id</th>\n",
       "      <th>title</th>\n",
       "      <th>published</th>\n",
       "      <th>view_count</th>\n",
       "      <th>like_count</th>\n",
       "      <th>comment_count</th>\n",
       "      <th>duration</th>\n",
       "      <th>definition</th>\n",
       "      <th>tags</th>\n",
       "      <th>default_audio_language</th>\n",
       "      <th>madeforkid</th>\n",
       "      <th>channel_id</th>\n",
       "      <th>channelTitle</th>\n",
       "    </tr>\n",
       "  </thead>\n",
       "  <tbody>\n",
       "    <tr>\n",
       "      <th>607</th>\n",
       "      <td>DFDGHEzf5oE</td>\n",
       "      <td>\"Stanford is the easiest to get into with low ...</td>\n",
       "      <td>2019-05-21T02:47:05Z</td>\n",
       "      <td>453056</td>\n",
       "      <td>9855.0</td>\n",
       "      <td>512.0</td>\n",
       "      <td>PT34M33S</td>\n",
       "      <td>hd</td>\n",
       "      <td>['joma', 'vlog', 'college', 'stanford', 'colle...</td>\n",
       "      <td>en</td>\n",
       "      <td>False</td>\n",
       "      <td>UCV0qA-eDDICsRR9rPcnG7tw</td>\n",
       "      <td>Joma Tech</td>\n",
       "    </tr>\n",
       "    <tr>\n",
       "      <th>631</th>\n",
       "      <td>DFDGHEzf5oE</td>\n",
       "      <td>\"Stanford is the easiest to get into with low ...</td>\n",
       "      <td>2019-05-21T02:47:05Z</td>\n",
       "      <td>453055</td>\n",
       "      <td>9855.0</td>\n",
       "      <td>512.0</td>\n",
       "      <td>PT34M33S</td>\n",
       "      <td>hd</td>\n",
       "      <td>['joma', 'vlog', 'college', 'stanford', 'colle...</td>\n",
       "      <td>en</td>\n",
       "      <td>False</td>\n",
       "      <td>UCV0qA-eDDICsRR9rPcnG7tw</td>\n",
       "      <td>Joma Tech</td>\n",
       "    </tr>\n",
       "    <tr>\n",
       "      <th>60</th>\n",
       "      <td>KWULpBYzIYk</td>\n",
       "      <td>#10 Machine Learning Specialization [Course 1,...</td>\n",
       "      <td>2022-12-01T13:21:47Z</td>\n",
       "      <td>24418</td>\n",
       "      <td>233.0</td>\n",
       "      <td>12.0</td>\n",
       "      <td>PT6M44S</td>\n",
       "      <td>hd</td>\n",
       "      <td>NaN</td>\n",
       "      <td>en</td>\n",
       "      <td>False</td>\n",
       "      <td>UCcIXc5mJsHVYTZR1maL5l9w</td>\n",
       "      <td>DeepLearningAI</td>\n",
       "    </tr>\n",
       "    <tr>\n",
       "      <th>27</th>\n",
       "      <td>KWULpBYzIYk</td>\n",
       "      <td>#10 Machine Learning Specialization [Course 1,...</td>\n",
       "      <td>2022-12-01T13:21:47Z</td>\n",
       "      <td>24418</td>\n",
       "      <td>233.0</td>\n",
       "      <td>12.0</td>\n",
       "      <td>PT6M44S</td>\n",
       "      <td>hd</td>\n",
       "      <td>NaN</td>\n",
       "      <td>en</td>\n",
       "      <td>False</td>\n",
       "      <td>UCcIXc5mJsHVYTZR1maL5l9w</td>\n",
       "      <td>DeepLearningAI</td>\n",
       "    </tr>\n",
       "    <tr>\n",
       "      <th>51</th>\n",
       "      <td>peNRqkfukYY</td>\n",
       "      <td>#12 Machine Learning Specialization [Course 1,...</td>\n",
       "      <td>2022-12-01T13:21:54Z</td>\n",
       "      <td>21513</td>\n",
       "      <td>256.0</td>\n",
       "      <td>6.0</td>\n",
       "      <td>PT15M47S</td>\n",
       "      <td>hd</td>\n",
       "      <td>NaN</td>\n",
       "      <td>en</td>\n",
       "      <td>False</td>\n",
       "      <td>UCcIXc5mJsHVYTZR1maL5l9w</td>\n",
       "      <td>DeepLearningAI</td>\n",
       "    </tr>\n",
       "  </tbody>\n",
       "</table>\n",
       "</div>"
      ],
      "text/plain": [
       "        video_id                                              title  \\\n",
       "607  DFDGHEzf5oE  \"Stanford is the easiest to get into with low ...   \n",
       "631  DFDGHEzf5oE  \"Stanford is the easiest to get into with low ...   \n",
       "60   KWULpBYzIYk  #10 Machine Learning Specialization [Course 1,...   \n",
       "27   KWULpBYzIYk  #10 Machine Learning Specialization [Course 1,...   \n",
       "51   peNRqkfukYY  #12 Machine Learning Specialization [Course 1,...   \n",
       "\n",
       "                published  view_count  like_count  comment_count  duration  \\\n",
       "607  2019-05-21T02:47:05Z      453056      9855.0          512.0  PT34M33S   \n",
       "631  2019-05-21T02:47:05Z      453055      9855.0          512.0  PT34M33S   \n",
       "60   2022-12-01T13:21:47Z       24418       233.0           12.0   PT6M44S   \n",
       "27   2022-12-01T13:21:47Z       24418       233.0           12.0   PT6M44S   \n",
       "51   2022-12-01T13:21:54Z       21513       256.0            6.0  PT15M47S   \n",
       "\n",
       "    definition                                               tags  \\\n",
       "607         hd  ['joma', 'vlog', 'college', 'stanford', 'colle...   \n",
       "631         hd  ['joma', 'vlog', 'college', 'stanford', 'colle...   \n",
       "60          hd                                                NaN   \n",
       "27          hd                                                NaN   \n",
       "51          hd                                                NaN   \n",
       "\n",
       "    default_audio_language  madeforkid                channel_id  \\\n",
       "607                     en       False  UCV0qA-eDDICsRR9rPcnG7tw   \n",
       "631                     en       False  UCV0qA-eDDICsRR9rPcnG7tw   \n",
       "60                      en       False  UCcIXc5mJsHVYTZR1maL5l9w   \n",
       "27                      en       False  UCcIXc5mJsHVYTZR1maL5l9w   \n",
       "51                      en       False  UCcIXc5mJsHVYTZR1maL5l9w   \n",
       "\n",
       "       channelTitle  \n",
       "607       Joma Tech  \n",
       "631       Joma Tech  \n",
       "60   DeepLearningAI  \n",
       "27   DeepLearningAI  \n",
       "51   DeepLearningAI  "
      ]
     },
     "execution_count": 269,
     "metadata": {},
     "output_type": "execute_result"
    }
   ],
   "source": [
    "df_videos[df_videos.duplicated(subset='video_id', keep = False)].sort_values(by = 'title').head()"
   ]
  },
  {
   "cell_type": "markdown",
   "metadata": {},
   "source": [
    "As we can see, there are some videos that have been collected more than once. We will remove these duplicated rows."
   ]
  },
  {
   "cell_type": "markdown",
   "metadata": {},
   "source": [
    "#### Comments section"
   ]
  },
  {
   "cell_type": "markdown",
   "metadata": {},
   "source": [
    "How many duplicated rows do the `df_comments` have?"
   ]
  },
  {
   "cell_type": "code",
   "execution_count": 270,
   "metadata": {},
   "outputs": [
    {
     "data": {
      "text/plain": [
       "25587"
      ]
     },
     "execution_count": 270,
     "metadata": {},
     "output_type": "execute_result"
    }
   ],
   "source": [
    "df_comments.duplicated().sum()"
   ]
  },
  {
   "cell_type": "markdown",
   "metadata": {},
   "source": [
    "#### Drop duplicate rows"
   ]
  },
  {
   "cell_type": "code",
   "execution_count": 271,
   "metadata": {},
   "outputs": [],
   "source": [
    "df_videos = df_videos.drop_duplicates(subset='video_id')\n",
    "df_comments = df_comments.drop_duplicates()"
   ]
  },
  {
   "cell_type": "markdown",
   "metadata": {},
   "source": [
    "### Missing values in df_videos"
   ]
  },
  {
   "cell_type": "code",
   "execution_count": 272,
   "metadata": {},
   "outputs": [
    {
     "name": "stdout",
     "output_type": "stream",
     "text": [
      "<class 'pandas.core.frame.DataFrame'>\n",
      "Int64Index: 5472 entries, 0 to 5878\n",
      "Data columns (total 13 columns):\n",
      " #   Column                  Non-Null Count  Dtype  \n",
      "---  ------                  --------------  -----  \n",
      " 0   video_id                5472 non-null   object \n",
      " 1   title                   5472 non-null   object \n",
      " 2   published               5472 non-null   object \n",
      " 3   view_count              5472 non-null   int64  \n",
      " 4   like_count              5431 non-null   float64\n",
      " 5   comment_count           5467 non-null   float64\n",
      " 6   duration                5472 non-null   object \n",
      " 7   definition              5472 non-null   object \n",
      " 8   tags                    4752 non-null   object \n",
      " 9   default_audio_language  5114 non-null   object \n",
      " 10  madeforkid              5472 non-null   bool   \n",
      " 11  channel_id              5472 non-null   object \n",
      " 12  channelTitle            5472 non-null   object \n",
      "dtypes: bool(1), float64(2), int64(1), object(9)\n",
      "memory usage: 561.1+ KB\n"
     ]
    }
   ],
   "source": [
    "df_videos.info()"
   ]
  },
  {
   "cell_type": "markdown",
   "metadata": {},
   "source": [
    "There are 4 columns that have missing values: `like_count`, `comment_count`, `tags`, `default_audio_language`."
   ]
  },
  {
   "cell_type": "markdown",
   "metadata": {},
   "source": [
    "When examining videos with missing values in the 'like_count,' it becomes evident that the like count for these videos is hidden by the uploader. Consequently, we have chosen to fill these missing values by utilizing the like ratio of the channel, multiplied by the view count of the video (which does not have missing values)."
   ]
  },
  {
   "cell_type": "code",
   "execution_count": 273,
   "metadata": {},
   "outputs": [],
   "source": [
    "like_ratio = df_videos.dropna(subset=['like_count'])\n",
    "like_ratio = like_ratio.groupby('channelTitle')[['view_count', 'like_count']].sum()\n",
    "like_ratio['like_ratio'] = like_ratio['like_count'] / like_ratio['view_count']\n",
    "\n",
    "\n",
    "df_videos['like_count'] = df_videos.apply(lambda x: \n",
    "                                          x['view_count'] * like_ratio.loc[x['channelTitle'],'like_ratio'] \n",
    "                                          if pd.isnull(x['like_count']) \n",
    "                                          else x['like_count'], axis=1)"
   ]
  },
  {
   "cell_type": "markdown",
   "metadata": {},
   "source": [
    "When inspecting videos with missing values in the 'comment_count,' it becomes evident that comments for these videos are disabled by the uploader. Consequently, we have opted to fill these missing values with 0."
   ]
  },
  {
   "cell_type": "code",
   "execution_count": 274,
   "metadata": {},
   "outputs": [],
   "source": [
    "df_videos['comment_count'] = df_videos['comment_count'].fillna(0)"
   ]
  },
  {
   "cell_type": "markdown",
   "metadata": {},
   "source": [
    "tags null because the video uploader does not add tags to the video. So we just leave it as it is."
   ]
  },
  {
   "cell_type": "markdown",
   "metadata": {},
   "source": [
    "All channels we chose to scrape have English as their default audio language. As a result, we have chosen to fill in the missing values with 'en'."
   ]
  },
  {
   "cell_type": "code",
   "execution_count": 275,
   "metadata": {},
   "outputs": [],
   "source": [
    "df_videos['default_audio_language'] = df_videos['default_audio_language'].fillna('en')"
   ]
  },
  {
   "cell_type": "code",
   "execution_count": 276,
   "metadata": {},
   "outputs": [
    {
     "name": "stdout",
     "output_type": "stream",
     "text": [
      "<class 'pandas.core.frame.DataFrame'>\n",
      "Int64Index: 5472 entries, 0 to 5878\n",
      "Data columns (total 13 columns):\n",
      " #   Column                  Non-Null Count  Dtype  \n",
      "---  ------                  --------------  -----  \n",
      " 0   video_id                5472 non-null   object \n",
      " 1   title                   5472 non-null   object \n",
      " 2   published               5472 non-null   object \n",
      " 3   view_count              5472 non-null   int64  \n",
      " 4   like_count              5472 non-null   float64\n",
      " 5   comment_count           5472 non-null   float64\n",
      " 6   duration                5472 non-null   object \n",
      " 7   definition              5472 non-null   object \n",
      " 8   tags                    4752 non-null   object \n",
      " 9   default_audio_language  5472 non-null   object \n",
      " 10  madeforkid              5472 non-null   bool   \n",
      " 11  channel_id              5472 non-null   object \n",
      " 12  channelTitle            5472 non-null   object \n",
      "dtypes: bool(1), float64(2), int64(1), object(9)\n",
      "memory usage: 561.1+ KB\n"
     ]
    }
   ],
   "source": [
    "df_videos.info()"
   ]
  },
  {
   "cell_type": "markdown",
   "metadata": {},
   "source": [
    "### Fill missing values in df_comments"
   ]
  },
  {
   "cell_type": "code",
   "execution_count": 277,
   "metadata": {},
   "outputs": [
    {
     "name": "stdout",
     "output_type": "stream",
     "text": [
      "<class 'pandas.core.frame.DataFrame'>\n",
      "Int64Index: 110409 entries, 0 to 135995\n",
      "Data columns (total 10 columns):\n",
      " #   Column        Non-Null Count   Dtype  \n",
      "---  ------        --------------   -----  \n",
      " 0   Comment_id    110409 non-null  object \n",
      " 1   author        110407 non-null  object \n",
      " 2   Reply_for     25166 non-null   object \n",
      " 3   Type          110409 non-null  float64\n",
      " 4   video_id      110409 non-null  object \n",
      " 5   total_reply   110409 non-null  float64\n",
      " 6   like_count    110409 non-null  float64\n",
      " 7   published_at  110409 non-null  object \n",
      " 8   textdisplay   110409 non-null  object \n",
      " 9   updatedat     110409 non-null  object \n",
      "dtypes: float64(3), object(7)\n",
      "memory usage: 9.3+ MB\n"
     ]
    }
   ],
   "source": [
    "df_comments.info()"
   ]
  },
  {
   "cell_type": "markdown",
   "metadata": {},
   "source": [
    "Reply_for is null because the comment is a top-level comment. So we just leave it as it is.\n",
    "\n",
    "There are only 2 missing values in the `author` column. We can leave it as it is."
   ]
  },
  {
   "cell_type": "markdown",
   "metadata": {},
   "source": [
    "### Current column types in datasets"
   ]
  },
  {
   "cell_type": "markdown",
   "metadata": {},
   "source": [
    "#### Videos section"
   ]
  },
  {
   "cell_type": "code",
   "execution_count": 278,
   "metadata": {},
   "outputs": [
    {
     "data": {
      "text/plain": [
       "video_id                   object\n",
       "title                      object\n",
       "published                  object\n",
       "view_count                  int64\n",
       "like_count                float64\n",
       "comment_count             float64\n",
       "duration                   object\n",
       "definition                 object\n",
       "tags                       object\n",
       "default_audio_language     object\n",
       "madeforkid                   bool\n",
       "channel_id                 object\n",
       "channelTitle               object\n",
       "dtype: object"
      ]
     },
     "execution_count": 278,
     "metadata": {},
     "output_type": "execute_result"
    }
   ],
   "source": [
    "df_videos.dtypes"
   ]
  },
  {
   "cell_type": "markdown",
   "metadata": {},
   "source": [
    "The following fields need to be converted to the specified data types:\n",
    "- `published` to datetime.\n",
    "- `duration` to timedelta.\n",
    "- `tags` to a list of strings."
   ]
  },
  {
   "cell_type": "code",
   "execution_count": 279,
   "metadata": {},
   "outputs": [],
   "source": [
    "df_videos['published'] =  pd.to_datetime(df_videos['published'])\n",
    "df_videos['duration'] = pd.to_timedelta(df_videos['duration'])\n",
    "df_videos['tags'] = df_videos['tags'].apply(lambda x: ast.literal_eval(x) if pd.notnull(x) else np.nan)"
   ]
  },
  {
   "cell_type": "markdown",
   "metadata": {},
   "source": [
    "#### Comments section"
   ]
  },
  {
   "cell_type": "code",
   "execution_count": 280,
   "metadata": {},
   "outputs": [
    {
     "data": {
      "text/plain": [
       "Comment_id       object\n",
       "author           object\n",
       "Reply_for        object\n",
       "Type            float64\n",
       "video_id         object\n",
       "total_reply     float64\n",
       "like_count      float64\n",
       "published_at     object\n",
       "textdisplay      object\n",
       "updatedat        object\n",
       "dtype: object"
      ]
     },
     "execution_count": 280,
     "metadata": {},
     "output_type": "execute_result"
    }
   ],
   "source": [
    "df_comments.dtypes"
   ]
  },
  {
   "cell_type": "markdown",
   "metadata": {},
   "source": [
    "The `published_at` and `updatedat` fields need to be converted to datetime."
   ]
  },
  {
   "cell_type": "code",
   "execution_count": 281,
   "metadata": {},
   "outputs": [],
   "source": [
    "df_comments['published_at'] =  pd.to_datetime(df_comments['published_at'])\n",
    "df_comments['updatedat'] =  pd.to_datetime(df_comments['updatedat'])"
   ]
  },
  {
   "cell_type": "markdown",
   "metadata": {},
   "source": [
    "Next, we will drop columns that are unnecessary for subsequent steps."
   ]
  },
  {
   "cell_type": "code",
   "execution_count": 282,
   "metadata": {},
   "outputs": [],
   "source": [
    "df_videos = df_videos.drop(columns = ['channel_id'])\n",
    "df_comments = df_comments.drop(columns = ['Comment_id'])\n",
    "df_comments = df_comments.drop(columns = ['Reply_for'])"
   ]
  },
  {
   "cell_type": "markdown",
   "metadata": {},
   "source": [
    "### Distribution of Values for Numeric Columns"
   ]
  },
  {
   "cell_type": "code",
   "execution_count": 283,
   "metadata": {},
   "outputs": [],
   "source": [
    "def num_missing_ratio(column):\n",
    "    return (column.isnull().sum() / len(column) * 100).round(1)\n",
    "\n",
    "def num_lower_quartile(column):\n",
    "    return column.quantile(0.25)\n",
    "\n",
    "def num_median(column):\n",
    "    return column.quantile(0.5)\n",
    "\n",
    "def num_upper_quartile(column):\n",
    "    return column.quantile(0.75)\n",
    "\n",
    "num_types = ['int64', 'float64']"
   ]
  },
  {
   "cell_type": "code",
   "execution_count": 284,
   "metadata": {},
   "outputs": [
    {
     "data": {
      "text/html": [
       "<div>\n",
       "<style scoped>\n",
       "    .dataframe tbody tr th:only-of-type {\n",
       "        vertical-align: middle;\n",
       "    }\n",
       "\n",
       "    .dataframe tbody tr th {\n",
       "        vertical-align: top;\n",
       "    }\n",
       "\n",
       "    .dataframe thead th {\n",
       "        text-align: right;\n",
       "    }\n",
       "</style>\n",
       "<table border=\"1\" class=\"dataframe\">\n",
       "  <thead>\n",
       "    <tr style=\"text-align: right;\">\n",
       "      <th></th>\n",
       "      <th>view_count</th>\n",
       "      <th>like_count</th>\n",
       "      <th>comment_count</th>\n",
       "    </tr>\n",
       "  </thead>\n",
       "  <tbody>\n",
       "    <tr>\n",
       "      <th>num_missing_ratio</th>\n",
       "      <td>0.00</td>\n",
       "      <td>0.00</td>\n",
       "      <td>0.0</td>\n",
       "    </tr>\n",
       "    <tr>\n",
       "      <th>min</th>\n",
       "      <td>0.00</td>\n",
       "      <td>0.00</td>\n",
       "      <td>0.0</td>\n",
       "    </tr>\n",
       "    <tr>\n",
       "      <th>num_lower_quartile</th>\n",
       "      <td>4047.75</td>\n",
       "      <td>78.75</td>\n",
       "      <td>4.0</td>\n",
       "    </tr>\n",
       "    <tr>\n",
       "      <th>num_median</th>\n",
       "      <td>22660.00</td>\n",
       "      <td>483.00</td>\n",
       "      <td>32.0</td>\n",
       "    </tr>\n",
       "    <tr>\n",
       "      <th>num_upper_quartile</th>\n",
       "      <td>98793.50</td>\n",
       "      <td>2274.25</td>\n",
       "      <td>138.0</td>\n",
       "    </tr>\n",
       "    <tr>\n",
       "      <th>max</th>\n",
       "      <td>19622082.00</td>\n",
       "      <td>1043942.00</td>\n",
       "      <td>26833.0</td>\n",
       "    </tr>\n",
       "  </tbody>\n",
       "</table>\n",
       "</div>"
      ],
      "text/plain": [
       "                     view_count  like_count  comment_count\n",
       "num_missing_ratio          0.00        0.00            0.0\n",
       "min                        0.00        0.00            0.0\n",
       "num_lower_quartile      4047.75       78.75            4.0\n",
       "num_median             22660.00      483.00           32.0\n",
       "num_upper_quartile     98793.50     2274.25          138.0\n",
       "max                 19622082.00  1043942.00        26833.0"
      ]
     },
     "execution_count": 284,
     "metadata": {},
     "output_type": "execute_result"
    }
   ],
   "source": [
    "num_col_info_df_videos = df_videos.select_dtypes(include = num_types)\n",
    "\n",
    "num_col_info_df_videos = num_col_info_df_videos.agg([num_missing_ratio, 'min', num_lower_quartile, num_median, num_upper_quartile, 'max'])\n",
    "num_col_info_df_videos"
   ]
  },
  {
   "cell_type": "code",
   "execution_count": 285,
   "metadata": {},
   "outputs": [
    {
     "data": {
      "image/png": "[encoded data removed]",
      "text/plain": [
       "<Figure size 2000x1000 with 3 Axes>"
      ]
     },
     "metadata": {},
     "output_type": "display_data"
    }
   ],
   "source": [
    "fig = plt.figure(figsize = (20, 10))\n",
    "for i, col in enumerate(num_col_info_df_videos.columns):\n",
    "    ax = fig.add_subplot(2, 2, i + 1)\n",
    "    ax.hist(df_videos[col], bins = 'scott')\n",
    "    ax.set_title(col)"
   ]
  },
  {
   "cell_type": "code",
   "execution_count": 286,
   "metadata": {},
   "outputs": [
    {
     "data": {
      "text/html": [
       "<div>\n",
       "<style scoped>\n",
       "    .dataframe tbody tr th:only-of-type {\n",
       "        vertical-align: middle;\n",
       "    }\n",
       "\n",
       "    .dataframe tbody tr th {\n",
       "        vertical-align: top;\n",
       "    }\n",
       "\n",
       "    .dataframe thead th {\n",
       "        text-align: right;\n",
       "    }\n",
       "</style>\n",
       "<table border=\"1\" class=\"dataframe\">\n",
       "  <thead>\n",
       "    <tr style=\"text-align: right;\">\n",
       "      <th></th>\n",
       "      <th>Type</th>\n",
       "      <th>total_reply</th>\n",
       "      <th>like_count</th>\n",
       "    </tr>\n",
       "  </thead>\n",
       "  <tbody>\n",
       "    <tr>\n",
       "      <th>num_missing_ratio</th>\n",
       "      <td>0.0</td>\n",
       "      <td>0.0</td>\n",
       "      <td>0.0</td>\n",
       "    </tr>\n",
       "    <tr>\n",
       "      <th>min</th>\n",
       "      <td>1.0</td>\n",
       "      <td>0.0</td>\n",
       "      <td>0.0</td>\n",
       "    </tr>\n",
       "    <tr>\n",
       "      <th>num_lower_quartile</th>\n",
       "      <td>1.0</td>\n",
       "      <td>0.0</td>\n",
       "      <td>0.0</td>\n",
       "    </tr>\n",
       "    <tr>\n",
       "      <th>num_median</th>\n",
       "      <td>1.0</td>\n",
       "      <td>0.0</td>\n",
       "      <td>0.0</td>\n",
       "    </tr>\n",
       "    <tr>\n",
       "      <th>num_upper_quartile</th>\n",
       "      <td>1.0</td>\n",
       "      <td>0.0</td>\n",
       "      <td>1.0</td>\n",
       "    </tr>\n",
       "    <tr>\n",
       "      <th>max</th>\n",
       "      <td>2.0</td>\n",
       "      <td>392.0</td>\n",
       "      <td>65952.0</td>\n",
       "    </tr>\n",
       "  </tbody>\n",
       "</table>\n",
       "</div>"
      ],
      "text/plain": [
       "                    Type  total_reply  like_count\n",
       "num_missing_ratio    0.0          0.0         0.0\n",
       "min                  1.0          0.0         0.0\n",
       "num_lower_quartile   1.0          0.0         0.0\n",
       "num_median           1.0          0.0         0.0\n",
       "num_upper_quartile   1.0          0.0         1.0\n",
       "max                  2.0        392.0     65952.0"
      ]
     },
     "execution_count": 286,
     "metadata": {},
     "output_type": "execute_result"
    }
   ],
   "source": [
    "num_col_info_df_comments = df_comments.select_dtypes(include = num_types)\n",
    "\n",
    "num_col_info_df_comments = num_col_info_df_comments.agg([num_missing_ratio, 'min', num_lower_quartile, num_median, num_upper_quartile, 'max'])\n",
    "num_col_info_df_comments"
   ]
  },
  {
   "cell_type": "markdown",
   "metadata": {},
   "source": [
    "### Distribution of Values for Non-numeric Columns"
   ]
  },
  {
   "cell_type": "code",
   "execution_count": 287,
   "metadata": {},
   "outputs": [],
   "source": [
    "def missing_ratio(column):\n",
    "    return (column.isnull().sum() / len(column) * 100).round(1)\n",
    "\n",
    "def cat_num_values(column):\n",
    "    if type(column[0] == 'list'):\n",
    "        column = column.explode()\n",
    "    return column.nunique()\n",
    "\n",
    "def cat_value_ratios(column):\n",
    "    if type(column[0] == 'list'):\n",
    "        column = column.explode()\n",
    "    return column.value_counts(normalize = True).sort_values(axis = 0).to_dict()"
   ]
  },
  {
   "cell_type": "code",
   "execution_count": 288,
   "metadata": {},
   "outputs": [
    {
     "data": {
      "text/html": [
       "<div>\n",
       "<style scoped>\n",
       "    .dataframe tbody tr th:only-of-type {\n",
       "        vertical-align: middle;\n",
       "    }\n",
       "\n",
       "    .dataframe tbody tr th {\n",
       "        vertical-align: top;\n",
       "    }\n",
       "\n",
       "    .dataframe thead th {\n",
       "        text-align: right;\n",
       "    }\n",
       "</style>\n",
       "<table border=\"1\" class=\"dataframe\">\n",
       "  <thead>\n",
       "    <tr style=\"text-align: right;\">\n",
       "      <th></th>\n",
       "      <th>definition</th>\n",
       "      <th>tags</th>\n",
       "      <th>default_audio_language</th>\n",
       "      <th>madeforkid</th>\n",
       "    </tr>\n",
       "  </thead>\n",
       "  <tbody>\n",
       "    <tr>\n",
       "      <th>missing_ratio</th>\n",
       "      <td>0.0</td>\n",
       "      <td>13.2</td>\n",
       "      <td>0.0</td>\n",
       "      <td>0.0</td>\n",
       "    </tr>\n",
       "    <tr>\n",
       "      <th>cat_num_values</th>\n",
       "      <td>2</td>\n",
       "      <td>24347</td>\n",
       "      <td>5</td>\n",
       "      <td>2</td>\n",
       "    </tr>\n",
       "    <tr>\n",
       "      <th>cat_value_ratios</th>\n",
       "      <td>{'sd': 0.023026315789473683, 'hd': 0.976973684...</td>\n",
       "      <td>{'l'hopital's rule': 1.4277555682467162e-05, '...</td>\n",
       "      <td>{'en-GB': 0.0001827485380116959, 'hi': 0.00164...</td>\n",
       "      <td>{True: 0.0021929824561403508, False: 0.9978070...</td>\n",
       "    </tr>\n",
       "  </tbody>\n",
       "</table>\n",
       "</div>"
      ],
      "text/plain": [
       "                                                         definition  \\\n",
       "missing_ratio                                                   0.0   \n",
       "cat_num_values                                                    2   \n",
       "cat_value_ratios  {'sd': 0.023026315789473683, 'hd': 0.976973684...   \n",
       "\n",
       "                                                               tags  \\\n",
       "missing_ratio                                                  13.2   \n",
       "cat_num_values                                                24347   \n",
       "cat_value_ratios  {'l'hopital's rule': 1.4277555682467162e-05, '...   \n",
       "\n",
       "                                             default_audio_language  \\\n",
       "missing_ratio                                                   0.0   \n",
       "cat_num_values                                                    5   \n",
       "cat_value_ratios  {'en-GB': 0.0001827485380116959, 'hi': 0.00164...   \n",
       "\n",
       "                                                         madeforkid  \n",
       "missing_ratio                                                   0.0  \n",
       "cat_num_values                                                    2  \n",
       "cat_value_ratios  {True: 0.0021929824561403508, False: 0.9978070...  "
      ]
     },
     "execution_count": 288,
     "metadata": {},
     "output_type": "execute_result"
    }
   ],
   "source": [
    "cat_cols = ['definition', 'tags', 'default_audio_language', 'madeforkid']\n",
    "cat_col_info_df_videos = df_videos[cat_cols]\n",
    "\n",
    "cat_col_info_df_videos = cat_col_info_df_videos.agg([missing_ratio, cat_num_values, cat_value_ratios])\n",
    "cat_col_info_df_videos"
   ]
  },
  {
   "cell_type": "code",
   "execution_count": 289,
   "metadata": {},
   "outputs": [
    {
     "data": {
      "image/png": "[encoded data removed]",
      "text/plain": [
       "<Figure size 2000x1000 with 4 Axes>"
      ]
     },
     "metadata": {},
     "output_type": "display_data"
    }
   ],
   "source": [
    "fig = plt.figure(figsize = (20, 10))\n",
    "for i, col in enumerate(cat_col_info_df_videos.columns):\n",
    "    ax = fig.add_subplot(2, 2, i + 1)\n",
    "    n_top = 0\n",
    "    if col == 'madeforkid':\n",
    "        ax.set_xticks([0, 1])\n",
    "        ax.set_xticklabels(['False', 'True'])\n",
    "    if col == 'tags':\n",
    "        n_top = 5\n",
    "    ax.bar(*zip(*list(cat_col_info_df_videos[col]['cat_value_ratios'].items())[-n_top:]))\n",
    "    ax.set_title(col)"
   ]
  },
  {
   "cell_type": "code",
   "execution_count": 290,
   "metadata": {},
   "outputs": [
    {
     "data": {
      "text/html": [
       "<div>\n",
       "<style scoped>\n",
       "    .dataframe tbody tr th:only-of-type {\n",
       "        vertical-align: middle;\n",
       "    }\n",
       "\n",
       "    .dataframe tbody tr th {\n",
       "        vertical-align: top;\n",
       "    }\n",
       "\n",
       "    .dataframe thead th {\n",
       "        text-align: right;\n",
       "    }\n",
       "</style>\n",
       "<table border=\"1\" class=\"dataframe\">\n",
       "  <thead>\n",
       "    <tr style=\"text-align: right;\">\n",
       "      <th></th>\n",
       "      <th>author</th>\n",
       "      <th>Type</th>\n",
       "    </tr>\n",
       "  </thead>\n",
       "  <tbody>\n",
       "    <tr>\n",
       "      <th>missing_ratio</th>\n",
       "      <td>0.0</td>\n",
       "      <td>0.0</td>\n",
       "    </tr>\n",
       "    <tr>\n",
       "      <th>cat_num_values</th>\n",
       "      <td>75228</td>\n",
       "      <td>2</td>\n",
       "    </tr>\n",
       "    <tr>\n",
       "      <th>cat_value_ratios</th>\n",
       "      <td>{'@erkanp1': 9.057396723033866e-06, '@imarrb80...</td>\n",
       "      <td>{2.0: 0.22793431694879945, 1.0: 0.772065683051...</td>\n",
       "    </tr>\n",
       "  </tbody>\n",
       "</table>\n",
       "</div>"
      ],
      "text/plain": [
       "                                                             author  \\\n",
       "missing_ratio                                                   0.0   \n",
       "cat_num_values                                                75228   \n",
       "cat_value_ratios  {'@erkanp1': 9.057396723033866e-06, '@imarrb80...   \n",
       "\n",
       "                                                               Type  \n",
       "missing_ratio                                                   0.0  \n",
       "cat_num_values                                                    2  \n",
       "cat_value_ratios  {2.0: 0.22793431694879945, 1.0: 0.772065683051...  "
      ]
     },
     "execution_count": 290,
     "metadata": {},
     "output_type": "execute_result"
    }
   ],
   "source": [
    "cat_cols = ['author', 'Type']\n",
    "cat_col_info_df_comments = df_comments[cat_cols]\n",
    "\n",
    "cat_col_info_df_comments = cat_col_info_df_comments.agg([missing_ratio, cat_num_values, cat_value_ratios])\n",
    "cat_col_info_df_comments"
   ]
  },
  {
   "cell_type": "code",
   "execution_count": 291,
   "metadata": {},
   "outputs": [
    {
     "data": {
      "image/png": "[encoded data removed]",
      "text/plain": [
       "<Figure size 2000x500 with 2 Axes>"
      ]
     },
     "metadata": {},
     "output_type": "display_data"
    }
   ],
   "source": [
    "fig = plt.figure(figsize = (20, 5))\n",
    "for i, col in enumerate(cat_col_info_df_comments.columns):\n",
    "    ax = fig.add_subplot(1, 2, i + 1)\n",
    "    n_top = 0\n",
    "    if col == 'author':\n",
    "        n_top = 5\n",
    "    if col == 'Type':\n",
    "        ax.set_xticks([1, 2])\n",
    "        ax.set_xticklabels(['Comment', 'Reply'])\n",
    "    ax.bar(*zip(*list(cat_col_info_df_comments[col]['cat_value_ratios'].items())[-n_top:]))\n",
    "    ax.set_title(col)"
   ]
  },
  {
   "cell_type": "markdown",
   "metadata": {},
   "source": [
    "### Save the processed data"
   ]
  },
  {
   "cell_type": "code",
   "execution_count": 292,
   "metadata": {},
   "outputs": [],
   "source": [
    "processed_data_path = '../data/processed/'\n",
    "\n",
    "df_videos.to_csv(processed_data_path + 'df_videos_processed.csv', index = False)\n",
    "df_comments.to_csv(processed_data_path + 'df_comments_processed.csv', index = False)"
   ]
  }
 ],
 "metadata": {
  "kernelspec": {
   "display_name": "Python 3 (ipykernel)",
   "language": "python",
   "name": "python3"
  },
  "language_info": {
   "codemirror_mode": {
    "name": "ipython",
    "version": 3
   },
   "file_extension": ".py",
   "mimetype": "text/x-python",
   "name": "python",
   "nbconvert_exporter": "python",
   "pygments_lexer": "ipython3",
   "version": "3.10.8"
  }
 },
 "nbformat": 4,
 "nbformat_minor": 4
}
