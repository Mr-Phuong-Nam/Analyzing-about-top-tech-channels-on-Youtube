{
 "cells": [
  {
   "cell_type": "markdown",
   "metadata": {},
   "source": [
    "<div style=\"text-align: center; background-color: #0A6EBD; font-family: 'Trebuchet MS', Arial, sans-serif; color: white; padding: 20px; font-size: 40px; font-weight: bold; border-radius: 0 0 0 0; box-shadow: 0px 6px 8px rgba(0, 0, 0, 0.2);\">\n",
    "  ANALYZING ABOUT DATA SCIENCE YOUTUBE CHANNEL \n",
    "  \n",
    "  @ FIT-HCMUS, VNU-HCM 📌\n",
    "</div>"
   ]
  },
  {
   "cell_type": "markdown",
   "metadata": {},
   "source": [
    "<div style=\"text-align: center; background-color: #5A96E3; font-family: 'Trebuchet MS', Arial, sans-serif; color: white; padding: 20px; font-size: 40px; font-weight: bold; border-radius: 0 0 0 0; box-shadow: 0px 6px 8px rgba(0, 0, 0, 0.2);\">\n",
    "  A brief introduction to the project\n",
    "</div>"
   ]
  },
  {
   "cell_type": "markdown",
   "metadata": {},
   "source": [
    "## Members"
   ]
  },
  {
   "cell_type": "code",
   "execution_count": null,
   "metadata": {
    "vscode": {
     "languageId": "plaintext"
    }
   },
   "outputs": [],
   "source": [
    "- Nguyeên"
   ]
  },
  {
   "cell_type": "markdown",
   "metadata": {},
   "source": [
    "## Workflow stages"
   ]
  },
  {
   "cell_type": "markdown",
   "metadata": {},
   "source": [
    "Generic workflow stages, however there are use cases with exceptions.\n",
    "1. Overview: \n",
    "    - Project title.\n",
    "    - What are the goals of the project (question or problem definition)?\n",
    "    - What is(are) dataset(s) ?\n",
    "    - Describe your team members."
   ]
  },
  {
   "cell_type": "markdown",
   "metadata": {},
   "source": [
    "## Workflow goals"
   ]
  },
  {
   "cell_type": "markdown",
   "metadata": {},
   "source": [
    "## Assignment goals"
   ]
  },
  {
   "cell_type": "markdown",
   "metadata": {},
   "source": [
    "## Set up your coding environment with Anaconda"
   ]
  },
  {
   "cell_type": "markdown",
   "metadata": {},
   "source": [
    "First, you should [download and install Anaconda](https://www.anaconda.com/download) for your operating systems. Then, starting install your development environment using ```requirements.txt```. \n",
    "\n",
    "**Note**: Suppose that you want to use Python 3.9, I built this requirement packages list base on Python 3.9. So if you want to install these packages in other Python version, please check all packages again via command ```conda search -c conda-forge -f  <package name>``` to verify the version of each package and change it in ```requirements.txt``` file. \n",
    "\n",
    "```bash\n",
    "# create conda virtual environment\n",
    "conda create --name min_ds-env python=3.9 -y\n",
    "\n",
    "# activate created conda virtual environment\n",
    "conda activate min_ds-env\n",
    "\n",
    "# install dependencies\n",
    "pip install -r requirements.txt\n",
    "```"
   ]
  },
  {
   "cell_type": "markdown",
   "metadata": {},
   "source": [
    "## How to submit this assignment?"
   ]
  },
  {
   "cell_type": "markdown",
   "metadata": {},
   "source": [
    "## Laboratory structure explanation"
   ]
  },
  {
   "cell_type": "markdown",
   "metadata": {},
   "source": [
    "This lab project structure is built under the [Cookiecutter Data Science](https://github.com/drivendata/cookiecutter-data-science) - A logical, reasonably standardized, but flexible project structure for doing and sharing data science work. \n",
    "\n",
    "```\n",
    "├── LICENSE-CC-BY-NC-ND-4.0.md\n",
    "├── min_ds-env.yml\n",
    "├── Makefile                 <- Makefile with commands like `make data` or `make train`\n",
    "├── README.md                <- The top-level README for developers using this project.\n",
    "├── data\n",
    "│   ├── external             <- Data from third party sources.\n",
    "│   ├── interim              <- Intermediate data that has been transformed.\n",
    "│   ├── processed            <- The final, canonical data sets for modeling.\n",
    "│   └── raw                  <- The original, immutable data dump.\n",
    "│\n",
    "│\n",
    "├── models                   <- Trained and serialized models, model predictions, or model summaries\n",
    "│\n",
    "├── notebooks                <- Jupyter notebooks. Naming convention is a number (for ordering),\n",
    "│                               the creator's initials, and a short `-` delimited description, e.g.\n",
    "│                               `1.0-initial-data-exploration`.\n",
    "│\n",
    "├── references                <- Data dictionaries, manuals, and all other explanatory materials.\n",
    "│\n",
    "├── reports                   <- Generated analysis as HTML, PDF, LaTeX, etc. or your written by template such as https://github.com/Wandmalfarbe/pandoc-latex-template\n",
    "│   └── figures               <- Generated graphics and figures to be used in reporting\n",
    "│\n",
    "├── requirements.txt          <- The requirements file for reproducing the analysis environment\n",
    "│\n",
    "├── src                       <- Source code for use in this project.\n",
    "│   ├── __init__.py           <- Makes src a Python module\n",
    "│   │\n",
    "│   ├── data_module           <- Scripts to download or generate data\n",
    "│   │   └── make_dataset.py\n",
    "│   │\n",
    "│   ├── features_module       <- Scripts to turn raw data into features for modeling\n",
    "│   │   └── build_features.py\n",
    "│   │\n",
    "│   ├── models_module         <- Scripts to train models and then use trained models to make\n",
    "│   │   │                        predictions\n",
    "│   │   ├── predict_model.py\n",
    "│   │   └── train_model.py\n",
    "│   │\n",
    "│   └── visualization_module  <- Scripts to create exploratory and results oriented visualizations\n",
    "│       └── visualize.py\n",
    "```"
   ]
  },
  {
   "cell_type": "markdown",
   "metadata": {},
   "source": [
    "## Contact information"
   ]
  },
  {
   "cell_type": "markdown",
   "metadata": {},
   "source": [
    "## LICENSE"
   ]
  },
  {
   "cell_type": "markdown",
   "metadata": {},
   "source": [
    "Lab 02 - Introduction To Data Science/ CSC14119 © 2023 by Department of Computer Science, Faculty of Information Technology, University of Science, Vietnam National University, Ho Chi Minh City is licensed under Attribution-NonCommercial-NoDerivatives 4.0 International\n",
    "\n",
    "Please read the file ```LICENSE-CC-BY-NC-ND-4.0.md``` for more understanding."
   ]
  }
 ],
 "metadata": {
  "language_info": {
   "name": "python"
  }
 },
 "nbformat": 4,
 "nbformat_minor": 2
}
