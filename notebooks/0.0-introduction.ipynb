{
 "cells": [
  {
   "cell_type": "markdown",
   "metadata": {},
   "source": [
    "<div style=\"text-align: center; background-color: #0A6EBD; font-family: 'Trebuchet MS', Arial, sans-serif; color: white; padding: 20px; font-size: 40px; font-weight: bold; border-radius: 0 0 0 0; box-shadow: 0px 6px 8px rgba(0, 0, 0, 0.2);\">\n",
    "  Analyzing about Data Science Channels on Youtube\n",
    "  \n",
    "  @ FIT-HCMUS, VNU-HCM 📌\n",
    "</div>"
   ]
  },
  {
   "cell_type": "markdown",
   "metadata": {},
   "source": [
    "<div style=\"text-align: center; background-color: #5A96E3; font-family: 'Trebuchet MS', Arial, sans-serif; color: white; padding: 20px; font-size: 40px; font-weight: bold; border-radius: 0 0 0 0; box-shadow: 0px 6px 8px rgba(0, 0, 0, 0.2);\">\n",
    "  A brief introduction to the project\n",
    "</div>"
   ]
  },
  {
   "cell_type": "markdown",
   "metadata": {},
   "source": [
    "## Why we choose this topic?"
   ]
  },
  {
   "cell_type": "markdown",
   "metadata": {},
   "source": [
    "YouTube stands out as a widely embraced platform for video consumption, seamlessly integrating into our daily routines. Whether for entertainment, education, or staying informed with the latest news, YouTube has become an integral part of our lives. As students specializing in Data Science, we aspire to seamlessly incorporate Data Science topics into our daily existence by leveraging YouTube videos. Thus, our decision was made to delve into an analysis of Data Science channels on YouTube. Exploring their operational dynamics, thematic focuses, and conducting comprehensive comparisons will empower us to identify the most fitting channels. This strategic approach aims to seamlessly integrate Data Science content into our daily lives."
   ]
  },
  {
   "cell_type": "markdown",
   "metadata": {},
   "source": [
    "## How can we collect data?"
   ]
  },
  {
   "cell_type": "markdown",
   "metadata": {},
   "source": [
    "F\n",
    "Initially, we conducted research to identify popular Data Science channels on the internet, selecting some based on personal preferences. Subsequently, we obtained the channel IDs using [this website](https://www.streamweasels.com/tools/youtube-channel-id-and-user-id-convertor/). \n",
    "\n",
    "Next, utilizing these channel IDs, we made requests to the Youtube Data API v3 to retrieve all video IDs associated with these channels.\n",
    "\n",
    "Following that, we utilized the video IDs to send additional requests to the Youtube Data API v3, acquiring detailed information about each video. Subsequently, we stored this information in a CSV file.\n",
    "\n",
    "Lastly, we employed the video IDs once more to send requests to the Youtube Data API v3, this time retrieving all the comments for these videos. The comments were then stored in a separate CSV file."
   ]
  },
  {
   "cell_type": "markdown",
   "metadata": {},
   "source": [
    "## Members"
   ]
  },
  {
   "cell_type": "markdown",
   "metadata": {
    "vscode": {
     "languageId": "plaintext"
    }
   },
   "source": [
    "- 21120504 _ Nguyễn Phương Nam: 21120504@student.hcmus.edu.vn\n",
    "- 21120516 _ Võ Bá Hoàng Nhất: 21120516@student.hcmus.edu.vn\n",
    "- 21120529 _ Nguyễn Gia Phúc: 21120529@student.hcmus.edu.vn"
   ]
  },
  {
   "cell_type": "markdown",
   "metadata": {},
   "source": [
    "## Set up your coding environment with Anaconda"
   ]
  },
  {
   "cell_type": "markdown",
   "metadata": {},
   "source": [
    "First, you should [download and install Anaconda](https://www.anaconda.com/download) for your operating systems. Then, starting install your development environment using ```requirements.txt```. \n",
    "\n",
    "**Note**: Suppose that you want to use Python 3.9, I built this requirement packages list base on Python 3.9. So if you want to install these packages in other Python version, please check all packages again via command ```conda search -c conda-forge -f  <package name>``` to verify the version of each package and change it in ```requirements.txt``` file. \n",
    "\n",
    "```bash\n",
    "# create conda virtual environment\n",
    "conda create --name min_ds-env python=3.9 -y\n",
    "\n",
    "# activate created conda virtual environment\n",
    "conda activate min_ds-env\n",
    "\n",
    "# install dependencies\n",
    "pip install -r requirements.txt\n",
    "```"
   ]
  },
  {
   "cell_type": "markdown",
   "metadata": {},
   "source": [
    "## Laboratory structure explanation"
   ]
  },
  {
   "cell_type": "markdown",
   "metadata": {},
   "source": [
    "This lab project structure is built under the [Cookiecutter Data Science](https://github.com/drivendata/cookiecutter-data-science) - A logical, reasonably standardized, but flexible project structure for doing and sharing data science work. \n",
    "\n",
    "```\n",
    "├── LICENSE-CC-BY-NC-ND-4.0.md\n",
    "├── min_ds-env.yml\n",
    "├── Makefile                 <- Makefile with commands like `make data` or `make train`\n",
    "├── README.md                <- The top-level README for developers using this project.\n",
    "├── data\n",
    "│   ├── external             <- Data from third party sources.\n",
    "│   ├── interim              <- Intermediate data that has been transformed.\n",
    "│   ├── processed            <- The final, canonical data sets for modeling.\n",
    "│   └── raw                  <- The original, immutable data dump.\n",
    "│\n",
    "│\n",
    "├── models                   <- Trained and serialized models, model predictions, or model summaries\n",
    "│\n",
    "├── notebooks                <- Jupyter notebooks. Naming convention is a number (for ordering),\n",
    "│                               the creator's initials, and a short `-` delimited description, e.g.\n",
    "│                               `1.0-initial-data-exploration`.\n",
    "│\n",
    "├── references                <- Data dictionaries, manuals, and all other explanatory materials.\n",
    "│\n",
    "├── reports                   <- Generated analysis as HTML, PDF, LaTeX, etc. or your written by template such as https://github.com/Wandmalfarbe/pandoc-latex-template\n",
    "│   └── figures               <- Generated graphics and figures to be used in reporting\n",
    "│\n",
    "├── requirements.txt          <- The requirements file for reproducing the analysis environment\n",
    "│\n",
    "├── src                       <- Source code for use in this project.\n",
    "│   ├── __init__.py           <- Makes src a Python module\n",
    "│   │\n",
    "│   ├── data_module           <- Scripts to download or generate data\n",
    "│   │   └── make_dataset.py\n",
    "│   │\n",
    "│   ├── features_module       <- Scripts to turn raw data into features for modeling\n",
    "│   │   └── build_features.py\n",
    "│   │\n",
    "│   ├── models_module         <- Scripts to train models and then use trained models to make\n",
    "│   │   │                        predictions\n",
    "│   │   ├── predict_model.py\n",
    "│   │   └── train_model.py\n",
    "│   │\n",
    "│   └── visualization_module  <- Scripts to create exploratory and results oriented visualizations\n",
    "│       └── visualize.py\n",
    "```"
   ]
  }
 ],
 "metadata": {
  "language_info": {
   "name": "python"
  }
 },
 "nbformat": 4,
 "nbformat_minor": 2
}
