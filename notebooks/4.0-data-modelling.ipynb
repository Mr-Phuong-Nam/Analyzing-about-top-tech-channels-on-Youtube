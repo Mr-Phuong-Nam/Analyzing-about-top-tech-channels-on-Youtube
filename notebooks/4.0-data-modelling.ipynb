{
 "cells": [
  {
   "cell_type": "markdown",
   "metadata": {},
   "source": [
    "<div style=\"text-align: center; background-color: #559cff; font-family: 'Trebuchet MS', Arial, sans-serif; color: white; padding: 20px; font-size: 40px; font-weight: bold; border-radius: 0 0 0 0; box-shadow: 0px 6px 8px rgba(0, 0, 0, 0.2);\">\n",
    "  Lab 02 - Introduction To Data Science @ FIT-HCMUS, VNU-HCM 📌\n",
    "</div>"
   ]
  },
  {
   "cell_type": "markdown",
   "metadata": {},
   "source": [
    "<div style=\"text-align: center; background-color: #b1d1ff; font-family: 'Trebuchet MS', Arial, sans-serif; color: white; padding: 20px; font-size: 40px; font-weight: bold; border-radius: 0 0 0 0; box-shadow: 0px 6px 8px rgba(0, 0, 0, 0.2);\">\n",
    "  Stage 4.0 - Data modelling\n",
    "</div>"
   ]
  },
  {
   "cell_type": "markdown",
   "metadata": {},
   "source": [
    "# Introduction"
   ]
  },
  {
   "cell_type": "markdown",
   "metadata": {},
   "source": [
    "Predicting how many people will watch YouTube video is tough, but it's getting more important for both creators and companies. While making great content matters most, there are other things we can look at to guess how many views we might get, like how long your video is and what tags we use. This notebook explores these details can help predict how many people will watch our video, which could help us make better content and reach the right audience."
   ]
  },
  {
   "cell_type": "markdown",
   "metadata": {
    "id": "s34UVOqtmq82"
   },
   "source": [
    "# Import"
   ]
  },
  {
   "cell_type": "code",
   "execution_count": 1,
   "metadata": {
    "executionInfo": {
     "elapsed": 5172,
     "status": "ok",
     "timestamp": 1704128805467,
     "user": {
      "displayName": "Phúc Nguyễn Gia",
      "userId": "17682670618312684684"
     },
     "user_tz": -420
    },
    "id": "pO1AGeqoVgsS"
   },
   "outputs": [],
   "source": [
    "import ast\n",
    "import re\n",
    "from joblib import dump, load\n",
    "\n",
    "import numpy as np\n",
    "import pandas as pd\n",
    "from scipy import stats\n",
    "import matplotlib.pyplot as plt\n",
    "\n",
    "from sklearn.preprocessing import MultiLabelBinarizer\n",
    "from sklearn.ensemble import RandomForestRegressor\n",
    "\n",
    "from sklearn.model_selection import train_test_split, KFold, GridSearchCV\n",
    "from sklearn.metrics import mean_absolute_error, mean_squared_error, mean_squared_error\n",
    "\n",
    "random_state = 1"
   ]
  },
  {
   "cell_type": "markdown",
   "metadata": {
    "id": "P08jneEGmuof"
   },
   "source": [
    "# Data preparation"
   ]
  },
  {
   "cell_type": "code",
   "execution_count": 2,
   "metadata": {
    "executionInfo": {
     "elapsed": 9,
     "status": "ok",
     "timestamp": 1704128805468,
     "user": {
      "displayName": "Phúc Nguyễn Gia",
      "userId": "17682670618312684684"
     },
     "user_tz": -420
    },
    "id": "Lh2JzsSiVc6J"
   },
   "outputs": [],
   "source": [
    "df_videos = pd.read_csv('../data/processed/df_videos_processed.csv')"
   ]
  },
  {
   "cell_type": "markdown",
   "metadata": {
    "id": "WP-tzzlgwmv5"
   },
   "source": [
    "# Feature engineering"
   ]
  },
  {
   "cell_type": "markdown",
   "metadata": {
    "id": "jpaReY29zgWx"
   },
   "source": [
    "This section outlines the feature engineering process undertaken to construct informative features from video durations and tags for the purpose of predicting view counts. The goal of this process is to transform raw data into meaningful features that can be effectively utilized by a predictive model."
   ]
  },
  {
   "cell_type": "markdown",
   "metadata": {
    "id": "rhxhlKitzkdX"
   },
   "source": [
    "We are going to convert these columns to appropriate data types and clean the tags."
   ]
  },
  {
   "cell_type": "code",
   "execution_count": 3,
   "metadata": {
    "executionInfo": {
     "elapsed": 6,
     "status": "ok",
     "timestamp": 1704128805468,
     "user": {
      "displayName": "Phúc Nguyễn Gia",
      "userId": "17682670618312684684"
     },
     "user_tz": -420
    },
    "id": "c7kVTVsCZs5e"
   },
   "outputs": [],
   "source": [
    "def clean_text(text):\n",
    "  text = text.replace('.', '').replace('#', '').replace('$', '').replace(' ', '')\n",
    "  text = re.sub(r'\\b\\d+\\.\\d+\\b', '', text)\n",
    "  text = text.lower()\n",
    "  if text == '':\n",
    "    return np.nan\n",
    "  return text"
   ]
  },
  {
   "cell_type": "code",
   "execution_count": 4,
   "metadata": {
    "executionInfo": {
     "elapsed": 1861,
     "status": "ok",
     "timestamp": 1704128807324,
     "user": {
      "displayName": "Phúc Nguyễn Gia",
      "userId": "17682670618312684684"
     },
     "user_tz": -420
    },
    "id": "-27hG5jWY-zu"
   },
   "outputs": [],
   "source": [
    "df_process = df_videos[df_videos['tags'].notnull()][['view_count', 'duration', 'tags']]\n",
    "df_process['duration'] = df_process['duration'].apply(pd.to_timedelta).dt.total_seconds()\n",
    "df_process['tags'] = df_process['tags'].apply(lambda x: ast.literal_eval(x) if pd.notnull(x) else np.nan)\n",
    "df_process['tags'] = df_process['tags'].apply(lambda x: list(set([clean_text(tag) for tag in x])))"
   ]
  },
  {
   "cell_type": "markdown",
   "metadata": {
    "id": "xi8burY0z5la"
   },
   "source": [
    "How many unique tags are there?"
   ]
  },
  {
   "cell_type": "code",
   "execution_count": 5,
   "metadata": {
    "colab": {
     "base_uri": "https://localhost:8080/"
    },
    "executionInfo": {
     "elapsed": 13,
     "status": "ok",
     "timestamp": 1704128807324,
     "user": {
      "displayName": "Phúc Nguyễn Gia",
      "userId": "17682670618312684684"
     },
     "user_tz": -420
    },
    "id": "G27rCR3Ez-xN",
    "outputId": "9c6f26b4-c370-4b9a-e918-1ae0b1c48a7f"
   },
   "outputs": [
    {
     "data": {
      "text/plain": [
       "22770"
      ]
     },
     "execution_count": 5,
     "metadata": {},
     "output_type": "execute_result"
    }
   ],
   "source": [
    "df_process['tags'].explode().nunique()"
   ]
  },
  {
   "cell_type": "markdown",
   "metadata": {
    "id": "NlUt1BYn0op0"
   },
   "source": [
    "There are quite a lot of tags, so we will select only some of the repeating tags to improve model performance."
   ]
  },
  {
   "cell_type": "code",
   "execution_count": 6,
   "metadata": {
    "colab": {
     "base_uri": "https://localhost:8080/"
    },
    "executionInfo": {
     "elapsed": 9,
     "status": "ok",
     "timestamp": 1704128807324,
     "user": {
      "displayName": "Phúc Nguyễn Gia",
      "userId": "17682670618312684684"
     },
     "user_tz": -420
    },
    "id": "NDqD5oi3lFgk",
    "outputId": "ff9bd4ac-1d68-40a7-a553-bf540c787e97"
   },
   "outputs": [
    {
     "data": {
      "text/plain": [
       "94"
      ]
     },
     "execution_count": 6,
     "metadata": {},
     "output_type": "execute_result"
    }
   ],
   "source": [
    "selected_tag = df_process['tags'].explode().value_counts()\n",
    "threshold = 100\n",
    "selected_tag = selected_tag[selected_tag > threshold]\n",
    "len(selected_tag)"
   ]
  },
  {
   "cell_type": "markdown",
   "metadata": {
    "id": "v8nVCHbW0unW"
   },
   "source": [
    "Save these tags for deployment."
   ]
  },
  {
   "cell_type": "code",
   "execution_count": 7,
   "metadata": {
    "executionInfo": {
     "elapsed": 7,
     "status": "ok",
     "timestamp": 1704128807326,
     "user": {
      "displayName": "Phúc Nguyễn Gia",
      "userId": "17682670618312684684"
     },
     "user_tz": -420
    },
    "id": "-GcdcVvbhYqh"
   },
   "outputs": [],
   "source": [
    "selected_tag.sort_index().reset_index()['index'].to_json('../deploy/materials/tags.json')"
   ]
  },
  {
   "cell_type": "markdown",
   "metadata": {
    "id": "Sf--jFsM1Bld"
   },
   "source": [
    "Remove tags that are not in the selected tags."
   ]
  },
  {
   "cell_type": "code",
   "execution_count": 8,
   "metadata": {
    "executionInfo": {
     "elapsed": 350,
     "status": "ok",
     "timestamp": 1704128807670,
     "user": {
      "displayName": "Phúc Nguyễn Gia",
      "userId": "17682670618312684684"
     },
     "user_tz": -420
    },
    "id": "D0WCdQU5nP5m"
   },
   "outputs": [],
   "source": [
    "df_process['clean_tags'] = df_process['tags'].apply(lambda x: [tag for tag in x if tag in selected_tag])"
   ]
  },
  {
   "cell_type": "code",
   "execution_count": 9,
   "metadata": {
    "executionInfo": {
     "elapsed": 4,
     "status": "ok",
     "timestamp": 1704128807671,
     "user": {
      "displayName": "Phúc Nguyễn Gia",
      "userId": "17682670618312684684"
     },
     "user_tz": -420
    },
    "id": "U2qLWItkyz-E"
   },
   "outputs": [],
   "source": [
    "df_process = df_process[df_process['clean_tags'].apply(len) > 0]"
   ]
  },
  {
   "cell_type": "markdown",
   "metadata": {
    "id": "SydPcvcXeOX-"
   },
   "source": [
    "Remove outliers from `view_count` and `duration` columns."
   ]
  },
  {
   "cell_type": "code",
   "execution_count": 10,
   "metadata": {
    "executionInfo": {
     "elapsed": 468,
     "status": "ok",
     "timestamp": 1704128808136,
     "user": {
      "displayName": "Phúc Nguyễn Gia",
      "userId": "17682670618312684684"
     },
     "user_tz": -420
    },
    "id": "7SAImnjIbskx"
   },
   "outputs": [],
   "source": [
    "df_process = df_process[(np.abs(stats.zscore(df_process[['view_count', 'duration']])) < 3).all(axis=1)].reset_index(drop = True)"
   ]
  },
  {
   "cell_type": "markdown",
   "metadata": {
    "id": "xjVNYO82m3TA"
   },
   "source": [
    "# Training model"
   ]
  },
  {
   "cell_type": "markdown",
   "metadata": {
    "id": "HT9CvnNcm7pS"
   },
   "source": [
    "## Setting up"
   ]
  },
  {
   "cell_type": "code",
   "execution_count": 11,
   "metadata": {
    "executionInfo": {
     "elapsed": 9,
     "status": "ok",
     "timestamp": 1704128808136,
     "user": {
      "displayName": "Phúc Nguyễn Gia",
      "userId": "17682670618312684684"
     },
     "user_tz": -420
    },
    "id": "X0oKA4-OTNvd"
   },
   "outputs": [],
   "source": [
    "X = df_process[['duration', 'clean_tags']]\n",
    "y = df_process['view_count']"
   ]
  },
  {
   "cell_type": "code",
   "execution_count": 12,
   "metadata": {
    "executionInfo": {
     "elapsed": 9,
     "status": "ok",
     "timestamp": 1704128808137,
     "user": {
      "displayName": "Phúc Nguyễn Gia",
      "userId": "17682670618312684684"
     },
     "user_tz": -420
    },
    "id": "896yZhISspDL"
   },
   "outputs": [],
   "source": [
    "mlb = MultiLabelBinarizer()\n",
    "X = X.join(pd.DataFrame(mlb.fit_transform(X.pop('clean_tags')), columns = mlb.classes_))"
   ]
  },
  {
   "cell_type": "code",
   "execution_count": 13,
   "metadata": {
    "executionInfo": {
     "elapsed": 8,
     "status": "ok",
     "timestamp": 1704128808137,
     "user": {
      "displayName": "Phúc Nguyễn Gia",
      "userId": "17682670618312684684"
     },
     "user_tz": -420
    },
    "id": "EpdynWwkYOlc"
   },
   "outputs": [],
   "source": [
    "kfold = KFold(n_splits = 10, shuffle = True, random_state = random_state)"
   ]
  },
  {
   "cell_type": "code",
   "execution_count": 14,
   "metadata": {
    "executionInfo": {
     "elapsed": 7,
     "status": "ok",
     "timestamp": 1704128808137,
     "user": {
      "displayName": "Phúc Nguyễn Gia",
      "userId": "17682670618312684684"
     },
     "user_tz": -420
    },
    "id": "blIplKY4qAPv"
   },
   "outputs": [],
   "source": [
    "regr = RandomForestRegressor(random_state = random_state)"
   ]
  },
  {
   "cell_type": "code",
   "execution_count": 15,
   "metadata": {
    "executionInfo": {
     "elapsed": 7,
     "status": "ok",
     "timestamp": 1704128808138,
     "user": {
      "displayName": "Phúc Nguyễn Gia",
      "userId": "17682670618312684684"
     },
     "user_tz": -420
    },
    "id": "FRf8Ot63pwhg"
   },
   "outputs": [],
   "source": [
    "param_grid = {'n_estimators': [100, 150, 200],\n",
    "              'criterion': ['squared_error', 'friedman_mse', 'poisson'],\n",
    "              'max_depth': [None, 10],\n",
    "              'max_features': [None, 'sqrt']}"
   ]
  },
  {
   "cell_type": "code",
   "execution_count": 16,
   "metadata": {
    "executionInfo": {
     "elapsed": 7,
     "status": "ok",
     "timestamp": 1704128808138,
     "user": {
      "displayName": "Phúc Nguyễn Gia",
      "userId": "17682670618312684684"
     },
     "user_tz": -420
    },
    "id": "7T-76uL9WAaC"
   },
   "outputs": [],
   "source": [
    "X_train, X_test, y_train, y_test = train_test_split(X, y, test_size = 0.2, random_state = random_state)"
   ]
  },
  {
   "cell_type": "markdown",
   "metadata": {
    "id": "dqfg_5n9nAVz"
   },
   "source": [
    "## Cross validation and hyperparameter tuning"
   ]
  },
  {
   "cell_type": "code",
   "execution_count": 17,
   "metadata": {
    "executionInfo": {
     "elapsed": 6,
     "status": "ok",
     "timestamp": 1704128808138,
     "user": {
      "displayName": "Phúc Nguyễn Gia",
      "userId": "17682670618312684684"
     },
     "user_tz": -420
    },
    "id": "D1UrDaJrp7q9"
   },
   "outputs": [],
   "source": [
    "grid_cv = GridSearchCV(estimator = regr, param_grid = param_grid, cv = kfold,\n",
    "                       scoring = 'neg_mean_absolute_error', n_jobs = 1, verbose = 3)"
   ]
  },
  {
   "cell_type": "code",
   "execution_count": 18,
   "metadata": {
    "colab": {
     "base_uri": "https://localhost:8080/",
     "height": 1000
    },
    "executionInfo": {
     "elapsed": 224591,
     "status": "ok",
     "timestamp": 1704129032723,
     "user": {
      "displayName": "Phúc Nguyễn Gia",
      "userId": "17682670618312684684"
     },
     "user_tz": -420
    },
    "id": "fwqPevNusfTQ",
    "outputId": "aceb98db-5a6c-44f9-e5c0-840e9aef1068"
   },
   "outputs": [
    {
     "name": "stdout",
     "output_type": "stream",
     "text": [
      "Fitting 10 folds for each of 36 candidates, totalling 360 fits\n",
      "[CV 1/10] END criterion=squared_error, max_depth=None, max_features=None, n_estimators=100;, score=-86042.280 total time=   2.0s\n",
      "[CV 2/10] END criterion=squared_error, max_depth=None, max_features=None, n_estimators=100;, score=-86100.711 total time=   2.0s\n",
      "[CV 3/10] END criterion=squared_error, max_depth=None, max_features=None, n_estimators=100;, score=-110945.733 total time=   1.9s\n",
      "[CV 4/10] END criterion=squared_error, max_depth=None, max_features=None, n_estimators=100;, score=-123057.137 total time=   1.9s\n",
      "[CV 5/10] END criterion=squared_error, max_depth=None, max_features=None, n_estimators=100;, score=-99910.363 total time=   1.9s\n",
      "[CV 6/10] END criterion=squared_error, max_depth=None, max_features=None, n_estimators=100;, score=-111843.812 total time=   2.0s\n",
      "[CV 7/10] END criterion=squared_error, max_depth=None, max_features=None, n_estimators=100;, score=-114630.544 total time=   2.0s\n",
      "[CV 8/10] END criterion=squared_error, max_depth=None, max_features=None, n_estimators=100;, score=-107618.572 total time=   2.0s\n",
      "[CV 9/10] END criterion=squared_error, max_depth=None, max_features=None, n_estimators=100;, score=-136443.344 total time=   1.9s\n",
      "[CV 10/10] END criterion=squared_error, max_depth=None, max_features=None, n_estimators=100;, score=-114471.409 total time=   1.9s\n",
      "[CV 1/10] END criterion=squared_error, max_depth=None, max_features=None, n_estimators=150;, score=-86216.838 total time=   2.9s\n",
      "[CV 2/10] END criterion=squared_error, max_depth=None, max_features=None, n_estimators=150;, score=-86338.557 total time=   3.1s\n",
      "[CV 3/10] END criterion=squared_error, max_depth=None, max_features=None, n_estimators=150;, score=-112527.316 total time=   3.0s\n",
      "[CV 4/10] END criterion=squared_error, max_depth=None, max_features=None, n_estimators=150;, score=-122583.710 total time=   2.9s\n",
      "[CV 5/10] END criterion=squared_error, max_depth=None, max_features=None, n_estimators=150;, score=-100661.055 total time=   2.9s\n",
      "[CV 6/10] END criterion=squared_error, max_depth=None, max_features=None, n_estimators=150;, score=-111736.775 total time=   3.1s\n",
      "[CV 7/10] END criterion=squared_error, max_depth=None, max_features=None, n_estimators=150;, score=-114589.670 total time=   2.9s\n",
      "[CV 8/10] END criterion=squared_error, max_depth=None, max_features=None, n_estimators=150;, score=-106487.586 total time=   3.1s\n",
      "[CV 9/10] END criterion=squared_error, max_depth=None, max_features=None, n_estimators=150;, score=-136490.983 total time=   2.9s\n",
      "[CV 10/10] END criterion=squared_error, max_depth=None, max_features=None, n_estimators=150;, score=-113224.054 total time=   2.8s\n",
      "[CV 1/10] END criterion=squared_error, max_depth=None, max_features=None, n_estimators=200;, score=-86449.233 total time=   4.0s\n",
      "[CV 2/10] END criterion=squared_error, max_depth=None, max_features=None, n_estimators=200;, score=-86248.774 total time=   4.1s\n",
      "[CV 3/10] END criterion=squared_error, max_depth=None, max_features=None, n_estimators=200;, score=-112895.787 total time=   4.0s\n",
      "[CV 4/10] END criterion=squared_error, max_depth=None, max_features=None, n_estimators=200;, score=-122997.243 total time=   4.0s\n",
      "[CV 5/10] END criterion=squared_error, max_depth=None, max_features=None, n_estimators=200;, score=-100231.994 total time=   3.9s\n",
      "[CV 6/10] END criterion=squared_error, max_depth=None, max_features=None, n_estimators=200;, score=-111446.091 total time=   4.0s\n",
      "[CV 7/10] END criterion=squared_error, max_depth=None, max_features=None, n_estimators=200;, score=-114207.876 total time=   4.1s\n",
      "[CV 8/10] END criterion=squared_error, max_depth=None, max_features=None, n_estimators=200;, score=-106591.775 total time=   4.2s\n",
      "[CV 9/10] END criterion=squared_error, max_depth=None, max_features=None, n_estimators=200;, score=-136008.357 total time=   4.1s\n",
      "[CV 10/10] END criterion=squared_error, max_depth=None, max_features=None, n_estimators=200;, score=-113383.970 total time=   4.0s\n",
      "[CV 1/10] END criterion=squared_error, max_depth=None, max_features=sqrt, n_estimators=100;, score=-85687.545 total time=   0.6s\n",
      "[CV 2/10] END criterion=squared_error, max_depth=None, max_features=sqrt, n_estimators=100;, score=-72657.361 total time=   0.6s\n",
      "[CV 3/10] END criterion=squared_error, max_depth=None, max_features=sqrt, n_estimators=100;, score=-109834.042 total time=   0.6s\n",
      "[CV 4/10] END criterion=squared_error, max_depth=None, max_features=sqrt, n_estimators=100;, score=-121317.483 total time=   0.6s\n",
      "[CV 5/10] END criterion=squared_error, max_depth=None, max_features=sqrt, n_estimators=100;, score=-98744.304 total time=   0.6s\n",
      "[CV 6/10] END criterion=squared_error, max_depth=None, max_features=sqrt, n_estimators=100;, score=-107287.254 total time=   0.6s\n",
      "[CV 7/10] END criterion=squared_error, max_depth=None, max_features=sqrt, n_estimators=100;, score=-107563.878 total time=   0.6s\n",
      "[CV 8/10] END criterion=squared_error, max_depth=None, max_features=sqrt, n_estimators=100;, score=-107746.352 total time=   0.6s\n",
      "[CV 9/10] END criterion=squared_error, max_depth=None, max_features=sqrt, n_estimators=100;, score=-127372.534 total time=   0.6s\n",
      "[CV 10/10] END criterion=squared_error, max_depth=None, max_features=sqrt, n_estimators=100;, score=-110520.683 total time=   0.6s\n",
      "[CV 1/10] END criterion=squared_error, max_depth=None, max_features=sqrt, n_estimators=150;, score=-85735.765 total time=   0.9s\n",
      "[CV 2/10] END criterion=squared_error, max_depth=None, max_features=sqrt, n_estimators=150;, score=-73898.506 total time=   1.0s\n",
      "[CV 3/10] END criterion=squared_error, max_depth=None, max_features=sqrt, n_estimators=150;, score=-110500.140 total time=   0.9s\n",
      "[CV 4/10] END criterion=squared_error, max_depth=None, max_features=sqrt, n_estimators=150;, score=-120732.839 total time=   0.9s\n",
      "[CV 5/10] END criterion=squared_error, max_depth=None, max_features=sqrt, n_estimators=150;, score=-96677.350 total time=   0.8s\n",
      "[CV 6/10] END criterion=squared_error, max_depth=None, max_features=sqrt, n_estimators=150;, score=-107360.333 total time=   0.9s\n",
      "[CV 7/10] END criterion=squared_error, max_depth=None, max_features=sqrt, n_estimators=150;, score=-107810.929 total time=   0.9s\n",
      "[CV 8/10] END criterion=squared_error, max_depth=None, max_features=sqrt, n_estimators=150;, score=-106603.468 total time=   0.9s\n",
      "[CV 9/10] END criterion=squared_error, max_depth=None, max_features=sqrt, n_estimators=150;, score=-127774.690 total time=   0.9s\n",
      "[CV 10/10] END criterion=squared_error, max_depth=None, max_features=sqrt, n_estimators=150;, score=-110083.755 total time=   0.9s\n",
      "[CV 1/10] END criterion=squared_error, max_depth=None, max_features=sqrt, n_estimators=200;, score=-85255.084 total time=   1.2s\n",
      "[CV 2/10] END criterion=squared_error, max_depth=None, max_features=sqrt, n_estimators=200;, score=-73375.612 total time=   1.1s\n",
      "[CV 3/10] END criterion=squared_error, max_depth=None, max_features=sqrt, n_estimators=200;, score=-111069.437 total time=   1.5s\n",
      "[CV 4/10] END criterion=squared_error, max_depth=None, max_features=sqrt, n_estimators=200;, score=-121318.455 total time=   1.1s\n",
      "[CV 5/10] END criterion=squared_error, max_depth=None, max_features=sqrt, n_estimators=200;, score=-96369.381 total time=   1.1s\n",
      "[CV 6/10] END criterion=squared_error, max_depth=None, max_features=sqrt, n_estimators=200;, score=-107190.821 total time=   1.2s\n",
      "[CV 7/10] END criterion=squared_error, max_depth=None, max_features=sqrt, n_estimators=200;, score=-107826.464 total time=   1.1s\n",
      "[CV 8/10] END criterion=squared_error, max_depth=None, max_features=sqrt, n_estimators=200;, score=-106042.869 total time=   1.1s\n",
      "[CV 9/10] END criterion=squared_error, max_depth=None, max_features=sqrt, n_estimators=200;, score=-128175.714 total time=   1.1s\n",
      "[CV 10/10] END criterion=squared_error, max_depth=None, max_features=sqrt, n_estimators=200;, score=-109949.202 total time=   1.1s\n",
      "[CV 1/10] END criterion=squared_error, max_depth=10, max_features=None, n_estimators=100;, score=-84872.641 total time=   1.0s\n",
      "[CV 2/10] END criterion=squared_error, max_depth=10, max_features=None, n_estimators=100;, score=-84729.057 total time=   1.1s\n",
      "[CV 3/10] END criterion=squared_error, max_depth=10, max_features=None, n_estimators=100;, score=-106886.604 total time=   1.1s\n",
      "[CV 4/10] END criterion=squared_error, max_depth=10, max_features=None, n_estimators=100;, score=-118704.037 total time=   1.1s\n",
      "[CV 5/10] END criterion=squared_error, max_depth=10, max_features=None, n_estimators=100;, score=-101375.907 total time=   1.1s\n",
      "[CV 6/10] END criterion=squared_error, max_depth=10, max_features=None, n_estimators=100;, score=-107623.008 total time=   1.2s\n",
      "[CV 7/10] END criterion=squared_error, max_depth=10, max_features=None, n_estimators=100;, score=-113902.782 total time=   1.0s\n",
      "[CV 8/10] END criterion=squared_error, max_depth=10, max_features=None, n_estimators=100;, score=-99733.522 total time=   1.0s\n",
      "[CV 9/10] END criterion=squared_error, max_depth=10, max_features=None, n_estimators=100;, score=-128500.342 total time=   1.0s\n",
      "[CV 10/10] END criterion=squared_error, max_depth=10, max_features=None, n_estimators=100;, score=-113706.764 total time=   1.1s\n",
      "[CV 1/10] END criterion=squared_error, max_depth=10, max_features=None, n_estimators=150;, score=-84383.670 total time=   1.5s\n",
      "[CV 2/10] END criterion=squared_error, max_depth=10, max_features=None, n_estimators=150;, score=-84331.924 total time=   1.4s\n",
      "[CV 3/10] END criterion=squared_error, max_depth=10, max_features=None, n_estimators=150;, score=-107698.636 total time=   1.5s\n",
      "[CV 4/10] END criterion=squared_error, max_depth=10, max_features=None, n_estimators=150;, score=-118832.563 total time=   1.6s\n",
      "[CV 5/10] END criterion=squared_error, max_depth=10, max_features=None, n_estimators=150;, score=-101539.778 total time=   1.5s\n",
      "[CV 6/10] END criterion=squared_error, max_depth=10, max_features=None, n_estimators=150;, score=-108103.132 total time=   1.5s\n",
      "[CV 7/10] END criterion=squared_error, max_depth=10, max_features=None, n_estimators=150;, score=-113853.236 total time=   1.5s\n",
      "[CV 8/10] END criterion=squared_error, max_depth=10, max_features=None, n_estimators=150;, score=-99155.048 total time=   1.7s\n",
      "[CV 9/10] END criterion=squared_error, max_depth=10, max_features=None, n_estimators=150;, score=-129022.746 total time=   1.6s\n",
      "[CV 10/10] END criterion=squared_error, max_depth=10, max_features=None, n_estimators=150;, score=-113105.305 total time=   1.5s\n",
      "[CV 1/10] END criterion=squared_error, max_depth=10, max_features=None, n_estimators=200;, score=-84369.021 total time=   2.0s\n",
      "[CV 2/10] END criterion=squared_error, max_depth=10, max_features=None, n_estimators=200;, score=-83660.255 total time=   2.1s\n",
      "[CV 3/10] END criterion=squared_error, max_depth=10, max_features=None, n_estimators=200;, score=-108210.382 total time=   2.1s\n",
      "[CV 4/10] END criterion=squared_error, max_depth=10, max_features=None, n_estimators=200;, score=-118827.052 total time=   2.3s\n",
      "[CV 5/10] END criterion=squared_error, max_depth=10, max_features=None, n_estimators=200;, score=-101163.662 total time=   2.4s\n",
      "[CV 6/10] END criterion=squared_error, max_depth=10, max_features=None, n_estimators=200;, score=-108168.037 total time=   2.1s\n",
      "[CV 7/10] END criterion=squared_error, max_depth=10, max_features=None, n_estimators=200;, score=-113349.012 total time=   2.1s\n",
      "[CV 8/10] END criterion=squared_error, max_depth=10, max_features=None, n_estimators=200;, score=-99015.961 total time=   2.1s\n",
      "[CV 9/10] END criterion=squared_error, max_depth=10, max_features=None, n_estimators=200;, score=-128644.862 total time=   2.1s\n",
      "[CV 10/10] END criterion=squared_error, max_depth=10, max_features=None, n_estimators=200;, score=-112913.912 total time=   2.3s\n",
      "[CV 1/10] END criterion=squared_error, max_depth=10, max_features=sqrt, n_estimators=100;, score=-86344.647 total time=   0.3s\n",
      "[CV 2/10] END criterion=squared_error, max_depth=10, max_features=sqrt, n_estimators=100;, score=-78946.136 total time=   0.3s\n",
      "[CV 3/10] END criterion=squared_error, max_depth=10, max_features=sqrt, n_estimators=100;, score=-105124.851 total time=   0.3s\n",
      "[CV 4/10] END criterion=squared_error, max_depth=10, max_features=sqrt, n_estimators=100;, score=-121835.830 total time=   0.3s\n",
      "[CV 5/10] END criterion=squared_error, max_depth=10, max_features=sqrt, n_estimators=100;, score=-101686.110 total time=   0.3s\n",
      "[CV 6/10] END criterion=squared_error, max_depth=10, max_features=sqrt, n_estimators=100;, score=-112240.122 total time=   0.3s\n",
      "[CV 7/10] END criterion=squared_error, max_depth=10, max_features=sqrt, n_estimators=100;, score=-116196.915 total time=   0.3s\n",
      "[CV 8/10] END criterion=squared_error, max_depth=10, max_features=sqrt, n_estimators=100;, score=-104555.825 total time=   0.3s\n",
      "[CV 9/10] END criterion=squared_error, max_depth=10, max_features=sqrt, n_estimators=100;, score=-126723.077 total time=   0.3s\n",
      "[CV 10/10] END criterion=squared_error, max_depth=10, max_features=sqrt, n_estimators=100;, score=-122646.495 total time=   0.3s\n",
      "[CV 1/10] END criterion=squared_error, max_depth=10, max_features=sqrt, n_estimators=150;, score=-86354.679 total time=   0.4s\n",
      "[CV 2/10] END criterion=squared_error, max_depth=10, max_features=sqrt, n_estimators=150;, score=-79076.593 total time=   0.4s\n",
      "[CV 3/10] END criterion=squared_error, max_depth=10, max_features=sqrt, n_estimators=150;, score=-105538.575 total time=   0.4s\n",
      "[CV 4/10] END criterion=squared_error, max_depth=10, max_features=sqrt, n_estimators=150;, score=-121453.467 total time=   0.4s\n",
      "[CV 5/10] END criterion=squared_error, max_depth=10, max_features=sqrt, n_estimators=150;, score=-101628.527 total time=   0.4s\n",
      "[CV 6/10] END criterion=squared_error, max_depth=10, max_features=sqrt, n_estimators=150;, score=-111986.913 total time=   0.4s\n",
      "[CV 7/10] END criterion=squared_error, max_depth=10, max_features=sqrt, n_estimators=150;, score=-116468.915 total time=   0.4s\n",
      "[CV 8/10] END criterion=squared_error, max_depth=10, max_features=sqrt, n_estimators=150;, score=-103537.007 total time=   0.4s\n",
      "[CV 9/10] END criterion=squared_error, max_depth=10, max_features=sqrt, n_estimators=150;, score=-127305.460 total time=   0.4s\n",
      "[CV 10/10] END criterion=squared_error, max_depth=10, max_features=sqrt, n_estimators=150;, score=-121821.363 total time=   0.5s\n",
      "[CV 1/10] END criterion=squared_error, max_depth=10, max_features=sqrt, n_estimators=200;, score=-86339.226 total time=   0.6s\n",
      "[CV 2/10] END criterion=squared_error, max_depth=10, max_features=sqrt, n_estimators=200;, score=-78897.195 total time=   0.5s\n",
      "[CV 3/10] END criterion=squared_error, max_depth=10, max_features=sqrt, n_estimators=200;, score=-105550.189 total time=   0.5s\n",
      "[CV 4/10] END criterion=squared_error, max_depth=10, max_features=sqrt, n_estimators=200;, score=-121511.902 total time=   0.5s\n",
      "[CV 5/10] END criterion=squared_error, max_depth=10, max_features=sqrt, n_estimators=200;, score=-101618.483 total time=   0.5s\n",
      "[CV 6/10] END criterion=squared_error, max_depth=10, max_features=sqrt, n_estimators=200;, score=-111801.853 total time=   0.5s\n",
      "[CV 7/10] END criterion=squared_error, max_depth=10, max_features=sqrt, n_estimators=200;, score=-116405.953 total time=   0.5s\n",
      "[CV 8/10] END criterion=squared_error, max_depth=10, max_features=sqrt, n_estimators=200;, score=-103643.306 total time=   0.5s\n",
      "[CV 9/10] END criterion=squared_error, max_depth=10, max_features=sqrt, n_estimators=200;, score=-127403.448 total time=   0.5s\n",
      "[CV 10/10] END criterion=squared_error, max_depth=10, max_features=sqrt, n_estimators=200;, score=-121676.413 total time=   0.6s\n",
      "[CV 1/10] END criterion=friedman_mse, max_depth=None, max_features=None, n_estimators=100;, score=-86042.280 total time=   1.9s\n",
      "[CV 2/10] END criterion=friedman_mse, max_depth=None, max_features=None, n_estimators=100;, score=-86100.711 total time=   2.1s\n",
      "[CV 3/10] END criterion=friedman_mse, max_depth=None, max_features=None, n_estimators=100;, score=-110964.680 total time=   2.0s\n",
      "[CV 4/10] END criterion=friedman_mse, max_depth=None, max_features=None, n_estimators=100;, score=-123057.137 total time=   1.9s\n",
      "[CV 5/10] END criterion=friedman_mse, max_depth=None, max_features=None, n_estimators=100;, score=-99981.821 total time=   1.9s\n",
      "[CV 6/10] END criterion=friedman_mse, max_depth=None, max_features=None, n_estimators=100;, score=-111843.812 total time=   1.9s\n",
      "[CV 7/10] END criterion=friedman_mse, max_depth=None, max_features=None, n_estimators=100;, score=-114630.544 total time=   1.9s\n",
      "[CV 8/10] END criterion=friedman_mse, max_depth=None, max_features=None, n_estimators=100;, score=-107618.572 total time=   1.9s\n",
      "[CV 9/10] END criterion=friedman_mse, max_depth=None, max_features=None, n_estimators=100;, score=-136438.130 total time=   2.0s\n",
      "[CV 10/10] END criterion=friedman_mse, max_depth=None, max_features=None, n_estimators=100;, score=-114471.409 total time=   1.9s\n",
      "[CV 1/10] END criterion=friedman_mse, max_depth=None, max_features=None, n_estimators=150;, score=-86216.838 total time=   2.9s\n",
      "[CV 2/10] END criterion=friedman_mse, max_depth=None, max_features=None, n_estimators=150;, score=-86338.557 total time=   3.0s\n",
      "[CV 3/10] END criterion=friedman_mse, max_depth=None, max_features=None, n_estimators=150;, score=-112539.947 total time=   2.9s\n",
      "[CV 4/10] END criterion=friedman_mse, max_depth=None, max_features=None, n_estimators=150;, score=-122591.623 total time=   2.8s\n",
      "[CV 5/10] END criterion=friedman_mse, max_depth=None, max_features=None, n_estimators=150;, score=-100708.693 total time=   2.9s\n",
      "[CV 6/10] END criterion=friedman_mse, max_depth=None, max_features=None, n_estimators=150;, score=-111736.775 total time=   3.0s\n",
      "[CV 7/10] END criterion=friedman_mse, max_depth=None, max_features=None, n_estimators=150;, score=-114589.670 total time=   2.9s\n",
      "[CV 8/10] END criterion=friedman_mse, max_depth=None, max_features=None, n_estimators=150;, score=-106487.586 total time=   2.8s\n",
      "[CV 9/10] END criterion=friedman_mse, max_depth=None, max_features=None, n_estimators=150;, score=-136487.507 total time=   3.0s\n",
      "[CV 10/10] END criterion=friedman_mse, max_depth=None, max_features=None, n_estimators=150;, score=-113205.524 total time=   2.9s\n",
      "[CV 1/10] END criterion=friedman_mse, max_depth=None, max_features=None, n_estimators=200;, score=-86449.233 total time=   3.9s\n",
      "[CV 2/10] END criterion=friedman_mse, max_depth=None, max_features=None, n_estimators=200;, score=-86248.774 total time=   4.1s\n",
      "[CV 3/10] END criterion=friedman_mse, max_depth=None, max_features=None, n_estimators=200;, score=-112905.261 total time=   3.8s\n",
      "[CV 4/10] END criterion=friedman_mse, max_depth=None, max_features=None, n_estimators=200;, score=-123003.278 total time=   3.7s\n",
      "[CV 5/10] END criterion=friedman_mse, max_depth=None, max_features=None, n_estimators=200;, score=-100267.723 total time=   4.0s\n",
      "[CV 6/10] END criterion=friedman_mse, max_depth=None, max_features=None, n_estimators=200;, score=-111446.091 total time=   3.9s\n",
      "[CV 7/10] END criterion=friedman_mse, max_depth=None, max_features=None, n_estimators=200;, score=-114207.876 total time=   4.0s\n",
      "[CV 8/10] END criterion=friedman_mse, max_depth=None, max_features=None, n_estimators=200;, score=-106591.775 total time=   3.9s\n",
      "[CV 9/10] END criterion=friedman_mse, max_depth=None, max_features=None, n_estimators=200;, score=-136005.749 total time=   3.9s\n",
      "[CV 10/10] END criterion=friedman_mse, max_depth=None, max_features=None, n_estimators=200;, score=-113363.261 total time=   3.9s\n",
      "[CV 1/10] END criterion=friedman_mse, max_depth=None, max_features=sqrt, n_estimators=100;, score=-85687.545 total time=   0.6s\n",
      "[CV 2/10] END criterion=friedman_mse, max_depth=None, max_features=sqrt, n_estimators=100;, score=-72657.361 total time=   0.6s\n",
      "[CV 3/10] END criterion=friedman_mse, max_depth=None, max_features=sqrt, n_estimators=100;, score=-109818.561 total time=   0.6s\n",
      "[CV 4/10] END criterion=friedman_mse, max_depth=None, max_features=sqrt, n_estimators=100;, score=-121317.483 total time=   0.6s\n",
      "[CV 5/10] END criterion=friedman_mse, max_depth=None, max_features=sqrt, n_estimators=100;, score=-98745.287 total time=   0.5s\n",
      "[CV 6/10] END criterion=friedman_mse, max_depth=None, max_features=sqrt, n_estimators=100;, score=-107287.254 total time=   0.6s\n",
      "[CV 7/10] END criterion=friedman_mse, max_depth=None, max_features=sqrt, n_estimators=100;, score=-107563.878 total time=   0.6s\n",
      "[CV 8/10] END criterion=friedman_mse, max_depth=None, max_features=sqrt, n_estimators=100;, score=-107746.352 total time=   0.6s\n",
      "[CV 9/10] END criterion=friedman_mse, max_depth=None, max_features=sqrt, n_estimators=100;, score=-127372.534 total time=   0.6s\n",
      "[CV 10/10] END criterion=friedman_mse, max_depth=None, max_features=sqrt, n_estimators=100;, score=-110520.683 total time=   0.6s\n",
      "[CV 1/10] END criterion=friedman_mse, max_depth=None, max_features=sqrt, n_estimators=150;, score=-85735.765 total time=   0.9s\n",
      "[CV 2/10] END criterion=friedman_mse, max_depth=None, max_features=sqrt, n_estimators=150;, score=-73898.506 total time=   0.9s\n",
      "[CV 3/10] END criterion=friedman_mse, max_depth=None, max_features=sqrt, n_estimators=150;, score=-110489.926 total time=   0.9s\n",
      "[CV 4/10] END criterion=friedman_mse, max_depth=None, max_features=sqrt, n_estimators=150;, score=-120732.839 total time=   0.9s\n",
      "[CV 5/10] END criterion=friedman_mse, max_depth=None, max_features=sqrt, n_estimators=150;, score=-96678.006 total time=   0.9s\n",
      "[CV 6/10] END criterion=friedman_mse, max_depth=None, max_features=sqrt, n_estimators=150;, score=-107360.333 total time=   0.9s\n",
      "[CV 7/10] END criterion=friedman_mse, max_depth=None, max_features=sqrt, n_estimators=150;, score=-107810.929 total time=   0.9s\n",
      "[CV 8/10] END criterion=friedman_mse, max_depth=None, max_features=sqrt, n_estimators=150;, score=-106603.468 total time=   0.8s\n",
      "[CV 9/10] END criterion=friedman_mse, max_depth=None, max_features=sqrt, n_estimators=150;, score=-127774.690 total time=   0.8s\n",
      "[CV 10/10] END criterion=friedman_mse, max_depth=None, max_features=sqrt, n_estimators=150;, score=-110096.359 total time=   1.0s\n",
      "[CV 1/10] END criterion=friedman_mse, max_depth=None, max_features=sqrt, n_estimators=200;, score=-85255.084 total time=   1.1s\n",
      "[CV 2/10] END criterion=friedman_mse, max_depth=None, max_features=sqrt, n_estimators=200;, score=-73375.612 total time=   1.2s\n",
      "[CV 3/10] END criterion=friedman_mse, max_depth=None, max_features=sqrt, n_estimators=200;, score=-111061.777 total time=   1.1s\n",
      "[CV 4/10] END criterion=friedman_mse, max_depth=None, max_features=sqrt, n_estimators=200;, score=-121318.455 total time=   1.2s\n",
      "[CV 5/10] END criterion=friedman_mse, max_depth=None, max_features=sqrt, n_estimators=200;, score=-96369.873 total time=   1.2s\n",
      "[CV 6/10] END criterion=friedman_mse, max_depth=None, max_features=sqrt, n_estimators=200;, score=-107190.821 total time=   1.2s\n",
      "[CV 7/10] END criterion=friedman_mse, max_depth=None, max_features=sqrt, n_estimators=200;, score=-107826.464 total time=   1.2s\n",
      "[CV 8/10] END criterion=friedman_mse, max_depth=None, max_features=sqrt, n_estimators=200;, score=-106042.869 total time=   1.2s\n",
      "[CV 9/10] END criterion=friedman_mse, max_depth=None, max_features=sqrt, n_estimators=200;, score=-128175.714 total time=   1.2s\n",
      "[CV 10/10] END criterion=friedman_mse, max_depth=None, max_features=sqrt, n_estimators=200;, score=-109958.656 total time=   1.2s\n",
      "[CV 1/10] END criterion=friedman_mse, max_depth=10, max_features=None, n_estimators=100;, score=-84872.641 total time=   1.1s\n",
      "[CV 2/10] END criterion=friedman_mse, max_depth=10, max_features=None, n_estimators=100;, score=-84729.057 total time=   1.0s\n",
      "[CV 3/10] END criterion=friedman_mse, max_depth=10, max_features=None, n_estimators=100;, score=-106886.604 total time=   1.0s\n",
      "[CV 4/10] END criterion=friedman_mse, max_depth=10, max_features=None, n_estimators=100;, score=-118704.037 total time=   1.0s\n",
      "[CV 5/10] END criterion=friedman_mse, max_depth=10, max_features=None, n_estimators=100;, score=-101375.907 total time=   1.2s\n",
      "[CV 6/10] END criterion=friedman_mse, max_depth=10, max_features=None, n_estimators=100;, score=-107623.008 total time=   1.0s\n",
      "[CV 7/10] END criterion=friedman_mse, max_depth=10, max_features=None, n_estimators=100;, score=-113902.782 total time=   1.0s\n",
      "[CV 8/10] END criterion=friedman_mse, max_depth=10, max_features=None, n_estimators=100;, score=-99733.522 total time=   1.0s\n",
      "[CV 9/10] END criterion=friedman_mse, max_depth=10, max_features=None, n_estimators=100;, score=-128500.342 total time=   1.0s\n",
      "[CV 10/10] END criterion=friedman_mse, max_depth=10, max_features=None, n_estimators=100;, score=-113706.764 total time=   1.0s\n",
      "[CV 1/10] END criterion=friedman_mse, max_depth=10, max_features=None, n_estimators=150;, score=-84383.670 total time=   1.6s\n",
      "[CV 2/10] END criterion=friedman_mse, max_depth=10, max_features=None, n_estimators=150;, score=-84331.924 total time=   1.5s\n",
      "[CV 3/10] END criterion=friedman_mse, max_depth=10, max_features=None, n_estimators=150;, score=-107698.636 total time=   1.5s\n",
      "[CV 4/10] END criterion=friedman_mse, max_depth=10, max_features=None, n_estimators=150;, score=-118832.563 total time=   1.6s\n",
      "[CV 5/10] END criterion=friedman_mse, max_depth=10, max_features=None, n_estimators=150;, score=-101539.778 total time=   1.6s\n",
      "[CV 6/10] END criterion=friedman_mse, max_depth=10, max_features=None, n_estimators=150;, score=-108103.132 total time=   1.6s\n",
      "[CV 7/10] END criterion=friedman_mse, max_depth=10, max_features=None, n_estimators=150;, score=-113853.236 total time=   1.6s\n",
      "[CV 8/10] END criterion=friedman_mse, max_depth=10, max_features=None, n_estimators=150;, score=-99155.048 total time=   1.6s\n",
      "[CV 9/10] END criterion=friedman_mse, max_depth=10, max_features=None, n_estimators=150;, score=-129022.746 total time=   1.6s\n",
      "[CV 10/10] END criterion=friedman_mse, max_depth=10, max_features=None, n_estimators=150;, score=-113105.305 total time=   1.6s\n",
      "[CV 1/10] END criterion=friedman_mse, max_depth=10, max_features=None, n_estimators=200;, score=-84369.021 total time=   2.1s\n",
      "[CV 2/10] END criterion=friedman_mse, max_depth=10, max_features=None, n_estimators=200;, score=-83660.255 total time=   2.1s\n",
      "[CV 3/10] END criterion=friedman_mse, max_depth=10, max_features=None, n_estimators=200;, score=-108210.382 total time=   2.1s\n",
      "[CV 4/10] END criterion=friedman_mse, max_depth=10, max_features=None, n_estimators=200;, score=-118827.052 total time=   2.1s\n",
      "[CV 5/10] END criterion=friedman_mse, max_depth=10, max_features=None, n_estimators=200;, score=-101163.662 total time=   2.0s\n",
      "[CV 6/10] END criterion=friedman_mse, max_depth=10, max_features=None, n_estimators=200;, score=-108168.037 total time=   2.1s\n",
      "[CV 7/10] END criterion=friedman_mse, max_depth=10, max_features=None, n_estimators=200;, score=-113349.012 total time=   2.0s\n",
      "[CV 8/10] END criterion=friedman_mse, max_depth=10, max_features=None, n_estimators=200;, score=-99015.961 total time=   2.0s\n",
      "[CV 9/10] END criterion=friedman_mse, max_depth=10, max_features=None, n_estimators=200;, score=-128644.862 total time=   2.0s\n",
      "[CV 10/10] END criterion=friedman_mse, max_depth=10, max_features=None, n_estimators=200;, score=-112913.912 total time=   2.0s\n",
      "[CV 1/10] END criterion=friedman_mse, max_depth=10, max_features=sqrt, n_estimators=100;, score=-86344.647 total time=   0.3s\n",
      "[CV 2/10] END criterion=friedman_mse, max_depth=10, max_features=sqrt, n_estimators=100;, score=-78946.136 total time=   0.3s\n",
      "[CV 3/10] END criterion=friedman_mse, max_depth=10, max_features=sqrt, n_estimators=100;, score=-105124.851 total time=   0.3s\n",
      "[CV 4/10] END criterion=friedman_mse, max_depth=10, max_features=sqrt, n_estimators=100;, score=-121835.830 total time=   0.3s\n",
      "[CV 5/10] END criterion=friedman_mse, max_depth=10, max_features=sqrt, n_estimators=100;, score=-101686.110 total time=   0.3s\n",
      "[CV 6/10] END criterion=friedman_mse, max_depth=10, max_features=sqrt, n_estimators=100;, score=-112240.122 total time=   0.3s\n",
      "[CV 7/10] END criterion=friedman_mse, max_depth=10, max_features=sqrt, n_estimators=100;, score=-116196.915 total time=   0.3s\n",
      "[CV 8/10] END criterion=friedman_mse, max_depth=10, max_features=sqrt, n_estimators=100;, score=-104555.825 total time=   0.2s\n",
      "[CV 9/10] END criterion=friedman_mse, max_depth=10, max_features=sqrt, n_estimators=100;, score=-126723.077 total time=   0.3s\n",
      "[CV 10/10] END criterion=friedman_mse, max_depth=10, max_features=sqrt, n_estimators=100;, score=-122646.495 total time=   0.3s\n",
      "[CV 1/10] END criterion=friedman_mse, max_depth=10, max_features=sqrt, n_estimators=150;, score=-86354.679 total time=   0.4s\n",
      "[CV 2/10] END criterion=friedman_mse, max_depth=10, max_features=sqrt, n_estimators=150;, score=-79076.593 total time=   0.4s\n",
      "[CV 3/10] END criterion=friedman_mse, max_depth=10, max_features=sqrt, n_estimators=150;, score=-105538.575 total time=   0.4s\n",
      "[CV 4/10] END criterion=friedman_mse, max_depth=10, max_features=sqrt, n_estimators=150;, score=-121453.467 total time=   0.4s\n",
      "[CV 5/10] END criterion=friedman_mse, max_depth=10, max_features=sqrt, n_estimators=150;, score=-101628.527 total time=   0.4s\n",
      "[CV 6/10] END criterion=friedman_mse, max_depth=10, max_features=sqrt, n_estimators=150;, score=-111986.913 total time=   0.4s\n",
      "[CV 7/10] END criterion=friedman_mse, max_depth=10, max_features=sqrt, n_estimators=150;, score=-116468.915 total time=   0.4s\n",
      "[CV 8/10] END criterion=friedman_mse, max_depth=10, max_features=sqrt, n_estimators=150;, score=-103537.007 total time=   0.4s\n",
      "[CV 9/10] END criterion=friedman_mse, max_depth=10, max_features=sqrt, n_estimators=150;, score=-127305.460 total time=   0.4s\n",
      "[CV 10/10] END criterion=friedman_mse, max_depth=10, max_features=sqrt, n_estimators=150;, score=-121821.363 total time=   0.4s\n",
      "[CV 1/10] END criterion=friedman_mse, max_depth=10, max_features=sqrt, n_estimators=200;, score=-86339.226 total time=   0.5s\n",
      "[CV 2/10] END criterion=friedman_mse, max_depth=10, max_features=sqrt, n_estimators=200;, score=-78897.195 total time=   0.6s\n",
      "[CV 3/10] END criterion=friedman_mse, max_depth=10, max_features=sqrt, n_estimators=200;, score=-105550.189 total time=   0.6s\n",
      "[CV 4/10] END criterion=friedman_mse, max_depth=10, max_features=sqrt, n_estimators=200;, score=-121511.902 total time=   0.6s\n",
      "[CV 5/10] END criterion=friedman_mse, max_depth=10, max_features=sqrt, n_estimators=200;, score=-101618.483 total time=   0.5s\n",
      "[CV 6/10] END criterion=friedman_mse, max_depth=10, max_features=sqrt, n_estimators=200;, score=-111801.853 total time=   0.5s\n",
      "[CV 7/10] END criterion=friedman_mse, max_depth=10, max_features=sqrt, n_estimators=200;, score=-116405.953 total time=   0.5s\n",
      "[CV 8/10] END criterion=friedman_mse, max_depth=10, max_features=sqrt, n_estimators=200;, score=-103643.306 total time=   0.5s\n",
      "[CV 9/10] END criterion=friedman_mse, max_depth=10, max_features=sqrt, n_estimators=200;, score=-127403.448 total time=   0.6s\n",
      "[CV 10/10] END criterion=friedman_mse, max_depth=10, max_features=sqrt, n_estimators=200;, score=-121676.413 total time=   0.6s\n",
      "[CV 1/10] END criterion=poisson, max_depth=None, max_features=None, n_estimators=100;, score=-88334.779 total time=   2.2s\n",
      "[CV 2/10] END criterion=poisson, max_depth=None, max_features=None, n_estimators=100;, score=-85149.419 total time=   2.5s\n",
      "[CV 3/10] END criterion=poisson, max_depth=None, max_features=None, n_estimators=100;, score=-108833.537 total time=   2.5s\n",
      "[CV 4/10] END criterion=poisson, max_depth=None, max_features=None, n_estimators=100;, score=-123129.359 total time=   2.5s\n",
      "[CV 5/10] END criterion=poisson, max_depth=None, max_features=None, n_estimators=100;, score=-98887.156 total time=   2.4s\n",
      "[CV 6/10] END criterion=poisson, max_depth=None, max_features=None, n_estimators=100;, score=-111313.236 total time=   2.3s\n",
      "[CV 7/10] END criterion=poisson, max_depth=None, max_features=None, n_estimators=100;, score=-113491.712 total time=   2.3s\n",
      "[CV 8/10] END criterion=poisson, max_depth=None, max_features=None, n_estimators=100;, score=-105411.999 total time=   2.2s\n",
      "[CV 9/10] END criterion=poisson, max_depth=None, max_features=None, n_estimators=100;, score=-133468.784 total time=   2.2s\n",
      "[CV 10/10] END criterion=poisson, max_depth=None, max_features=None, n_estimators=100;, score=-115036.024 total time=   2.3s\n",
      "[CV 1/10] END criterion=poisson, max_depth=None, max_features=None, n_estimators=150;, score=-88426.677 total time=   3.6s\n",
      "[CV 2/10] END criterion=poisson, max_depth=None, max_features=None, n_estimators=150;, score=-84860.878 total time=   3.7s\n",
      "[CV 3/10] END criterion=poisson, max_depth=None, max_features=None, n_estimators=150;, score=-109409.561 total time=   3.5s\n",
      "[CV 4/10] END criterion=poisson, max_depth=None, max_features=None, n_estimators=150;, score=-122880.896 total time=   3.7s\n",
      "[CV 5/10] END criterion=poisson, max_depth=None, max_features=None, n_estimators=150;, score=-98924.727 total time=   3.5s\n",
      "[CV 6/10] END criterion=poisson, max_depth=None, max_features=None, n_estimators=150;, score=-112138.493 total time=   3.5s\n",
      "[CV 7/10] END criterion=poisson, max_depth=None, max_features=None, n_estimators=150;, score=-113602.560 total time=   3.8s\n",
      "[CV 8/10] END criterion=poisson, max_depth=None, max_features=None, n_estimators=150;, score=-104262.416 total time=   3.9s\n",
      "[CV 9/10] END criterion=poisson, max_depth=None, max_features=None, n_estimators=150;, score=-133713.246 total time=   3.7s\n",
      "[CV 10/10] END criterion=poisson, max_depth=None, max_features=None, n_estimators=150;, score=-114473.738 total time=   3.6s\n",
      "[CV 1/10] END criterion=poisson, max_depth=None, max_features=None, n_estimators=200;, score=-88665.495 total time=   5.1s\n",
      "[CV 2/10] END criterion=poisson, max_depth=None, max_features=None, n_estimators=200;, score=-85119.399 total time=   4.9s\n",
      "[CV 3/10] END criterion=poisson, max_depth=None, max_features=None, n_estimators=200;, score=-109087.976 total time=   4.5s\n",
      "[CV 4/10] END criterion=poisson, max_depth=None, max_features=None, n_estimators=200;, score=-123662.963 total time=   4.5s\n",
      "[CV 5/10] END criterion=poisson, max_depth=None, max_features=None, n_estimators=200;, score=-98143.231 total time=   4.9s\n",
      "[CV 6/10] END criterion=poisson, max_depth=None, max_features=None, n_estimators=200;, score=-111269.756 total time=   4.7s\n",
      "[CV 7/10] END criterion=poisson, max_depth=None, max_features=None, n_estimators=200;, score=-113688.494 total time=   4.7s\n",
      "[CV 8/10] END criterion=poisson, max_depth=None, max_features=None, n_estimators=200;, score=-104638.281 total time=   4.8s\n",
      "[CV 9/10] END criterion=poisson, max_depth=None, max_features=None, n_estimators=200;, score=-133422.000 total time=   4.5s\n",
      "[CV 10/10] END criterion=poisson, max_depth=None, max_features=None, n_estimators=200;, score=-114539.919 total time=   4.5s\n",
      "[CV 1/10] END criterion=poisson, max_depth=None, max_features=sqrt, n_estimators=100;, score=-85719.339 total time=   1.0s\n",
      "[CV 2/10] END criterion=poisson, max_depth=None, max_features=sqrt, n_estimators=100;, score=-72300.934 total time=   1.0s\n",
      "[CV 3/10] END criterion=poisson, max_depth=None, max_features=sqrt, n_estimators=100;, score=-108459.195 total time=   0.9s\n",
      "[CV 4/10] END criterion=poisson, max_depth=None, max_features=sqrt, n_estimators=100;, score=-119740.773 total time=   0.8s\n",
      "[CV 5/10] END criterion=poisson, max_depth=None, max_features=sqrt, n_estimators=100;, score=-96746.973 total time=   0.9s\n",
      "[CV 6/10] END criterion=poisson, max_depth=None, max_features=sqrt, n_estimators=100;, score=-111117.646 total time=   0.8s\n",
      "[CV 7/10] END criterion=poisson, max_depth=None, max_features=sqrt, n_estimators=100;, score=-107797.812 total time=   0.8s\n",
      "[CV 8/10] END criterion=poisson, max_depth=None, max_features=sqrt, n_estimators=100;, score=-108429.220 total time=   0.8s\n",
      "[CV 9/10] END criterion=poisson, max_depth=None, max_features=sqrt, n_estimators=100;, score=-124952.426 total time=   0.8s\n",
      "[CV 10/10] END criterion=poisson, max_depth=None, max_features=sqrt, n_estimators=100;, score=-111331.875 total time=   0.8s\n",
      "[CV 1/10] END criterion=poisson, max_depth=None, max_features=sqrt, n_estimators=150;, score=-84704.235 total time=   1.3s\n",
      "[CV 2/10] END criterion=poisson, max_depth=None, max_features=sqrt, n_estimators=150;, score=-73292.875 total time=   1.3s\n",
      "[CV 3/10] END criterion=poisson, max_depth=None, max_features=sqrt, n_estimators=150;, score=-108494.948 total time=   1.3s\n",
      "[CV 4/10] END criterion=poisson, max_depth=None, max_features=sqrt, n_estimators=150;, score=-118856.701 total time=   1.3s\n",
      "[CV 5/10] END criterion=poisson, max_depth=None, max_features=sqrt, n_estimators=150;, score=-96295.007 total time=   1.3s\n",
      "[CV 6/10] END criterion=poisson, max_depth=None, max_features=sqrt, n_estimators=150;, score=-109966.778 total time=   1.2s\n",
      "[CV 7/10] END criterion=poisson, max_depth=None, max_features=sqrt, n_estimators=150;, score=-107583.028 total time=   1.3s\n",
      "[CV 8/10] END criterion=poisson, max_depth=None, max_features=sqrt, n_estimators=150;, score=-106989.260 total time=   1.4s\n",
      "[CV 9/10] END criterion=poisson, max_depth=None, max_features=sqrt, n_estimators=150;, score=-125608.982 total time=   1.3s\n",
      "[CV 10/10] END criterion=poisson, max_depth=None, max_features=sqrt, n_estimators=150;, score=-110304.303 total time=   1.3s\n",
      "[CV 1/10] END criterion=poisson, max_depth=None, max_features=sqrt, n_estimators=200;, score=-84402.699 total time=   1.7s\n",
      "[CV 2/10] END criterion=poisson, max_depth=None, max_features=sqrt, n_estimators=200;, score=-73011.793 total time=   1.7s\n",
      "[CV 3/10] END criterion=poisson, max_depth=None, max_features=sqrt, n_estimators=200;, score=-108818.881 total time=   1.7s\n",
      "[CV 4/10] END criterion=poisson, max_depth=None, max_features=sqrt, n_estimators=200;, score=-119708.552 total time=   1.7s\n",
      "[CV 5/10] END criterion=poisson, max_depth=None, max_features=sqrt, n_estimators=200;, score=-95789.211 total time=   1.7s\n",
      "[CV 6/10] END criterion=poisson, max_depth=None, max_features=sqrt, n_estimators=200;, score=-109719.007 total time=   1.7s\n",
      "[CV 7/10] END criterion=poisson, max_depth=None, max_features=sqrt, n_estimators=200;, score=-106926.939 total time=   1.8s\n",
      "[CV 8/10] END criterion=poisson, max_depth=None, max_features=sqrt, n_estimators=200;, score=-106183.980 total time=   1.7s\n",
      "[CV 9/10] END criterion=poisson, max_depth=None, max_features=sqrt, n_estimators=200;, score=-126410.033 total time=   1.7s\n",
      "[CV 10/10] END criterion=poisson, max_depth=None, max_features=sqrt, n_estimators=200;, score=-109552.962 total time=   1.8s\n",
      "[CV 1/10] END criterion=poisson, max_depth=10, max_features=None, n_estimators=100;, score=-85475.797 total time=   1.2s\n",
      "[CV 2/10] END criterion=poisson, max_depth=10, max_features=None, n_estimators=100;, score=-83349.560 total time=   1.3s\n",
      "[CV 3/10] END criterion=poisson, max_depth=10, max_features=None, n_estimators=100;, score=-105256.849 total time=   1.2s\n",
      "[CV 4/10] END criterion=poisson, max_depth=10, max_features=None, n_estimators=100;, score=-119687.127 total time=   1.3s\n",
      "[CV 5/10] END criterion=poisson, max_depth=10, max_features=None, n_estimators=100;, score=-100606.160 total time=   1.2s\n",
      "[CV 6/10] END criterion=poisson, max_depth=10, max_features=None, n_estimators=100;, score=-106358.299 total time=   1.2s\n",
      "[CV 7/10] END criterion=poisson, max_depth=10, max_features=None, n_estimators=100;, score=-112219.259 total time=   1.2s\n",
      "[CV 8/10] END criterion=poisson, max_depth=10, max_features=None, n_estimators=100;, score=-99172.442 total time=   1.2s\n",
      "[CV 9/10] END criterion=poisson, max_depth=10, max_features=None, n_estimators=100;, score=-124816.393 total time=   1.3s\n",
      "[CV 10/10] END criterion=poisson, max_depth=10, max_features=None, n_estimators=100;, score=-113976.177 total time=   1.2s\n",
      "[CV 1/10] END criterion=poisson, max_depth=10, max_features=None, n_estimators=150;, score=-85200.879 total time=   1.8s\n",
      "[CV 2/10] END criterion=poisson, max_depth=10, max_features=None, n_estimators=150;, score=-83116.290 total time=   1.9s\n",
      "[CV 3/10] END criterion=poisson, max_depth=10, max_features=None, n_estimators=150;, score=-105662.177 total time=   1.9s\n",
      "[CV 4/10] END criterion=poisson, max_depth=10, max_features=None, n_estimators=150;, score=-119632.703 total time=   1.8s\n",
      "[CV 5/10] END criterion=poisson, max_depth=10, max_features=None, n_estimators=150;, score=-100599.085 total time=   1.9s\n",
      "[CV 6/10] END criterion=poisson, max_depth=10, max_features=None, n_estimators=150;, score=-106545.420 total time=   1.9s\n",
      "[CV 7/10] END criterion=poisson, max_depth=10, max_features=None, n_estimators=150;, score=-112141.463 total time=   2.1s\n",
      "[CV 8/10] END criterion=poisson, max_depth=10, max_features=None, n_estimators=150;, score=-98612.807 total time=   1.7s\n",
      "[CV 9/10] END criterion=poisson, max_depth=10, max_features=None, n_estimators=150;, score=-125202.128 total time=   1.9s\n",
      "[CV 10/10] END criterion=poisson, max_depth=10, max_features=None, n_estimators=150;, score=-113651.877 total time=   1.9s\n",
      "[CV 1/10] END criterion=poisson, max_depth=10, max_features=None, n_estimators=200;, score=-85228.607 total time=   2.4s\n",
      "[CV 2/10] END criterion=poisson, max_depth=10, max_features=None, n_estimators=200;, score=-83140.522 total time=   2.5s\n",
      "[CV 3/10] END criterion=poisson, max_depth=10, max_features=None, n_estimators=200;, score=-105596.935 total time=   2.5s\n",
      "[CV 4/10] END criterion=poisson, max_depth=10, max_features=None, n_estimators=200;, score=-119639.132 total time=   2.5s\n",
      "[CV 5/10] END criterion=poisson, max_depth=10, max_features=None, n_estimators=200;, score=-99651.996 total time=   2.5s\n",
      "[CV 6/10] END criterion=poisson, max_depth=10, max_features=None, n_estimators=200;, score=-106027.355 total time=   2.4s\n",
      "[CV 7/10] END criterion=poisson, max_depth=10, max_features=None, n_estimators=200;, score=-111602.085 total time=   2.4s\n",
      "[CV 8/10] END criterion=poisson, max_depth=10, max_features=None, n_estimators=200;, score=-98488.737 total time=   2.5s\n",
      "[CV 9/10] END criterion=poisson, max_depth=10, max_features=None, n_estimators=200;, score=-125124.496 total time=   2.5s\n",
      "[CV 10/10] END criterion=poisson, max_depth=10, max_features=None, n_estimators=200;, score=-113427.871 total time=   2.4s\n",
      "[CV 1/10] END criterion=poisson, max_depth=10, max_features=sqrt, n_estimators=100;, score=-85983.480 total time=   0.4s\n",
      "[CV 2/10] END criterion=poisson, max_depth=10, max_features=sqrt, n_estimators=100;, score=-76931.102 total time=   0.4s\n",
      "[CV 3/10] END criterion=poisson, max_depth=10, max_features=sqrt, n_estimators=100;, score=-104783.533 total time=   0.4s\n",
      "[CV 4/10] END criterion=poisson, max_depth=10, max_features=sqrt, n_estimators=100;, score=-121533.170 total time=   0.4s\n",
      "[CV 5/10] END criterion=poisson, max_depth=10, max_features=sqrt, n_estimators=100;, score=-103630.095 total time=   0.4s\n",
      "[CV 6/10] END criterion=poisson, max_depth=10, max_features=sqrt, n_estimators=100;, score=-112466.476 total time=   0.4s\n",
      "[CV 7/10] END criterion=poisson, max_depth=10, max_features=sqrt, n_estimators=100;, score=-114364.997 total time=   0.4s\n",
      "[CV 8/10] END criterion=poisson, max_depth=10, max_features=sqrt, n_estimators=100;, score=-103960.591 total time=   0.4s\n",
      "[CV 9/10] END criterion=poisson, max_depth=10, max_features=sqrt, n_estimators=100;, score=-127533.291 total time=   0.4s\n",
      "[CV 10/10] END criterion=poisson, max_depth=10, max_features=sqrt, n_estimators=100;, score=-121304.647 total time=   0.4s\n",
      "[CV 1/10] END criterion=poisson, max_depth=10, max_features=sqrt, n_estimators=150;, score=-85691.817 total time=   0.5s\n",
      "[CV 2/10] END criterion=poisson, max_depth=10, max_features=sqrt, n_estimators=150;, score=-77708.047 total time=   0.6s\n",
      "[CV 3/10] END criterion=poisson, max_depth=10, max_features=sqrt, n_estimators=150;, score=-104930.966 total time=   0.7s\n",
      "[CV 4/10] END criterion=poisson, max_depth=10, max_features=sqrt, n_estimators=150;, score=-121620.885 total time=   0.6s\n",
      "[CV 5/10] END criterion=poisson, max_depth=10, max_features=sqrt, n_estimators=150;, score=-103780.672 total time=   0.6s\n",
      "[CV 6/10] END criterion=poisson, max_depth=10, max_features=sqrt, n_estimators=150;, score=-112259.453 total time=   0.6s\n",
      "[CV 7/10] END criterion=poisson, max_depth=10, max_features=sqrt, n_estimators=150;, score=-114731.492 total time=   0.6s\n",
      "[CV 8/10] END criterion=poisson, max_depth=10, max_features=sqrt, n_estimators=150;, score=-103281.821 total time=   0.6s\n",
      "[CV 9/10] END criterion=poisson, max_depth=10, max_features=sqrt, n_estimators=150;, score=-128132.912 total time=   0.6s\n",
      "[CV 10/10] END criterion=poisson, max_depth=10, max_features=sqrt, n_estimators=150;, score=-120991.390 total time=   0.7s\n",
      "[CV 1/10] END criterion=poisson, max_depth=10, max_features=sqrt, n_estimators=200;, score=-85717.466 total time=   0.8s\n",
      "[CV 2/10] END criterion=poisson, max_depth=10, max_features=sqrt, n_estimators=200;, score=-77362.026 total time=   0.8s\n",
      "[CV 3/10] END criterion=poisson, max_depth=10, max_features=sqrt, n_estimators=200;, score=-105149.136 total time=   0.7s\n",
      "[CV 4/10] END criterion=poisson, max_depth=10, max_features=sqrt, n_estimators=200;, score=-121497.628 total time=   0.7s\n",
      "[CV 5/10] END criterion=poisson, max_depth=10, max_features=sqrt, n_estimators=200;, score=-103716.638 total time=   0.7s\n",
      "[CV 6/10] END criterion=poisson, max_depth=10, max_features=sqrt, n_estimators=200;, score=-112264.146 total time=   0.7s\n",
      "[CV 7/10] END criterion=poisson, max_depth=10, max_features=sqrt, n_estimators=200;, score=-114943.322 total time=   0.8s\n",
      "[CV 8/10] END criterion=poisson, max_depth=10, max_features=sqrt, n_estimators=200;, score=-103239.314 total time=   0.7s\n",
      "[CV 9/10] END criterion=poisson, max_depth=10, max_features=sqrt, n_estimators=200;, score=-128512.975 total time=   0.7s\n",
      "[CV 10/10] END criterion=poisson, max_depth=10, max_features=sqrt, n_estimators=200;, score=-120495.083 total time=   0.8s\n"
     ]
    },
    {
     "data": {
      "text/html": [
       "<style>#sk-container-id-1 {color: black;background-color: white;}#sk-container-id-1 pre{padding: 0;}#sk-container-id-1 div.sk-toggleable {background-color: white;}#sk-container-id-1 label.sk-toggleable__label {cursor: pointer;display: block;width: 100%;margin-bottom: 0;padding: 0.3em;box-sizing: border-box;text-align: center;}#sk-container-id-1 label.sk-toggleable__label-arrow:before {content: \"▸\";float: left;margin-right: 0.25em;color: #696969;}#sk-container-id-1 label.sk-toggleable__label-arrow:hover:before {color: black;}#sk-container-id-1 div.sk-estimator:hover label.sk-toggleable__label-arrow:before {color: black;}#sk-container-id-1 div.sk-toggleable__content {max-height: 0;max-width: 0;overflow: hidden;text-align: left;background-color: #f0f8ff;}#sk-container-id-1 div.sk-toggleable__content pre {margin: 0.2em;color: black;border-radius: 0.25em;background-color: #f0f8ff;}#sk-container-id-1 input.sk-toggleable__control:checked~div.sk-toggleable__content {max-height: 200px;max-width: 100%;overflow: auto;}#sk-container-id-1 input.sk-toggleable__control:checked~label.sk-toggleable__label-arrow:before {content: \"▾\";}#sk-container-id-1 div.sk-estimator input.sk-toggleable__control:checked~label.sk-toggleable__label {background-color: #d4ebff;}#sk-container-id-1 div.sk-label input.sk-toggleable__control:checked~label.sk-toggleable__label {background-color: #d4ebff;}#sk-container-id-1 input.sk-hidden--visually {border: 0;clip: rect(1px 1px 1px 1px);clip: rect(1px, 1px, 1px, 1px);height: 1px;margin: -1px;overflow: hidden;padding: 0;position: absolute;width: 1px;}#sk-container-id-1 div.sk-estimator {font-family: monospace;background-color: #f0f8ff;border: 1px dotted black;border-radius: 0.25em;box-sizing: border-box;margin-bottom: 0.5em;}#sk-container-id-1 div.sk-estimator:hover {background-color: #d4ebff;}#sk-container-id-1 div.sk-parallel-item::after {content: \"\";width: 100%;border-bottom: 1px solid gray;flex-grow: 1;}#sk-container-id-1 div.sk-label:hover label.sk-toggleable__label {background-color: #d4ebff;}#sk-container-id-1 div.sk-serial::before {content: \"\";position: absolute;border-left: 1px solid gray;box-sizing: border-box;top: 0;bottom: 0;left: 50%;z-index: 0;}#sk-container-id-1 div.sk-serial {display: flex;flex-direction: column;align-items: center;background-color: white;padding-right: 0.2em;padding-left: 0.2em;position: relative;}#sk-container-id-1 div.sk-item {position: relative;z-index: 1;}#sk-container-id-1 div.sk-parallel {display: flex;align-items: stretch;justify-content: center;background-color: white;position: relative;}#sk-container-id-1 div.sk-item::before, #sk-container-id-1 div.sk-parallel-item::before {content: \"\";position: absolute;border-left: 1px solid gray;box-sizing: border-box;top: 0;bottom: 0;left: 50%;z-index: -1;}#sk-container-id-1 div.sk-parallel-item {display: flex;flex-direction: column;z-index: 1;position: relative;background-color: white;}#sk-container-id-1 div.sk-parallel-item:first-child::after {align-self: flex-end;width: 50%;}#sk-container-id-1 div.sk-parallel-item:last-child::after {align-self: flex-start;width: 50%;}#sk-container-id-1 div.sk-parallel-item:only-child::after {width: 0;}#sk-container-id-1 div.sk-dashed-wrapped {border: 1px dashed gray;margin: 0 0.4em 0.5em 0.4em;box-sizing: border-box;padding-bottom: 0.4em;background-color: white;}#sk-container-id-1 div.sk-label label {font-family: monospace;font-weight: bold;display: inline-block;line-height: 1.2em;}#sk-container-id-1 div.sk-label-container {text-align: center;}#sk-container-id-1 div.sk-container {/* jupyter's `normalize.less` sets `[hidden] { display: none; }` but bootstrap.min.css set `[hidden] { display: none !important; }` so we also need the `!important` here to be able to override the default hidden behavior on the sphinx rendered scikit-learn.org. See: https://github.com/scikit-learn/scikit-learn/issues/21755 */display: inline-block !important;position: relative;}#sk-container-id-1 div.sk-text-repr-fallback {display: none;}</style><div id=\"sk-container-id-1\" class=\"sk-top-container\"><div class=\"sk-text-repr-fallback\"><pre>GridSearchCV(cv=KFold(n_splits=10, random_state=1, shuffle=True),\n",
       "             estimator=RandomForestRegressor(random_state=1), n_jobs=1,\n",
       "             param_grid={&#x27;criterion&#x27;: [&#x27;squared_error&#x27;, &#x27;friedman_mse&#x27;,\n",
       "                                       &#x27;poisson&#x27;],\n",
       "                         &#x27;max_depth&#x27;: [None, 10],\n",
       "                         &#x27;max_features&#x27;: [None, &#x27;sqrt&#x27;],\n",
       "                         &#x27;n_estimators&#x27;: [100, 150, 200]},\n",
       "             scoring=&#x27;neg_mean_absolute_error&#x27;, verbose=3)</pre><b>In a Jupyter environment, please rerun this cell to show the HTML representation or trust the notebook. <br />On GitHub, the HTML representation is unable to render, please try loading this page with nbviewer.org.</b></div><div class=\"sk-container\" hidden><div class=\"sk-item sk-dashed-wrapped\"><div class=\"sk-label-container\"><div class=\"sk-label sk-toggleable\"><input class=\"sk-toggleable__control sk-hidden--visually\" id=\"sk-estimator-id-1\" type=\"checkbox\" ><label for=\"sk-estimator-id-1\" class=\"sk-toggleable__label sk-toggleable__label-arrow\">GridSearchCV</label><div class=\"sk-toggleable__content\"><pre>GridSearchCV(cv=KFold(n_splits=10, random_state=1, shuffle=True),\n",
       "             estimator=RandomForestRegressor(random_state=1), n_jobs=1,\n",
       "             param_grid={&#x27;criterion&#x27;: [&#x27;squared_error&#x27;, &#x27;friedman_mse&#x27;,\n",
       "                                       &#x27;poisson&#x27;],\n",
       "                         &#x27;max_depth&#x27;: [None, 10],\n",
       "                         &#x27;max_features&#x27;: [None, &#x27;sqrt&#x27;],\n",
       "                         &#x27;n_estimators&#x27;: [100, 150, 200]},\n",
       "             scoring=&#x27;neg_mean_absolute_error&#x27;, verbose=3)</pre></div></div></div><div class=\"sk-parallel\"><div class=\"sk-parallel-item\"><div class=\"sk-item\"><div class=\"sk-label-container\"><div class=\"sk-label sk-toggleable\"><input class=\"sk-toggleable__control sk-hidden--visually\" id=\"sk-estimator-id-2\" type=\"checkbox\" ><label for=\"sk-estimator-id-2\" class=\"sk-toggleable__label sk-toggleable__label-arrow\">estimator: RandomForestRegressor</label><div class=\"sk-toggleable__content\"><pre>RandomForestRegressor(random_state=1)</pre></div></div></div><div class=\"sk-serial\"><div class=\"sk-item\"><div class=\"sk-estimator sk-toggleable\"><input class=\"sk-toggleable__control sk-hidden--visually\" id=\"sk-estimator-id-3\" type=\"checkbox\" ><label for=\"sk-estimator-id-3\" class=\"sk-toggleable__label sk-toggleable__label-arrow\">RandomForestRegressor</label><div class=\"sk-toggleable__content\"><pre>RandomForestRegressor(random_state=1)</pre></div></div></div></div></div></div></div></div></div></div>"
      ],
      "text/plain": [
       "GridSearchCV(cv=KFold(n_splits=10, random_state=1, shuffle=True),\n",
       "             estimator=RandomForestRegressor(random_state=1), n_jobs=1,\n",
       "             param_grid={'criterion': ['squared_error', 'friedman_mse',\n",
       "                                       'poisson'],\n",
       "                         'max_depth': [None, 10],\n",
       "                         'max_features': [None, 'sqrt'],\n",
       "                         'n_estimators': [100, 150, 200]},\n",
       "             scoring='neg_mean_absolute_error', verbose=3)"
      ]
     },
     "execution_count": 18,
     "metadata": {},
     "output_type": "execute_result"
    }
   ],
   "source": [
    "grid_cv.fit(X_train, y_train)"
   ]
  },
  {
   "cell_type": "markdown",
   "metadata": {
    "id": "KZwNSViFnHuY"
   },
   "source": [
    "## Train the best model from GridSearchCV"
   ]
  },
  {
   "cell_type": "code",
   "execution_count": 19,
   "metadata": {
    "colab": {
     "base_uri": "https://localhost:8080/"
    },
    "executionInfo": {
     "elapsed": 12,
     "status": "ok",
     "timestamp": 1704129032724,
     "user": {
      "displayName": "Phúc Nguyễn Gia",
      "userId": "17682670618312684684"
     },
     "user_tz": -420
    },
    "id": "BgySWPqks34Y",
    "outputId": "b8638265-c639-412a-e009-a8fa77b10695"
   },
   "outputs": [
    {
     "data": {
      "text/plain": [
       "{'criterion': 'poisson',\n",
       " 'max_depth': None,\n",
       " 'max_features': 'sqrt',\n",
       " 'n_estimators': 200}"
      ]
     },
     "execution_count": 19,
     "metadata": {},
     "output_type": "execute_result"
    }
   ],
   "source": [
    "grid_cv.best_params_"
   ]
  },
  {
   "cell_type": "code",
   "execution_count": 20,
   "metadata": {
    "executionInfo": {
     "elapsed": 9,
     "status": "ok",
     "timestamp": 1704129032724,
     "user": {
      "displayName": "Phúc Nguyễn Gia",
      "userId": "17682670618312684684"
     },
     "user_tz": -420
    },
    "id": "zlKTWCQbs0Fa"
   },
   "outputs": [],
   "source": [
    "model = grid_cv.best_estimator_"
   ]
  },
  {
   "cell_type": "code",
   "execution_count": 21,
   "metadata": {
    "colab": {
     "base_uri": "https://localhost:8080/",
     "height": 92
    },
    "executionInfo": {
     "elapsed": 1503,
     "status": "ok",
     "timestamp": 1704129034218,
     "user": {
      "displayName": "Phúc Nguyễn Gia",
      "userId": "17682670618312684684"
     },
     "user_tz": -420
    },
    "id": "_9cB1FC4_1-S",
    "outputId": "d8418a29-e808-4b90-a2f8-e9f168d9e3f6"
   },
   "outputs": [
    {
     "data": {
      "text/html": [
       "<style>#sk-container-id-2 {color: black;background-color: white;}#sk-container-id-2 pre{padding: 0;}#sk-container-id-2 div.sk-toggleable {background-color: white;}#sk-container-id-2 label.sk-toggleable__label {cursor: pointer;display: block;width: 100%;margin-bottom: 0;padding: 0.3em;box-sizing: border-box;text-align: center;}#sk-container-id-2 label.sk-toggleable__label-arrow:before {content: \"▸\";float: left;margin-right: 0.25em;color: #696969;}#sk-container-id-2 label.sk-toggleable__label-arrow:hover:before {color: black;}#sk-container-id-2 div.sk-estimator:hover label.sk-toggleable__label-arrow:before {color: black;}#sk-container-id-2 div.sk-toggleable__content {max-height: 0;max-width: 0;overflow: hidden;text-align: left;background-color: #f0f8ff;}#sk-container-id-2 div.sk-toggleable__content pre {margin: 0.2em;color: black;border-radius: 0.25em;background-color: #f0f8ff;}#sk-container-id-2 input.sk-toggleable__control:checked~div.sk-toggleable__content {max-height: 200px;max-width: 100%;overflow: auto;}#sk-container-id-2 input.sk-toggleable__control:checked~label.sk-toggleable__label-arrow:before {content: \"▾\";}#sk-container-id-2 div.sk-estimator input.sk-toggleable__control:checked~label.sk-toggleable__label {background-color: #d4ebff;}#sk-container-id-2 div.sk-label input.sk-toggleable__control:checked~label.sk-toggleable__label {background-color: #d4ebff;}#sk-container-id-2 input.sk-hidden--visually {border: 0;clip: rect(1px 1px 1px 1px);clip: rect(1px, 1px, 1px, 1px);height: 1px;margin: -1px;overflow: hidden;padding: 0;position: absolute;width: 1px;}#sk-container-id-2 div.sk-estimator {font-family: monospace;background-color: #f0f8ff;border: 1px dotted black;border-radius: 0.25em;box-sizing: border-box;margin-bottom: 0.5em;}#sk-container-id-2 div.sk-estimator:hover {background-color: #d4ebff;}#sk-container-id-2 div.sk-parallel-item::after {content: \"\";width: 100%;border-bottom: 1px solid gray;flex-grow: 1;}#sk-container-id-2 div.sk-label:hover label.sk-toggleable__label {background-color: #d4ebff;}#sk-container-id-2 div.sk-serial::before {content: \"\";position: absolute;border-left: 1px solid gray;box-sizing: border-box;top: 0;bottom: 0;left: 50%;z-index: 0;}#sk-container-id-2 div.sk-serial {display: flex;flex-direction: column;align-items: center;background-color: white;padding-right: 0.2em;padding-left: 0.2em;position: relative;}#sk-container-id-2 div.sk-item {position: relative;z-index: 1;}#sk-container-id-2 div.sk-parallel {display: flex;align-items: stretch;justify-content: center;background-color: white;position: relative;}#sk-container-id-2 div.sk-item::before, #sk-container-id-2 div.sk-parallel-item::before {content: \"\";position: absolute;border-left: 1px solid gray;box-sizing: border-box;top: 0;bottom: 0;left: 50%;z-index: -1;}#sk-container-id-2 div.sk-parallel-item {display: flex;flex-direction: column;z-index: 1;position: relative;background-color: white;}#sk-container-id-2 div.sk-parallel-item:first-child::after {align-self: flex-end;width: 50%;}#sk-container-id-2 div.sk-parallel-item:last-child::after {align-self: flex-start;width: 50%;}#sk-container-id-2 div.sk-parallel-item:only-child::after {width: 0;}#sk-container-id-2 div.sk-dashed-wrapped {border: 1px dashed gray;margin: 0 0.4em 0.5em 0.4em;box-sizing: border-box;padding-bottom: 0.4em;background-color: white;}#sk-container-id-2 div.sk-label label {font-family: monospace;font-weight: bold;display: inline-block;line-height: 1.2em;}#sk-container-id-2 div.sk-label-container {text-align: center;}#sk-container-id-2 div.sk-container {/* jupyter's `normalize.less` sets `[hidden] { display: none; }` but bootstrap.min.css set `[hidden] { display: none !important; }` so we also need the `!important` here to be able to override the default hidden behavior on the sphinx rendered scikit-learn.org. See: https://github.com/scikit-learn/scikit-learn/issues/21755 */display: inline-block !important;position: relative;}#sk-container-id-2 div.sk-text-repr-fallback {display: none;}</style><div id=\"sk-container-id-2\" class=\"sk-top-container\"><div class=\"sk-text-repr-fallback\"><pre>RandomForestRegressor(criterion=&#x27;poisson&#x27;, max_features=&#x27;sqrt&#x27;,\n",
       "                      n_estimators=200, random_state=1)</pre><b>In a Jupyter environment, please rerun this cell to show the HTML representation or trust the notebook. <br />On GitHub, the HTML representation is unable to render, please try loading this page with nbviewer.org.</b></div><div class=\"sk-container\" hidden><div class=\"sk-item\"><div class=\"sk-estimator sk-toggleable\"><input class=\"sk-toggleable__control sk-hidden--visually\" id=\"sk-estimator-id-4\" type=\"checkbox\" checked><label for=\"sk-estimator-id-4\" class=\"sk-toggleable__label sk-toggleable__label-arrow\">RandomForestRegressor</label><div class=\"sk-toggleable__content\"><pre>RandomForestRegressor(criterion=&#x27;poisson&#x27;, max_features=&#x27;sqrt&#x27;,\n",
       "                      n_estimators=200, random_state=1)</pre></div></div></div></div></div>"
      ],
      "text/plain": [
       "RandomForestRegressor(criterion='poisson', max_features='sqrt',\n",
       "                      n_estimators=200, random_state=1)"
      ]
     },
     "execution_count": 21,
     "metadata": {},
     "output_type": "execute_result"
    }
   ],
   "source": [
    "model.fit(X_train, y_train)"
   ]
  },
  {
   "cell_type": "markdown",
   "metadata": {
    "id": "I3Qmvtx3xSBc"
   },
   "source": [
    "# Evaluation"
   ]
  },
  {
   "cell_type": "code",
   "execution_count": 22,
   "metadata": {
    "colab": {
     "base_uri": "https://localhost:8080/"
    },
    "executionInfo": {
     "elapsed": 9,
     "status": "ok",
     "timestamp": 1704129034218,
     "user": {
      "displayName": "Phúc Nguyễn Gia",
      "userId": "17682670618312684684"
     },
     "user_tz": -420
    },
    "id": "05Qi-njr4tnH",
    "outputId": "39b5db77-3d23-4dd7-bdd6-b0f348f5f58c"
   },
   "outputs": [
    {
     "name": "stdout",
     "output_type": "stream",
     "text": [
      "Mean Absolute Error (MAE): 105733.69832869848\n",
      "Mean Squared Error (MSE): 67879270447.39259\n",
      "Root Mean Squared Error (MSE): 260536.5050187643\n"
     ]
    }
   ],
   "source": [
    "predictions = model.predict(X_test)\n",
    "print('Mean Absolute Error (MAE):', mean_absolute_error(y_test, predictions))\n",
    "print('Mean Squared Error (MSE):', mean_squared_error(y_test, predictions))\n",
    "print('Root Mean Squared Error (RMSE):', np.sqrt(mean_squared_error(y_test, predictions)))"
   ]
  },
  {
   "cell_type": "markdown",
   "metadata": {
    "id": "inLV2GHhxm_h"
   },
   "source": [
    "MAE, MSE, and RMSE are error metrics that quantify model predictions' deviations from actual values. High scores indicate significant prediction errors."
   ]
  },
  {
   "cell_type": "markdown",
   "metadata": {
    "id": "KkabNT874kYk"
   },
   "source": [
    "Possible causes:\n",
    "- Overfitting: Model captures noise in training data, failing to generalise to new examples.\n",
    "- Underfitting: Model lacks complexity to capture underlying patterns in data.\n",
    "- Data quality issues: Undetected noise, outliers, biased in data distort model learning."
   ]
  },
  {
   "cell_type": "markdown",
   "metadata": {
    "id": "hXdOoL8oxgmI"
   },
   "source": [
    "# Prediction"
   ]
  },
  {
   "cell_type": "markdown",
   "metadata": {},
   "source": [
    "The results of `y_test` compared to `y_pred`."
   ]
  },
  {
   "cell_type": "code",
   "execution_count": 23,
   "metadata": {},
   "outputs": [
    {
     "data": {
      "text/html": [
       "<div>\n",
       "<style scoped>\n",
       "    .dataframe tbody tr th:only-of-type {\n",
       "        vertical-align: middle;\n",
       "    }\n",
       "\n",
       "    .dataframe tbody tr th {\n",
       "        vertical-align: top;\n",
       "    }\n",
       "\n",
       "    .dataframe thead th {\n",
       "        text-align: right;\n",
       "    }\n",
       "</style>\n",
       "<table border=\"1\" class=\"dataframe\">\n",
       "  <thead>\n",
       "    <tr style=\"text-align: right;\">\n",
       "      <th></th>\n",
       "      <th>y_test</th>\n",
       "      <th>y_pred</th>\n",
       "    </tr>\n",
       "  </thead>\n",
       "  <tbody>\n",
       "    <tr>\n",
       "      <th>0</th>\n",
       "      <td>1194</td>\n",
       "      <td>2523.04000</td>\n",
       "    </tr>\n",
       "    <tr>\n",
       "      <th>1</th>\n",
       "      <td>40118</td>\n",
       "      <td>57998.13000</td>\n",
       "    </tr>\n",
       "    <tr>\n",
       "      <th>2</th>\n",
       "      <td>73335</td>\n",
       "      <td>61073.33000</td>\n",
       "    </tr>\n",
       "    <tr>\n",
       "      <th>3</th>\n",
       "      <td>18212</td>\n",
       "      <td>215260.98000</td>\n",
       "    </tr>\n",
       "    <tr>\n",
       "      <th>4</th>\n",
       "      <td>922</td>\n",
       "      <td>2419.91000</td>\n",
       "    </tr>\n",
       "    <tr>\n",
       "      <th>...</th>\n",
       "      <td>...</td>\n",
       "      <td>...</td>\n",
       "    </tr>\n",
       "    <tr>\n",
       "      <th>817</th>\n",
       "      <td>1204</td>\n",
       "      <td>1556.95375</td>\n",
       "    </tr>\n",
       "    <tr>\n",
       "      <th>818</th>\n",
       "      <td>14869</td>\n",
       "      <td>72639.25500</td>\n",
       "    </tr>\n",
       "    <tr>\n",
       "      <th>819</th>\n",
       "      <td>8965</td>\n",
       "      <td>6935.94500</td>\n",
       "    </tr>\n",
       "    <tr>\n",
       "      <th>820</th>\n",
       "      <td>124556</td>\n",
       "      <td>251259.16000</td>\n",
       "    </tr>\n",
       "    <tr>\n",
       "      <th>821</th>\n",
       "      <td>82663</td>\n",
       "      <td>21158.23125</td>\n",
       "    </tr>\n",
       "  </tbody>\n",
       "</table>\n",
       "<p>822 rows × 2 columns</p>\n",
       "</div>"
      ],
      "text/plain": [
       "     y_test        y_pred\n",
       "0      1194    2523.04000\n",
       "1     40118   57998.13000\n",
       "2     73335   61073.33000\n",
       "3     18212  215260.98000\n",
       "4       922    2419.91000\n",
       "..      ...           ...\n",
       "817    1204    1556.95375\n",
       "818   14869   72639.25500\n",
       "819    8965    6935.94500\n",
       "820  124556  251259.16000\n",
       "821   82663   21158.23125\n",
       "\n",
       "[822 rows x 2 columns]"
      ]
     },
     "execution_count": 23,
     "metadata": {},
     "output_type": "execute_result"
    }
   ],
   "source": [
    "df_pred = pd.concat([y_test.reset_index(drop = True), pd.Series(model.predict(X_test))], axis = 1)\n",
    "df_pred.columns = ['y_test', 'y_pred']\n",
    "df_pred"
   ]
  },
  {
   "cell_type": "code",
   "execution_count": 25,
   "metadata": {},
   "outputs": [
    {
     "data": {
      "image/png": "[encoded data removed]",
      "text/plain": [
       "<Figure size 2000x1000 with 1 Axes>"
      ]
     },
     "metadata": {},
     "output_type": "display_data"
    }
   ],
   "source": [
    "df_pred_sorted = df_pred.sort_values('y_test')\n",
    "\n",
    "fig, ax = plt.subplots(figsize = (20, 10))\n",
    "x = np.arange(0, len(y_test))\n",
    "\n",
    "ax.plot(x, df_pred_sorted['y_test'], \"r\", label = 'y_test')\n",
    "ax.plot(x, df_pred_sorted['y_pred'], \"b\", alpha = 0.3, label = 'y_pred')\n",
    "ax.plot(x, df_pred_sorted['y_pred'], \"bo\", alpha = 0.1)\n",
    "ax.set_xlabel('i-th sample')\n",
    "ax.set_ylabel('Views')\n",
    "ax.set_title('y_test vs. y_pred')\n",
    "ax.legend();"
   ]
  },
  {
   "cell_type": "markdown",
   "metadata": {
    "id": "0fT9OmGexmGl"
   },
   "source": [
    "# Results analysis"
   ]
  },
  {
   "cell_type": "markdown",
   "metadata": {},
   "source": [
    "The graph shows that the model's predictions are not very accurate overall. There are some points that are very close to the actual values, but there are also many points that are very far away. This suggests that the model is not able to generalize well to new data.\n",
    "\n",
    "The model's accuracy also appears to decline as the sample index increases. This suggests that the model may be overfitting to the earlier samples in the dataset."
   ]
  },
  {
   "cell_type": "markdown",
   "metadata": {
    "id": "LBbZKtDlv0nh"
   },
   "source": [
    "# Saving models for deployment"
   ]
  },
  {
   "cell_type": "code",
   "execution_count": 26,
   "metadata": {
    "colab": {
     "base_uri": "https://localhost:8080/"
    },
    "executionInfo": {
     "elapsed": 8,
     "status": "ok",
     "timestamp": 1704129036004,
     "user": {
      "displayName": "Phúc Nguyễn Gia",
      "userId": "17682670618312684684"
     },
     "user_tz": -420
    },
    "id": "ZN0xXb-P4L1F",
    "outputId": "a3dac8df-3525-4425-a4a0-cb2a9ca9063c"
   },
   "outputs": [
    {
     "data": {
      "text/plain": [
       "['../deploy/materials/mlb.joblib']"
      ]
     },
     "execution_count": 26,
     "metadata": {},
     "output_type": "execute_result"
    }
   ],
   "source": [
    "dump(model, '../models/model.joblib')\n",
    "dump(mlb, '../deploy/materials/mlb.joblib')"
   ]
  },
  {
   "cell_type": "markdown",
   "metadata": {
    "id": "Vx72mpz4xqOQ"
   },
   "source": [
    "# Conclusion"
   ]
  },
  {
   "cell_type": "markdown",
   "metadata": {
    "id": "v2sgb2EYxrkD"
   },
   "source": [
    "While video duration and tags provide significant insights into potential viewership, achieving truly accurate forecasts necessitates incorporating additional factors. Expanding the feature set with richer data points like sentiment analysis of viewer comments, or historical performance of similar videos could unlock a deeper understanding of audience engagement and lead to significantly more refined predictions."
   ]
  }
 ],
 "metadata": {
  "colab": {
   "provenance": []
  },
  "kernelspec": {
   "display_name": "Python 3 (ipykernel)",
   "language": "python",
   "name": "python3"
  },
  "language_info": {
   "codemirror_mode": {
    "name": "ipython",
    "version": 3
   },
   "file_extension": ".py",
   "mimetype": "text/x-python",
   "name": "python",
   "nbconvert_exporter": "python",
   "pygments_lexer": "ipython3",
   "version": "3.10.8"
  }
 },
 "nbformat": 4,
 "nbformat_minor": 4
}
